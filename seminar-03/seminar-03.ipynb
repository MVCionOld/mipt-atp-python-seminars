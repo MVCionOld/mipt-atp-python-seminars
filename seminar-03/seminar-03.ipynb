{
 "cells": [
  {
   "cell_type": "code",
   "execution_count": 1,
   "metadata": {
    "slideshow": {
     "slide_type": "skip"
    }
   },
   "outputs": [],
   "source": [
    "from IPython.core.interactiveshell import InteractiveShell\n",
    "InteractiveShell.ast_node_interactivity = \"all\""
   ]
  },
  {
   "cell_type": "markdown",
   "metadata": {},
   "source": [
    "# Семинар №3\n",
    "## set, dicts, collections"
   ]
  },
  {
   "cell_type": "markdown",
   "metadata": {
    "slideshow": {
     "slide_type": "slide"
    }
   },
   "source": [
    "**Замечание №1**  \n",
    "**Создание**. При создании двух mutable-объектов отдельно - они будут гарантированно разными. Для immutable объектов это верно не всегда.  \n",
    "  \n",
    "**Замечание №2**  \n",
    "**Удаление**. Об удалении объектов заботиться не нужно, за вас всё сделает интерпретатор"
   ]
  },
  {
   "cell_type": "markdown",
   "metadata": {
    "slideshow": {
     "slide_type": "slide"
    }
   },
   "source": [
    "#### Словари\n",
    "\n",
    "Универсальное средство для выражения связей между объектами, подсчёта, группировки.\n",
    "Их иногда ещё называют **ассоциативными массивами** или **хеш-таблицами**."
   ]
  },
  {
   "cell_type": "code",
   "execution_count": 2,
   "metadata": {},
   "outputs": [
    {
     "data": {
      "text/plain": [
       "{'Key1': 'Value1', 'Key2': 'Value2'}"
      ]
     },
     "execution_count": 2,
     "metadata": {},
     "output_type": "execute_result"
    }
   ],
   "source": [
    "a = {'Key1' : 'Value1', 'Key2' : 'Value2'}\n",
    "a"
   ]
  },
  {
   "cell_type": "code",
   "execution_count": 3,
   "metadata": {
    "slideshow": {
     "slide_type": "subslide"
    }
   },
   "outputs": [
    {
     "data": {
      "text/plain": [
       "{1: 1, 2: 4, 3: 9}"
      ]
     },
     "execution_count": 3,
     "metadata": {},
     "output_type": "execute_result"
    }
   ],
   "source": [
    "b = dict([(1, 1), (2, 4), (3, 9)])\n",
    "b"
   ]
  },
  {
   "cell_type": "markdown",
   "metadata": {},
   "source": [
    "Ключом словаря может быть любой hashable-объект. (mutable == not hashable)\n",
    "\n",
    "Определение hashable из документации Python: https://docs.python.org/3/glossary.html#term-hashable \n",
    "\n",
    "Если коротко, то у объекта должен быть правильно определен метод `__hash__()`"
   ]
  },
  {
   "cell_type": "markdown",
   "metadata": {
    "slideshow": {
     "slide_type": "subslide"
    }
   },
   "source": [
    "Хэш от инта - само значение инта\n",
    "\n",
    "All of Python’s immutable built-in objects are hashable; mutable containers (such as lists or dictionaries) are not. Objects which are instances of user-defined classes are hashable by default. They all compare unequal (except with themselves), and their hash value is derived from their id()."
   ]
  },
  {
   "cell_type": "code",
   "execution_count": 4,
   "metadata": {},
   "outputs": [
    {
     "data": {
      "text/plain": [
       "42"
      ]
     },
     "execution_count": 4,
     "metadata": {},
     "output_type": "execute_result"
    },
    {
     "data": {
      "text/plain": [
       "1"
      ]
     },
     "execution_count": 4,
     "metadata": {},
     "output_type": "execute_result"
    },
    {
     "data": {
      "text/plain": [
       "0"
      ]
     },
     "execution_count": 4,
     "metadata": {},
     "output_type": "execute_result"
    },
    {
     "data": {
      "text/plain": [
       "1"
      ]
     },
     "execution_count": 4,
     "metadata": {},
     "output_type": "execute_result"
    },
    {
     "data": {
      "text/plain": [
       "0"
      ]
     },
     "execution_count": 4,
     "metadata": {},
     "output_type": "execute_result"
    },
    {
     "data": {
      "text/plain": [
       "5895133486806"
      ]
     },
     "execution_count": 4,
     "metadata": {},
     "output_type": "execute_result"
    },
    {
     "data": {
      "text/plain": [
       "-8726379657945144711"
      ]
     },
     "execution_count": 4,
     "metadata": {},
     "output_type": "execute_result"
    }
   ],
   "source": [
    "hash(42)\n",
    "hash(1)\n",
    "hash(0)\n",
    "hash(True)\n",
    "hash(False)\n",
    "hash(None)\n",
    "hash(\"Hello, 025!\")"
   ]
  },
  {
   "cell_type": "code",
   "execution_count": 5,
   "metadata": {},
   "outputs": [
    {
     "data": {
      "text/plain": [
       "1152921504606846982"
      ]
     },
     "execution_count": 5,
     "metadata": {},
     "output_type": "execute_result"
    },
    {
     "data": {
      "text/plain": [
       "1152921504606846982"
      ]
     },
     "execution_count": 5,
     "metadata": {},
     "output_type": "execute_result"
    }
   ],
   "source": [
    "hash(6.5)  # есть тонкости, связанные с точностью представления чисел с плавающей запятой\n",
    "           # месседж: нужно быть очень аккуратным с хэшированием float и лучше их вообще не хэшировать\n",
    "hash(round(6.50443,2))  # или хэшировать вот так"
   ]
  },
  {
   "cell_type": "markdown",
   "metadata": {},
   "source": [
    "**Замечание №3**   \n",
    "После перезапуска интерпретатора у сложных объектов (например, строк) будет уже другое значение хэш-функции."
   ]
  },
  {
   "cell_type": "code",
   "execution_count": 6,
   "metadata": {
    "slideshow": {
     "slide_type": "subslide"
    }
   },
   "outputs": [
    {
     "name": "stdout",
     "output_type": "stream",
     "text": [
      "-2684002480551726880\n",
      "4861144805720254645\n"
     ]
    }
   ],
   "source": [
    "print(hash('aaa'))\n",
    "print(hash('aab'))"
   ]
  },
  {
   "cell_type": "code",
   "execution_count": 7,
   "metadata": {},
   "outputs": [
    {
     "data": {
      "text/plain": [
       "True"
      ]
     },
     "execution_count": 7,
     "metadata": {},
     "output_type": "execute_result"
    }
   ],
   "source": [
    "# list в Python не является хэшируемым объектом\n",
    "\n",
    "[1].__hash__ is None  # метод __hash__ не определен для списка"
   ]
  },
  {
   "cell_type": "code",
   "execution_count": 8,
   "metadata": {},
   "outputs": [
    {
     "ename": "TypeError",
     "evalue": "unhashable type: 'dict'",
     "output_type": "error",
     "traceback": [
      "\u001b[0;31m\u001b[0m",
      "\u001b[0;31mTypeError\u001b[0mTraceback (most recent call last)",
      "\u001b[0;32m<ipython-input-8-1af568250041>\u001b[0m in \u001b[0;36m<module>\u001b[0;34m\u001b[0m\n\u001b[1;32m      2\u001b[0m \u001b[0;34m\u001b[0m\u001b[0m\n\u001b[1;32m      3\u001b[0m \u001b[0mdict_inner\u001b[0m \u001b[0;34m=\u001b[0m \u001b[0;34m{\u001b[0m\u001b[0;36m1\u001b[0m\u001b[0;34m:\u001b[0m \u001b[0;34m'b'\u001b[0m\u001b[0;34m}\u001b[0m\u001b[0;34m\u001b[0m\u001b[0;34m\u001b[0m\u001b[0m\n\u001b[0;32m----> 4\u001b[0;31m \u001b[0mdict_outter\u001b[0m \u001b[0;34m=\u001b[0m \u001b[0;34m{\u001b[0m\u001b[0mdict_inner\u001b[0m\u001b[0;34m:\u001b[0m \u001b[0;34m'abc'\u001b[0m\u001b[0;34m}\u001b[0m\u001b[0;34m\u001b[0m\u001b[0;34m\u001b[0m\u001b[0m\n\u001b[0m",
      "\u001b[0;31mTypeError\u001b[0m: unhashable type: 'dict'"
     ]
    }
   ],
   "source": [
    "# Можно ли использовать словарь в качестве ключа словаря?\n",
    "\n",
    "dict_inner = {1: 'b'}\n",
    "dict_outter = {dict_inner: 'abc'}"
   ]
  },
  {
   "cell_type": "code",
   "execution_count": null,
   "metadata": {
    "slideshow": {
     "slide_type": "subslide"
    }
   },
   "outputs": [],
   "source": [
    "{1: 'b'}.__hash__ is None  # dict тоже не является хэшируемым"
   ]
  },
  {
   "cell_type": "markdown",
   "metadata": {
    "slideshow": {
     "slide_type": "subslide"
    }
   },
   "source": [
    "По словарю можно итерироваться, причем как по ключам, так и по значениям"
   ]
  },
  {
   "cell_type": "code",
   "execution_count": null,
   "metadata": {},
   "outputs": [],
   "source": [
    "# итерация по словарю\n",
    "\n",
    "dictionary = {'a': 1, 'b': 2, 'c': 3}\n",
    "   \n",
    "for k in dictionary.keys():\n",
    "    print(k)\n",
    "    \n",
    "print()\n",
    "    \n",
    "for k in dictionary:  # такая же итерация по ключам, но Python Zen говорит нам, что явное лучше, чем неявное\n",
    "    print(k)          # поэтому лучше явно прописать .keys(), чтобы улучшить читабельность кода\n",
    "                      # слишком читабельный код еще никогда никому не мешал"
   ]
  },
  {
   "cell_type": "code",
   "execution_count": null,
   "metadata": {
    "slideshow": {
     "slide_type": "subslide"
    }
   },
   "outputs": [],
   "source": [
    "for v in dictionary.values(): # итерация по значениям\n",
    "    print(v)"
   ]
  },
  {
   "cell_type": "code",
   "execution_count": null,
   "metadata": {},
   "outputs": [],
   "source": [
    "for pair in dictionary.items(): # итерируемся сразу по парам (ключ: значение)\n",
    "    print(pair)\n",
    "    \n",
    "print()\n",
    "    \n",
    "for key, value in dictionary.items(): # итерируемся сразу по парам (ключ: значение)\n",
    "    print(key, value)"
   ]
  },
  {
   "cell_type": "code",
   "execution_count": null,
   "metadata": {
    "slideshow": {
     "slide_type": "subslide"
    }
   },
   "outputs": [],
   "source": [
    "# способы задания словарей\n",
    "\n",
    "a = dict(a=1, b=2, c=3)\n",
    "a\n",
    "keys = [\"Petya\", \"Vasya\", \"Masha\"]\n",
    "values = [20, 21, 22]\n",
    "\n",
    "dictionary = dict(zip(keys, values)) # один из самых удобных способов создания словаря из двух списков\n",
    "\n",
    "dictionary"
   ]
  },
  {
   "cell_type": "code",
   "execution_count": null,
   "metadata": {
    "slideshow": {
     "slide_type": "subslide"
    }
   },
   "outputs": [],
   "source": [
    "print(list(a.keys()))\n",
    "print(list(a.values()))\n",
    "print(list(a.items()))"
   ]
  },
  {
   "cell_type": "code",
   "execution_count": null,
   "metadata": {},
   "outputs": [],
   "source": [
    "del dictionary['Vasya']\n",
    "dictionary"
   ]
  },
  {
   "cell_type": "code",
   "execution_count": null,
   "metadata": {
    "slideshow": {
     "slide_type": "-"
    }
   },
   "outputs": [],
   "source": [
    "a.update(dictionary)  # объединение двух словарей\n",
    "a"
   ]
  },
  {
   "cell_type": "code",
   "execution_count": null,
   "metadata": {
    "slideshow": {
     "slide_type": "subslide"
    }
   },
   "outputs": [],
   "source": [
    "a[('Composite', 'Key')] = [1, 2, 3]   # only immutable objects could be keys in dicts\n",
    "a"
   ]
  },
  {
   "cell_type": "code",
   "execution_count": null,
   "metadata": {},
   "outputs": [],
   "source": [
    "a[frozenset(['Composite', 'Key'])] = [4, 5, 6]\n",
    "a"
   ]
  },
  {
   "cell_type": "markdown",
   "metadata": {},
   "source": [
    "#### Задачка №1 на 5 минут\n",
    "Используя только что полученные знания об итерировании по словарю, давайте подумаем, как обратить словарь, т.е. как создать словарь с обратными парами (значение: ключ)? Считаем, что в исходном словаре значения тоже являются хэшируемыми."
   ]
  },
  {
   "cell_type": "markdown",
   "metadata": {
    "slideshow": {
     "slide_type": "slide"
    }
   },
   "source": [
    "Помните генераторы списков (list comprehensions) и генераторные выражения с прошлого занятия? Существуют и генераторы словарей!"
   ]
  },
  {
   "cell_type": "code",
   "execution_count": null,
   "metadata": {},
   "outputs": [],
   "source": [
    "dct = {i: i ** i for i in range(5)}\n",
    "dct"
   ]
  },
  {
   "cell_type": "markdown",
   "metadata": {},
   "source": [
    "А что произойдет, если обратиться по несуществующему ключу словаря?  \n",
    "Спойлер: **KeyError**. А как просто обрабатывать исключительные случаи?"
   ]
  },
  {
   "cell_type": "code",
   "execution_count": null,
   "metadata": {
    "slideshow": {
     "slide_type": "subslide"
    }
   },
   "outputs": [],
   "source": [
    "dct = {1: 2, 3: 4}\n",
    "\n",
    "key = 5\n",
    "\n",
    "# get(self, key, default=None, /)\n",
    "#     Return the value for key if key is in the dictionary, else default.\n",
    "\n",
    "# setdefault(self, key, default=None, /)\n",
    "#     Insert key with a value of default if key is not in the dictionary.\n",
    "#     Return the value for key if key is in the dictionary, else default.\n",
    "\n",
    "res1 = dct.get(key,'not found')\n",
    "res2 = dct.setdefault(key, 'default')\n",
    "res3 = dct.get(key)\n",
    "res4 = dct[key]\n",
    "\n",
    "print(res1, res2, res3, res4, sep=', ')\n",
    "\n",
    "dct[5] = 6\n",
    "\n",
    "res1 = dct.get(key,'not found')\n",
    "res2 = dct.setdefault(key, 'default')\n",
    "res3 = dct.get(key)\n",
    "res4 = dct[key]\n",
    "\n",
    "print(res1, res2, res3, res4, sep=', ')"
   ]
  },
  {
   "cell_type": "markdown",
   "metadata": {
    "slideshow": {
     "slide_type": "slide"
    }
   },
   "source": [
    "#### Множества (set)\n",
    "В основе set тоже лежит хэш-таблица."
   ]
  },
  {
   "cell_type": "code",
   "execution_count": null,
   "metadata": {},
   "outputs": [],
   "source": [
    "a = {1, 2, 3}\n",
    "b = set([2, 3, 4])\n",
    "\n",
    "a.add(5)\n",
    "b.update({5, 6}) # объединить множество с другим множеством\n",
    "a, b"
   ]
  },
  {
   "cell_type": "code",
   "execution_count": null,
   "metadata": {
    "slideshow": {
     "slide_type": "subslide"
    }
   },
   "outputs": [],
   "source": [
    "3 in b\n",
    "5 not in b\n",
    "b.issubset(a)   # equivalent to b <= a\n",
    "a.issuperset(b) # equivalent to a >= b\n",
    "a.isdisjoint(b) # True если пустое пересечение; equivalent to \"not a & b\""
   ]
  },
  {
   "cell_type": "code",
   "execution_count": null,
   "metadata": {
    "slideshow": {
     "slide_type": "subslide"
    }
   },
   "outputs": [],
   "source": [
    "print(\"a=\", a, \"; \", \"b=\", b, sep=\"\")\n",
    "\n",
    "a - b\n",
    "b - a\n",
    "a | b  # объединение\n",
    "a & b  # пересечение\n",
    "a ^ b  # симметрическая разность"
   ]
  },
  {
   "cell_type": "code",
   "execution_count": null,
   "metadata": {},
   "outputs": [],
   "source": [
    "a.difference(b)             # a - b\n",
    "a.union(b)                  # a | b\n",
    "a.intersection(b)           # a & b\n",
    "a.symmetric_difference(b)   # a ^ b\n",
    "\n",
    "a.difference_update(b)            # a -= b\n",
    "a.update(b)                       # a |= b\n",
    "a.intersection_update(b)          # a &= b\n",
    "a.symmetric_difference_update(b)  # a ^= b"
   ]
  },
  {
   "cell_type": "code",
   "execution_count": null,
   "metadata": {
    "slideshow": {
     "slide_type": "subslide"
    }
   },
   "outputs": [],
   "source": [
    "# remove(...)\n",
    "#     Remove an element from a set; it must be a member.\n",
    "#     If the element is not a member, raise a KeyError.\n",
    "\n",
    "a = {1, 2, 3}\n",
    "a.remove(3)\n",
    "a.remove(3)\n",
    "a"
   ]
  },
  {
   "cell_type": "code",
   "execution_count": null,
   "metadata": {},
   "outputs": [],
   "source": [
    "# discard(...)\n",
    "#     Remove an element from a set if it is a member.\n",
    "#     If the element is not a member, do nothing.\n",
    "\n",
    "a = {1, 2, 3}\n",
    "a.discard(3)\n",
    "a.discard(3)\n",
    "a"
   ]
  },
  {
   "cell_type": "markdown",
   "metadata": {
    "slideshow": {
     "slide_type": "slide"
    }
   },
   "source": [
    "Существуют и генераторы множеств"
   ]
  },
  {
   "cell_type": "code",
   "execution_count": null,
   "metadata": {},
   "outputs": [],
   "source": [
    "{i for i in range(10) if not i % 3}"
   ]
  },
  {
   "cell_type": "markdown",
   "metadata": {
    "slideshow": {
     "slide_type": "slide"
    }
   },
   "source": [
    "#### Для чего удобно использовать dict и set?\n",
    "\n",
    "Установление однозначного соответствия каждому объекту из множества ключей какого-то другого объекта (условно можно удобно реализовать словарь для перевода с одного языка на другой).\n",
    "\n",
    "Для подсчета уникальных элементов в списке/уникальных слов в тексте.\n",
    "\n",
    "Для быстрой проверки элемента на вхождение: поиск по ключу в dict и set выполняется за O(1) (в среднем): от объекта вычисляется хэш и проверяется, есть ли такой хэш в контейнере."
   ]
  },
  {
   "cell_type": "code",
   "execution_count": null,
   "metadata": {
    "slideshow": {
     "slide_type": "subslide"
    }
   },
   "outputs": [],
   "source": [
    "2 in a  # O(1)"
   ]
  },
  {
   "cell_type": "markdown",
   "metadata": {},
   "source": [
    "#### Задачка №2 на 5 минут\n",
    "\n",
    "Даны два отсортированных списка с числами (не обязательно одной длины). Выведите все числа, которые есть в первом списке, но нет во втором."
   ]
  },
  {
   "cell_type": "code",
   "execution_count": null,
   "metadata": {},
   "outputs": [],
   "source": [
    "lst1 = [1, 2, 8]\n",
    "lst2 = [2, 6]"
   ]
  },
  {
   "cell_type": "markdown",
   "metadata": {
    "slideshow": {
     "slide_type": "subslide"
    }
   },
   "source": [
    "**способ №1**: с помощью set"
   ]
  },
  {
   "cell_type": "code",
   "execution_count": null,
   "metadata": {},
   "outputs": [],
   "source": []
  },
  {
   "cell_type": "markdown",
   "metadata": {},
   "source": [
    "формально за O(n) по времени (на создание set уходит O(n), но с немалой константой), но требует доп память, и не используется отсортированность"
   ]
  },
  {
   "cell_type": "markdown",
   "metadata": {
    "slideshow": {
     "slide_type": "subslide"
    }
   },
   "source": [
    "**способ №2**: давайте подумаем, как это сделать за O(n) по времени, но без доп.памяти"
   ]
  },
  {
   "cell_type": "code",
   "execution_count": null,
   "metadata": {
    "slideshow": {
     "slide_type": "subslide"
    }
   },
   "outputs": [],
   "source": []
  },
  {
   "cell_type": "markdown",
   "metadata": {
    "slideshow": {
     "slide_type": "slide"
    }
   },
   "source": [
    "#### collections\n",
    "Объекты в collections - модифицированные для разных нужд словари и еще несколько удобных структур данных.\n",
    "\n",
    "Хороший краткий обзор модуля collections можно почитать [здесь](https://pythonworld.ru/moduli/modul-collections.html). "
   ]
  },
  {
   "cell_type": "code",
   "execution_count": null,
   "metadata": {},
   "outputs": [],
   "source": [
    "from collections import defaultdict\n",
    "\n",
    "dct = defaultdict(float)\n",
    "\n",
    "print(dct[2]) # если ключа нет, то устанавливает дефолтное значение\n",
    "print(dct)"
   ]
  },
  {
   "cell_type": "code",
   "execution_count": null,
   "metadata": {
    "slideshow": {
     "slide_type": "subslide"
    }
   },
   "outputs": [],
   "source": [
    "from collections import deque\n",
    "q = deque()\n",
    "\n",
    "for i in range(10):\n",
    "    q.append(i)\n",
    "\n",
    "while len(q) > 5: \n",
    "    print(q.pop(), q)      # O(1)\n",
    "\n",
    "print()\n",
    "    \n",
    "while len(q):              # пока дек не пуст\n",
    "    print(q.popleft(), q)  # O(1)"
   ]
  },
  {
   "cell_type": "code",
   "execution_count": null,
   "metadata": {
    "slideshow": {
     "slide_type": "subslide"
    }
   },
   "outputs": [],
   "source": [
    "# OrderedDict помнит порядок, в котором ему были даны ключи\n",
    "from collections import OrderedDict\n",
    "\n",
    "# C 3.7 версии сохранение порядка гарантируется и для dict, но:\n",
    "#   1. операция сравнения для обычных диктов всё ещё не учитывает порядок в отличие от OrderedDict\n",
    "#   2. а ещё у OrderedDict есть метод move_to_end (подвинуть существующий элемент в конец), которого нет в dict\n",
    "\n",
    "data = [(1, 'a'), (3, 'c'), (2, 'b'), (0, \"\")]\n",
    "\n",
    "print(dict(data))\n",
    "print(OrderedDict(data))"
   ]
  },
  {
   "cell_type": "markdown",
   "metadata": {
    "slideshow": {
     "slide_type": "subslide"
    }
   },
   "source": [
    "#### Задачка №3 на 5 минут\n",
    "\n",
    "Дан список, найти максимальный элемент списка, который встречается чаще других.  \n",
    "  \n",
    "**Hint**: используйте класс Counter из модуля collections"
   ]
  },
  {
   "cell_type": "code",
   "execution_count": null,
   "metadata": {
    "scrolled": false
   },
   "outputs": [],
   "source": [
    "from collections import Counter\n",
    "help(Counter)"
   ]
  },
  {
   "cell_type": "code",
   "execution_count": null,
   "metadata": {},
   "outputs": [],
   "source": []
  }
 ],
 "metadata": {
  "celltoolbar": "Slideshow",
  "kernelspec": {
   "display_name": "Python 3",
   "language": "python",
   "name": "python3"
  },
  "language_info": {
   "codemirror_mode": {
    "name": "ipython",
    "version": 3
   },
   "file_extension": ".py",
   "mimetype": "text/x-python",
   "name": "python",
   "nbconvert_exporter": "python",
   "pygments_lexer": "ipython3",
   "version": "3.8.6"
  }
 },
 "nbformat": 4,
 "nbformat_minor": 2
}
