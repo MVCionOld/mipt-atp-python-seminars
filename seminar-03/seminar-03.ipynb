{
 "cells": [
  {
   "cell_type": "code",
   "execution_count": null,
   "metadata": {
    "slideshow": {
     "slide_type": "skip"
    }
   },
   "outputs": [],
   "source": [
    "from IPython.core.interactiveshell import InteractiveShell\n",
    "InteractiveShell.ast_node_interactivity = \"all\""
   ]
  },
  {
   "cell_type": "markdown",
   "metadata": {},
   "source": [
    "# Семинар №3\n",
    "## set, dicts, collections"
   ]
  },
  {
   "cell_type": "markdown",
   "metadata": {
    "slideshow": {
     "slide_type": "slide"
    }
   },
   "source": [
    "**Замечание №1**  \n",
    "**Создание**. При создании двух mutable-объектов отдельно - они будут гарантированно разными. Для immutable объектов это верно не всегда.  \n",
    "  \n",
    "**Замечание №2**  \n",
    "**Удаление**. Об удалении объектов заботиться не нужно, за вас всё сделает интерпретатор"
   ]
  },
  {
   "cell_type": "markdown",
   "metadata": {
    "slideshow": {
     "slide_type": "slide"
    }
   },
   "source": [
    "#### Словари\n",
    "\n",
    "Универсальное средство для выражения связей между объектами, подсчёта, группировки.\n",
    "Их иногда ещё называют **ассоциативными массивами** или **хеш-таблицами**."
   ]
  },
  {
   "cell_type": "code",
   "execution_count": null,
   "metadata": {},
   "outputs": [],
   "source": [
    "a = {'Key1' : 'Value1', 'Key2' : 'Value2'}\n",
    "a"
   ]
  },
  {
   "cell_type": "code",
   "execution_count": null,
   "metadata": {
    "slideshow": {
     "slide_type": "subslide"
    }
   },
   "outputs": [],
   "source": [
    "b = dict([(1, 1), (2, 4), (3, 9)])\n",
    "b"
   ]
  },
  {
   "cell_type": "markdown",
   "metadata": {},
   "source": [
    "Ключом словаря может быть любой hashable-объект. (mutable == not hashable)\n",
    "\n",
    "Определение hashable из документации Python: https://docs.python.org/3/glossary.html#term-hashable \n",
    "\n",
    "Если коротко, то у объекта должен быть правильно определен метод `__hash__()`"
   ]
  },
  {
   "cell_type": "markdown",
   "metadata": {
    "slideshow": {
     "slide_type": "subslide"
    }
   },
   "source": [
    "Хэш от инта - само значение инта\n",
    "\n",
    "All of Python’s immutable built-in objects are hashable; mutable containers (such as lists or dictionaries) are not. Objects which are instances of user-defined classes are hashable by default. They all compare unequal (except with themselves), and their hash value is derived from their id()."
   ]
  },
  {
   "cell_type": "code",
   "execution_count": null,
   "metadata": {},
   "outputs": [],
   "source": [
    "hash(42)\n",
    "hash(1)\n",
    "hash(0)\n",
    "hash(True)\n",
    "hash(False)\n",
    "hash(None)\n",
    "hash(\"Hello, 025!\")"
   ]
  },
  {
   "cell_type": "code",
   "execution_count": null,
   "metadata": {},
   "outputs": [],
   "source": [
    "hash(6.5)  # есть тонкости, связанные с точностью представления чисел с плавающей запятой\n",
    "           # месседж: нужно быть очень аккуратным с хэшированием float и лучше их вообще не хэшировать\n",
    "hash(round(6.50443,2))  # или хэшировать вот так"
   ]
  },
  {
   "cell_type": "markdown",
   "metadata": {},
   "source": [
    "**Замечание №3**   \n",
    "После перезапуска интерпретатора у сложных объектов (например, строк) будет уже другое значение хэш-функции."
   ]
  },
  {
   "cell_type": "code",
   "execution_count": null,
   "metadata": {
    "slideshow": {
     "slide_type": "subslide"
    }
   },
   "outputs": [],
   "source": [
    "print(hash('aaa'))\n",
    "print(hash('aab'))"
   ]
  },
  {
   "cell_type": "code",
   "execution_count": null,
   "metadata": {},
   "outputs": [],
   "source": [
    "# list в Python не является хэшируемым объектом\n",
    "\n",
    "[1].__hash__ is None  # метод __hash__ не определен для списка"
   ]
  },
  {
   "cell_type": "code",
   "execution_count": null,
   "metadata": {},
   "outputs": [],
   "source": [
    "# Можно ли использовать словарь в качестве ключа словаря?\n",
    "\n",
    "dict_inner = {1: 'b'}\n",
    "dict_outter = {'abc': dict_inner}"
   ]
  },
  {
   "cell_type": "code",
   "execution_count": null,
   "metadata": {
    "slideshow": {
     "slide_type": "subslide"
    }
   },
   "outputs": [],
   "source": [
    "{1: 'b'}.__hash__ is None  # dict тоже не является хэшируемым"
   ]
  },
  {
   "cell_type": "markdown",
   "metadata": {
    "slideshow": {
     "slide_type": "subslide"
    }
   },
   "source": [
    "По словарю можно итерироваться, причем как по ключам, так и по значениям"
   ]
  },
  {
   "cell_type": "code",
   "execution_count": null,
   "metadata": {},
   "outputs": [],
   "source": [
    "# итерация по словарю\n",
    "\n",
    "dictionary = {'a': 1, 'b': 2, 'c': 3}\n",
    "   \n",
    "for k in dictionary.keys():\n",
    "    print(k)\n",
    "    \n",
    "print()\n",
    "    \n",
    "for k in dictionary:  # такая же итерация по ключам, но Python Zen говорит нам, что явное лучше, чем неявное\n",
    "    print(k)          # поэтому лучше явно прописать .keys(), чтобы улучшить читабельность кода\n",
    "                      # слишком читабельный код еще никогда никому не мешал"
   ]
  },
  {
   "cell_type": "code",
   "execution_count": null,
   "metadata": {
    "slideshow": {
     "slide_type": "subslide"
    }
   },
   "outputs": [],
   "source": [
    "for v in dictionary.values(): # итерация по значениям\n",
    "    print(v)"
   ]
  },
  {
   "cell_type": "code",
   "execution_count": null,
   "metadata": {},
   "outputs": [],
   "source": [
    "dictionary.values()"
   ]
  },
  {
   "cell_type": "code",
   "execution_count": null,
   "metadata": {},
   "outputs": [],
   "source": [
    "dictionary.items()"
   ]
  },
  {
   "cell_type": "code",
   "execution_count": null,
   "metadata": {},
   "outputs": [],
   "source": [
    "for pair in dictionary.items(): # итерируемся сразу по парам (ключ: значение)\n",
    "    print(pair)\n",
    "    \n",
    "print()\n",
    "    \n",
    "for key, value in dictionary.items(): # итерируемся сразу по парам (ключ: значение)\n",
    "    print(key, value)"
   ]
  },
  {
   "cell_type": "code",
   "execution_count": null,
   "metadata": {
    "slideshow": {
     "slide_type": "subslide"
    }
   },
   "outputs": [],
   "source": [
    "# способы задания словарей\n",
    "\n",
    "a = dict(a=1, b=2, c=3)\n",
    "a\n",
    "keys = [\"Petya\", \"Vasya\", \"Masha\"]\n",
    "values = [20, 21, 22]\n",
    "\n",
    "dictionary = dict(zip(keys, values)) # один из самых удобных способов создания словаря из двух списков\n",
    "\n",
    "dictionary"
   ]
  },
  {
   "cell_type": "code",
   "execution_count": null,
   "metadata": {
    "slideshow": {
     "slide_type": "subslide"
    }
   },
   "outputs": [],
   "source": [
    "print(list(a.keys()))\n",
    "print(list(a.values()))\n",
    "print(list(a.items()))"
   ]
  },
  {
   "cell_type": "code",
   "execution_count": null,
   "metadata": {},
   "outputs": [],
   "source": [
    "del dictionary['Vasya']\n",
    "dictionary"
   ]
  },
  {
   "cell_type": "code",
   "execution_count": null,
   "metadata": {
    "slideshow": {
     "slide_type": "-"
    }
   },
   "outputs": [],
   "source": [
    "a.update(dictionary)  # объединение двух словарей\n",
    "a"
   ]
  },
  {
   "cell_type": "code",
   "execution_count": null,
   "metadata": {
    "slideshow": {
     "slide_type": "subslide"
    }
   },
   "outputs": [],
   "source": [
    "a[('Composite', 'Key')] = [1, 2, 3]   # only immutable objects could be keys in dicts\n",
    "a"
   ]
  },
  {
   "cell_type": "code",
   "execution_count": null,
   "metadata": {},
   "outputs": [],
   "source": [
    "a[frozenset(['Composite', 'Key'])] = [4, 5, 6]\n",
    "a"
   ]
  },
  {
   "cell_type": "markdown",
   "metadata": {},
   "source": [
    "#### Задачка №1 на 5 минут\n",
    "Используя только что полученные знания об итерировании по словарю, давайте подумаем, как обратить словарь, т.е. как создать словарь с обратными парами (значение: ключ)? Считаем, что в исходном словаре значения тоже являются хэшируемыми."
   ]
  },
  {
   "cell_type": "markdown",
   "metadata": {
    "slideshow": {
     "slide_type": "slide"
    }
   },
   "source": [
    "Помните генераторы списков (list comprehensions) и генераторные выражения с прошлого занятия? Существуют и генераторы словарей!"
   ]
  },
  {
   "cell_type": "code",
   "execution_count": null,
   "metadata": {},
   "outputs": [],
   "source": [
    "dct = {i: i ** i for i in range(5)}\n",
    "dct"
   ]
  },
  {
   "cell_type": "code",
   "execution_count": null,
   "metadata": {},
   "outputs": [],
   "source": [
    "{v: k for k, v in dct.items()}"
   ]
  },
  {
   "cell_type": "markdown",
   "metadata": {},
   "source": [
    "А что произойдет, если обратиться по несуществующему ключу словаря?  \n",
    "Спойлер: **KeyError**. А как просто обрабатывать исключительные случаи?"
   ]
  },
  {
   "cell_type": "code",
   "execution_count": null,
   "metadata": {
    "slideshow": {
     "slide_type": "subslide"
    }
   },
   "outputs": [],
   "source": [
    "dct = {1: 2, 3: 4}\n",
    "\n",
    "key = 5\n",
    "\n",
    "# get(self, key, default=None, /)\n",
    "#     Return the value for key if key is in the dictionary, else default.\n",
    "\n",
    "# setdefault(self, key, default=None, /)\n",
    "#     Insert key with a value of default if key is not in the dictionary.\n",
    "#     Return the value for key if key is in the dictionary, else default.\n",
    "\n",
    "res1 = dct.get(key,'not found')\n",
    "res2 = dct.setdefault(key, 'default')\n",
    "res3 = dct.get(key)\n",
    "res4 = dct[key]\n",
    "\n",
    "print(res1, res2, res3, res4, sep=', ')\n",
    "\n",
    "dct[5] = 6\n",
    "\n",
    "res1 = dct.get(key,'not found')\n",
    "res2 = dct.setdefault(key, 'default')\n",
    "res3 = dct.get(key)\n",
    "res4 = dct[key]\n",
    "\n",
    "print(res1, res2, res3, res4, sep=', ')"
   ]
  },
  {
   "cell_type": "markdown",
   "metadata": {
    "slideshow": {
     "slide_type": "slide"
    }
   },
   "source": [
    "#### Множества (set)\n",
    "В основе set тоже лежит хэш-таблица."
   ]
  },
  {
   "cell_type": "code",
   "execution_count": null,
   "metadata": {},
   "outputs": [],
   "source": [
    "a = {1, 2, 3}\n",
    "b = set([2, 3, 4])\n",
    "\n",
    "a.add(5)\n",
    "b.update({5, 6}) # объединить множество с другим множеством\n",
    "a\n",
    "b\n",
    "a | b"
   ]
  },
  {
   "cell_type": "code",
   "execution_count": null,
   "metadata": {
    "slideshow": {
     "slide_type": "subslide"
    }
   },
   "outputs": [],
   "source": [
    "3 in b\n",
    "5 not in b\n",
    "b.issubset(a)   # equivalent to b <= a\n",
    "a.issuperset(b) # equivalent to a >= b\n",
    "a.isdisjoint(b) # True если пустое пересечение; equivalent to \"not a & b\""
   ]
  },
  {
   "cell_type": "code",
   "execution_count": null,
   "metadata": {
    "slideshow": {
     "slide_type": "subslide"
    }
   },
   "outputs": [],
   "source": [
    "print(\"a=\", a, \"; \", \"b=\", b, sep=\"\")\n",
    "\n",
    "a - b\n",
    "b - a\n",
    "a | b  # объединение\n",
    "a & b  # пересечение\n",
    "a ^ b  # симметрическая разность"
   ]
  },
  {
   "cell_type": "code",
   "execution_count": null,
   "metadata": {},
   "outputs": [],
   "source": [
    "a.difference(b)             # a - b\n",
    "a.union(b)                  # a | b\n",
    "a.intersection(b)           # a & b\n",
    "a.symmetric_difference(b)   # a ^ b\n",
    "\n",
    "a.difference_update(b)            # a -= b\n",
    "a.update(b)                       # a |= b\n",
    "a.intersection_update(b)          # a &= b\n",
    "a.symmetric_difference_update(b)  # a ^= b"
   ]
  },
  {
   "cell_type": "code",
   "execution_count": null,
   "metadata": {
    "slideshow": {
     "slide_type": "subslide"
    }
   },
   "outputs": [],
   "source": [
    "# remove(...)\n",
    "#     Remove an element from a set; it must be a member.\n",
    "#     If the element is not a member, raise a KeyError.\n",
    "\n",
    "a = {1, 2, 3}\n",
    "a.remove(3)\n",
    "a.remove(3)\n",
    "\n",
    "\n",
    "a"
   ]
  },
  {
   "cell_type": "code",
   "execution_count": null,
   "metadata": {},
   "outputs": [],
   "source": [
    "# discard(...)\n",
    "#     Remove an element from a set if it is a member.\n",
    "#     If the element is not a member, do nothing.\n",
    "\n",
    "a = {1, 2, 3}\n",
    "a.discard(3)\n",
    "a.discard(3)\n",
    "a"
   ]
  },
  {
   "cell_type": "markdown",
   "metadata": {
    "slideshow": {
     "slide_type": "slide"
    }
   },
   "source": [
    "Существуют и генераторы множеств"
   ]
  },
  {
   "cell_type": "code",
   "execution_count": null,
   "metadata": {},
   "outputs": [],
   "source": [
    "{i for i in range(10) if not i % 3}"
   ]
  },
  {
   "cell_type": "markdown",
   "metadata": {
    "slideshow": {
     "slide_type": "slide"
    }
   },
   "source": [
    "#### Для чего удобно использовать dict и set?\n",
    "\n",
    "Установление однозначного соответствия каждому объекту из множества ключей какого-то другого объекта (условно можно удобно реализовать словарь для перевода с одного языка на другой).\n",
    "\n",
    "Для подсчета уникальных элементов в списке/уникальных слов в тексте.\n",
    "\n",
    "Для быстрой проверки элемента на вхождение: поиск по ключу в dict и set выполняется за O(1) (в среднем): от объекта вычисляется хэш и проверяется, есть ли такой хэш в контейнере."
   ]
  },
  {
   "cell_type": "code",
   "execution_count": null,
   "metadata": {
    "slideshow": {
     "slide_type": "subslide"
    }
   },
   "outputs": [],
   "source": [
    "2 in a  # O(1)"
   ]
  },
  {
   "cell_type": "markdown",
   "metadata": {},
   "source": [
    "#### Задачка №2 на 5 минут\n",
    "\n",
    "Даны два отсортированных списка с числами (не обязательно одной длины). Выведите все числа, которые есть в первом списке, но нет во втором."
   ]
  },
  {
   "cell_type": "code",
   "execution_count": null,
   "metadata": {},
   "outputs": [],
   "source": [
    "lst1 = [1, 2, 8]\n",
    "lst2 = [2, 6]"
   ]
  },
  {
   "cell_type": "markdown",
   "metadata": {
    "slideshow": {
     "slide_type": "subslide"
    }
   },
   "source": [
    "**способ №1**: с помощью set"
   ]
  },
  {
   "cell_type": "code",
   "execution_count": null,
   "metadata": {},
   "outputs": [],
   "source": []
  },
  {
   "cell_type": "markdown",
   "metadata": {},
   "source": [
    "формально за O(n) по времени (на создание set уходит O(n), но с немалой константой), но требует доп память, и не используется отсортированность"
   ]
  },
  {
   "cell_type": "markdown",
   "metadata": {
    "slideshow": {
     "slide_type": "subslide"
    }
   },
   "source": [
    "**способ №2**: давайте подумаем, как это сделать за O(n) по времени, но без доп.памяти"
   ]
  },
  {
   "cell_type": "code",
   "execution_count": null,
   "metadata": {
    "slideshow": {
     "slide_type": "subslide"
    }
   },
   "outputs": [],
   "source": []
  },
  {
   "cell_type": "markdown",
   "metadata": {
    "slideshow": {
     "slide_type": "slide"
    }
   },
   "source": [
    "#### collections\n",
    "Объекты в collections - модифицированные для разных нужд словари и еще несколько удобных структур данных.\n",
    "\n",
    "Хороший краткий обзор модуля collections можно почитать [здесь](https://pythonworld.ru/moduli/modul-collections.html). "
   ]
  },
  {
   "cell_type": "code",
   "execution_count": null,
   "metadata": {},
   "outputs": [],
   "source": [
    "from collections import defaultdict\n",
    "\n",
    "dct = defaultdict(float)\n",
    "\n",
    "print(dct[2]) # если ключа нет, то устанавливает дефолтное значение\n",
    "print(dct)\n",
    "2 in dct"
   ]
  },
  {
   "cell_type": "code",
   "execution_count": null,
   "metadata": {},
   "outputs": [],
   "source": [
    "int()\n",
    "float()\n",
    "str()"
   ]
  },
  {
   "cell_type": "code",
   "execution_count": null,
   "metadata": {
    "slideshow": {
     "slide_type": "subslide"
    }
   },
   "outputs": [],
   "source": [
    "from collections import deque\n",
    "q = deque()\n",
    "\n",
    "for i in range(10):\n",
    "    q.append(i)\n",
    "\n",
    "while len(q) > 5: \n",
    "    print(q.pop(), q)      # O(1)\n",
    "\n",
    "print()\n",
    "    \n",
    "while len(q):              # пока дек не пуст\n",
    "    print(q.popleft(), q)  # O(1)"
   ]
  },
  {
   "cell_type": "code",
   "execution_count": null,
   "metadata": {
    "slideshow": {
     "slide_type": "subslide"
    }
   },
   "outputs": [],
   "source": [
    "# OrderedDict помнит порядок, в котором ему были даны ключи\n",
    "from collections import OrderedDict\n",
    "\n",
    "# C 3.7 версии сохранение порядка гарантируется и для dict, но:\n",
    "#   1. операция сравнения для обычных диктов всё ещё не учитывает порядок в отличие от OrderedDict\n",
    "#   2. а ещё у OrderedDict есть метод move_to_end (подвинуть существующий элемент в конец), которого нет в dict\n",
    "\n",
    "data = [(1, 'a'), (3, 'c'), (2, 'b'), (0, \"\")]\n",
    "\n",
    "print(dict(data))\n",
    "print(OrderedDict(data))"
   ]
  },
  {
   "cell_type": "markdown",
   "metadata": {
    "slideshow": {
     "slide_type": "subslide"
    }
   },
   "source": [
    "#### Задачка №3 на 5 минут\n",
    "\n",
    "Дан список, найти максимальный элемент списка, который встречается чаще других.  \n",
    "  \n",
    "**Hint**: используйте класс Counter из модуля collections"
   ]
  },
  {
   "cell_type": "code",
   "execution_count": 43,
   "metadata": {
    "scrolled": true
   },
   "outputs": [
    {
     "name": "stdout",
     "output_type": "stream",
     "text": [
      "Help on class Counter in module collections:\n",
      "\n",
      "class Counter(builtins.dict)\n",
      " |  Counter(iterable=None, /, **kwds)\n",
      " |  \n",
      " |  Dict subclass for counting hashable items.  Sometimes called a bag\n",
      " |  or multiset.  Elements are stored as dictionary keys and their counts\n",
      " |  are stored as dictionary values.\n",
      " |  \n",
      " |  >>> c = Counter('abcdeabcdabcaba')  # count elements from a string\n",
      " |  \n",
      " |  >>> c.most_common(3)                # three most common elements\n",
      " |  [('a', 5), ('b', 4), ('c', 3)]\n",
      " |  >>> sorted(c)                       # list all unique elements\n",
      " |  ['a', 'b', 'c', 'd', 'e']\n",
      " |  >>> ''.join(sorted(c.elements()))   # list elements with repetitions\n",
      " |  'aaaaabbbbcccdde'\n",
      " |  >>> sum(c.values())                 # total of all counts\n",
      " |  15\n",
      " |  \n",
      " |  >>> c['a']                          # count of letter 'a'\n",
      " |  5\n",
      " |  >>> for elem in 'shazam':           # update counts from an iterable\n",
      " |  ...     c[elem] += 1                # by adding 1 to each element's count\n",
      " |  >>> c['a']                          # now there are seven 'a'\n",
      " |  7\n",
      " |  >>> del c['b']                      # remove all 'b'\n",
      " |  >>> c['b']                          # now there are zero 'b'\n",
      " |  0\n",
      " |  \n",
      " |  >>> d = Counter('simsalabim')       # make another counter\n",
      " |  >>> c.update(d)                     # add in the second counter\n",
      " |  >>> c['a']                          # now there are nine 'a'\n",
      " |  9\n",
      " |  \n",
      " |  >>> c.clear()                       # empty the counter\n",
      " |  >>> c\n",
      " |  Counter()\n",
      " |  \n",
      " |  Note:  If a count is set to zero or reduced to zero, it will remain\n",
      " |  in the counter until the entry is deleted or the counter is cleared:\n",
      " |  \n",
      " |  >>> c = Counter('aaabbc')\n",
      " |  >>> c['b'] -= 2                     # reduce the count of 'b' by two\n",
      " |  >>> c.most_common()                 # 'b' is still in, but its count is zero\n",
      " |  [('a', 3), ('c', 1), ('b', 0)]\n",
      " |  \n",
      " |  Method resolution order:\n",
      " |      Counter\n",
      " |      builtins.dict\n",
      " |      builtins.object\n",
      " |  \n",
      " |  Methods defined here:\n",
      " |  \n",
      " |  __add__(self, other)\n",
      " |      Add counts from two counters.\n",
      " |      \n",
      " |      >>> Counter('abbb') + Counter('bcc')\n",
      " |      Counter({'b': 4, 'c': 2, 'a': 1})\n",
      " |  \n",
      " |  __and__(self, other)\n",
      " |      Intersection is the minimum of corresponding counts.\n",
      " |      \n",
      " |      >>> Counter('abbb') & Counter('bcc')\n",
      " |      Counter({'b': 1})\n",
      " |  \n",
      " |  __delitem__(self, elem)\n",
      " |      Like dict.__delitem__() but does not raise KeyError for missing values.\n",
      " |  \n",
      " |  __iadd__(self, other)\n",
      " |      Inplace add from another counter, keeping only positive counts.\n",
      " |      \n",
      " |      >>> c = Counter('abbb')\n",
      " |      >>> c += Counter('bcc')\n",
      " |      >>> c\n",
      " |      Counter({'b': 4, 'c': 2, 'a': 1})\n",
      " |  \n",
      " |  __iand__(self, other)\n",
      " |      Inplace intersection is the minimum of corresponding counts.\n",
      " |      \n",
      " |      >>> c = Counter('abbb')\n",
      " |      >>> c &= Counter('bcc')\n",
      " |      >>> c\n",
      " |      Counter({'b': 1})\n",
      " |  \n",
      " |  __init__(self, iterable=None, /, **kwds)\n",
      " |      Create a new, empty Counter object.  And if given, count elements\n",
      " |      from an input iterable.  Or, initialize the count from another mapping\n",
      " |      of elements to their counts.\n",
      " |      \n",
      " |      >>> c = Counter()                           # a new, empty counter\n",
      " |      >>> c = Counter('gallahad')                 # a new counter from an iterable\n",
      " |      >>> c = Counter({'a': 4, 'b': 2})           # a new counter from a mapping\n",
      " |      >>> c = Counter(a=4, b=2)                   # a new counter from keyword args\n",
      " |  \n",
      " |  __ior__(self, other)\n",
      " |      Inplace union is the maximum of value from either counter.\n",
      " |      \n",
      " |      >>> c = Counter('abbb')\n",
      " |      >>> c |= Counter('bcc')\n",
      " |      >>> c\n",
      " |      Counter({'b': 3, 'c': 2, 'a': 1})\n",
      " |  \n",
      " |  __isub__(self, other)\n",
      " |      Inplace subtract counter, but keep only results with positive counts.\n",
      " |      \n",
      " |      >>> c = Counter('abbbc')\n",
      " |      >>> c -= Counter('bccd')\n",
      " |      >>> c\n",
      " |      Counter({'b': 2, 'a': 1})\n",
      " |  \n",
      " |  __missing__(self, key)\n",
      " |      The count of elements not in the Counter is zero.\n",
      " |  \n",
      " |  __neg__(self)\n",
      " |      Subtracts from an empty counter.  Strips positive and zero counts,\n",
      " |      and flips the sign on negative counts.\n",
      " |  \n",
      " |  __or__(self, other)\n",
      " |      Union is the maximum of value in either of the input counters.\n",
      " |      \n",
      " |      >>> Counter('abbb') | Counter('bcc')\n",
      " |      Counter({'b': 3, 'c': 2, 'a': 1})\n",
      " |  \n",
      " |  __pos__(self)\n",
      " |      Adds an empty counter, effectively stripping negative and zero counts\n",
      " |  \n",
      " |  __reduce__(self)\n",
      " |      Helper for pickle.\n",
      " |  \n",
      " |  __repr__(self)\n",
      " |      Return repr(self).\n",
      " |  \n",
      " |  __sub__(self, other)\n",
      " |      Subtract count, but keep only results with positive counts.\n",
      " |      \n",
      " |      >>> Counter('abbbc') - Counter('bccd')\n",
      " |      Counter({'b': 2, 'a': 1})\n",
      " |  \n",
      " |  copy(self)\n",
      " |      Return a shallow copy.\n",
      " |  \n",
      " |  elements(self)\n",
      " |      Iterator over elements repeating each as many times as its count.\n",
      " |      \n",
      " |      >>> c = Counter('ABCABC')\n",
      " |      >>> sorted(c.elements())\n",
      " |      ['A', 'A', 'B', 'B', 'C', 'C']\n",
      " |      \n",
      " |      # Knuth's example for prime factors of 1836:  2**2 * 3**3 * 17**1\n",
      " |      >>> prime_factors = Counter({2: 2, 3: 3, 17: 1})\n",
      " |      >>> product = 1\n",
      " |      >>> for factor in prime_factors.elements():     # loop over factors\n",
      " |      ...     product *= factor                       # and multiply them\n",
      " |      >>> product\n",
      " |      1836\n",
      " |      \n",
      " |      Note, if an element's count has been set to zero or is a negative\n",
      " |      number, elements() will ignore it.\n",
      " |  \n",
      " |  most_common(self, n=None)\n",
      " |      List the n most common elements and their counts from the most\n",
      " |      common to the least.  If n is None, then list all element counts.\n",
      " |      \n",
      " |      >>> Counter('abracadabra').most_common(3)\n",
      " |      [('a', 5), ('b', 2), ('r', 2)]\n",
      " |  \n",
      " |  subtract(self, iterable=None, /, **kwds)\n",
      " |      Like dict.update() but subtracts counts instead of replacing them.\n",
      " |      Counts can be reduced below zero.  Both the inputs and outputs are\n",
      " |      allowed to contain zero and negative counts.\n",
      " |      \n",
      " |      Source can be an iterable, a dictionary, or another Counter instance.\n",
      " |      \n",
      " |      >>> c = Counter('which')\n",
      " |      >>> c.subtract('witch')             # subtract elements from another iterable\n",
      " |      >>> c.subtract(Counter('watch'))    # subtract elements from another counter\n",
      " |      >>> c['h']                          # 2 in which, minus 1 in witch, minus 1 in watch\n",
      " |      0\n",
      " |      >>> c['w']                          # 1 in which, minus 1 in witch, minus 1 in watch\n",
      " |      -1\n",
      " |  \n",
      " |  update(self, iterable=None, /, **kwds)\n",
      " |      Like dict.update() but add counts instead of replacing them.\n",
      " |      \n",
      " |      Source can be an iterable, a dictionary, or another Counter instance.\n",
      " |      \n",
      " |      >>> c = Counter('which')\n",
      " |      >>> c.update('witch')           # add elements from another iterable\n",
      " |      >>> d = Counter('watch')\n",
      " |      >>> c.update(d)                 # add elements from another counter\n",
      " |      >>> c['h']                      # four 'h' in which, witch, and watch\n",
      " |      4\n",
      " |  \n",
      " |  ----------------------------------------------------------------------\n",
      " |  Class methods defined here:\n",
      " |  \n",
      " |  fromkeys(iterable, v=None) from builtins.type\n",
      " |      Create a new dictionary with keys from iterable and values set to value.\n",
      " |  \n",
      " |  ----------------------------------------------------------------------\n",
      " |  Data descriptors defined here:\n",
      " |  \n",
      " |  __dict__\n",
      " |      dictionary for instance variables (if defined)\n",
      " |  \n",
      " |  __weakref__\n",
      " |      list of weak references to the object (if defined)\n",
      " |  \n",
      " |  ----------------------------------------------------------------------\n",
      " |  Methods inherited from builtins.dict:\n",
      " |  \n",
      " |  __contains__(self, key, /)\n",
      " |      True if the dictionary has the specified key, else False.\n",
      " |  \n",
      " |  __eq__(self, value, /)\n",
      " |      Return self==value.\n",
      " |  \n",
      " |  __ge__(self, value, /)\n",
      " |      Return self>=value.\n",
      " |  \n",
      " |  __getattribute__(self, name, /)\n",
      " |      Return getattr(self, name).\n",
      " |  \n",
      " |  __getitem__(...)\n",
      " |      x.__getitem__(y) <==> x[y]\n",
      " |  \n",
      " |  __gt__(self, value, /)\n",
      " |      Return self>value.\n",
      " |  \n",
      " |  __iter__(self, /)\n",
      " |      Implement iter(self).\n",
      " |  \n",
      " |  __le__(self, value, /)\n",
      " |      Return self<=value.\n",
      " |  \n",
      " |  __len__(self, /)\n",
      " |      Return len(self).\n",
      " |  \n",
      " |  __lt__(self, value, /)\n",
      " |      Return self<value.\n",
      " |  \n",
      " |  __ne__(self, value, /)\n",
      " |      Return self!=value.\n",
      " |  \n",
      " |  __reversed__(self, /)\n",
      " |      Return a reverse iterator over the dict keys.\n",
      " |  \n",
      " |  __ror__(self, value, /)\n",
      " |      Return value|self.\n",
      " |  \n",
      " |  __setitem__(self, key, value, /)\n",
      " |      Set self[key] to value.\n",
      " |  \n",
      " |  __sizeof__(...)\n",
      " |      D.__sizeof__() -> size of D in memory, in bytes\n",
      " |  \n",
      " |  clear(...)\n",
      " |      D.clear() -> None.  Remove all items from D.\n",
      " |  \n",
      " |  get(self, key, default=None, /)\n",
      " |      Return the value for key if key is in the dictionary, else default.\n",
      " |  \n",
      " |  items(...)\n",
      " |      D.items() -> a set-like object providing a view on D's items\n",
      " |  \n",
      " |  keys(...)\n",
      " |      D.keys() -> a set-like object providing a view on D's keys\n",
      " |  \n",
      " |  pop(...)\n",
      " |      D.pop(k[,d]) -> v, remove specified key and return the corresponding value.\n",
      " |      \n",
      " |      If key is not found, default is returned if given, otherwise KeyError is raised\n",
      " |  \n",
      " |  popitem(self, /)\n",
      " |      Remove and return a (key, value) pair as a 2-tuple.\n",
      " |      \n",
      " |      Pairs are returned in LIFO (last-in, first-out) order.\n",
      " |      Raises KeyError if the dict is empty.\n",
      " |  \n",
      " |  setdefault(self, key, default=None, /)\n",
      " |      Insert key with a value of default if key is not in the dictionary.\n",
      " |      \n",
      " |      Return the value for key if key is in the dictionary, else default.\n",
      " |  \n",
      " |  values(...)\n",
      " |      D.values() -> an object providing a view on D's values\n",
      " |  \n",
      " |  ----------------------------------------------------------------------\n",
      " |  Class methods inherited from builtins.dict:\n",
      " |  \n",
      " |  __class_getitem__(...) from builtins.type\n",
      " |      See PEP 585\n",
      " |  \n",
      " |  ----------------------------------------------------------------------\n",
      " |  Static methods inherited from builtins.dict:\n",
      " |  \n",
      " |  __new__(*args, **kwargs) from builtins.type\n",
      " |      Create and return a new object.  See help(type) for accurate signature.\n",
      " |  \n",
      " |  ----------------------------------------------------------------------\n",
      " |  Data and other attributes inherited from builtins.dict:\n",
      " |  \n",
      " |  __hash__ = None\n",
      "\n"
     ]
    }
   ],
   "source": [
    "from collections import Counter\n",
    "help(Counter)"
   ]
  },
  {
   "cell_type": "code",
   "execution_count": 49,
   "metadata": {},
   "outputs": [],
   "source": [
    "lst = [3, 1, 4, 1, 5, 9, 2, 7, 1, 8, 2, 8, 2]\n",
    "cnt = Counter(lst)"
   ]
  },
  {
   "cell_type": "code",
   "execution_count": 50,
   "metadata": {},
   "outputs": [
    {
     "data": {
      "text/plain": [
       "Counter({3: 1, 1: 3, 4: 1, 5: 1, 9: 1, 2: 3, 7: 1, 8: 2})"
      ]
     },
     "execution_count": 50,
     "metadata": {},
     "output_type": "execute_result"
    }
   ],
   "source": [
    "cnt"
   ]
  },
  {
   "cell_type": "code",
   "execution_count": 51,
   "metadata": {},
   "outputs": [
    {
     "data": {
      "text/plain": [
       "[(1, 3), (2, 3), (8, 2), (3, 1), (4, 1), (5, 1), (9, 1), (7, 1)]"
      ]
     },
     "execution_count": 51,
     "metadata": {},
     "output_type": "execute_result"
    }
   ],
   "source": [
    "cnt.most_common()"
   ]
  },
  {
   "cell_type": "code",
   "execution_count": null,
   "metadata": {},
   "outputs": [],
   "source": []
  }
 ],
 "metadata": {
  "celltoolbar": "Slideshow",
  "kernelspec": {
   "display_name": "Python 3 (ipykernel)",
   "language": "python",
   "name": "python3"
  },
  "language_info": {
   "codemirror_mode": {
    "name": "ipython",
    "version": 3
   },
   "file_extension": ".py",
   "mimetype": "text/x-python",
   "name": "python",
   "nbconvert_exporter": "python",
   "pygments_lexer": "ipython3",
   "version": "3.9.7"
  }
 },
 "nbformat": 4,
 "nbformat_minor": 2
}
