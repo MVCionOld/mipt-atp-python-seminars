{
 "cells": [
  {
   "cell_type": "code",
   "execution_count": null,
   "id": "driven-alignment",
   "metadata": {},
   "outputs": [],
   "source": [
    "from IPython.core.interactiveshell import InteractiveShell\n",
    "InteractiveShell.ast_node_interactivity = \"all\""
   ]
  },
  {
   "cell_type": "markdown",
   "id": "spanish-marshall",
   "metadata": {},
   "source": [
    "# Семинар №4\n",
    "## functions, generators, closures, decorators\n",
    "  \n",
    "  \n",
    "Сегодня в меню:\n",
    "  * базовый синтаксис\n",
    "  * аргументы по умолчанию\n",
    "  * переменное число аргументов\n",
    "  * рекурсия\n",
    "  * итераторы и генераторы\n",
    "  * анонимные функции\n",
    "  * атрибуты\n",
    "  * аннотация типов\n",
    "  * области видимости\n",
    "  * замыкания\n",
    "  * декораторы\n",
    "  * асинхронное программирование"
   ]
  },
  {
   "cell_type": "markdown",
   "id": "blessed-understanding",
   "metadata": {},
   "source": [
    "### Базовый синтаксис"
   ]
  },
  {
   "cell_type": "code",
   "execution_count": null,
   "id": "preceding-chicago",
   "metadata": {},
   "outputs": [],
   "source": [
    "def hello(): print(\"Hello, World!\")\n",
    "    \n",
    "hello()"
   ]
  },
  {
   "cell_type": "code",
   "execution_count": null,
   "id": "activated-identification",
   "metadata": {},
   "outputs": [],
   "source": [
    "def foo(a, b):\n",
    "    print(\"a = \", a, \" type: \", type(a))\n",
    "    print(\"b = \", b, \" type: \", type(b))\n",
    "    print()\n",
    "\n",
    "foo(1, \"bar\")\n",
    "foo(None, complex(4, 3))"
   ]
  },
  {
   "cell_type": "code",
   "execution_count": null,
   "id": "answering-donna",
   "metadata": {},
   "outputs": [],
   "source": [
    "def plus_n_mult(a, b, c):\n",
    "    return a + b * c\n",
    "\n",
    "plus_n_mult(2, 3, 7)\n",
    "plus_n_mult(\"We live in 2\", \"*\", 4)"
   ]
  },
  {
   "cell_type": "markdown",
   "id": "regulated-combine",
   "metadata": {},
   "source": [
    "### Аргументы по умолчанию"
   ]
  },
  {
   "cell_type": "code",
   "execution_count": null,
   "id": "first-badge",
   "metadata": {},
   "outputs": [],
   "source": [
    "def foo(a, b, c=0.5, d=(None,)):\n",
    "    print('a =', a, 'b =', b, 'c =', c, 'd =', d)\n",
    "    \n",
    "foo(1, 'b')\n",
    "foo(1, 'b', 0.3)\n",
    "foo(1, 'b', d='d')\n",
    "foo(1, d='d', c=0.3, b='b')"
   ]
  },
  {
   "cell_type": "markdown",
   "id": "interior-railway",
   "metadata": {},
   "source": [
    "**Замечание №1**  \n",
    "Изменяемые агрументы передаются по ссылке, неизменяемые - по значению"
   ]
  },
  {
   "cell_type": "code",
   "execution_count": null,
   "id": "rational-devices",
   "metadata": {},
   "outputs": [],
   "source": [
    "def update_hero_team(team, total_awesomeness):\n",
    "    team['Chuck'] = 'Norris'\n",
    "    team['Sylvester'] = 'Stallone'\n",
    "    total_awesomeness = 100500\n",
    "    \n",
    "my_total_awesomeness = 42\n",
    "my_team = {'Bruce': 'Willis', 'Arnold': 'Schwarzenegger'}\n",
    "\n",
    "update_hero_team(my_team, my_total_awesomeness)\n",
    "\n",
    "my_total_awesomeness\n",
    "my_team"
   ]
  },
  {
   "cell_type": "markdown",
   "id": "impossible-original",
   "metadata": {},
   "source": [
    "**Замечание №2**  \n",
    "Использование мутабельного агрумента по умолчанию"
   ]
  },
  {
   "cell_type": "markdown",
   "id": "seventh-breakdown",
   "metadata": {},
   "source": [
    "*Плохо:*"
   ]
  },
  {
   "cell_type": "code",
   "execution_count": null,
   "id": "blessed-entrepreneur",
   "metadata": {},
   "outputs": [],
   "source": [
    "def append(number, number_list=[]):\n",
    "    number_list.append(number)\n",
    "    print(number_list)\n",
    "    return number_list\n",
    "\n",
    "append(5)  # expecting: [5], actual: [5]\n",
    "append(7)  # expecting: [7], actual: [5, 7]\n",
    "append(2)  # expecting: [2], actual: [5, 7, 2]"
   ]
  },
  {
   "cell_type": "markdown",
   "id": "optical-times",
   "metadata": {},
   "source": [
    "*Как надо:*"
   ]
  },
  {
   "cell_type": "code",
   "execution_count": null,
   "id": "continental-picking",
   "metadata": {},
   "outputs": [],
   "source": [
    "def append(number, number_list=None):\n",
    "    if number_list is None:\n",
    "        number_list = []\n",
    "    number_list.append(number)\n",
    "    print(number_list)\n",
    "    return number_list\n",
    "\n",
    "append(5)  # expecting: [5], actual: [5]\n",
    "append(7)  # expecting: [7], actual: [7]\n",
    "append(2)  # expecting: [2], actual: [2]"
   ]
  },
  {
   "cell_type": "markdown",
   "id": "recovered-slave",
   "metadata": {},
   "source": [
    "### Переменное число агрументов"
   ]
  },
  {
   "cell_type": "code",
   "execution_count": null,
   "id": "british-appreciation",
   "metadata": {},
   "outputs": [],
   "source": [
    "# Звездочка только распаковывает iterable в аргументы функции\n",
    "def foo(a, b, *args):\n",
    "    print('a =', a, 'b =', b, 'args =', args)\n",
    "    \n",
    "foo(1, 'b')\n",
    "foo(1, 'b', 0.5)\n",
    "foo(1, 'b', [1, 2], 0.5)"
   ]
  },
  {
   "cell_type": "code",
   "execution_count": null,
   "id": "alien-worker",
   "metadata": {},
   "outputs": [],
   "source": [
    "def foo(a, *args, b):\n",
    "    print('a =', a, 'b =', b, 'args =', args)\n",
    "    \n",
    "foo(1, [1, 2], 0.5, b='b')"
   ]
  },
  {
   "cell_type": "code",
   "execution_count": null,
   "id": "artistic-geneva",
   "metadata": {},
   "outputs": [],
   "source": [
    "def foo(a, b=0.5, **kwargs):\n",
    "    print('a =', a, 'b =', b, 'kwargs =', kwargs)\n",
    "    \n",
    "foo(1, c='c')\n",
    "foo(1, c='c', b='b')\n",
    "foo(1, 'b', c='c', d='d')"
   ]
  },
  {
   "cell_type": "code",
   "execution_count": null,
   "id": "baking-acceptance",
   "metadata": {},
   "outputs": [],
   "source": [
    "def foo(*args, **kwargs):\n",
    "    print('args =', args, 'kwargs =', kwargs)\n",
    "    \n",
    "foo(1, 'a', x=0.5, y=[3, 4])\n",
    "foo(*[1, 'a'], **{'x' : 0.5, 'y': [3, 4]})"
   ]
  },
  {
   "cell_type": "markdown",
   "id": "hydraulic-setting",
   "metadata": {},
   "source": [
    "### Рекурсия"
   ]
  },
  {
   "cell_type": "code",
   "execution_count": null,
   "id": "economic-minority",
   "metadata": {},
   "outputs": [],
   "source": [
    "def fib(n):\n",
    "    if n < 2:\n",
    "        return 1\n",
    "    else:\n",
    "        return fib(n-1) + fib(n-2)\n",
    "    \n",
    "fib(4)\n",
    "fib(10)"
   ]
  },
  {
   "cell_type": "code",
   "execution_count": null,
   "id": "sixth-boundary",
   "metadata": {
    "scrolled": true
   },
   "outputs": [],
   "source": [
    "def fact(n):\n",
    "    if n <= 1:\n",
    "        return 1\n",
    "    return n * fact(n - 1)\n",
    "\n",
    "fact(10)\n",
    "fact(100)\n",
    "fact(2950)"
   ]
  },
  {
   "cell_type": "code",
   "execution_count": null,
   "id": "seven-adobe",
   "metadata": {},
   "outputs": [],
   "source": [
    "import sys\n",
    "sys.getrecursionlimit()"
   ]
  },
  {
   "cell_type": "code",
   "execution_count": null,
   "id": "virgin-trash",
   "metadata": {},
   "outputs": [],
   "source": [
    "# А попробуем-ка это проверить:\n",
    "fact(3001)"
   ]
  },
  {
   "cell_type": "code",
   "execution_count": null,
   "id": "consistent-migration",
   "metadata": {
    "scrolled": true
   },
   "outputs": [],
   "source": [
    "sys.setrecursionlimit(4000)\n",
    "\n",
    "# А сейчас:\n",
    "fact(3555)"
   ]
  },
  {
   "cell_type": "markdown",
   "id": "infectious-atlas",
   "metadata": {},
   "source": [
    "### Итераторы и генераторы"
   ]
  },
  {
   "cell_type": "markdown",
   "id": "numeric-equity",
   "metadata": {},
   "source": [
    "Thesaurus:  \n",
    "  * <u>iterator</u> - то, от чего можно взять **next(...)**\n",
    "  * <u>iterable</u> - то, от чего можно взять **iter(...)**, получив **Iterator**\n",
    "  * <u>generator</u> - надстройка над **Iterator**\n",
    "  * <u>generator expression</u> - способ создания **Generator**\n",
    "  * <u>generator function</u> (обычно называют просто generator) - способ создания **Generator**"
   ]
  },
  {
   "cell_type": "code",
   "execution_count": null,
   "id": "certain-blackberry",
   "metadata": {},
   "outputs": [],
   "source": [
    "[3, 1, 4, 1, 5, 9].__iter__()\n",
    "\n",
    "iter([3, 1, 4, 1, 5, 9])"
   ]
  },
  {
   "cell_type": "code",
   "execution_count": null,
   "id": "innocent-arcade",
   "metadata": {},
   "outputs": [],
   "source": [
    "def my_iter(iterable):\n",
    "    return iter(iterable)\n",
    "\n",
    "\n",
    "for value in my_iter([3, 1, 4, 1, 5, 9]):\n",
    "    print(value ** 2)\n",
    "\n",
    "print()\n",
    "\n",
    "for value in my_iter(range(1, 10)):\n",
    "    print(value ** 2)"
   ]
  },
  {
   "cell_type": "code",
   "execution_count": null,
   "id": "indie-blake",
   "metadata": {},
   "outputs": [],
   "source": [
    "from collections.abc import Iterable\n",
    "\n",
    "help(Iterable)"
   ]
  },
  {
   "cell_type": "code",
   "execution_count": null,
   "id": "seven-variance",
   "metadata": {},
   "outputs": [],
   "source": [
    "from collections.abc import Iterator\n",
    "\n",
    "help(Iterator)"
   ]
  },
  {
   "cell_type": "raw",
   "id": "stone-seventh",
   "metadata": {},
   "source": [
    "Iterable - интерфейс, который позволяет делать перебор его элементов. Он генерирует Iterator при передаче в метод iter(...). Iterator - это объект, который используется для итерации по итерируемому объекту с использованием метода __next __(). Итераторы имеют метод __next__(), который возвращает следующий элемент объекта.  \n",
    "  \n",
    "Обратите внимание, что каждый iterator также является iterable, но не каждый iterable является iterator. Например, список iterable, но список не является iterator. Iterator можно создать из iterable объекта с помощью функции iter(...). Чтобы сделать это возможным, классу объекта нужен либо метод __iter__(), который возвращает iterator, либо метод __getitem__() с последовательными индексами, начинающимися с 0.\n",
    "\n",
    "Когда выполняется цикл for, оператор for вызывает iter(...) для объекта, который предполагается перебрать. Если этот вызов успешен, вызов iter вернет объект-iterator, который определяет метод __next__(), который обращается к элементам объекта по одному. Метод __next__() вызовет исключение StopIteration, если больше нет доступных элементов. Цикл for завершится, как только он перехватит исключение StopIteration."
   ]
  },
  {
   "cell_type": "code",
   "execution_count": null,
   "id": "fuzzy-reynolds",
   "metadata": {},
   "outputs": [],
   "source": [
    "iterable = ['Alice', 'Bob', 'Charlie']\n",
    "iterator1 = iter(iterable)\n",
    "iterator2 = iter(iterable)\n",
    "\n",
    "print(iterable)\n",
    "print(isinstance(iterable, Iterable))\n",
    "print(iterator1)\n",
    "print(isinstance(iterator1, Iterator))\n",
    "\n",
    "# не каждый итерабельный объект не является итератором\n",
    "print(issubclass(Iterator, Iterable))\n",
    "print(issubclass(Iterable, Iterator))"
   ]
  },
  {
   "cell_type": "code",
   "execution_count": null,
   "id": "romance-railway",
   "metadata": {},
   "outputs": [],
   "source": [
    "from collections.abc import Generator \n",
    "\n",
    "help(Generator)"
   ]
  },
  {
   "cell_type": "code",
   "execution_count": null,
   "id": "united-equity",
   "metadata": {},
   "outputs": [],
   "source": [
    "# вспомним генераторное выражение\n",
    "generator = (x**2 for x in range(1, 4))\n",
    "print(generator)\n",
    "print(isinstance(generator, Generator))\n",
    "print(isinstance(generator, Iterator))\n",
    "print(isinstance(iterator1, Generator))\n",
    "\n",
    "print(next(generator))\n",
    "print(next(generator))\n",
    "print(next(generator))\n",
    "print(next(generator))"
   ]
  },
  {
   "cell_type": "code",
   "execution_count": null,
   "id": "touched-nirvana",
   "metadata": {},
   "outputs": [],
   "source": [
    "# время генераторных функций!\n",
    "\n",
    "values = ['Hello', 'world', 'and', '025', '!']\n",
    "\n",
    "def foo(x):\n",
    "    print('Reached only once!')\n",
    "    for value in x:\n",
    "        # `next(...)` -> `raise StopIteration` or `yield value`\n",
    "        yield value\n",
    "        \n",
    "# foo - generator function\n",
    "# foo(values) - generator\n",
    "        \n",
    "for value in foo(values):\n",
    "    print(value, end=' ')"
   ]
  },
  {
   "cell_type": "code",
   "execution_count": null,
   "id": "recorded-copyright",
   "metadata": {},
   "outputs": [],
   "source": [
    "def cubes(x):\n",
    "    for value in x:\n",
    "        yield value ** 3\n",
    "        \n",
    "for value in cubes(range(10)):\n",
    "    print(value, end=' ')"
   ]
  },
  {
   "cell_type": "code",
   "execution_count": null,
   "id": "alike-comparative",
   "metadata": {},
   "outputs": [],
   "source": [
    "# генератор может быть бесконечным\n",
    "def cubes():\n",
    "    i = 0\n",
    "    while True:\n",
    "        yield i ** 3\n",
    "        i += 1\n",
    "        \n",
    "for value in cubes():\n",
    "    print(value, end=' ')\n",
    "    \n",
    "    if value > 100:\n",
    "        break"
   ]
  },
  {
   "cell_type": "code",
   "execution_count": null,
   "id": "starting-basket",
   "metadata": {},
   "outputs": [],
   "source": [
    "# прокачиваем генераторы через yield from\n",
    "def g(x):\n",
    "    yield from range(x, 0, -1)\n",
    "    yield from range(x)\n",
    "\n",
    "list(g(5))"
   ]
  },
  {
   "cell_type": "markdown",
   "id": "conceptual-float",
   "metadata": {},
   "source": [
    "**Минизадача №1**  \n",
    "Написать генератор **limit(generator, max_count)**. Возвращает не более **max_count** значений генератора **generator**."
   ]
  },
  {
   "cell_type": "code",
   "execution_count": null,
   "id": "certified-stereo",
   "metadata": {},
   "outputs": [],
   "source": [
    "def limit(generator, max_count):\n",
    "    ..."
   ]
  },
  {
   "cell_type": "code",
   "execution_count": null,
   "id": "secure-bulgaria",
   "metadata": {},
   "outputs": [],
   "source": [
    "for value in limit(cubes(), 10):\n",
    "    print(value, end=' ')"
   ]
  },
  {
   "cell_type": "markdown",
   "id": "supposed-ability",
   "metadata": {},
   "source": [
    "### Анонимные функции"
   ]
  },
  {
   "cell_type": "code",
   "execution_count": null,
   "id": "useful-procurement",
   "metadata": {},
   "outputs": [],
   "source": [
    "lambda x: print(x)"
   ]
  },
  {
   "cell_type": "code",
   "execution_count": null,
   "id": "animated-equation",
   "metadata": {},
   "outputs": [],
   "source": [
    "(lambda x, y: x ** y + y)(2, 3)"
   ]
  },
  {
   "cell_type": "code",
   "execution_count": null,
   "id": "canadian-harbor",
   "metadata": {},
   "outputs": [],
   "source": [
    "strange_calc = lambda x, y: x ** y + y\n",
    "strange_calc(2, 3)"
   ]
  },
  {
   "cell_type": "markdown",
   "id": "balanced-shift",
   "metadata": {},
   "source": [
    "  * map\n",
    "  * filter\n",
    "  * reduce"
   ]
  },
  {
   "cell_type": "code",
   "execution_count": null,
   "id": "italian-module",
   "metadata": {
    "scrolled": true
   },
   "outputs": [],
   "source": [
    "help(map)"
   ]
  },
  {
   "cell_type": "code",
   "execution_count": null,
   "id": "roman-underwear",
   "metadata": {},
   "outputs": [],
   "source": [
    "for x in map(lambda x: x**2, range(5)):\n",
    "    print(x)\n",
    "    \n",
    "list(map(lambda x: x**2, range(5)))"
   ]
  },
  {
   "cell_type": "code",
   "execution_count": null,
   "id": "innocent-intersection",
   "metadata": {
    "scrolled": true
   },
   "outputs": [],
   "source": [
    "help(filter)"
   ]
  },
  {
   "cell_type": "code",
   "execution_count": null,
   "id": "pretty-retail",
   "metadata": {},
   "outputs": [],
   "source": [
    "for x in filter(lambda x: x % 2, range(10)):\n",
    "    print(x)\n",
    "    \n",
    "list(filter(lambda x: x % 2, range(10)))"
   ]
  },
  {
   "cell_type": "code",
   "execution_count": null,
   "id": "loved-reservation",
   "metadata": {
    "scrolled": false
   },
   "outputs": [],
   "source": [
    "from functools import reduce\n",
    "\n",
    "help(reduce)"
   ]
  },
  {
   "cell_type": "code",
   "execution_count": null,
   "id": "premier-bargain",
   "metadata": {},
   "outputs": [],
   "source": [
    "reduce(lambda x, y: x + y, [1, 2, 3, 4, 5])"
   ]
  },
  {
   "cell_type": "code",
   "execution_count": null,
   "id": "incorporated-arrangement",
   "metadata": {},
   "outputs": [],
   "source": [
    "sorted([1, 2, 3, 4], key = lambda x : 1/x)"
   ]
  },
  {
   "cell_type": "code",
   "execution_count": null,
   "id": "portable-modification",
   "metadata": {},
   "outputs": [],
   "source": [
    "import operator  # cборная солянка операций в виде функций\n",
    "\n",
    "dir(operator)"
   ]
  },
  {
   "cell_type": "code",
   "execution_count": null,
   "id": "marine-swedish",
   "metadata": {},
   "outputs": [],
   "source": [
    "help(operator.contains)"
   ]
  },
  {
   "cell_type": "markdown",
   "id": "crazy-wildlife",
   "metadata": {},
   "source": [
    "### Аттрибуты"
   ]
  },
  {
   "cell_type": "code",
   "execution_count": null,
   "id": "modified-folder",
   "metadata": {},
   "outputs": [],
   "source": [
    "def foo(*args, **kwargs):\n",
    "    \"Function which prints arguments.\"\n",
    "    print(\"args =\", args, \"kwargs =\", kwargs)\n",
    "\n",
    "print(dir(foo))\n",
    "print(foo.__name__)\n",
    "print(foo.__doc__)\n",
    "print(foo.__module__)\n",
    "print(foo.__annotations__)  # поговорим следующим шагом"
   ]
  },
  {
   "cell_type": "markdown",
   "id": "given-antigua",
   "metadata": {},
   "source": [
    "**Замечание №3**  \n",
    "Аттрибуты можно использовать как статические переменные."
   ]
  },
  {
   "cell_type": "code",
   "execution_count": null,
   "id": "irish-engine",
   "metadata": {},
   "outputs": [],
   "source": [
    "def get_next_id():\n",
    "    if not hasattr(get_next_id, 'value'):\n",
    "        get_next_id.value = 0\n",
    "    \n",
    "    get_next_id.value += 1\n",
    "    return get_next_id.value\n",
    "\n",
    "print(get_next_id())\n",
    "print(get_next_id())\n",
    "print(get_next_id())\n",
    "print('get_next_id.value =', get_next_id.value)"
   ]
  },
  {
   "cell_type": "markdown",
   "id": "opened-consultation",
   "metadata": {},
   "source": [
    "**Замечание №4**  \n",
    "Где хранятся аргументы по умолчанию?"
   ]
  },
  {
   "cell_type": "code",
   "execution_count": null,
   "id": "another-thong",
   "metadata": {},
   "outputs": [],
   "source": [
    "def foo(a = 'Hello', b = 1):\n",
    "    print(a, b)\n",
    "\n",
    "print('Defaults: ', foo.__defaults__)\n",
    "foo()\n",
    "\n",
    "foo.__defaults__ = ('Hello', 'world!')\n",
    "print('Defaults: ', foo.__defaults__)\n",
    "foo()"
   ]
  },
  {
   "cell_type": "markdown",
   "id": "quality-criminal",
   "metadata": {},
   "source": [
    "**Вопрос**  \n",
    "Объясните почему нельзя использовать иммутабельные аргументы по умолчанию?"
   ]
  },
  {
   "cell_type": "markdown",
   "id": "aboriginal-soviet",
   "metadata": {},
   "source": [
    "### Аннотация типов  \n",
    "  \n",
    "Python — язык с динамической типизацией и позволяет нам довольно вольно оперировать переменными разных типов. Однако при написании кода мы так или иначе предполагаем переменные каких типов будут использоваться (это может быть вызвано ограничением алгоритма или бизнес-логики). И для корректной работы программы нам важно как можно раньше найти ошибки, связанные с передачей данных неверного типа.  \n",
    "  \n",
    "  \n",
    "Сохраняя идею динамической типизации в современных версиях Python (3.6+) поддерживает аннотации типов переменных, полей класса, аргументов и возвращаемых значений функций:  \n",
    "  \n",
    "  \n",
    "  * [PEP 3107 — Function Annotations](https://www.python.org/dev/peps/pep-3107/)\n",
    "  * [PEP 484 — Type Hints](https://www.python.org/dev/peps/pep-0484/)\n",
    "  * [PEP 526 — Syntax for Variable Annotations](https://www.python.org/dev/peps/pep-0526/)\n",
    "  * [Пакет typing](https://docs.python.org/3/library/typing.html)\n",
    "  * [Лонгрид на Хабре №1](https://habr.com/ru/company/lamoda/blog/432656/)\n",
    "  * [Лонгрид на Хабре №2](https://habr.com/ru/company/lamoda/blog/435988/)\n",
    "\n",
    "Аннотации типов просто считываются интерпретатором Python и никак более не обрабатываются, но доступны для использования из стороннего кода и в первую очередь рассчитаны для использования статическими анализаторами."
   ]
  },
  {
   "cell_type": "code",
   "execution_count": null,
   "id": "elegant-sculpture",
   "metadata": {},
   "outputs": [],
   "source": [
    "x: int = 2\n",
    "y: float = \"I', not float, lol\"\n",
    "type(x)\n",
    "type(y)"
   ]
  },
  {
   "cell_type": "code",
   "execution_count": null,
   "id": "deadly-steel",
   "metadata": {},
   "outputs": [],
   "source": [
    "def plus_n_mult(a: int, b: int, c: int) -> int:\n",
    "    return a + b * c\n",
    "\n",
    "plus_n_mult(2, 3, 7)\n",
    "plus_n_mult(\"We live in 2\", \"*\", 4)\n",
    "plus_n_mult"
   ]
  },
  {
   "cell_type": "code",
   "execution_count": null,
   "id": "whole-albany",
   "metadata": {},
   "outputs": [],
   "source": [
    "plus_n_mult.__annotations__"
   ]
  },
  {
   "cell_type": "code",
   "execution_count": null,
   "id": "adjusted-issue",
   "metadata": {},
   "outputs": [],
   "source": [
    "def plus_n_mult(a: int, b: int, c: int) -> int:\n",
    "    product: int = b * c\n",
    "    sum_: int = a + product\n",
    "    return sum_\n",
    "\n",
    "plus_n_mult(2, 3, 7)\n",
    "plus_n_mult(\"We live in 2\", \"*\", 4)\n",
    "plus_n_mult"
   ]
  },
  {
   "cell_type": "code",
   "execution_count": null,
   "id": "identical-miracle",
   "metadata": {},
   "outputs": [],
   "source": [
    "plus_n_mult.__annotations__"
   ]
  },
  {
   "cell_type": "markdown",
   "id": "supreme-shoot",
   "metadata": {},
   "source": [
    "### Области видимости\n",
    "  \n",
    "Thesaurus:  \n",
    "  \n",
    "  * пространство имен (namespace) - маппинг из имен переменных в объект\n",
    "  * locals - возвращает текущий namespace в виде словаря\n",
    "  * globals - возвращает namespace модуля"
   ]
  },
  {
   "cell_type": "code",
   "execution_count": null,
   "id": "fresh-proof",
   "metadata": {},
   "outputs": [],
   "source": [
    "value = 42\n",
    "print(globals()['value'])\n",
    "\n",
    "globals()['value'] = 100500\n",
    "print(value)"
   ]
  },
  {
   "cell_type": "markdown",
   "id": "downtown-integrity",
   "metadata": {},
   "source": [
    "**Замечание №5**  \n",
    "Циклы и ветвления не создают свою область видимости."
   ]
  },
  {
   "cell_type": "code",
   "execution_count": null,
   "id": "complete-remainder",
   "metadata": {},
   "outputs": [],
   "source": [
    "if (True):\n",
    "    value_assigned_in_if = 1\n",
    "    \n",
    "for loop_counter in range(1):\n",
    "    value_assigned_in_for = 2\n",
    "    \n",
    "print(loop_counter)\n",
    "print(value_assigned_in_if)\n",
    "print(value_assigned_in_for)"
   ]
  },
  {
   "cell_type": "markdown",
   "id": "radio-joshua",
   "metadata": {},
   "source": [
    "**Замечание №6**  \n",
    "Функции создают свою область видимости."
   ]
  },
  {
   "cell_type": "code",
   "execution_count": null,
   "id": "dying-climate",
   "metadata": {},
   "outputs": [],
   "source": [
    "value = 0\n",
    "\n",
    "def foo():\n",
    "    value = 1\n",
    "    print(value)\n",
    "    \n",
    "    print('locals: ', locals()['value'])\n",
    "    print('globals:', globals()['value'])\n",
    "    \n",
    "foo()\n",
    "print(value)"
   ]
  },
  {
   "cell_type": "markdown",
   "id": "necessary-prior",
   "metadata": {},
   "source": [
    "Как определить значение переменной в текущей области видимости в случае, если она есть и в locals, и globals?  \n",
    "Ответ: следуй правилу LEBG!  \n",
    "\n",
    "Правило LEGB:\n",
    "  1. Local - имена, определенные внутри функции (и не помеченные global)\n",
    "  2. Enclosing-function locals - имена в области видимости всех оборачивающих (enclosing) функций, в порядке уменьшения глубины\n",
    "  3. Global - имена, определенные на уровне модуля или посредством global\n",
    "  4. Built-in - предопределенные (range, open, ...)"
   ]
  },
  {
   "cell_type": "code",
   "execution_count": null,
   "id": "found-dream",
   "metadata": {},
   "outputs": [],
   "source": [
    "value = 1\n",
    "\n",
    "def foo():\n",
    "    value = 2\n",
    "    \n",
    "    def bar():\n",
    "        value = 3\n",
    "    \n",
    "    bar()\n",
    "    print('enclosing scope value', value)\n",
    "    \n",
    "foo()\n",
    "print('global value', value)"
   ]
  },
  {
   "cell_type": "code",
   "execution_count": null,
   "id": "restricted-maple",
   "metadata": {},
   "outputs": [],
   "source": [
    "# Пример правила LEBG\n",
    "\n",
    "def foo():\n",
    "    def bar():\n",
    "        print('built-in:', range)\n",
    "    bar()\n",
    "foo()\n",
    "\n",
    "range = 'global range'\n",
    "\n",
    "def foo():\n",
    "    def bar():\n",
    "        print('global:', range)\n",
    "    bar()\n",
    "foo()\n",
    "        \n",
    "def foo():\n",
    "    range = 'enclosing-function range'\n",
    "    def bar():\n",
    "        print('enclosing-function:', range)\n",
    "    bar()\n",
    "foo()\n",
    "\n",
    "def foo():\n",
    "    range = 'enclosing-function range'\n",
    "    def bar():\n",
    "        range = 'local range'\n",
    "        print('local:', range)\n",
    "    bar()\n",
    "foo()"
   ]
  },
  {
   "cell_type": "markdown",
   "id": "curious-heart",
   "metadata": {},
   "source": [
    "**Замечание №7**  \n",
    "В Python есть ключевое слово global, которое позволяет изменять изнутри функции значение глобальной переменной. Оно записывается перед именем переменной, которая дальше внутри функции будет считаться глобальной."
   ]
  },
  {
   "cell_type": "code",
   "execution_count": null,
   "id": "caring-monitoring",
   "metadata": {},
   "outputs": [],
   "source": [
    "value = 1\n",
    "\n",
    "def foo():\n",
    "    value = 2\n",
    "    \n",
    "    def bar():\n",
    "        global value\n",
    "        value = 3\n",
    "    \n",
    "    bar()\n",
    "    print('enclosing scope value', value)\n",
    "    \n",
    "foo()\n",
    "print('global value', value)"
   ]
  },
  {
   "cell_type": "markdown",
   "id": "dedicated-provincial",
   "metadata": {},
   "source": [
    "**Замечание №8**  \n",
    "Инструкция nonlocal предназначена для изменения значения переменной объемлющей функции в теле вложенной функции. Таким образом, вложенная функция имеет доступ к переменным объемлющих функций."
   ]
  },
  {
   "cell_type": "code",
   "execution_count": null,
   "id": "legendary-ethnic",
   "metadata": {},
   "outputs": [],
   "source": [
    "value = 1\n",
    "\n",
    "def foo():\n",
    "    value = 2\n",
    "    \n",
    "    def bar():\n",
    "        nonlocal value\n",
    "        value = 3\n",
    "    \n",
    "    bar()\n",
    "    print('enclosing scope value', value)\n",
    "    \n",
    "foo()\n",
    "print('global value', value)"
   ]
  },
  {
   "cell_type": "markdown",
   "id": "waiting-utilization",
   "metadata": {},
   "source": [
    "### Замыкания"
   ]
  },
  {
   "cell_type": "markdown",
   "id": "completed-coaching",
   "metadata": {},
   "source": [
    "Замыкание - это функция вместе со ссылочной средой этой функции. В переводе на человеческий, замыкание - это любая функция, которая использует переменную, которая определена области видимости, которая является внешней по отношению к этой функции, и доступна внутри функции при вызове из области, в которой эта свободная переменная не определена."
   ]
  },
  {
   "cell_type": "code",
   "execution_count": null,
   "id": "lucky-length",
   "metadata": {},
   "outputs": [],
   "source": [
    "def foo():\n",
    "    x = 3\n",
    "    def bar():\n",
    "        print(x)  # <- using enclosing-function locals\n",
    "    x = 5\n",
    "    return bar\n",
    "\n",
    "bar = foo()\n",
    "bar()\n",
    "\n",
    "x = 9\n",
    "bar()"
   ]
  },
  {
   "cell_type": "code",
   "execution_count": null,
   "id": "centered-constant",
   "metadata": {},
   "outputs": [],
   "source": [
    "def foo():\n",
    "    x = 3\n",
    "    def bar():\n",
    "        nonlocal x\n",
    "        print(x)  # <- using enclosing-function locals too (because the same as above)\n",
    "    x = 5\n",
    "    return bar\n",
    "\n",
    "bar = foo()\n",
    "bar()\n",
    "\n",
    "x = 9\n",
    "bar()"
   ]
  },
  {
   "cell_type": "code",
   "execution_count": null,
   "id": "relevant-christmas",
   "metadata": {},
   "outputs": [],
   "source": [
    "def foo():\n",
    "    x = 3\n",
    "    def bar():\n",
    "        global x\n",
    "        print(x)  # <- using globals\n",
    "    x = 5\n",
    "    return bar\n",
    "\n",
    "bar = foo()\n",
    "bar()\n",
    "\n",
    "x = 9\n",
    "bar()"
   ]
  },
  {
   "cell_type": "code",
   "execution_count": null,
   "id": "efficient-efficiency",
   "metadata": {},
   "outputs": [],
   "source": [
    "def make_adder(x):\n",
    "    def adder(y):\n",
    "        return x + y\n",
    "    return adder\n",
    "\n",
    "add_two = make_adder(2)\n",
    "\n",
    "print(add_two(5))\n",
    "print(add_two(7))"
   ]
  },
  {
   "cell_type": "markdown",
   "id": "deadly-stress",
   "metadata": {},
   "source": [
    "**Замечание №9**  \n",
    "Функции могут замыкать одинаковые переменные."
   ]
  },
  {
   "cell_type": "code",
   "execution_count": null,
   "id": "conservative-monkey",
   "metadata": {},
   "outputs": [],
   "source": [
    "def cell(value=0):\n",
    "    def get_cell():\n",
    "        return value\n",
    "    \n",
    "    def set_cell(new_value):\n",
    "        nonlocal value\n",
    "        value = new_value\n",
    "    \n",
    "    return get_cell, set_cell"
   ]
  },
  {
   "cell_type": "code",
   "execution_count": null,
   "id": "early-intellectual",
   "metadata": {},
   "outputs": [],
   "source": [
    "get1, set1 = cell(1)\n",
    "print(get1())"
   ]
  },
  {
   "cell_type": "code",
   "execution_count": null,
   "id": "crazy-intermediate",
   "metadata": {},
   "outputs": [],
   "source": [
    "set1(10)\n",
    "print(get1())"
   ]
  },
  {
   "cell_type": "code",
   "execution_count": null,
   "id": "bizarre-serve",
   "metadata": {},
   "outputs": [],
   "source": [
    "get2, set2 = cell(2)\n",
    "print(get1(), get2())"
   ]
  },
  {
   "cell_type": "code",
   "execution_count": null,
   "id": "timely-stationery",
   "metadata": {},
   "outputs": [],
   "source": [
    "set1(20)\n",
    "print(get1(), get2())"
   ]
  },
  {
   "cell_type": "code",
   "execution_count": null,
   "id": "divided-basics",
   "metadata": {},
   "outputs": [],
   "source": [
    "# посмотрим что внутри замыкания\n",
    "print(get1.__closure__)\n",
    "print(get1.__closure__[0].cell_contents)"
   ]
  },
  {
   "cell_type": "markdown",
   "id": "junior-welding",
   "metadata": {},
   "source": [
    "**\\_\\_closure\\_\\_** &mdash; список замкнутых переменных.<br>\n",
    "Переменная представлена в виде класса **cell** с единственным полем **cell_contents**"
   ]
  },
  {
   "cell_type": "code",
   "execution_count": null,
   "id": "accompanied-constitutional",
   "metadata": {},
   "outputs": [],
   "source": [
    "print(get1.__closure__ == set1.__closure__)\n",
    "print(get1.__closure__[0] is set1.__closure__[0])\n",
    "print(get1.__closure__ == get2.__closure__)"
   ]
  },
  {
   "cell_type": "markdown",
   "id": "floppy-arizona",
   "metadata": {},
   "source": [
    "### Декораторы"
   ]
  },
  {
   "cell_type": "markdown",
   "id": "nuclear-witch",
   "metadata": {},
   "source": [
    "С помощью замыканий можно изменить поведение функции, такие замыкания известны как декораторы."
   ]
  },
  {
   "cell_type": "code",
   "execution_count": null,
   "id": "homeless-synthesis",
   "metadata": {},
   "outputs": [],
   "source": [
    "import sys\n",
    "\n",
    "def deprecate(func):\n",
    "    def inner(*args, **kwargs):\n",
    "        print('{} is deprecated'.format(func.__name__), file=sys.stderr)\n",
    "        return func(*args, **kwargs)\n",
    "    return inner\n",
    "\n",
    "\n",
    "pprint = deprecate(print)\n",
    "\n",
    "pprint([1, 2, 3])"
   ]
  },
  {
   "cell_type": "markdown",
   "id": "amazing-chicken",
   "metadata": {},
   "source": [
    "**Замечание №10**  \n",
    "Для упрощенного использования декораторов в Python предусмотрен специальный синтаксис через символ \"@\" "
   ]
  },
  {
   "cell_type": "code",
   "execution_count": null,
   "id": "received-dietary",
   "metadata": {},
   "outputs": [],
   "source": [
    "import sys\n",
    "\n",
    "def deprecated(func):\n",
    "    def wrapper(*args, **kwargs):\n",
    "        print('{} is deprecated'.format(func.__name__), file=sys.stderr)\n",
    "        return func(*args, **kwargs)\n",
    "    return wrapper\n",
    "\n",
    "\n",
    "@deprecated\n",
    "def show(x):\n",
    "    print(x)\n",
    "\n",
    "show([1, 2, 3])"
   ]
  },
  {
   "cell_type": "markdown",
   "id": "found-summary",
   "metadata": {},
   "source": [
    "**Замечание №11**  \n",
    "Использование декораторов в том виде, в котором они приведены выше, приводит к перезатиранию полезной статической информации о декорируемых функциях. "
   ]
  },
  {
   "cell_type": "code",
   "execution_count": null,
   "id": "educational-activity",
   "metadata": {},
   "outputs": [],
   "source": [
    "import sys\n",
    "\n",
    "def deprecated(func):\n",
    "    def wrapper(*args, **kwargs):\n",
    "        print('{} is deprecated'.format(func.__name__), file=sys.stderr)\n",
    "        return func(*args, **kwargs)\n",
    "    return wrapper\n",
    "\n",
    "@deprecated\n",
    "def show(x):\n",
    "    'This is a really nice looking docstring'\n",
    "    print(x)\n",
    "\n",
    "print(show.__name__)\n",
    "print(show.__doc__)"
   ]
  },
  {
   "cell_type": "markdown",
   "id": "beautiful-mileage",
   "metadata": {},
   "source": [
    "**Замечание №12**  \n",
    "Решение №1 проблемы выше."
   ]
  },
  {
   "cell_type": "code",
   "execution_count": null,
   "id": "intended-detail",
   "metadata": {},
   "outputs": [],
   "source": [
    "def deprecated(func):\n",
    "    def wrapper(*args, **kwargs):\n",
    "        print('{} is deprecated!'.format(func.__name__), file=sys.stderr)\n",
    "        return func(*args, **kwargs)\n",
    "    wrapper.__name__ = func.__name__\n",
    "    wrapper.__doc__ = func.__doc__\n",
    "    wrapper.__module__ = func.__module__\n",
    "    return wrapper\n",
    "\n",
    "@deprecated\n",
    "def show(x):\n",
    "    'This is a really nice looking docstring'\n",
    "    print(x)\n",
    "\n",
    "print(show.__name__)\n",
    "print(show.__doc__)"
   ]
  },
  {
   "cell_type": "markdown",
   "id": "exotic-strip",
   "metadata": {},
   "source": [
    "**Замечание №13**  \n",
    "Решение №2 проблемы выше."
   ]
  },
  {
   "cell_type": "code",
   "execution_count": null,
   "id": "clean-newport",
   "metadata": {},
   "outputs": [],
   "source": [
    "import functools\n",
    "\n",
    "def deprecated(func):\n",
    "    @functools.wraps(func) \n",
    "    def wrapper(*args, **kwargs):\n",
    "        print('{} is deprecated!'.format(func.__name__), file=sys.stderr)\n",
    "        return func(*args, **kwargs)\n",
    "    return wrapper\n",
    "\n",
    "@deprecated\n",
    "def show(x):\n",
    "    'This is a really nice looking docstring'\n",
    "    print(x)\n",
    "\n",
    "print(show.__name__)\n",
    "print(show.__doc__)"
   ]
  },
  {
   "cell_type": "markdown",
   "id": "compact-marketplace",
   "metadata": {},
   "source": [
    "**Замечание №14**  \n",
    "В декораторы можно передавать аргументы."
   ]
  },
  {
   "cell_type": "code",
   "execution_count": null,
   "id": "controlling-credit",
   "metadata": {},
   "outputs": [],
   "source": [
    "def trace(dest=sys.stderr):\n",
    "    def wraps(func):\n",
    "        @functools.wraps(func)\n",
    "        def wrapper(*args, **kwargs):\n",
    "            print('{} called with args {}, kwargs {}!'.format(func.__name__, args, kwargs), file=dest)\n",
    "            return func(*args, **kwargs)\n",
    "        return wrapper\n",
    "    return wraps\n",
    "\n",
    "@trace(sys.stdout) \n",
    "def f(x, test):\n",
    "    if test > 1:\n",
    "        return f(x, test / 2)\n",
    "\n",
    "f('Hi!', test=42)"
   ]
  },
  {
   "cell_type": "markdown",
   "id": "stylish-highland",
   "metadata": {},
   "source": [
    "**Минизадача №2**  \n",
    "Написать декоратор **once(function)**.  \n",
    "Декоратор вызывает функцию только один раз."
   ]
  },
  {
   "cell_type": "code",
   "execution_count": null,
   "id": "objective-check",
   "metadata": {},
   "outputs": [],
   "source": [
    "def once(func):\n",
    "    ..."
   ]
  },
  {
   "cell_type": "code",
   "execution_count": null,
   "id": "civil-treasury",
   "metadata": {},
   "outputs": [],
   "source": [
    "@once\n",
    "def foo():\n",
    "    print('Hi!')\n",
    "\n",
    "foo()\n",
    "foo()"
   ]
  },
  {
   "cell_type": "markdown",
   "id": "loose-basement",
   "metadata": {},
   "source": [
    "**Замечание №15**  \n",
    "Декораторам необязательно быть функциями (об этом на семинаре про классы)."
   ]
  }
 ],
 "metadata": {
  "kernelspec": {
   "display_name": "Python 3",
   "language": "python",
   "name": "python3"
  },
  "language_info": {
   "codemirror_mode": {
    "name": "ipython",
    "version": 3
   },
   "file_extension": ".py",
   "mimetype": "text/x-python",
   "name": "python",
   "nbconvert_exporter": "python",
   "pygments_lexer": "ipython3",
   "version": "3.8.6"
  }
 },
 "nbformat": 4,
 "nbformat_minor": 5
}
