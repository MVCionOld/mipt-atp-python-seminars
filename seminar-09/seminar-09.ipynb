{
 "cells": [
  {
   "cell_type": "markdown",
   "metadata": {
    "slideshow": {
     "slide_type": "slide"
    }
   },
   "source": [
    "# Web & Scraping\n",
    "\n",
    "Requires: urllib, requests, socket, re, lxml, io, bs4\n",
    "План:\n",
    "* 101 101\n",
    "* HTML 101\n",
    "* HTTP + REST 101\n",
    "* Web scraping"
   ]
  },
  {
   "cell_type": "code",
   "execution_count": null,
   "metadata": {
    "slideshow": {
     "slide_type": "fragment"
    }
   },
   "outputs": [],
   "source": [
    "# Убедитесь, что вотэтовотвсё установлено\n",
    "import bs4\n",
    "import io\n",
    "import lxml\n",
    "import re\n",
    "import requests\n",
    "import socket\n",
    "import urllib"
   ]
  },
  {
   "cell_type": "markdown",
   "metadata": {
    "slideshow": {
     "slide_type": "slide"
    }
   },
   "source": [
    "Заметка на полях:\n",
    "# 101 101\n",
    "\n",
    "В американской системе образования курсы имеют индекс, например, [CS101](https://lagunita.stanford.edu/courses/Engineering/CS101/Summer2014/about).\n",
    "\n",
    "101 -- это вводный курс в какую-то тему, просто так повелось. Intro.\n"
   ]
  },
  {
   "cell_type": "markdown",
   "metadata": {
    "slideshow": {
     "slide_type": "slide"
    }
   },
   "source": [
    "# Интернет 101\n",
    "\n",
    "Что происходит, когда вы вбиваете в поисковике адрес и жмете Enter?\n",
    "\n",
    "URL:  \n",
    "`<схема>:[//[<логин>[:<пароль>]@]<хост>[:<порт>]][/<URL‐путь>][?<параметры>][#<якорь>]`  \n",
    "Например:  \n",
    "`https://pp.userapi.com/c834101/v834101778/13450d/9yxFBjsPxN8.jpg`"
   ]
  },
  {
   "cell_type": "markdown",
   "metadata": {
    "slideshow": {
     "slide_type": "subslide"
    }
   },
   "source": [
    "Вы выступаете **клиентом**\n",
    "\n",
    "1. **DNS**: URL -> IP-адрес и порт **сервера** (87.240.129.71:443)\n",
    "2. **HTTP(S)**: IP + URL-путь + параметры -> **ресурс** (текст (в т.ч. *HTML-документ*), картинка, звук и т.д.)\n",
    "3. **Движок браузера** пытается отрисовать документ\n",
    "4. *Скорее всего*, внутри документа написано, что ему требуются еще какие-то ресурсы, у них есть URI, т.е. возвращаемся к п.1\n",
    "5. Пока все это происходит, (и после того, как произошло), выполняется **JavaScript**-код"
   ]
  },
  {
   "cell_type": "markdown",
   "metadata": {
    "slideshow": {
     "slide_type": "slide"
    }
   },
   "source": [
    "# HTML 101\n",
    "\n",
    "HyperText Markup Language\n",
    "\n",
    "HTML -- язык разметки, который используется для web-страниц.\n",
    "\n",
    "Это механизм для получения структурного текста, который понимают браузеры.\n",
    "\n",
    "Структура в тексте задаётся вложенными тегами, теги определяют то, как текст будет показан (отрендерен).\n",
    "\n",
    "Это тег: `<тег>`, теги бывают открывающими (`<тег>`) и закрывающими (`</тег>`).\n",
    "\n",
    "Пример HTML-разметки:\n",
    "\n",
    "```html\n",
    "<!DOCTYPE html>\n",
    "<html>\n",
    "   <head>\n",
    "      <meta charset=\"utf-8\" />\n",
    "      <title>HTML Document</title>\n",
    "   </head>\n",
    "   <body>\n",
    "      <p> <!-- p -- это параграф, а в такие странные скобки заключается комментарий -->\n",
    "         <b>\n",
    "            Этот текст будет полужирным, <i>а этот — ещё и курсивным</i>.\n",
    "         </b>\n",
    "      </p>\n",
    "   </body>\n",
    "</html>\n",
    "```\n",
    "\n",
    "Так он выглядит после рендеринга:\n",
    "\n",
    "<!DOCTYPE html>\n",
    "<html>\n",
    "   <head>\n",
    "      <meta charset=\"utf-8\" />\n",
    "      <title>HTML Document</title>\n",
    "   </head>\n",
    "   <body>\n",
    "      <p> <!-- p -- это параграф, а в такие странные скобки заключается комментарий -->\n",
    "         <b>\n",
    "            Этот текст будет полужирным, <i>а этот — ещё и курсивным</i>.\n",
    "         </b>\n",
    "      </p>\n",
    "   </body>\n",
    "</html>\n",
    "\n",
    "Видно, что HTML-разметка имеет древовидную структуру:<br>\n",
    "каждый тег (вершина дерева) имеет 0 (тогда это лист дерева) или больше (тогда это внутренняя вершина) вложенных в него тегов.\n",
    "\n",
    "Значит, чтобы доставать из HTML какую-то информацию, можно использовать его структуру.\n",
    "\n",
    "Мы этим займёмся чуть позже.\n",
    "\n",
    "### P.S. \n",
    "На самом деле, такую же структуру имеет и формат XML (другой язык разметки).\n",
    "\n",
    "Формально, HTML -- это более стандартизированное подмножество XML.\n",
    "\n",
    "### P.P.S.\n",
    "\n",
    "А ещё у тегов бывают **атрибуты**:\n",
    "\n",
    "```html\n",
    "<a href=\"http://example.com\">Ссылка на example.com</a>\n",
    "```\n",
    "Отрендерим этот кусок:\n",
    "<a href=\"http://example.com\">Ссылка на example.com</a>\n",
    "\n",
    "### P.P.P.S.\n",
    "\n",
    "А этот текст (безусловно, имеющий структуру), был написан с помощью другого языка разметки -- **Markdown**."
   ]
  },
  {
   "cell_type": "markdown",
   "metadata": {
    "slideshow": {
     "slide_type": "slide"
    }
   },
   "source": [
    "## HTTP 101\n",
    "\n",
    "HyperText Transfer Protocol\n",
    "\n",
    "Протокол передачи гипертекста:\n",
    "* **Протокол** -- набор логических соглашений о взаимодействии программ, стандарт;\n",
    "* **передача** -- мы живём в интернете, т.е. мир не ограничивается нашим компьютером => информацию надо передавать;\n",
    "* **гипертекст** -- HTML, например.\n",
    "\n",
    "Основная идея: все компьютеры делятся на **сервера** (те, что хранят информацию) и **клиенты** (те, что запрашивают её).\n",
    "\n",
    "На самом деле, в HTTP мы передаём не только гипертекст, а **ресурсы** -- философское обобщение, куда попадает и гипертекст, и картинки, и музыка и т.д. Но стандарт подходит для всего этого.\n",
    "\n",
    "Каждый ресурс имеет адрес -- **URI** (Uniform Resource Identifier) -- аналог пути в системе компьютера.\n",
    "\n",
    "Не будем говорить про низкоуровневую сторону вопроса: стек TCP/IP, сокеты, порты и т.д.\n",
    "\n",
    "## Структура HTTP\n",
    "\n",
    "Чтобы получить данные, клиент делает запрос на сервер. В запросе должны быть 3 части:\n",
    "* Starting line -- определяет тип сообщения;\n",
    "* Headers -- характеризуют тело сообщения, параметры передачи и прочие сведения;\n",
    "* Message body -- непосредственно данные сообщения.\n",
    "\n",
    "Ответное сообщение от сервера имеет такую же структуру.\n",
    "\n",
    "Чтобы посылать эти запросы \"руками\", а не через браузер, можно использовать утилиту `curl`. Ей и воспользуемся."
   ]
  },
  {
   "cell_type": "code",
   "execution_count": null,
   "metadata": {
    "slideshow": {
     "slide_type": "subslide"
    }
   },
   "outputs": [],
   "source": [
    "!curl example.com/index.html -v"
   ]
  },
  {
   "cell_type": "markdown",
   "metadata": {
    "slideshow": {
     "slide_type": "subslide"
    }
   },
   "source": [
    "## Методы HTTP\n",
    "\n",
    "HTTP метод определяет операцию, которую мы хотим произвести над ресурсом.\n",
    "\n",
    "Самые частые методы: GET, POST, PUT, DELETE (но есть и другие).\n",
    "\n",
    "* **GET** -- запрос содержимого ресурса. <br>GET-запросы идемпотентны. Поэтому они могут кэшироваться.\n",
    "* **POST** -- передача данных на ресурс (например, при отправке комментария на форуме или вводе пароля на сайте). <br> Не идемпотентны => при отправке одного и того же комментария на форум он появится там дважды.  <br>Не кэшируются.\n",
    "* **PUT** -- передача данных в конкретный URI (изменение существующего ресурса). Не кэшируются.\n",
    "* **DELETE** -- удаление ресурса.\n",
    "\n",
    "## Коды HTTP\n",
    "\n",
    "В ответном сообщении придёт код ответа HTTP, который определяет результат выполнения операции.\n",
    "\n",
    "Самые частые коды: `200 OK`, `400 BadRequest`, `404 Not Found`, `500 Internal Server Error`.\n",
    "\n",
    "Общий обзор кодов:\n",
    "* **1xx** -- Informational. Информационные коды, например, `102 Processing` (запрос пока обрабатывается);\n",
    "* **2xx** -- Success. Успех. Всё хорошо, запрос отработал и ничего не сломал. По крайней мере, пока.\n",
    "* **3xx** -- Redirection. Перенаправление на другой ресурс/страницу.\n",
    "* **4xx** -- Client error. Ошибка клиента (неверные данные запроса или неправильный путь).\n",
    "* **5xx** -- Server error. Что-то сломалось на сервере (там поделили на ноль, например).\n",
    "\n",
    "<a href=\"https://ru.wikipedia.org/wiki/%D0%A1%D0%BF%D0%B8%D1%81%D0%BE%D0%BA_%D0%BA%D0%BE%D0%B4%D0%BE%D0%B2_%D1%81%D0%BE%D1%81%D1%82%D0%BE%D1%8F%D0%BD%D0%B8%D1%8F_HTTP\">Полный список кодов.</a>"
   ]
  },
  {
   "cell_type": "markdown",
   "metadata": {
    "slideshow": {
     "slide_type": "subslide"
    }
   },
   "source": [
    "## Разбор примера\n",
    "\n",
    "Давайте ещё раз посмотрим на запрос к example.com/index.html.\n",
    "\n",
    "Служебная информация от `curl`:\n",
    "\n",
    "```\n",
    "*   Trying 2606:2800:220:1:248:1893:25c8:1946...\n",
    "*   Trying 93.184.216.34...\n",
    "* Connected to example.com (2606:2800:220:1:248:1893:25c8:1946) port 80 (#0)\n",
    "```\n",
    "Запрос клиента:\n",
    "```\n",
    "> GET /index.html HTTP/1.1    # Starting line: метод GET, URI -- /index.html, версия протокола -- HTTP/1.1\n",
    "> Host: example.com           # Заголовки сообщения\n",
    "> User-Agent: curl/7.47.0\n",
    "> Accept: */*\n",
    ">                             # Пустое тело, т.к. мы ничего не передали на сервер.\n",
    "```\n",
    "\n",
    "Ответ сервера:\n",
    "```\n",
    "< HTTP/1.1 200 OK                          # Starting line: версия протокола и код ответа\n",
    "< Cache-Control: max-age=604800            # Заголовки ответа\n",
    "< Content-Type: text/html; charset=UTF-8\n",
    "< Date: Tue, 19 Mar 2019 21:25:21 GMT\n",
    "< Etag: \"1541025663+gzip+ident\"\n",
    "< Expires: Tue, 26 Mar 2019 21:25:21 GMT\n",
    "< Last-Modified: Fri, 09 Aug 2013 23:54:35 GMT\n",
    "< Server: ECS (bsa/EB1E)\n",
    "< Vary: Accept-Encoding\n",
    "< X-Cache: HIT\n",
    "< Content-Length: 1270\n",
    "<                                          # Пустая строка -- нужна по стандарту\n",
    "<!doctype html>                            # Тело ответа -- HTML-документ\n",
    "<html>\n",
    "<head>\n",
    "    <title>Example Domain</title>\n",
    ". . .\n",
    "```\n"
   ]
  },
  {
   "cell_type": "markdown",
   "metadata": {},
   "source": [
    "## Инструменты для работы с HTTP\n",
    "\n",
    "Больше <a href=\"https://github.com/MVCionOld/mipt-atp-caos-seminars/tree/master/seminar-24\">примеров и информации</a> можно найти здесь."
   ]
  },
  {
   "cell_type": "markdown",
   "metadata": {
    "slideshow": {
     "slide_type": "subslide"
    }
   },
   "source": [
    "## REST\n",
    "\n",
    " <a href=\"https://en.wikipedia.org/wiki/Representational_state_transfer\">Representational State Transfer</a> \n",
    "\n",
    "Набор дополнительных ограничений на HTTP, указывающий, как правильно работать с методами, кодами и т.д.\n",
    "\n",
    "Можно назвать его аналогом pep для Питона.\n",
    "  \n",
    "Rest архитектура должна удовлетворять следующим критериям:\n",
    " 1. **Client-Server.** Система должна быть разделена на клиентов и на серверов. Разделение интерфейсов означает, что, например, клиенты не связаны с хранением данных, которое остается внутри каждого сервера, так что мобильность кода клиента улучшается. Серверы не связаны с интерфейсом пользователя или состоянием, так что серверы могут быть проще и масштабируемы. Серверы и клиенты могут быть заменяемы и разрабатываться независимо, пока интерфейс не изменяется.\n",
    " 2. **Stateless.** Сервер не должен хранить какой-либо информации о клиентах. В запросе должна храниться вся необходимая информация для обработки запроса и если необходимо, идентификации клиента.\n",
    " 3. **Cache․** Каждый ответ должен быть отмечен является ли он кэшируемым или нет, для предотвращения повторного использования клиентами устаревших или некорректных данных в ответ на дальнейшие запросы.\n",
    " 4. **Uniform Interface.** Единый интерфейс определяет интерфейс между клиентами и серверами. Это упрощает и отделяет архитектуру, которая позволяет каждой части развиваться самостоятельно.\n",
    "  \n",
    "**HTTP методы для создания RESTful сервисов**\n",
    " 1. **HTTP метод GET** используется для получения (или чтения) представления ресурса. В случае “удачного” (или не содержащего ошибок) адреса, GET возвращается представление ресурса в формате XML или JSON в сочетании с кодом состояния `HTTP 200 (OK)`. В случае наличия ошибок обычно возвращается код `HTTP 404 (NOT FOUND)` или `HTTP 400 (BAD REQUEST)`.\n",
    " 2. **HTTP метод POST** запрос наиболее часто используется для создания новых ресурсов. При успешном создании ресурса возвращается `HTTP 201 (CREATED)`.\n",
    " 3. **HTTP метод PUT** обычно используется для предоставления возможности обновления ресурса. Тело запроса при отправке PUT-запроса к существующему ресурсу URI должно содержать обновленные данные оригинального ресурса (полностью, или только обновляемую часть). При успешном обновлении посредством выполнения PUT запроса возвращается код `HTTP 200 (OK)` (или `HTTP 204 (NO CONTENT)` если не был передан какой либо контент в теле ответа).\n",
    " 4. **HTTP метод DELETE** используется для удаления ресурса, идентифицированного конкретным URI (ID). При успешном удалении возвращается `HTTP 200 (OK)`, совместно с телом ответа, содержащим данные удаленного ресурса. Также возможно использование `HTTP 204 (NO CONTENT)` без тела ответа.\n",
    " \n",
    "Иногда на практике ограничиваются только методами GET (чтение) и POST (создание, обновление и удаление). А бывают случаи, когда используют только POST:)"
   ]
  },
  {
   "cell_type": "markdown",
   "metadata": {
    "slideshow": {
     "slide_type": "slide"
    }
   },
   "source": [
    "# Web scraping. Практика!\n",
    "\n",
    "* Получение html\n",
    "* Парсинг html"
   ]
  },
  {
   "cell_type": "markdown",
   "metadata": {
    "slideshow": {
     "slide_type": "fragment"
    }
   },
   "source": [
    "## Получение html\n",
    "\n",
    "Варианты инструментов:\n",
    "\n",
    "* urllib \n",
    "* requests (de-facto standard)\n",
    "* socket (low-level)\n",
    "\n"
   ]
  },
  {
   "cell_type": "markdown",
   "metadata": {
    "slideshow": {
     "slide_type": "slide"
    }
   },
   "source": [
    "### urllib "
   ]
  },
  {
   "cell_type": "code",
   "execution_count": null,
   "metadata": {},
   "outputs": [],
   "source": [
    "import urllib.request"
   ]
  },
  {
   "cell_type": "code",
   "execution_count": null,
   "metadata": {
    "scrolled": false
   },
   "outputs": [],
   "source": [
    "response = urllib.request.urlopen('http://example.com/')\n",
    "html = response.read()\n",
    "print(html)"
   ]
  },
  {
   "cell_type": "code",
   "execution_count": null,
   "metadata": {
    "slideshow": {
     "slide_type": "subslide"
    }
   },
   "outputs": [],
   "source": [
    "html = html.decode('utf-8')\n",
    "print(html)"
   ]
  },
  {
   "cell_type": "markdown",
   "metadata": {
    "slideshow": {
     "slide_type": "subslide"
    }
   },
   "source": [
    "На всякий случай сохраним этот html, пригодится."
   ]
  },
  {
   "cell_type": "code",
   "execution_count": null,
   "metadata": {},
   "outputs": [],
   "source": [
    "with open('example.com.txt', 'w', encoding='utf-8') as f:\n",
    "    f.write(html)"
   ]
  },
  {
   "cell_type": "markdown",
   "metadata": {},
   "source": [
    "А что, кроме html?"
   ]
  },
  {
   "cell_type": "code",
   "execution_count": null,
   "metadata": {},
   "outputs": [],
   "source": [
    "print(dir(response))"
   ]
  },
  {
   "cell_type": "markdown",
   "metadata": {},
   "source": [
    "Всё, что есть в HTTP-сообщении."
   ]
  },
  {
   "cell_type": "code",
   "execution_count": null,
   "metadata": {
    "slideshow": {
     "slide_type": "subslide"
    }
   },
   "outputs": [],
   "source": [
    "print(response.url)\n",
    "print(response.msg)\n",
    "print(response.code)\n",
    "print('Заголовки: \\n{}'.format(response.headers))\n",
    "# . . ."
   ]
  },
  {
   "cell_type": "markdown",
   "metadata": {
    "slideshow": {
     "slide_type": "slide"
    }
   },
   "source": [
    "### requests\n",
    "HTTP for Humans"
   ]
  },
  {
   "cell_type": "code",
   "execution_count": null,
   "metadata": {},
   "outputs": [],
   "source": [
    "import requests"
   ]
  },
  {
   "cell_type": "code",
   "execution_count": null,
   "metadata": {},
   "outputs": [],
   "source": [
    "response = requests.get('http://example.com')\n",
    "response"
   ]
  },
  {
   "cell_type": "code",
   "execution_count": null,
   "metadata": {},
   "outputs": [],
   "source": [
    "print(dir(response))"
   ]
  },
  {
   "cell_type": "code",
   "execution_count": null,
   "metadata": {
    "slideshow": {
     "slide_type": "subslide"
    }
   },
   "outputs": [],
   "source": [
    "print(response.url)\n",
    "print(response.connection)\n",
    "print(response.headers)\n",
    "print(response.ok)\n",
    "print(response.status_code)\n",
    "print(response.encoding)\n",
    "print(response.links)"
   ]
  },
  {
   "cell_type": "code",
   "execution_count": null,
   "metadata": {
    "slideshow": {
     "slide_type": "subslide"
    }
   },
   "outputs": [],
   "source": [
    "print(response.text)"
   ]
  },
  {
   "cell_type": "markdown",
   "metadata": {
    "slideshow": {
     "slide_type": "slide"
    }
   },
   "source": [
    "## Парсинг html\n",
    "\n",
    "Варианты инструментов:\n",
    "* re\n",
    "* lxml\n",
    "* BeautifulSoup"
   ]
  },
  {
   "cell_type": "code",
   "execution_count": null,
   "metadata": {},
   "outputs": [],
   "source": [
    "with open('example.com.txt', 'r', encoding='utf-8') as f:\n",
    "    html = f.read()\n",
    "print(html)"
   ]
  },
  {
   "cell_type": "markdown",
   "metadata": {
    "slideshow": {
     "slide_type": "slide"
    }
   },
   "source": [
    "### lxml\n",
    "\n",
    "Воспользуемся библиотекой, которая знает про структуру XML (и HTML)."
   ]
  },
  {
   "cell_type": "code",
   "execution_count": null,
   "metadata": {},
   "outputs": [],
   "source": [
    "from lxml import etree\n",
    "from io import StringIO, BytesIO"
   ]
  },
  {
   "cell_type": "code",
   "execution_count": null,
   "metadata": {},
   "outputs": [],
   "source": [
    "parser = etree.HTMLParser()\n",
    "tree = etree.parse(StringIO(html), parser)\n",
    "tree"
   ]
  },
  {
   "cell_type": "code",
   "execution_count": null,
   "metadata": {
    "slideshow": {
     "slide_type": "subslide"
    }
   },
   "outputs": [],
   "source": [
    "print(dir(tree))"
   ]
  },
  {
   "cell_type": "code",
   "execution_count": null,
   "metadata": {},
   "outputs": [],
   "source": [
    "print(tree.getroot())\n",
    "print(etree.tostring(tree.getroot(), pretty_print=True, method='html'))"
   ]
  },
  {
   "cell_type": "code",
   "execution_count": null,
   "metadata": {
    "slideshow": {
     "slide_type": "subslide"
    }
   },
   "outputs": [],
   "source": [
    "paragraphs = tree.xpath('//p')\n",
    "for p in paragraphs:\n",
    "    print(p.text)  "
   ]
  },
  {
   "cell_type": "code",
   "execution_count": null,
   "metadata": {},
   "outputs": [],
   "source": [
    "for p in paragraphs:\n",
    "    print(etree.tostring(p, pretty_print=True, method='html'))  "
   ]
  },
  {
   "cell_type": "code",
   "execution_count": null,
   "metadata": {
    "slideshow": {
     "slide_type": "subslide"
    }
   },
   "outputs": [],
   "source": [
    "hrefs = tree.xpath('//a')\n",
    "for href in hrefs:\n",
    "    print(href.text)  \n",
    "    print(href.attrib)  "
   ]
  },
  {
   "cell_type": "code",
   "execution_count": null,
   "metadata": {},
   "outputs": [],
   "source": [
    "specific_hrefs = tree.xpath('//a[@href=\"https://www.iana.org/domains/example\"]')\n",
    "specific_hrefs"
   ]
  },
  {
   "cell_type": "markdown",
   "metadata": {
    "slideshow": {
     "slide_type": "slide"
    }
   },
   "source": [
    "### BeautifulSoup\n",
    "\n",
    "Ещё один вариант, который хорошо подходит для парсинга HTML."
   ]
  },
  {
   "cell_type": "code",
   "execution_count": null,
   "metadata": {
    "scrolled": true
   },
   "outputs": [],
   "source": [
    "# try:\n",
    "from bs4 import BeautifulSoup\n",
    "# except:\n",
    "#     !pip install bs4 "
   ]
  },
  {
   "cell_type": "code",
   "execution_count": null,
   "metadata": {},
   "outputs": [],
   "source": [
    "soup = BeautifulSoup(html, 'lxml')"
   ]
  },
  {
   "cell_type": "code",
   "execution_count": null,
   "metadata": {},
   "outputs": [],
   "source": [
    "paragraphs = soup.find_all('p')\n",
    "paragraphs"
   ]
  },
  {
   "cell_type": "code",
   "execution_count": null,
   "metadata": {
    "slideshow": {
     "slide_type": "subslide"
    }
   },
   "outputs": [],
   "source": [
    "hrefs = soup.find_all('a')\n",
    "hrefs"
   ]
  },
  {
   "cell_type": "code",
   "execution_count": null,
   "metadata": {},
   "outputs": [],
   "source": [
    "hrefs = soup.find_all('a', href='https://www.iana.org/domains/example')\n",
    "hrefs"
   ]
  },
  {
   "cell_type": "code",
   "execution_count": null,
   "metadata": {},
   "outputs": [],
   "source": [
    "hrefs = soup.find_all('a', href='https://www.other-website.org/domains/example')\n",
    "hrefs"
   ]
  },
  {
   "cell_type": "code",
   "execution_count": null,
   "metadata": {},
   "outputs": [],
   "source": [
    "dir(soup)"
   ]
  },
  {
   "cell_type": "markdown",
   "metadata": {
    "slideshow": {
     "slide_type": "slide"
    }
   },
   "source": [
    "## Performance"
   ]
  },
  {
   "cell_type": "code",
   "execution_count": null,
   "metadata": {},
   "outputs": [],
   "source": [
    "%timeit re.findall(r'<p>([\\w\\W]*?)</p>', html)\n",
    "%timeit tree.xpath('//p')\n",
    "%timeit soup.find_all('p')"
   ]
  },
  {
   "cell_type": "markdown",
   "metadata": {},
   "source": [
    "Мораль: regex -- это быстро.\n",
    "\n",
    "BeautifulSoup чуть дольше lxml, т.к. он для удобства работы преобразует документ в некий внутренний формат -- собственно, суп."
   ]
  }
 ],
 "metadata": {
  "celltoolbar": "Slideshow",
  "kernelspec": {
   "display_name": "Python 3 (ipykernel)",
   "language": "python",
   "name": "python3"
  },
  "language_info": {
   "codemirror_mode": {
    "name": "ipython",
    "version": 3
   },
   "file_extension": ".py",
   "mimetype": "text/x-python",
   "name": "python",
   "nbconvert_exporter": "python",
   "pygments_lexer": "ipython3",
   "version": "3.9.7"
  }
 },
 "nbformat": 4,
 "nbformat_minor": 2
}
