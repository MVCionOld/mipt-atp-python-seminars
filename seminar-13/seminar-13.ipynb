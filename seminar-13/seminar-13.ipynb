{
 "cells": [
  {
   "cell_type": "markdown",
   "metadata": {
    "slideshow": {
     "slide_type": "slide"
    }
   },
   "source": [
    "## Matplotlib"
   ]
  },
  {
   "cell_type": "markdown",
   "metadata": {
    "slideshow": {
     "slide_type": "slide"
    }
   },
   "source": [
    "### 1. Введение "
   ]
  },
  {
   "cell_type": "markdown",
   "metadata": {},
   "source": [
    "Matplotlib это python-библиотека для двумерной графики созданная в 2003 году как альтернатива платному MATLAB'y. Проект оказался настолько успешным, что matplotlib является стандартом для двумерной графики в анализе данных на python. Используя matplotlib можно нарисовать очень сложные графики, поэтому порог входа у него высокий. Для простых графиков есть удобные обертки, но кастомизация требует понимания деталей."
   ]
  },
  {
   "cell_type": "code",
   "execution_count": null,
   "metadata": {
    "slideshow": {
     "slide_type": "subslide"
    }
   },
   "outputs": [],
   "source": [
    "import matplotlib as mpl  # стандартный алиас для matplotlib"
   ]
  },
  {
   "cell_type": "markdown",
   "metadata": {},
   "source": [
    "Matplotlib состоит из множетства модулей и классов. Рисование в matplotlib состоит из последовательного нанесения объектов на холст. Объекты образуют иерархическую структуру. Задача пользователя описать эту структуру, а рисованием займется сама библиотека."
   ]
  },
  {
   "cell_type": "markdown",
   "metadata": {},
   "source": [
    "Рисунок в matplotlib имеет следующую структуру. Есть объект рисунок(Figure), в нем есть холст(Canvas) на котором может быть 1 или несколько областей рисования (Axes). Области рисования содержат элементы рисунка (Artists). Обычные пользователи большую часть времени занимаются тем что работают с элементами рисунка располагая их в нужном порядке на областях рисования. Элементы рисунка (Artists) можно разделить на две большие группы\n",
    "\n",
    " - **Примитивы** - простейшие элементы рисунка, такие как линии, прямоугольники, текст, изображения и т.д.\n",
    " - **Контейнеры** - рисунок (Figure), область рисования (Axes), координатные оси (Axis), деления на осях (Ticks).  "
   ]
  },
  {
   "cell_type": "markdown",
   "metadata": {
    "slideshow": {
     "slide_type": "subslide"
    }
   },
   "source": [
    "Библиотека манипулирует очень простыми графическими примитивами (линия, точка, отрезок, многоугольник), что совершенно неудобоно для людей - они мыслят высокоуровневыми абстракциями. Поэтому в matplotlib есть две обертки pylab и pyplot. Первая считается неудачным экспериментом - не используйте ее. Мы будем работать с pyplot."
   ]
  },
  {
   "cell_type": "code",
   "execution_count": null,
   "metadata": {},
   "outputs": [],
   "source": [
    "import matplotlib.pyplot as plt  # стандартный алиас для pyplot"
   ]
  },
  {
   "cell_type": "markdown",
   "metadata": {
    "slideshow": {
     "slide_type": "subslide"
    }
   },
   "source": [
    "Для того чтобы рисунки выводились в графический интерфейс надо вызвать [магическую команду](https://ipython.readthedocs.io/en/stable/interactive/magics.html) для jupyter "
   ]
  },
  {
   "cell_type": "code",
   "execution_count": null,
   "metadata": {},
   "outputs": [],
   "source": [
    "# (!) С какого-то релиза стала необязательной\n",
    "\n",
    "# Достаточно вызвать один раз\n",
    "%matplotlib inline\n",
    "# Без параметра inline изображения будут выводиться не в jupyter notebook, а в отдельное окно "
   ]
  },
  {
   "cell_type": "markdown",
   "metadata": {
    "slideshow": {
     "slide_type": "subslide"
    }
   },
   "source": [
    "Также нам очень пригодится библиотека numpy для работы с многомерными массивами. С ее помощью можно быстро поэлементно применять математические функции и генерировать массивы."
   ]
  },
  {
   "cell_type": "code",
   "execution_count": null,
   "metadata": {},
   "outputs": [],
   "source": [
    "import numpy as np  # стандартный алиас для numpy"
   ]
  },
  {
   "cell_type": "code",
   "execution_count": null,
   "metadata": {
    "slideshow": {
     "slide_type": "subslide"
    }
   },
   "outputs": [],
   "source": [
    "# создать рисунок гистограммы из 20 рандомных чисел в диапазоне от 0 до 6 невключительно\n",
    "\n",
    "plt.hist(np.random.randint(low=0, high=6, size=20)) \n",
    "\n",
    "# Сохранить ПОСЛЕДНИЙ созданный рисунок\n",
    "plt.savefig('hist.png', fmt='png')\n",
    "# показать ВСЕ созданные рисунки\n",
    "plt.show()"
   ]
  },
  {
   "cell_type": "markdown",
   "metadata": {
    "slideshow": {
     "slide_type": "subslide"
    }
   },
   "source": [
    "При вызове этих команд произошло приблизительно следующее. Был создан рисунок (Figure). В нем была создана одна область рисования (Axes).  На эту область были помещены оси X и Y (Axis) и 10 синих прямоугольников (Rectangle) 4 из которых нулевой высоты. После этого у объекта рисунка вызвали методы savefig и show."
   ]
  },
  {
   "cell_type": "markdown",
   "metadata": {
    "slideshow": {
     "slide_type": "slide"
    }
   },
   "source": [
    "### 2. Основные функции модуля matplotlib.pyplot"
   ]
  },
  {
   "cell_type": "markdown",
   "metadata": {
    "slideshow": {
     "slide_type": "-"
    }
   },
   "source": [
    "Далее мы перечислим самые часто используемые функции из модуля matplotlib.pyplot. Примеры будут минималистичны, все настройки будут по умолчанию."
   ]
  },
  {
   "cell_type": "markdown",
   "metadata": {},
   "source": [
    "#### 2.1 Примитивы"
   ]
  },
  {
   "cell_type": "code",
   "execution_count": null,
   "metadata": {
    "slideshow": {
     "slide_type": "subslide"
    }
   },
   "outputs": [],
   "source": [
    "# Точки (aka scatter plot) \n",
    "plt.scatter(\n",
    "    np.random.rand(10),  # абсциссы точек\n",
    "    np.random.rand(10)  # ординаты точек\n",
    ")\n",
    "plt.show()"
   ]
  },
  {
   "cell_type": "code",
   "execution_count": null,
   "metadata": {
    "slideshow": {
     "slide_type": "subslide"
    }
   },
   "outputs": [],
   "source": [
    "#Patches - https://matplotlib.org/3.1.1/api/patches_api.html\n",
    "\n",
    "import matplotlib.patches as mpatches\n",
    "\n",
    "figure, ax = plt.subplots(1)\n",
    "\n",
    "rect = mpatches.Rectangle((2,5),5,2, edgecolor='r', facecolor=\"none\")\n",
    "\n",
    "ax.scatter(\n",
    "    np.random.rand(10) * 10,  # абсциссы точек\n",
    "    np.random.rand(10) * 10  # ординаты точек\n",
    ")\n",
    "\n",
    "ax.add_patch(rect)\n",
    "\n",
    "plt.show()"
   ]
  },
  {
   "cell_type": "code",
   "execution_count": null,
   "metadata": {
    "slideshow": {
     "slide_type": "subslide"
    }
   },
   "outputs": [],
   "source": [
    "# Ломаная линия\n",
    "plt.plot(\n",
    "    np.arange(100),  # абсциссы точек\n",
    "    np.sin(np.arange(100))  # ординаты точек\n",
    ")\n",
    "plt.show()"
   ]
  },
  {
   "cell_type": "code",
   "execution_count": null,
   "metadata": {
    "slideshow": {
     "slide_type": "subslide"
    }
   },
   "outputs": [],
   "source": [
    "# Текст\n",
    "plt.text(\n",
    "    0.5,  # Абсцисса начала текста в координатах графика\n",
    "    0.5,  # Ордината начала текста в координатах графика\n",
    "    'Billboard spot'  # собственно ваш текст\n",
    ")\n",
    "plt.show()"
   ]
  },
  {
   "cell_type": "markdown",
   "metadata": {
    "slideshow": {
     "slide_type": "slide"
    }
   },
   "source": [
    "#### 2.2. Диаграммы"
   ]
  },
  {
   "cell_type": "code",
   "execution_count": null,
   "metadata": {
    "slideshow": {
     "slide_type": "subslide"
    }
   },
   "outputs": [],
   "source": [
    "# Столбцовая диаграмма\n",
    "plt.bar(\n",
    "    np.arange(10) ** 2,  # Позиции столбцов\n",
    "    np.random.randint(low=0, high=10, size=10)  # Высоты столбцов\n",
    ")\n",
    "plt.show()"
   ]
  },
  {
   "cell_type": "code",
   "execution_count": null,
   "metadata": {
    "slideshow": {
     "slide_type": "subslide"
    }
   },
   "outputs": [],
   "source": [
    "# Гистограмма\n",
    "plt.hist(np.random.randint(low=0, high=5, size=20))\n",
    "plt.show()"
   ]
  },
  {
   "cell_type": "code",
   "execution_count": null,
   "metadata": {
    "slideshow": {
     "slide_type": "subslide"
    }
   },
   "outputs": [],
   "source": [
    "#  Круговая диаграмма\n",
    "plt.pie(\n",
    "    np.arange(1, 11),\n",
    "    labels=list(map(str, range(1,11)))\n",
    ")\n",
    "plt.show()"
   ]
  },
  {
   "cell_type": "code",
   "execution_count": null,
   "metadata": {
    "slideshow": {
     "slide_type": "subslide"
    }
   },
   "outputs": [],
   "source": [
    "# Ящик с усами.\n",
    "# Каждый ящик показывает диапазон от 25 до 75 квантили в значениях, а усы - максимум и минимум в значениях\n",
    "plt.boxplot(\n",
    "    [\n",
    "        np.random.randint(low=-i, high=i, size=20) # Значения по которым строится ящик №i\n",
    "        for i in range(1, 11)\n",
    "    ]\n",
    ")\n",
    "plt.show()"
   ]
  },
  {
   "cell_type": "code",
   "execution_count": null,
   "metadata": {
    "slideshow": {
     "slide_type": "subslide"
    }
   },
   "outputs": [],
   "source": [
    "# Усы. В каждой точке графика откладываются ошибки измерений по абсциссе и ординате\n",
    "plt.errorbar(\n",
    "    np.arange(20),  # абсциссы точек \n",
    "    np.random.randint(low=0, high=10, size=20),  # ординаты точек  \n",
    "    xerr=np.random.rand(20),  # ошибки расположения каждой точки по оси x\n",
    "    yerr=np.random.rand(20)  # ошибки расположения каждой точки по оси y\n",
    ")\n",
    "plt.show()"
   ]
  },
  {
   "cell_type": "markdown",
   "metadata": {
    "slideshow": {
     "slide_type": "slide"
    }
   },
   "source": [
    "#### 2.3. Отображения"
   ]
  },
  {
   "cell_type": "code",
   "execution_count": null,
   "metadata": {
    "slideshow": {
     "slide_type": "subslide"
    }
   },
   "outputs": [],
   "source": [
    "# Цветовое представление двумерного массива\n",
    "# Построить цветовую карту\n",
    "color_map = plt.pcolormesh(\n",
    "    np.sin(np.outer(np.arange(20), np.arange(20)))  # двумерный массив значений\n",
    ")\n",
    "# Добавить к ней столбец с объяснением соответствия между цветом и величиной хранимой в массиве\n",
    "plt.colorbar(color_map)\n",
    "plt.show()\n",
    "del color_map"
   ]
  },
  {
   "cell_type": "code",
   "execution_count": null,
   "metadata": {
    "slideshow": {
     "slide_type": "subslide"
    }
   },
   "outputs": [],
   "source": [
    "# Цветовое представление двумерного массива\n",
    "# Построить цветовую карту\n",
    "color_map = plt.imshow(\n",
    "    np.random.normal(size=(10,10,3))  # рандомное RGB - изображение, цветовые каналы представлены числaми из [0,1]\n",
    ")\n",
    "# Добавить к ней столбец с объяснением соответствия между цветом и величиной хранимой в массиве\n",
    "plt.colorbar(color_map)\n",
    "plt.show()\n",
    "del color_map"
   ]
  },
  {
   "cell_type": "markdown",
   "metadata": {
    "slideshow": {
     "slide_type": "subslide"
    }
   },
   "source": [
    "А в чём разница?\n",
    "\n",
    "== https://stackoverflow.com/questions/21166679/when-to-use-imshow-over-pcolormesh"
   ]
  },
  {
   "cell_type": "markdown",
   "metadata": {
    "slideshow": {
     "slide_type": "slide"
    }
   },
   "source": [
    "#### 2.4. Контурные рисунки"
   ]
  },
  {
   "cell_type": "code",
   "execution_count": null,
   "metadata": {
    "slideshow": {
     "slide_type": "subslide"
    }
   },
   "outputs": [],
   "source": [
    "# Строим контурное изображение\n",
    "contours = plt.contour(\n",
    "    np.cos(  # Возьмем чтобы было весело\n",
    "        np.outer(  # умножаем колонку на столбец чтобы получить матрицу\n",
    "            np.linspace(start=0, stop=20, num=40),  # сгенерировать равномерную сетку из 40 точек на отрезке [0, 20]\n",
    "            np.linspace(start=0, stop=20, num=40)\n",
    "        )\n",
    "    )\n",
    ")\n",
    "# Добавляем шкалу\n",
    "plt.colorbar(contours)\n",
    "plt.show()"
   ]
  },
  {
   "cell_type": "code",
   "execution_count": null,
   "metadata": {
    "slideshow": {
     "slide_type": "subslide"
    }
   },
   "outputs": [],
   "source": [
    "# Строим контурное изображение c заливкой\n",
    "contours = plt.contourf(\n",
    "    np.cos(\n",
    "        np.outer(\n",
    "            np.linspace(start=0, stop=20, num=40),\n",
    "            np.linspace(start=0, stop=20, num=40)\n",
    "        )\n",
    "    )\n",
    ")\n",
    "# Добавляем шкалу\n",
    "plt.colorbar(contours)\n",
    "plt.show()\n",
    "del contours"
   ]
  },
  {
   "cell_type": "markdown",
   "metadata": {
    "slideshow": {
     "slide_type": "slide"
    }
   },
   "source": [
    "#### 2.5. Заливка"
   ]
  },
  {
   "cell_type": "code",
   "execution_count": null,
   "metadata": {
    "slideshow": {
     "slide_type": "subslide"
    }
   },
   "outputs": [],
   "source": [
    "# Простейшая заливка - заливается область между графиком функции и осью абсцисс\n",
    "plt.fill(\n",
    "    np.linspace(start=0, stop=2*np.pi, num=100),  # абсциссы точек\n",
    "    np.sin(np.linspace(start=0, stop=2*np.pi, num=100))  # ординаты точек\n",
    ")\n",
    "plt.show()"
   ]
  },
  {
   "cell_type": "code",
   "execution_count": null,
   "metadata": {
    "slideshow": {
     "slide_type": "subslide"
    }
   },
   "outputs": [],
   "source": [
    "# Заливка между двумя графиками функций\n",
    "plt.fill_between(\n",
    "    np.linspace(0, 5, 100),  # абсциссы точек\n",
    "    np.linspace(0, 5, 100) ** 2,  # ординаты первой кривой \n",
    "    np.linspace(0, 5, 100) * 4  # ординаты второй кривой\n",
    ")\n",
    "plt.show()"
   ]
  },
  {
   "cell_type": "code",
   "execution_count": null,
   "metadata": {
    "slideshow": {
     "slide_type": "subslide"
    }
   },
   "outputs": [],
   "source": [
    "# Заливка между двумя графиками функций\n",
    "plt.fill_betweenx(\n",
    "    np.linspace(0, 5, 100),  # ОРДИНАТЫ точек\n",
    "    np.linspace(0, 5, 100) ** 2,  # АБСЦИССЫ первой кривой \n",
    "    np.linspace(0, 5, 100) * 4  # АБСЦИССЫ второй кривой\n",
    ")\n",
    "plt.show()"
   ]
  },
  {
   "cell_type": "markdown",
   "metadata": {
    "slideshow": {
     "slide_type": "slide"
    }
   },
   "source": [
    "#### 2.5 Векторные диаграммы"
   ]
  },
  {
   "cell_type": "code",
   "execution_count": null,
   "metadata": {
    "slideshow": {
     "slide_type": "subslide"
    }
   },
   "outputs": [],
   "source": [
    "# Векторный поток\n",
    "# Готовим координатную сетку\n",
    "n_points = 1000\n",
    "x = np.linspace(-2*np.pi, 2*np.pi, n_points)\n",
    "y = np.linspace(-2*np.pi, 2*np.pi, n_points)\n",
    "# Координаты векторов в координатной сетке\n",
    "vx, vy = np.meshgrid(np.sin(x), np.cos(y))\n",
    "plt.streamplot(x, y, vx, vy)\n",
    "plt.show()\n",
    "del n_points, x, y, vx, vy"
   ]
  },
  {
   "cell_type": "code",
   "execution_count": null,
   "metadata": {
    "slideshow": {
     "slide_type": "subslide"
    }
   },
   "outputs": [],
   "source": [
    "# Векторное поле\n",
    "# Готовим координатную сетку\n",
    "n_points = 10\n",
    "x = np.linspace(-2*np.pi, 2*np.pi, n_points)\n",
    "y = np.linspace(-2*np.pi, 2*np.pi, n_points)\n",
    "# Координаты векторов в координатной сетке\n",
    "vx, vy = np.meshgrid(np.sin(x), np.cos(y))\n",
    "plt.quiver(vx, vy)\n",
    "plt.show()\n",
    "del n_points, x, y, vx, vy"
   ]
  },
  {
   "cell_type": "markdown",
   "metadata": {
    "slideshow": {
     "slide_type": "subslide"
    }
   },
   "source": [
    "Ну что же, это было краткое введение. Его достаточно для рисования большинства графиков, но это конечно же не все, что может matplotlib. Так что советую продолжить чтение."
   ]
  },
  {
   "cell_type": "markdown",
   "metadata": {
    "slideshow": {
     "slide_type": "slide"
    }
   },
   "source": [
    "### 2.2. Сложные примеры"
   ]
  },
  {
   "cell_type": "markdown",
   "metadata": {},
   "source": [
    "#### 2.2.1. Работа с текстом"
   ]
  },
  {
   "cell_type": "markdown",
   "metadata": {
    "slideshow": {
     "slide_type": "subslide"
    }
   },
   "source": [
    "Разберем пример показывающий какие элементы рисунка могут быть на области рисования и какие у них могут быть настройки. Мы нарисуем рисунок на котором будет\n",
    " - одна область рисования\n",
    " - заголовок рисунка\n",
    " - заголовок графика\n",
    " - график функции $\\cos(x^2)$\n",
    " - аннотация\n",
    " - текст в рамке\n",
    " - подписи к осям X и Y\n",
    " - легенда\n",
    " - координатная сетка\n",
    " \n",
    "Все именованные параметры функций являются опциональными. Поудаляйте их чтобы увидеть как по умолчанию отображаются эти элементы."
   ]
  },
  {
   "cell_type": "code",
   "execution_count": null,
   "metadata": {
    "slideshow": {
     "slide_type": "subslide"
    }
   },
   "outputs": [],
   "source": [
    "#  Генерируем данные\n",
    "step = 0.01\n",
    "# создать массив чисел от 0 до 2pi с шагом 0.01\n",
    "x = np.arange(0.0, 2*np.pi + step, step)\n",
    "#  посчитать cos(x^2) от полученной сетки x'ов\n",
    "y = np.cos(x * x)\n",
    "\n",
    "# Создать рисунок \n",
    "fig = plt.figure(\n",
    "    figsize=(16, 9),  # размером 16 на 9 дюймов\n",
    "    facecolor='whitesmoke',  # c подложкой цвета белый дым\n",
    "    dpi=200  # разрешением 200 точек\n",
    ")\n",
    "\n",
    "# Добавить заголовок рисунка с 30-м шрифтом\n",
    "plt.suptitle('This is a title for the whole figure', fontsize=30)\n",
    "\n",
    "# Добавить заголовок графика\n",
    "plt.title('This is a title for our plot', fontsize=20)\n",
    "\n",
    "# Нарисовать cos(x^2)\n",
    "plt.plot(\n",
    "    x, y,\n",
    "    color='red',  # Цвет пурпурный\n",
    "    linestyle='--',  # Стиль - пунктирная линия\n",
    "    alpha=0.4,  # Непрозрачность\n",
    "    linewidth=10,  # Толщина\n",
    "    label='This is a legend for graph of $\\cos(x^2)$' # Подпись в легенде. Можно использовать TeX!\n",
    ")\n",
    "\n",
    "# Добавим аннотацию\n",
    "plt.annotate(\n",
    "    'This is an annotation\\n for $\\cos(x^2)$ with fancy arrow\\n pointing at grpah',\n",
    "    xy=(1.15, -0.25),  #  точка куда будет указывать стрелка\n",
    "    arrowprops=dict(arrowstyle='fancy'),\n",
    "    xytext=(0, -0.5)  # расположение аннотации\n",
    ")\n",
    "\n",
    "# Поставить легенду\n",
    "plt.legend(\n",
    "    loc='lower left',  # Снизу слева\n",
    "    borderaxespad=5  # С отступом 5 от осей\n",
    ")\n",
    "\n",
    "# Добавить подписи к осям X и Y\n",
    "plt.xlabel(\n",
    "    'This is an X axis label',  # Текст\n",
    "    fontdict=dict(family='serif', color='darkred', weight='normal', size=16)  # Настройки шрифта\n",
    ")\n",
    "plt.ylabel(\n",
    "    'This is a Y axis label',\n",
    "    fontdict=dict(family='monospace', color='peru', weight='light', size=25)\n",
    ")\n",
    "\n",
    "# Добавить текст\n",
    "plt.text(\n",
    "    2.0, 0.2,  # Позиция начала текста\n",
    "    'This is a custom text',  # Собственно сам текст\n",
    "    fontsize=26,  # Размер шрифта\n",
    "    color='firebrick',  # Цвет букв\n",
    "    rotation=20,\n",
    "    bbox=dict(  # Параметры рамки ограничивающей текст\n",
    "        alpha=0.4, # Прозрачность фона рамки\n",
    "        edgecolor='slateblue',  # цвет рамки\n",
    "        facecolor='azure',  # цвет подложки\n",
    "        pad=1., # отступ рамки от текст\n",
    "        boxstyle='round'  # форма рамки\n",
    "    )\n",
    ")\n",
    "\n",
    "# Добавить координатную сетку\n",
    "# Получающиеся вертикальные линии это Xticks, а горизонтальные Yticks\n",
    "plt.grid(True)\n",
    "\n",
    "plt.show()\n",
    "del step, x, y, fig"
   ]
  },
  {
   "cell_type": "markdown",
   "metadata": {
    "slideshow": {
     "slide_type": "slide"
    }
   },
   "source": [
    "#### 2.2.2. Полярные координаты"
   ]
  },
  {
   "cell_type": "markdown",
   "metadata": {},
   "source": [
    "Область рисования может быть непрямоугольной, напрмер если вы используете полярные координаты. В этом случае вам придется самостоятельно создать область рисования. Мы создадим ее методом add_axes указав размеры прямоугольника в котором будет находится область рисования. Тут стоит сказать, что на рисунке действуют относительные координаты, в диапазоне от 0 до 1. В этом примере мы будем использовать более объектно ориентированный подход и будем вызывать методы объектов, а не функции модуля plt. Использовать функции модуля plt считается плохим тоном так как вы постоянно оперируете глобальным состоянием к которому еще и не имеете доступа."
   ]
  },
  {
   "cell_type": "code",
   "execution_count": null,
   "metadata": {
    "scrolled": false,
    "slideshow": {
     "slide_type": "subslide"
    }
   },
   "outputs": [],
   "source": [
    "# Готовим данные\n",
    "step = 0.01\n",
    "phi = np.arange(0.0, 2*np.pi + step, step)\n",
    "rho1 = np.cos(8 * phi)\n",
    "rho2 = np.sin(4 * phi)\n",
    "\n",
    "fig = plt.figure(figsize=(16, 9))\n",
    "# Создать область рисования для полярных координат с подложкой цвета слоновой кости :)\n",
    "# Левый нижний угол будет в точке (0,0)\n",
    "# Ширина и высота соответственно 1 и 1 (то есть на весь рисунок)\n",
    "ax = fig.add_axes([0,0,1,1], polar=True, facecolor='ivory')\n",
    "\n",
    "ax.set_title('Polar plots', fontsize=20)\n",
    "\n",
    "ax.plot(\n",
    "    phi, rho1,\n",
    "    color='orange', \n",
    "    marker='o',  # Добавить круглые метки в тех точках по которым строилась линия\n",
    "    markersize=3,  #  Размер меток\n",
    "    label='$\\cos(8x)$'\n",
    ")\n",
    "\n",
    "ax.plot(\n",
    "    phi, rho2,\n",
    "    linewidth=5,\n",
    "    color='olive',\n",
    "    label='$\\sin(4x)$'\n",
    ")\n",
    "\n",
    "# Раз мы указали label, то надо сделать легенду\n",
    "ax.legend(\n",
    "    bbox_to_anchor=(1.2, 0.54),  # кастомное положение легенды\n",
    "    fancybox=True,\n",
    "    shadow=True\n",
    ")\n",
    "\n",
    "ax.grid(True)\n",
    "\n",
    "plt.show()\n",
    "del step, phi, rho1, rho2, fig, ax"
   ]
  },
  {
   "cell_type": "markdown",
   "metadata": {
    "slideshow": {
     "slide_type": "slide"
    }
   },
   "source": [
    "#### 2.2.3. Разные типы графиков на одном рисунке"
   ]
  },
  {
   "cell_type": "markdown",
   "metadata": {},
   "source": [
    "Мы нарисуем \n",
    " - набор случайных измерений функци $cos(x)$ к которому добавив белый шум с нулевым средним и дисперсией 0.25\n",
    " - собственно график cos(x)\n",
    " - и область в которой лежат изменения отстоящие не более чем на 1 сигму"
   ]
  },
  {
   "cell_type": "code",
   "execution_count": null,
   "metadata": {
    "slideshow": {
     "slide_type": "subslide"
    }
   },
   "outputs": [],
   "source": [
    "# Готовим данные\n",
    "scale = 0.5\n",
    "n_points = 100\n",
    "x = 2 * np.pi * np.sort(np.random.rand(100))\n",
    "y = np.cos(x)\n",
    "y_noise = y + np.random.normal(scale=0.25, size=n_points)\n",
    "\n",
    "# Готовим рисунок\n",
    "fig = plt.figure(figsize=(16, 9))\n",
    "# Готовим область рисования.\n",
    "ax = fig.add_axes([0, 0, 1, 1])  \n",
    "\n",
    "# Собственно scatter plot\n",
    "ax.scatter(\n",
    "    x, y_noise,\n",
    "    marker='^',  # Отмечаем точки треугольниками\n",
    "    s=50,  # Размера 50\n",
    "    color='red'  #  Красного цвета\n",
    ")\n",
    "\n",
    "# График самой функции cos(x)\n",
    "ax.plot(\n",
    "    x, y,\n",
    "    color='grey',\n",
    "    linestyle='--',\n",
    "    alpha=0.5,\n",
    "    linewidth=4\n",
    ")\n",
    "\n",
    "# Графики отклоненний на 1 сигму\n",
    "for shift in (scale, -scale):\n",
    "    ax.plot(\n",
    "        x, y + shift,\n",
    "        alpha=0.5,\n",
    "        color='darkgrey',\n",
    "        linewidth=6\n",
    "    )\n",
    "\n",
    "# Сделаем заливку всего что находится между отклонениями\n",
    "ax.fill_between(\n",
    "    x, y - scale, y + scale,\n",
    "    alpha=0.5,\n",
    "    color='lightgrey',\n",
    ")\n",
    "\n",
    "# Подпишем оси\n",
    "ax.set_xlabel('Uniformly random input: x', fontsize=15)\n",
    "ax.set_ylabel('Readout: $y=cos(x)+\\mathbf{noise}$', fontsize=15)\n",
    "    \n",
    "ax.grid(True)\n",
    "\n",
    "plt.show()\n",
    "del scale, n_points, x, y, y_noise, fig, ax"
   ]
  },
  {
   "cell_type": "markdown",
   "metadata": {
    "slideshow": {
     "slide_type": "subslide"
    }
   },
   "source": [
    "Как вы видели по последним примерам большая часть рисования происходит через работу с областью рисования (Axes). Этот объект-контейнер содержит в себе другие контейнеры и объекты-примитивы. Видно, что существует множество методов для создания и изменения свойств элементов рисунков и графических примитивов. Всё, что можно сделать через pyplot, можно сделать работая непосредственно с axes-экземплярами. Получаются такие соответствия:\n",
    "\n",
    "Метод объекта Axes -> Краткое описание -> объект типа Artist создаваемый методом -> Контейнер в котором будет храниться Artist\n",
    "\n",
    "    ax.annotate -> текстовая подпись -> Annotate -> ax.texts\n",
    "\n",
    "    ax.text -> текст -> Text -> ax.texts\n",
    "\n",
    "    ax.bar -> столбчатая диаграмма -> Rectangle -> ax.patches\n",
    "\n",
    "    ax.errorbar -> график погрешностей -> Line2D и Rectangle -> ax.lines и ax.patches\n",
    "\n",
    "    ax.fill -> заливка области -> Polygon -> ax.patches\n",
    "\n",
    "    ax.hist -> гистограмма -> Rectangle -> ax.patches\n",
    "\n",
    "    ax.imshow -> изображение -> AxesImage -> ax.images\n",
    "\n",
    "    ax.legend -> легенда -> Legend -> ax.legends\n",
    "\n",
    "    ax.plot -> XY график -> Line2D -> ax.lines\n",
    "\n",
    "    ax.scatter -> точечная диаграмма -> PolygonCollection -> ax.collections\n"
   ]
  },
  {
   "cell_type": "markdown",
   "metadata": {
    "slideshow": {
     "slide_type": "slide"
    }
   },
   "source": [
    "#### 2.2.4. Несколько областей рисования"
   ]
  },
  {
   "cell_type": "markdown",
   "metadata": {},
   "source": [
    "Зачастую необходимо расположить несколько областей на одном графике. Для этого надо создать несколько областей рисования и работать с каждой в отдельности. В следующем примере мы нарисуем график функции $x^2(2+\\sin(1/x))$ и добавим еще одну область рисования для самой интересной части графика"
   ]
  },
  {
   "cell_type": "code",
   "execution_count": null,
   "metadata": {
    "scrolled": false,
    "slideshow": {
     "slide_type": "subslide"
    }
   },
   "outputs": [],
   "source": [
    "def crazy_func(x):\n",
    "    return x * x * (2+np.sin(1/x))\n",
    "\n",
    "fig = plt.figure(figsize=(16, 9))\n",
    "\n",
    "fig.suptitle('A crazy function example')\n",
    "\n",
    "# Нарисуем основной график\n",
    "big_ax = fig.add_axes([0, 0, 1, 0.9])\n",
    "big_ax.plot(\n",
    "    np.linspace(0.001, 1, 1000),\n",
    "    np.apply_along_axis(crazy_func, 0, np.linspace(0.001, 1, 1000)),\n",
    "    label='$x^2(2+\\sin(1/x))$'\n",
    ")\n",
    "big_ax.text(\n",
    "    0, 2.5,\n",
    "    '''\n",
    "    This function is differentiable at 0, has global minimum there and \n",
    "    infinitely many local minima and maxima in the neighbourhood\n",
    "    '''\n",
    ")\n",
    "\n",
    "big_ax.legend(bbox_to_anchor=(0.2, 0.54))\n",
    "big_ax.grid(True)\n",
    "\n",
    "# Нарисуем вспомогательный график\n",
    "small_ax = fig.add_axes([0.5, 0.1, 0.4, 0.6])\n",
    "small_ax.plot(\n",
    "    np.linspace(0.001, 0.1, 1000),\n",
    "    np.apply_along_axis(crazy_func, 0, np.linspace(0.001, 0.1, 1000))\n",
    ")\n",
    "small_ax.grid(True)\n",
    "\n",
    "\n",
    "plt.show()\n",
    "del crazy_func, fig, big_ax, small_ax"
   ]
  },
  {
   "cell_type": "markdown",
   "metadata": {
    "slideshow": {
     "slide_type": "slide"
    }
   },
   "source": [
    "#### 2.2.5. Мультиокна"
   ]
  },
  {
   "cell_type": "markdown",
   "metadata": {},
   "source": [
    "В предыдущем примере мы создали две области рисования, но их расположение пришлось задавать явно с помощью координат. В большинстве случаев такой точный уровень настройки не нужен. Для этого в matplotlib существуют мультиокна. Во многом они похожи на области рисования. Создавать их можно из объекта Figure с помощью метода add_subplots. \n",
    "\n",
    "При использовании метода add_subplots рисунок разбивается как таблица на некоторое число строк и столбцов. Возникающие ячейки нигде не рисуются - это удобная абстракция. Далее можно выбрать одну из этих ячеек, и рисовать в ней. Чтобы сделать это надо в функцию subplots передать три числа или трехзначное число. Первая цифра указывает количество строк, вторая - столбцов, третья - порядковый номер ячейки в которой вы хотите рисовать (нумерация начинается с 1 идет слева направо и сверху вниз). Например, вызов fig.add_subplots(3, 3, 7) разобъет рисунок на 9 равных частей и вернет вам ячейку из нижнего левого угла. \n",
    "\n",
    "Преимущество подхода в том, что вы получаете области рисования одинакового размера не задумываясь о том какие должны быть у них координаты."
   ]
  },
  {
   "cell_type": "code",
   "execution_count": null,
   "metadata": {
    "slideshow": {
     "slide_type": "subslide"
    }
   },
   "outputs": [],
   "source": [
    "# Готовим данные\n",
    "t = np.linspace(0, 2*np.pi, 1000)\n",
    "\n",
    "# Здесь все как обычно\n",
    "fig = plt.figure(figsize=(16, 9))\n",
    "fig.suptitle('Lissajous figures')\n",
    "\n",
    "nrows = 4\n",
    "ncols = 4\n",
    "\n",
    "for a in range(1, nrows + 1):\n",
    "    for b in range(1, ncols + 1):\n",
    "        # Выбираем ячейку\n",
    "        ax = fig.add_subplot(nrows, ncols, (a - 1) * ncols + b)\n",
    "        # Рисуем кривую Лиссажу\n",
    "        ax.plot(\n",
    "            np.cos(a*t),\n",
    "            np.sin(b*t),\n",
    "        )\n",
    "        # Обираем оси координат (они только засоряют рисунок)\n",
    "        ax.set_axis_off()\n",
    "        # Делаем подписи\n",
    "        ax.set_title('a={}, b={}'.format(a, b))\n",
    "\n",
    "plt.show()"
   ]
  },
  {
   "cell_type": "markdown",
   "metadata": {
    "slideshow": {
     "slide_type": "subslide"
    }
   },
   "source": [
    "#### А теперь, как это удобно делать:"
   ]
  },
  {
   "cell_type": "code",
   "execution_count": null,
   "metadata": {},
   "outputs": [],
   "source": [
    "t = np.linspace(0, 2*np.pi, 1000)\n",
    "\n",
    "figure, axes = plt.subplots(4,4, figsize=(10,5))\n",
    "\n",
    "nrows = 4\n",
    "ncols = 4\n",
    "\n",
    "for a in range(nrows):\n",
    "    for b in range(ncols):\n",
    "        # Выбираем ячейку\n",
    "        ax = axes[a][b]\n",
    "        # Рисуем кривую Лиссажу\n",
    "        ax.plot(\n",
    "            np.cos((a+1)*t),\n",
    "            np.sin((b+1)*t),\n",
    "        )\n",
    "        # Обираем оси координат (они только засоряют рисунок)\n",
    "        ax.set_axis_off()\n",
    "        # Делаем подписи\n",
    "        ax.set_title('a={}, b={}'.format(a+1, b+1))\n",
    "\n",
    "plt.show()"
   ]
  },
  {
   "cell_type": "markdown",
   "metadata": {
    "slideshow": {
     "slide_type": "subslide"
    }
   },
   "source": [
    "Иногда хочется собрать несколько графиков на одном рисунке, но их размеры должны отличаться. Для этого надо использовать объект GridSpec. "
   ]
  },
  {
   "cell_type": "code",
   "execution_count": null,
   "metadata": {
    "slideshow": {
     "slide_type": "subslide"
    }
   },
   "outputs": [],
   "source": [
    "from matplotlib import gridspec  # GridSpec определен там\n",
    "\n",
    "# Создаем картинку\n",
    "fig = plt.figure(figsize=(16, 9))\n",
    "fig.suptitle('Zoo of hyperbolic functions', fontsize=20)\n",
    "\n",
    "# Создаем \"спеку\"\n",
    "spec = gridspec.GridSpec(nrows=3, ncols=4)\n",
    "# В метод add_suplot можно передать slicing от спеки. \n",
    "# Тем самым создастся область рисования занимающая ячейки соответствующие slicing'у \n",
    "fig.add_subplot(spec[0, :3])  # Добавить область рисования занимающую первые три ячейки первой строки\n",
    "fig.add_subplot(spec[:2, 3])\n",
    "fig.add_subplot(spec[2, 1:])\n",
    "fig.add_subplot(spec[1:, 0])\n",
    "fig.add_subplot(spec[1, 1:3])\n",
    "\n",
    "trig_funcs = [np.sinh, np.tanh, np.cosh, np.arcsinh, np.arccosh]\n",
    "points = np.linspace(-2, 2, 100)\n",
    "\n",
    "for ax, func in zip(fig.axes, trig_funcs):\n",
    "    ax.plot(\n",
    "        points,\n",
    "        func(points),\n",
    "        label='{}(x)'.format(func.__name__)\n",
    "    )\n",
    "    # Выбрать самое \"хорошее\" расположение для легенды\n",
    "    ax.legend(loc='best')\n",
    "    ax.grid(True)\n",
    "\n",
    "plt.show()\n",
    "del fig, spec, ax, func"
   ]
  },
  {
   "cell_type": "markdown",
   "metadata": {
    "slideshow": {
     "slide_type": "slide"
    }
   },
   "source": [
    "#### 2.2.6. Координатные оси"
   ]
  },
  {
   "cell_type": "markdown",
   "metadata": {},
   "source": [
    "В matplotlib оси координат являются элементом рисунка, а точнее контейнером типа Artist. Примеры - оси $x$, $y$ в декартовой системе координат, оси $r$, $\\phi$ в полярной системе координат. Каждая ось содержит три группы графических примитивов: деления осей (ticks), подписи делений (tick lables), подписи осей (axis labels).\n",
    "\n",
    "Деления на оси бывают главные и вспомогательные. Чтобы получить к ним доступ надо в методе get_ticks в аргумент which передавать 'major' или 'minor'. По умолчанию отображаются только major деления."
   ]
  },
  {
   "cell_type": "code",
   "execution_count": null,
   "metadata": {
    "slideshow": {
     "slide_type": "subslide"
    }
   },
   "outputs": [],
   "source": [
    "fig = plt.figure(figsize=(16, 9))\n",
    "# Здесь мы создаем мультиокно из 1 строки и 1 столбца  выбираем 1-ю ячейку\n",
    "# Такой вот странный и часто используемый способ создать область рисования\n",
    "ax = fig.add_subplot(111)\n",
    "ax.set_title('Process of studying matplotlib', fontsize=25, color='cadetblue')\n",
    "\n",
    "# Здесь все как обычно - рисуем линию\n",
    "ax.plot(\n",
    "    np.arange(70),\n",
    "    2 - np.exp(0.01 * np.arange(70)),\n",
    "    color='teal'\n",
    ")\n",
    "\n",
    "# Задаем положения вспомогательных делений на оси Х\n",
    "ax.set_xticks(np.arange(5, 85, 10), minor=True)\n",
    "# Задаем положения основных делений\n",
    "ax.set_xticks(np.arange(0, 80, 10))\n",
    "# Задаем диапазон значений x который будет отрисовываться. Обынчно он шире диапазона делений\n",
    "ax.set_xlim(0, 80)\n",
    "# Ставим подписи к основным делениям на оси x\n",
    "ax.set_xticklabels(\n",
    "    ['{} mins'.format(t) for t in range(0, 80, 10)],  # текст надписей\n",
    "    rotation=45,  # угол поворота надписей\n",
    "    fontsize=15,\n",
    "    color='cadetblue'\n",
    ")\n",
    "# Настраиваем параметры основных делений на оси X\n",
    "ax.tick_params(\n",
    "    axis='x',  \n",
    "    which='major',\n",
    "    direction='inout', # деления будут пересекать ось \n",
    "    length=20,  # длина делений в точках\n",
    "    width=5,  # ширина делений в точках\n",
    "    color='powderblue',\n",
    "    top=False, bottom=True,  # рисуем делениями только снизу\n",
    "    labeltop='off', labelbottom='on'  # рисуем подписи к делениям только снизу\n",
    ")\n",
    "\n",
    "# Для оси Y все настройки аналогичны\n",
    "ax.set_yticks(np.arange(0.1, 1, 0.2), minor=True)\n",
    "ax.set_yticks(np.arange(0, 1.1, 0.2))\n",
    "ax.set_ylim(-0.2, 1.2)\n",
    "ax.set_yticklabels(\n",
    "    ['Leave me alone', 'I don\\'t give a damn', 'Indifference', 'Interest', 'Inquisitiveness', 'Pure excitement'],\n",
    "    fontsize=15,\n",
    "    color='cadetblue'\n",
    ")\n",
    "ax.tick_params(\n",
    "    axis='y', which='major',\n",
    "    direction='in',\n",
    "    length=20, width=5, color='powderblue',\n",
    "    left=True, right=True,\n",
    "    labelleft='on', labelright='on'\n",
    ")\n",
    "\n",
    "# Делаем подписи к осям\n",
    "ax.set_xlabel('Duration', color='teal', fontsize=20)\n",
    "ax.set_ylabel('Motivation', color='teal', fontsize=20)\n",
    "\n",
    "# Для основных делений оси x мы строим координатную сетку пунктирной линией\n",
    "ax.grid(True, axis='x', which='major', color='dimgrey', linestyle='--')\n",
    "# Для вспомогательных делений оси x мы строим координатную сетку сплошной линией более тусклого цвета\n",
    "ax.grid(True, axis='x', which='minor', color='lightgrey', linestyle=':')\n",
    "# Аналогично настраиваются параметры для координатной сетки по оси Y\n",
    "ax.grid(True, axis='y', which='major', color='grey', linestyle='-.')\n",
    "ax.grid(True, axis='y', which='minor', color='lightgrey', linestyle='-')\n",
    "\n",
    "plt.show()"
   ]
  },
  {
   "cell_type": "markdown",
   "metadata": {
    "slideshow": {
     "slide_type": "slide"
    }
   },
   "source": [
    "При всем том, что ноутбук получился очень большим, мы не обсудили еще очень много тем: глобальные настройки через rcParams, работа со шрифтами, палитры, специальный дизайн шкалы на температурной карте и т.д. и т.п. Если вам понадобятся такие возможности matplotlib, то пора садиться за [серьезные книжки](http://index-of.co.uk/Tutorials/Matplotlib%20for%20Python%20Developers.pdf) или даже [читать документацию](https://matplotlib.org/index.html)."
   ]
  },
  {
   "cell_type": "markdown",
   "metadata": {},
   "source": [
    "## Галерея примеров - https://matplotlib.org/gallery/index.html"
   ]
  }
 ],
 "metadata": {
  "celltoolbar": "Slideshow",
  "kernelspec": {
   "display_name": "Python 3 (ipykernel)",
   "language": "python",
   "name": "python3"
  },
  "language_info": {
   "codemirror_mode": {
    "name": "ipython",
    "version": 3
   },
   "file_extension": ".py",
   "mimetype": "text/x-python",
   "name": "python",
   "nbconvert_exporter": "python",
   "pygments_lexer": "ipython3",
   "version": "3.9.7"
  }
 },
 "nbformat": 4,
 "nbformat_minor": 2
}
