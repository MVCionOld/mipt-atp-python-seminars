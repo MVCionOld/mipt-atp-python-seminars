{
 "cells": [
  {
   "cell_type": "code",
   "execution_count": null,
   "metadata": {
    "slideshow": {
     "slide_type": "skip"
    }
   },
   "outputs": [],
   "source": [
    "from IPython.core.interactiveshell import InteractiveShell\n",
    "InteractiveShell.ast_node_interactivity = \"all\""
   ]
  },
  {
   "cell_type": "markdown",
   "metadata": {
    "slideshow": {
     "slide_type": "slide"
    }
   },
   "source": [
    "# Семинар №11\n",
    "## Математика\n",
    "  \n",
    "  \n",
    "Сегодня в меню:\n",
    "  * встроенная математика\n",
    "  * numpy\n",
    "  * scipy\n",
    "  * оптимизация кода, сython\n",
    "<img src='http://www.thatcutesite.com/uploads/2011/03/cat_with_calculator-758x569.jpg' width=600>"
   ]
  },
  {
   "cell_type": "markdown",
   "metadata": {},
   "source": [
    "### немного о float"
   ]
  },
  {
   "cell_type": "code",
   "execution_count": null,
   "metadata": {
    "scrolled": true
   },
   "outputs": [],
   "source": [
    "x = float(\"inf\")\n",
    "x > 1000\n",
    "x > 1000 ** 6\n",
    "x > x\n",
    "\n",
    "x == 2 * x\n",
    "1/x\n",
    "x == x ** 2"
   ]
  },
  {
   "cell_type": "code",
   "execution_count": null,
   "metadata": {},
   "outputs": [],
   "source": [
    "x = float(\"-inf\")\n",
    "x < -1000\n",
    "x < -(1000 ** 6)\n",
    "x < x\n",
    "\n",
    "\n",
    "x == 2 * x\n",
    "1/x\n",
    "x ** 2 == float(\"inf\")"
   ]
  },
  {
   "cell_type": "code",
   "execution_count": null,
   "metadata": {},
   "outputs": [],
   "source": [
    "1/0.0"
   ]
  },
  {
   "cell_type": "code",
   "execution_count": null,
   "metadata": {},
   "outputs": [],
   "source": [
    "x = float(\"nan\")\n",
    "print(x)\n",
    "\n",
    "x == 2\n",
    "x == x\n",
    "x > 1\n",
    "x < 1"
   ]
  },
  {
   "cell_type": "markdown",
   "metadata": {},
   "source": [
    "### oкругление: бессмысленное и беспощадное\n",
    "<img src='http://www.whycatwhy.com/wp-content/uploads/2016/03/round-cat-3-768x588.jpg' width=300>"
   ]
  },
  {
   "cell_type": "code",
   "execution_count": null,
   "metadata": {},
   "outputs": [],
   "source": [
    "round(1.23)\n",
    "round(5.84)\n",
    "\n",
    "round(0.16, 1)\n",
    "round(10.72, 1)\n",
    "\n",
    "round(12345, -1)\n",
    "round(34222.2344, -3)"
   ]
  },
  {
   "cell_type": "markdown",
   "metadata": {},
   "source": [
    "Не все так просто: банковское округление!\n",
    "<img src='https://i.imgflip.com/19ga84.jpg' width=400>"
   ]
  },
  {
   "cell_type": "code",
   "execution_count": null,
   "metadata": {},
   "outputs": [],
   "source": [
    "round(2.65, 1)\n",
    "round(2.75, 1)\n",
    "round(2.85, 1)"
   ]
  },
  {
   "cell_type": "markdown",
   "metadata": {},
   "source": [
    "### math   \n",
    "Официальная документация: https://docs.python.org/3.9/library/math.html  \n",
    "На русском: https://pythonworld.ru/moduli/modul-math.html  "
   ]
  },
  {
   "cell_type": "code",
   "execution_count": null,
   "metadata": {},
   "outputs": [],
   "source": [
    "import math\n",
    "\n",
    "math.ceil(1.23)\n",
    "math.ceil(5.84)\n",
    "math.ceil(-2.4)\n",
    "math.ceil(-3.7)\n",
    "\n",
    "math.ceil(12.0)"
   ]
  },
  {
   "cell_type": "code",
   "execution_count": null,
   "metadata": {},
   "outputs": [],
   "source": [
    "math.floor(1.23)\n",
    "math.floor(5.84)\n",
    "math.floor(-2.4)\n",
    "math.floor(-3.7)\n",
    "\n",
    "math.floor(12.0)"
   ]
  },
  {
   "cell_type": "code",
   "execution_count": null,
   "metadata": {},
   "outputs": [],
   "source": [
    "int(1.23)\n",
    "int(5.84)\n",
    "int(-2.4)\n",
    "int(-3.7)\n",
    "\n",
    "int(12)"
   ]
  },
  {
   "cell_type": "code",
   "execution_count": null,
   "metadata": {},
   "outputs": [],
   "source": [
    "abs(3.54)\n",
    "abs(-23.5)\n",
    "\n",
    "abs(-2)\n",
    "math.fabs(-2)"
   ]
  },
  {
   "cell_type": "code",
   "execution_count": null,
   "metadata": {},
   "outputs": [],
   "source": [
    "22 % 5\n",
    "-22 % 7\n",
    "33 % -23\n",
    "\n",
    "12.34 % 2\n",
    "4.76 % 1.311\n",
    "\n",
    "math.fmod(22, 5)\n",
    "math.fmod(-22, 7)\n",
    "math.fmod(33, -23)\n",
    "math.fmod(12.34, 2)\n",
    "math.fmod(4.76, 1.311)"
   ]
  },
  {
   "cell_type": "markdown",
   "metadata": {},
   "source": [
    "### sum vs math.fsum "
   ]
  },
  {
   "cell_type": "code",
   "execution_count": null,
   "metadata": {},
   "outputs": [],
   "source": [
    "arr = [1, 1e100, 1, -1e100]\n",
    "sum(arr)\n",
    "math.fsum(arr)"
   ]
  },
  {
   "cell_type": "markdown",
   "metadata": {},
   "source": [
    "Мораль: для больших массивов разных чисел с плавающей точкой используйте **math.fsum**!  \n",
    "  \n",
    "More: https://code.activestate.com/recipes/393090/"
   ]
  },
  {
   "cell_type": "code",
   "execution_count": null,
   "metadata": {},
   "outputs": [],
   "source": [
    "math.exp(2.4) \n",
    "math.log(2.4) \n",
    "math.log2(2.4) \n",
    "math.log10(2.4) \n",
    "math.pow(2.4, 3.6) "
   ]
  },
  {
   "cell_type": "code",
   "execution_count": null,
   "metadata": {},
   "outputs": [],
   "source": [
    "math.pi\n",
    "math.e\n",
    "math.sqrt(2.4) \n",
    "math.sin(2*math.pi) \n",
    "math.cos(math.pi) \n",
    "math.tan(0) \n",
    "\n",
    "math.asin(0.5) / math.pi\n",
    "math.acos(0.5) / math.pi\n",
    "\n",
    "math.degrees(math.pi) \n",
    "math.radians(60)"
   ]
  },
  {
   "cell_type": "code",
   "execution_count": null,
   "metadata": {},
   "outputs": [],
   "source": [
    "math.gcd(25, 10)\n",
    "math.gcd(24, 35)"
   ]
  },
  {
   "cell_type": "markdown",
   "metadata": {},
   "source": [
    "### numpy\n",
    "http://www.numpy.org/"
   ]
  },
  {
   "cell_type": "code",
   "execution_count": null,
   "metadata": {},
   "outputs": [],
   "source": [
    "import numpy as np\n",
    "\n",
    "vec = np.array([1, 2, 3, 4])\n",
    "vec\n",
    "type(vec)\n",
    "vec.dtype\n",
    "vec.shape\n",
    "vec.size"
   ]
  },
  {
   "cell_type": "code",
   "execution_count": null,
   "metadata": {},
   "outputs": [],
   "source": [
    "mtrx = np.array([[1, None], [3, 4]], dtype=float)\n",
    "mtrx\n",
    "type(mtrx)\n",
    "mtrx.dtype\n",
    "mtrx.shape\n",
    "mtrx.size"
   ]
  },
  {
   "cell_type": "code",
   "execution_count": null,
   "metadata": {},
   "outputs": [],
   "source": [
    "vec[1] = 5.4\n",
    "vec\n",
    "vec[2] = '6'\n",
    "vec\n",
    "mtrx[0][0] = '12'\n",
    "mtrx\n",
    "mtrx[0][1] = 'abc'"
   ]
  },
  {
   "cell_type": "code",
   "execution_count": null,
   "metadata": {},
   "outputs": [],
   "source": [
    "np.arange(0, 10, 2)\n",
    "np.arange(-1, 1, 1/3)\n",
    "np.linspace(-1, 1, 11)\n",
    "np.logspace(1, 4, 5, base=2)\n",
    "2 ** np.linspace(1, 4, 5)"
   ]
  },
  {
   "cell_type": "code",
   "execution_count": null,
   "metadata": {},
   "outputs": [],
   "source": [
    "np.random.random((4, 5))"
   ]
  },
  {
   "cell_type": "code",
   "execution_count": null,
   "metadata": {},
   "outputs": [],
   "source": [
    "np.mgrid[0:5, 0:5]\n",
    "np.mgrid[0:13:2, 0:25:3]\n",
    "np.mgrid[0:3, 1:4, 2:5]"
   ]
  },
  {
   "cell_type": "code",
   "execution_count": null,
   "metadata": {},
   "outputs": [],
   "source": [
    "np.diag([1,2,3,4])\n",
    "\n",
    "np.diag([1, -1, 1, -1], k=-1)\n",
    "\n",
    "np.diag([[1,2,3],\n",
    "         [4,5,6],\n",
    "         [7,8,9]],k=1)\n",
    "\n",
    "np.zeros((4,3))\n",
    "np.ones((4,3))"
   ]
  },
  {
   "cell_type": "code",
   "execution_count": null,
   "metadata": {},
   "outputs": [],
   "source": [
    "np.arange(16).reshape(4, 4)\n",
    "\n",
    "np.arange(16).reshape(2, 2, 4)\n",
    "\n",
    "np.arange(16).reshape(2, -1)\n",
    "np.arange(16).reshape(-1, 2)\n",
    "\n",
    "np.arange(16).reshape(5, 3)"
   ]
  },
  {
   "cell_type": "code",
   "execution_count": null,
   "metadata": {},
   "outputs": [],
   "source": [
    "mtrx = np.arange(16).reshape(4, -1)\n",
    "mtrx[1:3, -2:]\n",
    "mtrx[:,0]\n",
    "mtrx[::2,0]\n",
    "mtrx[1::2,0]"
   ]
  },
  {
   "cell_type": "code",
   "execution_count": null,
   "metadata": {},
   "outputs": [],
   "source": [
    "mtrx[[0, 2, 3], :]"
   ]
  },
  {
   "cell_type": "code",
   "execution_count": null,
   "metadata": {},
   "outputs": [],
   "source": [
    "mask = (mtrx % 2 == 0)\n",
    "mask\n",
    "indices = np.where(mask)\n",
    "indices\n",
    "mtrx[indices[0], indices[1]]\n",
    "\n",
    "# Короче\n",
    "mtrx[mtrx % 2 == 0]"
   ]
  },
  {
   "cell_type": "code",
   "execution_count": null,
   "metadata": {},
   "outputs": [],
   "source": [
    "v = np.array([1, 2, 3, 4, 5, 6])\n",
    "\n",
    "v + 2\n",
    "v * 2\n",
    "v / 2\n",
    "v ** 2\n",
    "v * v"
   ]
  },
  {
   "cell_type": "code",
   "execution_count": null,
   "metadata": {},
   "outputs": [],
   "source": [
    "2 ** (v + 3)\n",
    "np.exp(v)\n",
    "np.log(v)\n",
    "np.log1p(v)"
   ]
  },
  {
   "cell_type": "code",
   "execution_count": null,
   "metadata": {},
   "outputs": [],
   "source": [
    "A = np.arange(12).reshape(3, -1) % 3\n",
    "A\n",
    "\n",
    "A.T"
   ]
  },
  {
   "cell_type": "code",
   "execution_count": null,
   "metadata": {},
   "outputs": [],
   "source": [
    "C = A + 1\n",
    "C\n",
    "\n",
    "A * C\n",
    "A ** C"
   ]
  },
  {
   "cell_type": "code",
   "execution_count": null,
   "metadata": {},
   "outputs": [],
   "source": [
    "B = np.arange(8).reshape(4, -1)\n",
    "B\n",
    "\n",
    "A.dot(B)"
   ]
  },
  {
   "cell_type": "code",
   "execution_count": null,
   "metadata": {},
   "outputs": [],
   "source": [
    "D = 0.1 * np.diag(np.ones(3))\n",
    "D\n",
    "\n",
    "np.linalg.inv(D)"
   ]
  },
  {
   "cell_type": "code",
   "execution_count": null,
   "metadata": {},
   "outputs": [],
   "source": [
    "A = np.arange(12).reshape(4, -1) ** 2\n",
    "A\n",
    "\n",
    "np.mean(A, axis=0)\n",
    "np.std(A, axis=1)\n",
    "\n",
    "A.trace()\n",
    "np.sum(np.diag(A))"
   ]
  },
  {
   "cell_type": "code",
   "execution_count": null,
   "metadata": {},
   "outputs": [],
   "source": [
    "v = np.arange(10) % 2\n",
    "np.unique(v)"
   ]
  },
  {
   "cell_type": "code",
   "execution_count": null,
   "metadata": {},
   "outputs": [],
   "source": [
    "x = np.vstack((v,v))\n",
    "x\n",
    "x.shape\n",
    "\n",
    "y = np.hstack((v,v))\n",
    "y\n",
    "y.shape\n",
    "\n",
    "z = np.stack((v,v))\n",
    "z\n",
    "z.shape"
   ]
  },
  {
   "cell_type": "markdown",
   "metadata": {},
   "source": [
    "### scipy"
   ]
  },
  {
   "cell_type": "code",
   "execution_count": null,
   "metadata": {},
   "outputs": [],
   "source": [
    "from scipy import integrate\n",
    "\n",
    "help(integrate)"
   ]
  },
  {
   "cell_type": "code",
   "execution_count": null,
   "metadata": {},
   "outputs": [],
   "source": [
    "help(integrate.quad)"
   ]
  },
  {
   "cell_type": "code",
   "execution_count": null,
   "metadata": {},
   "outputs": [],
   "source": [
    "import math\n",
    "from scipy import integrate\n",
    "\n",
    "integrate.quad(math.sqrt, 0, 4.5)"
   ]
  },
  {
   "cell_type": "code",
   "execution_count": null,
   "metadata": {},
   "outputs": [],
   "source": [
    "from scipy import optimize\n",
    "\n",
    "def f(args):\n",
    "    x, y = args\n",
    "    return (x - 2*y)**2 + (x / y) + 16 * math.exp(x * y)\n",
    "\n",
    "optimize.minimize(f, [0.1, 2.5])"
   ]
  },
  {
   "cell_type": "code",
   "execution_count": null,
   "metadata": {},
   "outputs": [],
   "source": [
    "from scipy import linalg\n",
    "    \n",
    "A = np.random.randint(10, size=(5, 5))\n",
    "A\n",
    "b = np.arange(3, 12, 2).reshape(1, -1).T\n",
    "b\n",
    "\n",
    "x = linalg.solve(A, b)\n",
    "x\n",
    "A.dot(x)"
   ]
  },
  {
   "cell_type": "code",
   "execution_count": null,
   "metadata": {},
   "outputs": [],
   "source": [
    "linalg.det(A)"
   ]
  },
  {
   "cell_type": "code",
   "execution_count": null,
   "metadata": {},
   "outputs": [],
   "source": [
    "e_vals, e_vecs = linalg.eig(A) # вычисляет собственные числа (значения) и собственные векторы квадратной матрицы\n",
    "\n",
    "e_vals\n",
    "e_vecs\n",
    "\n",
    "e_val0 = e_vals[0]\n",
    "e_vec0 = e_vecs[:, 0]\n",
    "\n",
    "e_val0\n",
    "e_vec0\n",
    "\n",
    "A.dot(e_vec0) - e_val0 * e_vec0"
   ]
  },
  {
   "cell_type": "markdown",
   "metadata": {},
   "source": [
    "### оптимизация кода"
   ]
  },
  {
   "cell_type": "markdown",
   "metadata": {},
   "source": [
    "Создадим класс Matrix:"
   ]
  },
  {
   "cell_type": "code",
   "execution_count": null,
   "metadata": {},
   "outputs": [],
   "source": [
    "import random\n",
    "\n",
    "class Matrix(list):\n",
    "    @classmethod\n",
    "    def zeros(cls, shape):\n",
    "        return cls([[0] * shape[1] for i in range(shape[0])])\n",
    "\n",
    "    @classmethod\n",
    "    def random(cls, shape):\n",
    "        M, (n_rows, n_cols) = cls(), shape\n",
    "        for i in range(n_rows):\n",
    "            M.append([random.randint(-255, 255)\n",
    "                      for j in range(n_cols)])\n",
    "        return M\n",
    "    \n",
    "    def transpose(self):\n",
    "        n_rows, n_cols = self.shape\n",
    "        return self.__class__(zip(*self))\n",
    "\n",
    "    @property\n",
    "    def shape(self):\n",
    "        return ((0, 0) if not self else\n",
    "                (len(self), len(self[0])))"
   ]
  },
  {
   "cell_type": "code",
   "execution_count": null,
   "metadata": {},
   "outputs": [],
   "source": [
    "def matrix_product(X, Y):\n",
    "    n_xrows, n_xcols = X.shape\n",
    "    n_yrows, n_ycols = Y.shape\n",
    "    \n",
    "    Z = Matrix.zeros((n_xrows, n_ycols))\n",
    "    \n",
    "    for i in range(n_xrows):\n",
    "        for j in range(n_xcols):\n",
    "            for k in range(n_ycols):\n",
    "                Z[i][k] += X[i][j] * Y[j][k]\n",
    "    return Z"
   ]
  },
  {
   "cell_type": "markdown",
   "metadata": {},
   "source": [
    "Проверим, что работает корректно:"
   ]
  },
  {
   "cell_type": "code",
   "execution_count": null,
   "metadata": {},
   "outputs": [],
   "source": [
    "X = Matrix([[1], \n",
    "            [2], \n",
    "            [3]])\n",
    "\n",
    "Y = Matrix([[4, 5, 6]])\n",
    "\n",
    "print(matrix_product(X, Y))\n",
    "print(matrix_product(Y, X))"
   ]
  },
  {
   "cell_type": "markdown",
   "metadata": {},
   "source": [
    "Посмотрим, сколько будет работать такое умножение:"
   ]
  },
  {
   "cell_type": "code",
   "execution_count": null,
   "metadata": {},
   "outputs": [],
   "source": [
    "def setup(shape=(100, 100)):\n",
    "    X = Matrix.random(shape)\n",
    "    Y = Matrix.random(shape)\n",
    "    return X, Y"
   ]
  },
  {
   "cell_type": "code",
   "execution_count": null,
   "metadata": {},
   "outputs": [],
   "source": [
    "%%timeit\n",
    "matrix_product(*setup())"
   ]
  },
  {
   "cell_type": "markdown",
   "metadata": {},
   "source": [
    "Ого! Пол секунды - непозволительно долго. <br>\n",
    "Посмотрим, где именно мы теряем время, для этого можно установить line_profiler"
   ]
  },
  {
   "cell_type": "code",
   "execution_count": null,
   "metadata": {},
   "outputs": [],
   "source": [
    "# !pip install --user line_profiler\n",
    "\n",
    "# Если failed:\n",
    "# git clone https://github.com/rkern/line_profiler.git\n",
    "# find line_profiler -name '*.pyx' -exec cython {} \\;\n",
    "# cd line_profiler && pip install . --user "
   ]
  },
  {
   "cell_type": "code",
   "execution_count": null,
   "metadata": {},
   "outputs": [],
   "source": [
    "%load_ext line_profiler"
   ]
  },
  {
   "cell_type": "code",
   "execution_count": null,
   "metadata": {},
   "outputs": [],
   "source": [
    "%lprun -f matrix_product matrix_product(*setup())"
   ]
  },
  {
   "cell_type": "markdown",
   "metadata": {},
   "source": [
    "Видим, что куча времени уходит на for и на доставание индексов. Как думаете, что можно улучшить?"
   ]
  },
  {
   "cell_type": "code",
   "execution_count": null,
   "metadata": {},
   "outputs": [],
   "source": [
    "# это старая реализация\n",
    "\n",
    "def matrix_product(X, Y):\n",
    "    n_xrows, n_xcols = X.shape\n",
    "    n_yrows, n_ycols = Y.shape\n",
    "    Z = Matrix.zeros((n_xrows, n_ycols))\n",
    "    for i in range(n_xrows):\n",
    "        for j in range(n_xcols):\n",
    "            for k in range(n_ycols):\n",
    "                Z[i][k] += X[i][j] * Y[j][k]\n",
    "    return Z"
   ]
  },
  {
   "cell_type": "code",
   "execution_count": null,
   "metadata": {},
   "outputs": [],
   "source": [
    "%%timeit\n",
    "matrix_product(*setup())"
   ]
  },
  {
   "cell_type": "markdown",
   "metadata": {},
   "source": [
    "Попробуем убрать лишнее доставание элемента по индексу:"
   ]
  },
  {
   "cell_type": "code",
   "execution_count": null,
   "metadata": {},
   "outputs": [],
   "source": [
    "def matrix_product2(X, Y):\n",
    "    n_xrows, n_xcols = X.shape\n",
    "    n_yrows, n_ycols = Y.shape\n",
    "    Z = Matrix.zeros((n_xrows, n_ycols))\n",
    "    for i in range(n_xrows):\n",
    "        Xi = X[i]\n",
    "        for k in range(n_ycols):\n",
    "            acc = 0\n",
    "            for j in range(n_xcols):\n",
    "                acc += Xi[j] * Y[j][k]\n",
    "            Z[i][k] = acc\n",
    "    return Z"
   ]
  },
  {
   "cell_type": "code",
   "execution_count": null,
   "metadata": {},
   "outputs": [],
   "source": [
    "%%timeit\n",
    "matrix_product2(*setup())"
   ]
  },
  {
   "cell_type": "markdown",
   "metadata": {},
   "source": [
    "Стало намного лучше! Так как стало примерно в 2 раза меньше операций доставания по индексу."
   ]
  },
  {
   "cell_type": "code",
   "execution_count": null,
   "metadata": {},
   "outputs": [],
   "source": [
    "%lprun -f matrix_product2 matrix_product2(*setup())"
   ]
  },
  {
   "cell_type": "markdown",
   "metadata": {},
   "source": [
    "Вывод: если ваш код тормозит, не спешите использовать другие фреймворки. Часто можно ускорить в разы свой код небольшими манипуляциями."
   ]
  },
  {
   "cell_type": "markdown",
   "metadata": {},
   "source": [
    "Давайте-ка вернемся в numpy"
   ]
  },
  {
   "cell_type": "code",
   "execution_count": null,
   "metadata": {},
   "outputs": [],
   "source": [
    "import numpy as np\n",
    "\n",
    "def np_matrix_product(X, Y):\n",
    "    n_xrows, n_xcols = X.shape\n",
    "    n_yrows, n_ycols = Y.shape\n",
    "    Z = np.zeros((n_xrows, n_ycols), dtype=X.dtype)\n",
    "    for i in range(n_xrows):\n",
    "        for k in range(n_ycols):\n",
    "            for j in range(n_xcols):\n",
    "                Z[i, k] += X[i, j] * Y[j, k]\n",
    "    return Z"
   ]
  },
  {
   "cell_type": "code",
   "execution_count": null,
   "metadata": {},
   "outputs": [],
   "source": [
    "def setup_np(shape=(100, 100)):\n",
    "    X = np.random.randint(-255, 255, size=shape)\n",
    "    Y = np.random.randint(-255, 255, size=shape)\n",
    "    return X, Y"
   ]
  },
  {
   "cell_type": "code",
   "execution_count": null,
   "metadata": {},
   "outputs": [],
   "source": [
    "%timeit np_matrix_product(*setup_np())"
   ]
  },
  {
   "cell_type": "markdown",
   "metadata": {},
   "source": [
    "Никакого профита пока нет."
   ]
  },
  {
   "cell_type": "code",
   "execution_count": null,
   "metadata": {},
   "outputs": [],
   "source": [
    "X, Y = setup_np()"
   ]
  },
  {
   "cell_type": "code",
   "execution_count": null,
   "metadata": {},
   "outputs": [],
   "source": [
    "%timeit np.dot(X, Y)"
   ]
  },
  {
   "cell_type": "markdown",
   "metadata": {},
   "source": [
    "А вот это уже интересно. Достойная мотивация для изучения модуля ```numpy```.  \n",
    "Заметим, что такой эффект ускорения свойственен не только для матричного умножения, а вообще для всех операций \n",
    "в ```numpy```, особенно там, где вычисление циклом можно заменить векторизованной операцией."
   ]
  },
  {
   "cell_type": "markdown",
   "metadata": {},
   "source": [
    "###  Cython"
   ]
  },
  {
   "cell_type": "markdown",
   "metadata": {},
   "source": [
    "Ещё один способ ускорить ваш код.  \n",
    "  \n",
    "Компилятор Cython переводит программу, написанную на языках Python или Cython, в более эффективный код на С.  \n",
    "  \n",
    "Язык Cython является надстройкой Python,\n",
    "поддерживающей вызовы функций C и присвоение\n",
    "переменным типов данных языка C.  \n",
    "  \n",
    "Посмотрим, как он работает. Создадим пару функций на чистом Python:"
   ]
  },
  {
   "cell_type": "code",
   "execution_count": null,
   "metadata": {},
   "outputs": [],
   "source": [
    "def f(x):\n",
    "    return x**2\n",
    "\n",
    "def integrate_f(a, b, N):\n",
    "    s = 0\n",
    "    dx = (b - a) / N\n",
    "    for i in range(N):\n",
    "        s += f(a + i * dx)\n",
    "    return s * dx"
   ]
  },
  {
   "cell_type": "code",
   "execution_count": null,
   "metadata": {},
   "outputs": [],
   "source": [
    "%%timeit\n",
    "integrate_f(0, 10, 1000000)"
   ]
  },
  {
   "cell_type": "markdown",
   "metadata": {},
   "source": [
    "Теперь подключим Cython магию:"
   ]
  },
  {
   "cell_type": "code",
   "execution_count": null,
   "metadata": {},
   "outputs": [],
   "source": [
    "%load_ext Cython"
   ]
  },
  {
   "cell_type": "code",
   "execution_count": null,
   "metadata": {},
   "outputs": [],
   "source": [
    "%%cython -a\n",
    "def f(x):\n",
    "    return x**2\n",
    "\n",
    "def integrate_f2(a, b, N):\n",
    "    s = 0\n",
    "    dx = (b - a) / N\n",
    "    for i in range(N):\n",
    "        s += f(a + i * dx)\n",
    "    return s * dx"
   ]
  },
  {
   "cell_type": "markdown",
   "metadata": {},
   "source": [
    "Cython пытается определить тип и в частности за счёт этого ускориться. Но желтым подсвечиваются те строки кода, где он не смог установить тип. Тут почти всё желтое."
   ]
  },
  {
   "cell_type": "code",
   "execution_count": null,
   "metadata": {},
   "outputs": [],
   "source": [
    "%%timeit\n",
    "integrate_f2(0, 10, 1000000)"
   ]
  },
  {
   "cell_type": "markdown",
   "metadata": {},
   "source": [
    "Стало чуть быстрее. Но можно лучше.  \n",
    "  \n",
    "Применим статическую типизацию к переменным:"
   ]
  },
  {
   "cell_type": "code",
   "execution_count": null,
   "metadata": {},
   "outputs": [],
   "source": [
    "%%cython -a \n",
    "def f(double x):\n",
    "    return x**2\n",
    "\n",
    "def integrate_f3(double a, double b, int N):\n",
    "    cdef int i\n",
    "    cdef double s, dx\n",
    "    s = 0\n",
    "    dx = (b - a) / N\n",
    "    for i in range(N):  # в случае, когда i объявлено как int, этот цикл компилируется в чистый C код\n",
    "        s += f(a + i * dx)\n",
    "    return s * dx"
   ]
  },
  {
   "cell_type": "code",
   "execution_count": null,
   "metadata": {},
   "outputs": [],
   "source": [
    "%%timeit\n",
    "integrate_f3(0, 10, 1000000)"
   ]
  },
  {
   "cell_type": "markdown",
   "metadata": {},
   "source": [
    "Вызов функций в python может быть дорогим. Например, в\n",
    "прошлом примере постоянно происходила конвертация из C\n",
    "double в Python float. Изменим прототип функции f:"
   ]
  },
  {
   "cell_type": "code",
   "execution_count": null,
   "metadata": {},
   "outputs": [],
   "source": [
    "%%cython -a \n",
    "cdef double f2(double x):\n",
    "    return x**2\n",
    "\n",
    "def integrate_f4(double a, double b, int N):\n",
    "    cdef int i\n",
    "    cdef double s, dx\n",
    "    s = 0\n",
    "    dx = (b - a) / N\n",
    "    for i in range(N):  # в случае, когда i объевлено как int, этот цикл компилируется в чистый C код\n",
    "        s += f2(a + i * dx)\n",
    "    return s * dx"
   ]
  },
  {
   "cell_type": "code",
   "execution_count": null,
   "metadata": {},
   "outputs": [],
   "source": [
    "%%timeit\n",
    "integrate_f4(0, 10, 1000000)"
   ]
  },
  {
   "cell_type": "markdown",
   "metadata": {},
   "source": [
    "Посмотрим, как справляется с той же задачей ```numpy```."
   ]
  },
  {
   "cell_type": "code",
   "execution_count": null,
   "metadata": {},
   "outputs": [],
   "source": [
    "%%timeit\n",
    "x = np.linspace(0, 10, 1000000)\n",
    "(x**2).sum() / 100000"
   ]
  },
  {
   "cell_type": "markdown",
   "metadata": {},
   "source": [
    "Таким образом, с помощью Cython можно написать более эффективный код по сравнению с ```numpy```!"
   ]
  },
  {
   "cell_type": "markdown",
   "metadata": {},
   "source": [
    "Вернёмся к нашему примеру с Matrix"
   ]
  },
  {
   "cell_type": "code",
   "execution_count": null,
   "metadata": {},
   "outputs": [],
   "source": [
    "%%cython -a \n",
    "import random\n",
    "\n",
    "class Matrix(list):\n",
    "    @classmethod\n",
    "    def zeros(cls, shape):\n",
    "        n_rows, n_cols = shape\n",
    "        return cls([[0] * n_cols for i in range(n_rows)])\n",
    "\n",
    "    @classmethod\n",
    "    def random(cls, shape):\n",
    "        M, (n_rows, n_cols) = cls(), shape\n",
    "        for i in range(n_rows):\n",
    "            M.append([random.randint(-255, 255)\n",
    "                      for j in range(n_cols)])\n",
    "        return M\n",
    "\n",
    "    def transpose(self):\n",
    "        n_rows, n_cols = self.shape\n",
    "        return self.__class__(zip(*self))\n",
    "\n",
    "    @property\n",
    "    def shape(self):\n",
    "        return ((0, 0) if not self else\n",
    "                (int(len(self)), int(len(self[0]))))\n",
    "\n",
    "\n",
    "def cy_matrix_product(X, Y):\n",
    "    n_xrows, n_xcols = X.shape\n",
    "    n_yrows, n_ycols = Y.shape\n",
    "    Z = Matrix.zeros((n_xrows, n_ycols))\n",
    "    Yt = Y.transpose()\n",
    "    for i, Xi in enumerate(X):\n",
    "        for k, Ytk in enumerate(Yt):\n",
    "            Z[i][k] = sum(Xi[j] * Ytk[j] for j in range(n_xcols))\n",
    "    return Z"
   ]
  },
  {
   "cell_type": "markdown",
   "metadata": {},
   "source": [
    "Пока всё желтое, т.е. Cython не может распознать типы и обращается к интерпрератору Python."
   ]
  },
  {
   "cell_type": "code",
   "execution_count": null,
   "metadata": {},
   "outputs": [],
   "source": [
    "shape = (100, 100)"
   ]
  },
  {
   "cell_type": "code",
   "execution_count": null,
   "metadata": {},
   "outputs": [],
   "source": [
    "X = Matrix.random(shape)\n",
    "Y = Matrix.random(shape)"
   ]
  },
  {
   "cell_type": "code",
   "execution_count": null,
   "metadata": {},
   "outputs": [],
   "source": [
    "%timeit cy_matrix_product(X, Y)"
   ]
  },
  {
   "cell_type": "markdown",
   "metadata": {},
   "source": [
    "Получилось быстрее, чем наша питоновская реализация, но пока сильно не дотягивает до numpy версии.<br>"
   ]
  },
  {
   "cell_type": "code",
   "execution_count": null,
   "metadata": {},
   "outputs": [],
   "source": [
    "X = np.random.randint(-255, 255, size=shape, dtype=np.int64)\n",
    "Y = np.random.randint(-255, 255, size=shape, dtype=np.int64)"
   ]
  },
  {
   "cell_type": "code",
   "execution_count": null,
   "metadata": {},
   "outputs": [],
   "source": [
    "%%cython -a\n",
    "import numpy as np\n",
    "\n",
    "def cy_matrix_product(X, Y):\n",
    "    n_xrows, n_xcols = X.shape\n",
    "    n_yrows, n_ycols = Y.shape\n",
    "    Z = np.zeros((n_xrows, n_ycols), dtype=X.dtype)\n",
    "    for i in range(n_xrows):\n",
    "        for k in range(n_ycols):\n",
    "            for j in range(n_xcols):\n",
    "                Z[i, k] += X[i, j] * Y[j, k]\n",
    "    return Z"
   ]
  },
  {
   "cell_type": "code",
   "execution_count": null,
   "metadata": {},
   "outputs": [],
   "source": [
    "%timeit cy_matrix_product(X, Y)"
   ]
  },
  {
   "cell_type": "markdown",
   "metadata": {},
   "source": [
    "Не помогло, всё стало ещё медленнее.<br>\n",
    "Дело в том, что cython не умеет работать с питонячими импортами и теперь все строки для него непонятны и он обращается к интерпретатору питона."
   ]
  },
  {
   "cell_type": "markdown",
   "metadata": {},
   "source": [
    "Окей, давайте явно подскажем Cython'у про типы и про импорты.<br>\n",
    "Используем cdef, чтобы определить переменные Сишных типов"
   ]
  },
  {
   "cell_type": "code",
   "execution_count": null,
   "metadata": {},
   "outputs": [],
   "source": [
    "%%cython -a\n",
    "import numpy as np\n",
    "cimport numpy as np\n",
    "\n",
    "def cy_matrix_product2(np.ndarray X, np.ndarray Y):\n",
    "    cdef int n_xrows = X.shape[0]\n",
    "    cdef int n_xcols = X.shape[1]\n",
    "    cdef int n_yrows = Y.shape[0]\n",
    "    cdef int n_ycols = Y.shape[1]\n",
    "    cdef np.ndarray Z\n",
    "    Z = np.zeros((n_xrows, n_ycols), dtype=X.dtype)\n",
    "    for i in range(n_xrows):\n",
    "        for k in range(n_ycols):\n",
    "            for j in range(n_xcols):\n",
    "                Z[i, k] += X[i, j] * Y[j, k]\n",
    "    return Z"
   ]
  },
  {
   "cell_type": "code",
   "execution_count": null,
   "metadata": {},
   "outputs": [],
   "source": [
    "%timeit  cy_matrix_product2(X, Y)"
   ]
  },
  {
   "cell_type": "markdown",
   "metadata": {},
   "source": [
    "Вроде cython теперь больше понимает, но всё равно всё медленно, так как основные части всё ещё непонятны."
   ]
  },
  {
   "cell_type": "markdown",
   "metadata": {},
   "source": [
    "Добавим строгой типизации входных значений - теперь наша функция принимает только массивы определённого типа."
   ]
  },
  {
   "cell_type": "code",
   "execution_count": null,
   "metadata": {},
   "outputs": [],
   "source": [
    "%%cython -a\n",
    "import numpy as np\n",
    "cimport numpy as np  # Не любой модуль можно так импортировать, а только те, которые это поодерживают\n",
    "\n",
    "\n",
    "def cy_matrix_product3(np.ndarray[np.int64_t, ndim=2] X,\n",
    "                      np.ndarray[np.int64_t, ndim=2] Y):\n",
    "    cdef int n_xrows = X.shape[0]\n",
    "    cdef int n_xcols = X.shape[1]\n",
    "    cdef int n_yrows = Y.shape[0]\n",
    "    cdef int n_ycols = Y.shape[1]\n",
    "    cdef np.ndarray[np.int64_t, ndim=2] Z = \\\n",
    "        np.zeros((n_xrows, n_ycols), dtype=np.int64)\n",
    "    for i in range(n_xrows):\n",
    "        for k in range(n_ycols):\n",
    "            for j in range(n_xcols):\n",
    "                Z[i, k] += X[i, j] * Y[j, k]\n",
    "    return Z"
   ]
  },
  {
   "cell_type": "code",
   "execution_count": null,
   "metadata": {},
   "outputs": [],
   "source": [
    "%timeit cy_matrix_product3(X, Y)"
   ]
  },
  {
   "cell_type": "markdown",
   "metadata": {},
   "source": [
    "Ну теперь добавим совсем уже чёрной магии.<br>\n",
    "Добавим декораторы, которые проверяют границы массивов и переполнение типов."
   ]
  },
  {
   "cell_type": "code",
   "execution_count": null,
   "metadata": {},
   "outputs": [],
   "source": [
    "%%cython \n",
    "import numpy as np\n",
    "\n",
    "cimport cython\n",
    "cimport numpy as np\n",
    "\n",
    "@cython.boundscheck(False)\n",
    "@cython.overflowcheck(False)\n",
    "def cy_matrix_product4(np.ndarray[np.int64_t, ndim=2] X, \n",
    "                      np.ndarray[np.int64_t, ndim=2] Y):\n",
    "    cdef int n_xrows = X.shape[0]\n",
    "    cdef int n_xcols = X.shape[1]\n",
    "    cdef int n_yrows = Y.shape[0]\n",
    "    cdef int n_ycols = Y.shape[1]\n",
    "    cdef np.ndarray[np.int64_t, ndim=2] Z = \\\n",
    "        np.zeros((n_xrows, n_ycols), dtype=np.int64)\n",
    "    for i in range(n_xrows):        \n",
    "        for k in range(n_ycols):\n",
    "            for j in range(n_xcols):\n",
    "                Z[i, k] += X[i, j] * Y[j, k]\n",
    "    return Z"
   ]
  },
  {
   "cell_type": "code",
   "execution_count": null,
   "metadata": {},
   "outputs": [],
   "source": [
    "%timeit cy_matrix_product4(X, Y)"
   ]
  },
  {
   "cell_type": "markdown",
   "metadata": {},
   "source": [
    "**Победа!**"
   ]
  }
 ],
 "metadata": {
  "kernelspec": {
   "display_name": "Python 3",
   "language": "python",
   "name": "python3"
  },
  "language_info": {
   "codemirror_mode": {
    "name": "ipython",
    "version": 3
   },
   "file_extension": ".py",
   "mimetype": "text/x-python",
   "name": "python",
   "nbconvert_exporter": "python",
   "pygments_lexer": "ipython3",
   "version": "3.8.6"
  }
 },
 "nbformat": 4,
 "nbformat_minor": 2
}
