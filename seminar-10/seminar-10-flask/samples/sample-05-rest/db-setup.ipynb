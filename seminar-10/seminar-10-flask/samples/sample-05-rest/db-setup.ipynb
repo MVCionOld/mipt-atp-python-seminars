{
 "cells": [
  {
   "cell_type": "code",
   "execution_count": 1,
   "id": "handed-correction",
   "metadata": {},
   "outputs": [],
   "source": [
    "import sqlite3\n",
    "\n",
    "# Соединение с базой\n",
    "conn = sqlite3.connect('tasks.db')\n",
    "\n",
    "# Объект для исполнения SQL запросов над базой\n",
    "cur = conn.cursor()"
   ]
  },
  {
   "cell_type": "code",
   "execution_count": 2,
   "id": "economic-shape",
   "metadata": {},
   "outputs": [
    {
     "data": {
      "text/plain": [
       "<sqlite3.Cursor at 0x7fa946fe9960>"
      ]
     },
     "execution_count": 2,
     "metadata": {},
     "output_type": "execute_result"
    }
   ],
   "source": [
    "cur.executescript('''\n",
    "    DROP TABLE IF EXISTS tasks;\n",
    "    CREATE TABLE tasks (\n",
    "        id INTEGER PRIMARY KEY AUTOINCREMENT\n",
    "        ,title VARCHAR(255)\n",
    "        ,description VARCHAR(1023)\n",
    "        ,done INTEGER\n",
    "    );\n",
    "''')"
   ]
  },
  {
   "cell_type": "code",
   "execution_count": 3,
   "id": "normal-playing",
   "metadata": {},
   "outputs": [
    {
     "data": {
      "text/plain": [
       "<sqlite3.Cursor at 0x7fa946fe9960>"
      ]
     },
     "execution_count": 3,
     "metadata": {},
     "output_type": "execute_result"
    }
   ],
   "source": [
    "cur.executescript('''\n",
    "    INSERT INTO \n",
    "        tasks(title, description, done)\n",
    "    VALUES\n",
    "        (\"Submit review 1\", \"Deadline is coming\", 0)\n",
    "        ,(\"Submit review 2\", \"Deadline is unknown\", 0)\n",
    "        ,(\"Go shopping\", \"Buy milk, bread, butter.\", 1);\n",
    "''')"
   ]
  },
  {
   "cell_type": "code",
   "execution_count": 4,
   "id": "hungry-apparatus",
   "metadata": {},
   "outputs": [
    {
     "name": "stdout",
     "output_type": "stream",
     "text": [
      "1 Submit review 1 Deadline is coming 0\n",
      "2 Submit review 2 Deadline is unknown 0\n",
      "3 Go shopping Buy milk, bread, butter. 1\n"
     ]
    }
   ],
   "source": [
    "cur.execute('SELECT * FROM tasks;')\n",
    "rows = cur.fetchall() \n",
    "\n",
    "for row in rows:\n",
    "    id_, title, description, done = row\n",
    "    print(id_, title, description, done)"
   ]
  },
  {
   "cell_type": "code",
   "execution_count": 5,
   "id": "hourly-australian",
   "metadata": {},
   "outputs": [],
   "source": [
    "conn.close()"
   ]
  }
 ],
 "metadata": {
  "kernelspec": {
   "display_name": "Python 3",
   "language": "python",
   "name": "python3"
  },
  "language_info": {
   "codemirror_mode": {
    "name": "ipython",
    "version": 3
   },
   "file_extension": ".py",
   "mimetype": "text/x-python",
   "name": "python",
   "nbconvert_exporter": "python",
   "pygments_lexer": "ipython3",
   "version": "3.8.6"
  }
 },
 "nbformat": 4,
 "nbformat_minor": 5
}
