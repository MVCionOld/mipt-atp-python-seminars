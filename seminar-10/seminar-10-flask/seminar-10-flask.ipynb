{
 "cells": [
  {
   "cell_type": "markdown",
   "metadata": {
    "slideshow": {
     "slide_type": "slide"
    }
   },
   "source": [
    "# Frontend/Backend\n",
    "\n",
    "![](images/backend-frontend.png)"
   ]
  },
  {
   "cell_type": "markdown",
   "metadata": {
    "slideshow": {
     "slide_type": "slide"
    }
   },
   "source": [
    "# Frontend\n",
    "![](images/frontend.png)"
   ]
  },
  {
   "cell_type": "markdown",
   "metadata": {
    "slideshow": {
     "slide_type": "slide"
    }
   },
   "source": [
    "# Backend\n",
    "![](images/backend.png)"
   ]
  },
  {
   "cell_type": "markdown",
   "metadata": {
    "slideshow": {
     "slide_type": "slide"
    }
   },
   "source": [
    "<h1>Что происходит, когда мы нажимаем Enter?</h1>"
   ]
  },
  {
   "cell_type": "markdown",
   "metadata": {},
   "source": [
    "![](images/yandex.png)"
   ]
  },
  {
   "cell_type": "markdown",
   "metadata": {
    "slideshow": {
     "slide_type": "slide"
    }
   },
   "source": [
    "1. Необходимо преобразовать имя сайта в реальный ip-адресс.\n",
    "    1. Сперва проверяем локально - кэш DNS (браузер-ОС-роутер)\n",
    "    2. Если не нашли - делаем опрос DNS-серверов (домен первого уровня, второго...)\n",
    "3. Мы нашли сервер! Устанавливаем TCP-соединение (three-way handshake)\n",
    "4. Браузер посылает HTTP-запрос (про его строение мы говорили на прошлом семинаре)\n",
    "5. Backend сервера обрабатывает запрос\n",
    "6. Сервер посылает ответный HTTP-запрос с ответом (страницей в браузере, кодом ошибки ...)\n",
    "7. Браузер делает из текстового ответа страницу"
   ]
  },
  {
   "cell_type": "markdown",
   "metadata": {
    "slideshow": {
     "slide_type": "slide"
    }
   },
   "source": [
    "![](images/tcpip.jpg)"
   ]
  },
  {
   "cell_type": "markdown",
   "metadata": {
    "slideshow": {
     "slide_type": "slide"
    }
   },
   "source": [
    "# Large service architecture\n",
    "В сервисах с большой нагрузкой очень часто используется балансировка и горизонтальное масштабирование\n",
    "![](images/balancer.png)"
   ]
  },
  {
   "cell_type": "markdown",
   "metadata": {
    "slideshow": {
     "slide_type": "slide"
    }
   },
   "source": [
    "<h1>HTTP-запросы</h1>\n",
    "<h2>Запрос клиента</h2>\n",
    "\n",
    "![](images/httprequest.png)"
   ]
  },
  {
   "cell_type": "markdown",
   "metadata": {
    "slideshow": {
     "slide_type": "slide"
    }
   },
   "source": [
    "## Методы\n",
    "\n",
    "<ul>\n",
    "<li>\n",
    "    <h3>GET</h3>\n",
    "    <p>Используется для запроса содержимого указанного ресурса.</p>\n",
    "    <p>Клиент может передавать параметры выполнения запроса в URI целевого ресурса после символа \"?\".</p>\n",
    "</li>\n",
    "<li>\n",
    "    <h3>POST</h3>\n",
    "    <p>Применяется для передачи пользовательских данных заданному ресурсу. При этом передаваемые данные включаются в тело запроса. С помощью метода POST обычно загружаются файлы на сервер.</p>\n",
    "    <p>В отличии от метода GET, метод POST не считается идемпотентным, то есть многократное повторение одних и тех же запросов POST может возвращать разные результаты.</p>\n",
    "    <p>При результате выполнения 200 (ОК) в тело ответа следует включить сообщение об итоге выполнения запроса. Если был создан ресурс, то серверу следует вернуть ответ 201 (Created) с указанием URI нового ресурса в заголовке Location.</p>\n",
    "    <p>Сообщение ответа сервера на выполение метода POST не кэшируется.</p>\n",
    "</li>\n",
    "<li>\n",
    "    <h3>DELETE</h3>\n",
    "</li>\n",
    "<li>\n",
    "    <h3>HEAD</h3>\n",
    "</li>\n",
    "<li>\n",
    "    <h3>И другие, редкие</h3>\n",
    "</li>\n",
    "</ul>"
   ]
  },
  {
   "cell_type": "markdown",
   "metadata": {
    "slideshow": {
     "slide_type": "slide"
    }
   },
   "source": [
    "## Ответ сервера"
   ]
  },
  {
   "cell_type": "markdown",
   "metadata": {},
   "source": [
    "![](images/httpresponse.png)"
   ]
  },
  {
   "cell_type": "markdown",
   "metadata": {},
   "source": [
    "## Ответы сервера (коды состояния http)\n",
    "\n",
    "**Код состояния HTTP** - часть первой строки ответа сервера при \n",
    "запросах по протоколу HTTP. Он представляет собой целое число из \n",
    "трех десятичных цифр. Первая цифра указывает _класс состояния_. \n",
    "За кодом ответа обычно следует отделенная пробелом поясняющая \n",
    "фраза на английском языке, которая разъясняет человеку причину именно такого ответа.  \n",
    "  \n",
    "* 1хх: Informational (информационные)\n",
    "* 2хх: Success (успешно):\n",
    "    * 200 OK (\"хорошо\")\n",
    "    * 201 Created (\"создано\")\n",
    "    * 202 Accepted (\"принято\")\n",
    "* 3хх: Redirection (перенаправление)\n",
    "* 4хх: Client Error (ошибка клиента)\n",
    "    * 400 Bad Request (\"плохой, неверный запрос\")\n",
    "    * 404 Not Found (\"не найдено\")\n",
    "* 5хх: Server Error (ошибка сервера):\n",
    "    * 500 Internal Server Error (\"внутренняя ошибка сервера\")\n",
    "    * 501 Not Implemented (\"не реализовано\")\n",
    "    * 502 Bad Gateway (\"плохой, ошибочный шлюз\")\n",
    "    * 504 Gateway Timeout (\"шлюз не отвечает\")"
   ]
  },
  {
   "cell_type": "markdown",
   "metadata": {
    "slideshow": {
     "slide_type": "slide"
    }
   },
   "source": [
    "# Network sockets"
   ]
  },
  {
   "cell_type": "markdown",
   "metadata": {
    "slideshow": {
     "slide_type": "-"
    }
   },
   "source": [
    "Сокет (англ. socket — разъём) — название программного интерфейса для обеспечения обмена данными между процессами.\n",
    "\n",
    "![](images/socket.png)"
   ]
  },
  {
   "cell_type": "markdown",
   "metadata": {
    "slideshow": {
     "slide_type": "slide"
    }
   },
   "source": [
    "# Blocking IO\n",
    "В блокирующем режиме на каждое соединение создается отдельный поток, из-за чего происходит большое выделение ресурсов на клиентов и большинство потоков просто ждут данных.\n",
    "\n",
    "\n",
    "![](images/thread-pool.png)\n",
    "![](images/apache.png)"
   ]
  },
  {
   "cell_type": "markdown",
   "metadata": {
    "slideshow": {
     "slide_type": "slide"
    }
   },
   "source": [
    "# NonBlocking IO\n",
    "\n",
    "В данном режиме есть только один поток, который ждет пока кто-нибудь из клиентов пришлет данные всего запроса полностью и после только исполняет его. Поток на каждый запрос не создается.\n",
    "\n",
    "\n",
    "![](images/non-blocking.png)\n",
    "![](images/nginx.png)"
   ]
  },
  {
   "cell_type": "markdown",
   "metadata": {
    "slideshow": {
     "slide_type": "slide"
    }
   },
   "source": [
    "# Flask\n",
    "\n",
    "![](images/flask.png)"
   ]
  },
  {
   "cell_type": "markdown",
   "metadata": {},
   "source": [
    "1. Является многопоточной библиотекой (Blocking IO) для создания http-приложений.\n",
    "2. Реализует паттерн **Model-View-Controller (MVC)**:\n",
    "    * **MVC** - схема разделения данных приложения, пользовательского интерфейса и управляющей логики на три отдельных компонента: модель, представление и контроллер - таким образом, что модификация каждого компонента может осуществляться независимо.\n",
    "    * **Model** - предоставление данные и реагирует на команды контроллера, изменяя свое состояние.\n",
    "    * **View** - отвечает за отображение данных модели пользователю, реагируя на изменения модели.\n",
    "    * **Controller** - интерпретирует действия пользователя, оповещая модель о необходимости изменений."
   ]
  },
  {
   "cell_type": "markdown",
   "metadata": {},
   "source": [
    "# Русскоязычная документация\n",
    "  \n",
    "[Документация Flask](https://flask-russian-docs.readthedocs.io/ru/latest/)"
   ]
  },
  {
   "cell_type": "markdown",
   "metadata": {},
   "source": [
    "# Quickstart Flask\n",
    "  \n",
    "[Рекомендую как быструю справку](http://flask.pocoo.org/docs/0.12/quickstart/)\n",
    "[Или более свежая](https://flask.palletsprojects.com/en/1.1.x/quickstart/)"
   ]
  },
  {
   "cell_type": "markdown",
   "metadata": {},
   "source": [
    "# Запуск приложения\n",
    "\n",
    "Пусть ваше приложение располагается в файле `hello.py`.\n",
    "\n",
    "### Запуск из консоли без использования единой точки входа\n",
    "\n",
    "```python\n",
    "# hello.py\n",
    "from flask import Flask\n",
    "\n",
    "app = Flask(__name__)\n",
    "\n",
    "@app.route('/')\n",
    "def hello_world():\n",
    "    return 'Hello, World!'\n",
    "\n",
    "```\n",
    "\n",
    "Способ №1:  \n",
    "```bash\n",
    "$ export FLASK_APP=hello.py\n",
    "$ flask run\n",
    " * Running on http://127.0.0.1:5000/\n",
    "```\n",
    "\n",
    "Способ №2:  \n",
    "```bash\n",
    "$ export FLASK_APP=hello.py\n",
    "$ python -m flask run\n",
    " * Running on http://127.0.0.1:5000/\n",
    "```\n",
    "\n",
    "### С единой точкой входа\n",
    "\n",
    "```python\n",
    "# hello.py\n",
    "from flask import Flask\n",
    "\n",
    "app = Flask(__name__)\n",
    "\n",
    "@app.route('/')\n",
    "def hello_world():\n",
    "    return 'Hello, World!'\n",
    "        \n",
    "if __name__ == '__main__':\n",
    "    app.run()\n",
    "\n",
    "```\n",
    "\n",
    "```bash\n",
    "$ python3 hello.py\n",
    " * Running on http://127.0.0.1:5000/\n",
    "```"
   ]
  }
 ],
 "metadata": {
  "celltoolbar": "Slideshow",
  "kernelspec": {
   "display_name": "Python 3",
   "language": "python",
   "name": "python3"
  },
  "language_info": {
   "codemirror_mode": {
    "name": "ipython",
    "version": 3
   },
   "file_extension": ".py",
   "mimetype": "text/x-python",
   "name": "python",
   "nbconvert_exporter": "python",
   "pygments_lexer": "ipython3",
   "version": "3.8.6"
  }
 },
 "nbformat": 4,
 "nbformat_minor": 2
}
