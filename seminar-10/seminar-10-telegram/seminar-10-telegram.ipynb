{
 "cells": [
  {
   "cell_type": "markdown",
   "id": "studied-fight",
   "metadata": {},
   "source": [
    "# Telegram bot\n",
    "\n",
    "![](images/telegram.jpg)\n",
    "\n",
    "Github проекта:  \n",
    "https://github.com/python-telegram-bot/python-telegram-bot  \n",
    "Документация:  \n",
    "https://github.com/python-telegram-bot/python-telegram-bot/wiki  \n",
    "\n",
    "\n",
    "```bash\n",
    "pip install python-telegram-bot\n",
    "```\n",
    "\n",
    "Примеры можно посмотреть здесь:  \n",
    "https://github.com/python-telegram-bot/python-telegram-bot/blob/master/examples/"
   ]
  },
  {
   "cell_type": "code",
   "execution_count": null,
   "id": "integral-mistake",
   "metadata": {},
   "outputs": [],
   "source": [
    "!pip install python-telegram-bot"
   ]
  },
  {
   "cell_type": "code",
   "execution_count": null,
   "id": "narrow-vertical",
   "metadata": {},
   "outputs": [],
   "source": [
    "from telegram.ext import Updater, CommandHandler, MessageHandler, Filters\n",
    "import logging\n",
    "\n",
    "# Enable logging\n",
    "logging.basicConfig(format='%(asctime)s - %(name)s - %(levelname)s - %(message)s',\n",
    "                    level=logging.INFO)\n",
    "\n",
    "logger = logging.getLogger(__name__)\n",
    "\n",
    "\n",
    "# Define a few command handlers. These usually take the two arguments bot and\n",
    "# update. Error handlers also receive the raised TelegramError object in error.\n",
    "def start(bot, update):\n",
    "    \"\"\"Send a message when the command /start is issued.\"\"\"\n",
    "    update.message.reply_text('Hi!')\n",
    "\n",
    "\n",
    "def help(bot, update):\n",
    "    \"\"\"Send a message when the command /help is issued.\"\"\"\n",
    "    update.message.reply_text('Help!')\n",
    "\n",
    "\n",
    "def echo(bot, update):\n",
    "    \"\"\"Echo the user message.\"\"\"\n",
    "    update.message.reply_text(update.message.text)\n",
    "\n",
    "\n",
    "def error(bot, update, error):\n",
    "    \"\"\"Log Errors caused by Updates.\"\"\"\n",
    "    logger.warning('Update \"%s\" caused error \"%s\"', update, error)\n",
    "\n",
    "\n",
    "def main():\n",
    "    \"\"\"Start the bot.\"\"\"\n",
    "    # Create the EventHandler and pass it your bot's token.\n",
    "    updater = Updater(\"518211931:AAEsTwbCsBVdJUMtzfi2fKPTfB0MnTnl3R4\")\n",
    "\n",
    "    # Get the dispatcher to register handlers\n",
    "    dp = updater.dispatcher\n",
    "\n",
    "    # on different commands - answer in Telegram\n",
    "    dp.add_handler(CommandHandler(\"start\", start))\n",
    "    dp.add_handler(CommandHandler(\"help\", help))\n",
    "\n",
    "    # on noncommand i.e message - echo the message on Telegram\n",
    "    dp.add_handler(MessageHandler(Filters.text, echo))\n",
    "\n",
    "    # log all errors\n",
    "    dp.add_error_handler(error)\n",
    "\n",
    "    # Start the Bot\n",
    "    updater.start_polling()\n",
    "\n",
    "    # Run the bot until you press Ctrl-C or the process receives SIGINT,\n",
    "    # SIGTERM or SIGABRT. This should be used most of the time, since\n",
    "    # start_polling() is non-blocking and will stop the bot gracefully.\n",
    "    updater.idle()"
   ]
  },
  {
   "cell_type": "code",
   "execution_count": null,
   "id": "transparent-ozone",
   "metadata": {},
   "outputs": [],
   "source": [
    "main()"
   ]
  }
 ],
 "metadata": {
  "kernelspec": {
   "display_name": "Python 3",
   "language": "python",
   "name": "python3"
  },
  "language_info": {
   "codemirror_mode": {
    "name": "ipython",
    "version": 3
   },
   "file_extension": ".py",
   "mimetype": "text/x-python",
   "name": "python",
   "nbconvert_exporter": "python",
   "pygments_lexer": "ipython3",
   "version": "3.8.6"
  }
 },
 "nbformat": 4,
 "nbformat_minor": 5
}
