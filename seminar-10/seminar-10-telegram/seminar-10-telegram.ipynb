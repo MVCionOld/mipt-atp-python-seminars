{
 "cells": [
  {
   "cell_type": "markdown",
   "id": "studied-fight",
   "metadata": {},
   "source": [
    "# Telegram bot\n",
    "\n",
    "![](images/telegram.jpg)\n",
    "\n",
    "Github проекта:  \n",
    "https://github.com/python-telegram-bot/python-telegram-bot  \n",
    "Документация:  \n",
    "https://github.com/python-telegram-bot/python-telegram-bot/wiki  \n",
    "\n",
    "\n",
    "```bash\n",
    "pip install python-telegram-bot\n",
    "```\n",
    "\n",
    "Примеры можно посмотреть здесь:  \n",
    "https://github.com/python-telegram-bot/python-telegram-bot/blob/master/examples/"
   ]
  },
  {
   "cell_type": "code",
   "execution_count": null,
   "id": "integral-mistake",
   "metadata": {},
   "outputs": [],
   "source": [
    "!pip install python-telegram-bot"
   ]
  },
  {
   "cell_type": "markdown",
   "id": "collect-reward",
   "metadata": {},
   "source": [
    "Погодите-ка, сперва надо завести самого бота!  \n",
    "  \n",
    "### Bot Father\n",
    "  \n",
    "В поиске Telegram находим Bot Farher'a и создаем своего бота с помощью команды `/newbot`. Затем вводим имя и юзернейм. Обратите внимание, что юзернейм должен оканчиваться на `bot`!\n"
   ]
  },
  {
   "cell_type": "markdown",
   "id": "requested-victory",
   "metadata": {},
   "source": [
    "![](images/how-to.png)"
   ]
  },
  {
   "cell_type": "markdown",
   "id": "meaningful-waste",
   "metadata": {},
   "source": [
    "Для нашего бота был сгенерирован уникальный непротухающий токен доступа к Телеграм:  \n",
    "`1774364697:AAFLXREpzYbaFg0QZLETiNGEdpf5kH3uylc`  \n",
    "**Если вздумаете создать своего бота, используйте иной токен!**"
   ]
  },
  {
   "cell_type": "code",
   "execution_count": null,
   "id": "narrow-vertical",
   "metadata": {},
   "outputs": [],
   "source": [
    "import html\n",
    "import json\n",
    "import logging\n",
    "import traceback\n",
    "\n",
    "from telegram import ParseMode\n",
    "from telegram import Update\n",
    "from telegram.ext import CallbackContext\n",
    "from telegram.ext import CommandHandler\n",
    "from telegram.ext import Filters\n",
    "from telegram.ext import MessageHandler\n",
    "from telegram.ext import Updater\n",
    "\n",
    "\n",
    "# top secret, not for distribution\n",
    "BOT_TOKEN = \"1774364697:AAFLXREpzYbaFg0QZLETiNGEdpf5kH3uylc\"\n",
    "DEVELOPER_CHAT_ID = \"333950593\"\n",
    "\n",
    "\n",
    "# Enable logging\n",
    "logging.basicConfig(\n",
    "    format='%(asctime)s - %(name)s - %(levelname)s - %(message)s',\n",
    "    level=logging.INFO\n",
    ")\n",
    "\n",
    "logger = logging.getLogger(__name__)\n",
    "\n",
    "\n",
    "# Define a few command handlers. These usually take the two arguments bot and\n",
    "# update. Error handlers also receive the raised TelegramError object in error.    \n",
    "def start(update: Update, _: CallbackContext):\n",
    "    \"\"\"Send a message when the command /start is issued.\"\"\"\n",
    "    user = update.effective_user\n",
    "    update.message.reply_markdown_v2(\n",
    "        f'Hi {user.mention_markdown_v2()}\\!'\n",
    "    )\n",
    "\n",
    "\n",
    "def help_command(update: Update, _: CallbackContext):\n",
    "    \"\"\"Send a message when the command /help is issued.\"\"\"\n",
    "    update.message.reply_text('Help!')\n",
    "\n",
    "\n",
    "def echo(update: Update, _: CallbackContext):\n",
    "    \"\"\"Echo the user message.\"\"\"\n",
    "    logger.info(f\"Receiving message from @{update.message.chat.username}\")\n",
    "    update.message.reply_text(update.message.text)\n",
    "\n",
    "\n",
    "def error_handler(update: Update, context: CallbackContext):\n",
    "    \"\"\"Log the error and send a telegram message to notify the developer.\"\"\"\n",
    "    # Log the error before we do anything else, so we can see it even if something breaks.\n",
    "    logger.error(msg=\"Exception while handling an update:\", exc_info=context.error)\n",
    "\n",
    "    # traceback.format_exception returns the usual python message about an exception, but as a\n",
    "    # list of strings rather than a single string, so we have to join them together.\n",
    "    tb_list = traceback.format_exception(None, context.error, context.error.__traceback__)\n",
    "    tb_string = ''.join(tb_list)\n",
    "\n",
    "    # Build the message with some markup and additional information about what happened.\n",
    "    # You might need to add some logic to deal with messages longer than the 4096 character limit.\n",
    "    update_str = update.to_dict() if isinstance(update, Update) else str(update)\n",
    "    message = (\n",
    "        f'An exception was raised while handling an update\\n'\n",
    "        f'<pre>update = {html.escape(json.dumps(update_str, indent=2, ensure_ascii=False))}'\n",
    "        '</pre>\\n\\n'\n",
    "        f'<pre>context.chat_data = {html.escape(str(context.chat_data))}</pre>\\n\\n'\n",
    "        f'<pre>context.user_data = {html.escape(str(context.user_data))}</pre>\\n\\n'\n",
    "        f'<pre>{html.escape(tb_string)}</pre>'\n",
    "    )\n",
    "\n",
    "    # Finally, send the message\n",
    "    context.bot.send_message(chat_id=DEVELOPER_CHAT_ID, text=message, parse_mode=ParseMode.HTML)\n",
    "\n",
    "\n",
    "def launch_bot():\n",
    "    \"\"\"Start the bot.\"\"\"\n",
    "    # Create the EventHandler and pass it your bot's token.\n",
    "    updater = Updater(BOT_TOKEN)\n",
    "\n",
    "    # Get the dispatcher to register handlers\n",
    "    dp = updater.dispatcher\n",
    "\n",
    "    # on different commands - answer in Telegram\n",
    "    dp.add_handler(CommandHandler(\"start\", start))\n",
    "    dp.add_handler(CommandHandler(\"help\", help_command))\n",
    "\n",
    "    # on non command i.e message - echo the message on Telegram\n",
    "    dp.add_handler(MessageHandler(Filters.text & ~Filters.command, echo))\n",
    "\n",
    "    # log all errors\n",
    "    dp.add_error_handler(error_handler)\n",
    "\n",
    "    # Start the Bot\n",
    "    updater.start_polling()\n",
    "\n",
    "    # Run the bot until you press Ctrl-C or the process receives SIGINT,\n",
    "    # SIGTERM or SIGABRT. This should be used most of the time, since\n",
    "    # start_polling() is non-blocking and will stop the bot gracefully.\n",
    "    updater.idle()"
   ]
  },
  {
   "cell_type": "code",
   "execution_count": null,
   "id": "transparent-ozone",
   "metadata": {},
   "outputs": [],
   "source": [
    "launch_bot()"
   ]
  }
 ],
 "metadata": {
  "kernelspec": {
   "display_name": "Python 3",
   "language": "python",
   "name": "python3"
  },
  "language_info": {
   "codemirror_mode": {
    "name": "ipython",
    "version": 3
   },
   "file_extension": ".py",
   "mimetype": "text/x-python",
   "name": "python",
   "nbconvert_exporter": "python",
   "pygments_lexer": "ipython3",
   "version": "3.8.6"
  }
 },
 "nbformat": 4,
 "nbformat_minor": 5
}
