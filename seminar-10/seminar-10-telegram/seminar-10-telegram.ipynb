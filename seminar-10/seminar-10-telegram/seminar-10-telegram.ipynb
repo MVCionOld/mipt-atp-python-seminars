{
 "cells": [
  {
   "cell_type": "markdown",
   "id": "studied-fight",
   "metadata": {},
   "source": [
    "# Telegram bot\n",
    "\n",
    "![](images/telegram.jpg)\n",
    "\n",
    "Github проекта:  \n",
    "https://github.com/python-telegram-bot/python-telegram-bot  \n",
    "Документация:  \n",
    "https://github.com/python-telegram-bot/python-telegram-bot/wiki  \n",
    "\n",
    "\n",
    "```bash\n",
    "pip install python-telegram-bot\n",
    "```\n",
    "\n",
    "Примеры можно посмотреть здесь:  \n",
    "https://github.com/python-telegram-bot/python-telegram-bot/blob/master/examples/"
   ]
  },
  {
   "cell_type": "code",
   "execution_count": 1,
   "id": "integral-mistake",
   "metadata": {},
   "outputs": [
    {
     "name": "stdout",
     "output_type": "stream",
     "text": [
      "Requirement already satisfied: python-telegram-bot in /opt/conda/lib/python3.8/site-packages (13.4.1)\n",
      "Requirement already satisfied: pytz>=2018.6 in /opt/conda/lib/python3.8/site-packages (from python-telegram-bot) (2020.5)\n",
      "Requirement already satisfied: APScheduler==3.6.3 in /opt/conda/lib/python3.8/site-packages (from python-telegram-bot) (3.6.3)\n",
      "Requirement already satisfied: certifi in /opt/conda/lib/python3.8/site-packages (from python-telegram-bot) (2020.12.5)\n",
      "Requirement already satisfied: tornado>=5.1 in /opt/conda/lib/python3.8/site-packages (from python-telegram-bot) (6.1)\n",
      "Requirement already satisfied: setuptools>=0.7 in /opt/conda/lib/python3.8/site-packages (from APScheduler==3.6.3->python-telegram-bot) (49.6.0.post20210108)\n",
      "Requirement already satisfied: tzlocal>=1.2 in /opt/conda/lib/python3.8/site-packages (from APScheduler==3.6.3->python-telegram-bot) (2.1)\n",
      "Requirement already satisfied: six>=1.4.0 in /opt/conda/lib/python3.8/site-packages (from APScheduler==3.6.3->python-telegram-bot) (1.15.0)\n"
     ]
    }
   ],
   "source": [
    "!pip install python-telegram-bot"
   ]
  },
  {
   "cell_type": "markdown",
   "id": "collect-reward",
   "metadata": {},
   "source": [
    "Погодите-ка, сперва надо завести самого бота!  \n",
    "  \n",
    "### Bot Father\n",
    "  \n",
    "В поиске Telegram находим Bot Farher'a и создаем своего бота с помощью команды `/newbot`. Затем вводим имя и юзернейм. Обратите внимание, что юзернейм должен оканчиваться на `bot`!\n"
   ]
  },
  {
   "cell_type": "markdown",
   "id": "requested-victory",
   "metadata": {},
   "source": [
    "![](images/how-to.png)"
   ]
  },
  {
   "cell_type": "markdown",
   "id": "meaningful-waste",
   "metadata": {},
   "source": [
    "Для нашего бота был сгенерирован уникальный непротухающий токен доступа к Телеграм:  \n",
    "`1774364697:AAFLXREpzYbaFg0QZLETiNGEdpf5kH3uylc`  \n",
    "**Если вздумаете создать своего бота, используйте иной токен!**"
   ]
  },
  {
   "cell_type": "code",
   "execution_count": 1,
   "id": "narrow-vertical",
   "metadata": {},
   "outputs": [],
   "source": [
    "import html\n",
    "import json\n",
    "import logging\n",
    "import traceback\n",
    "\n",
    "from telegram import ParseMode\n",
    "from telegram import Update\n",
    "from telegram.ext import CallbackContext\n",
    "from telegram.ext import CommandHandler\n",
    "from telegram.ext import Filters\n",
    "from telegram.ext import MessageHandler\n",
    "from telegram.ext import Updater\n",
    "\n",
    "\n",
    "# top secret, not for distribution\n",
    "BOT_TOKEN = \"1774364697:AAFLXREpzYbaFg0QZLETiNGEdpf5kH3uylc\"\n",
    "DEVELOPER_CHAT_ID = \"333950593\"\n",
    "\n",
    "\n",
    "# Enable logging\n",
    "logging.basicConfig(\n",
    "    format='%(asctime)s - %(name)s - %(levelname)s - %(message)s',\n",
    "    level=logging.INFO\n",
    ")\n",
    "\n",
    "logger = logging.getLogger(__name__)\n",
    "\n",
    "\n",
    "# Define a few command handlers. These usually take the two arguments bot and\n",
    "# update. Error handlers also receive the raised TelegramError object in error.    \n",
    "def start(update: Update, _: CallbackContext):\n",
    "    \"\"\"Send a message when the command /start is issued.\"\"\"\n",
    "    user = update.effective_user\n",
    "    update.message.reply_markdown_v2(\n",
    "        f'Hi {user.mention_markdown_v2()}\\!'\n",
    "    )\n",
    "\n",
    "\n",
    "def help_command(update: Update, _: CallbackContext):\n",
    "    \"\"\"Send a message when the command /help is issued.\"\"\"\n",
    "    update.message.reply_text('Help!')\n",
    "\n",
    "\n",
    "def echo(update: Update, _: CallbackContext):\n",
    "    \"\"\"Echo the user message.\"\"\"\n",
    "    logger.info(f\"Receiving message from @{update.message.chat.username}\")\n",
    "    update.message.reply_text(update.message.text)\n",
    "\n",
    "\n",
    "def error_handler(update: Update, context: CallbackContext):\n",
    "    \"\"\"Log the error and send a telegram message to notify the developer.\"\"\"\n",
    "    # Log the error before we do anything else, so we can see it even if something breaks.\n",
    "    logger.error(msg=\"Exception while handling an update:\", exc_info=context.error)\n",
    "\n",
    "    # traceback.format_exception returns the usual python message about an exception, but as a\n",
    "    # list of strings rather than a single string, so we have to join them together.\n",
    "    tb_list = traceback.format_exception(None, context.error, context.error.__traceback__)\n",
    "    tb_string = ''.join(tb_list)\n",
    "\n",
    "    # Build the message with some markup and additional information about what happened.\n",
    "    # You might need to add some logic to deal with messages longer than the 4096 character limit.\n",
    "    update_str = update.to_dict() if isinstance(update, Update) else str(update)\n",
    "    message = (\n",
    "        f'An exception was raised while handling an update\\n'\n",
    "        f'<pre>update = {html.escape(json.dumps(update_str, indent=2, ensure_ascii=False))}'\n",
    "        '</pre>\\n\\n'\n",
    "        f'<pre>context.chat_data = {html.escape(str(context.chat_data))}</pre>\\n\\n'\n",
    "        f'<pre>context.user_data = {html.escape(str(context.user_data))}</pre>\\n\\n'\n",
    "        f'<pre>{html.escape(tb_string)}</pre>'\n",
    "    )\n",
    "\n",
    "    # Finally, send the message\n",
    "    context.bot.send_message(chat_id=DEVELOPER_CHAT_ID, text=message, parse_mode=ParseMode.HTML)\n",
    "\n",
    "\n",
    "def launch_bot():\n",
    "    \"\"\"Start the bot.\"\"\"\n",
    "    # Create the EventHandler and pass it your bot's token.\n",
    "    updater = Updater(BOT_TOKEN)\n",
    "\n",
    "    # Get the dispatcher to register handlers\n",
    "    dp = updater.dispatcher\n",
    "\n",
    "    # on different commands - answer in Telegram\n",
    "    dp.add_handler(CommandHandler(\"start\", start))\n",
    "    dp.add_handler(CommandHandler(\"help\", help_command))\n",
    "\n",
    "    # on non command i.e message - echo the message on Telegram\n",
    "    dp.add_handler(MessageHandler(Filters.text & ~Filters.command, echo))\n",
    "\n",
    "    # log all errors\n",
    "    dp.add_error_handler(error_handler)\n",
    "\n",
    "    # Start the Bot\n",
    "    updater.start_polling()\n",
    "\n",
    "    # Run the bot until you press Ctrl-C or the process receives SIGINT,\n",
    "    # SIGTERM or SIGABRT. This should be used most of the time, since\n",
    "    # start_polling() is non-blocking and will stop the bot gracefully.\n",
    "    updater.idle()"
   ]
  },
  {
   "cell_type": "code",
   "execution_count": null,
   "id": "transparent-ozone",
   "metadata": {},
   "outputs": [
    {
     "name": "stderr",
     "output_type": "stream",
     "text": [
      "2021-04-04 20:06:47,391 - apscheduler.scheduler - INFO - Scheduler started\n",
      "2021-04-04 20:06:57,096 - __main__ - ERROR - Exception while handling an update:\n",
      "Traceback (most recent call last):\n",
      "  File \"/opt/conda/lib/python3.8/site-packages/telegram/ext/dispatcher.py\", line 442, in process_update\n",
      "    handler.handle_update(update, self, check, context)\n",
      "  File \"/opt/conda/lib/python3.8/site-packages/telegram/ext/handler.py\", line 160, in handle_update\n",
      "    return self.callback(update, context)\n",
      "  File \"<ipython-input-1-996ed1153305>\", line 45, in echo\n",
      "    updare.azaza()\n",
      "NameError: name 'updare' is not defined\n"
     ]
    }
   ],
   "source": [
    "launch_bot()"
   ]
  },
  {
   "cell_type": "markdown",
   "id": "governing-access",
   "metadata": {},
   "source": [
    "{\n",
    "    'message_id': 28, \n",
    "    'date': 1617566242, \n",
    "    'chat': {\n",
    "        'id': 333950593, \n",
    "        'type': 'private', \n",
    "        'username': 'mvcion', \n",
    "        'first_name': 'Mikhail', \n",
    "        'last_name': 'Tsion'\n",
    "    }, \n",
    "    'text': 'Как дела?', \n",
    "    'entities': [], \n",
    "    'caption_entities': [], \n",
    "    'photo': [], \n",
    "    'new_chat_members': [], \n",
    "    'new_chat_photo': [], \n",
    "    'delete_chat_photo': False, \n",
    "    'group_chat_created': False, \n",
    "    'supergroup_chat_created': False, \n",
    "    'channel_chat_created': False, \n",
    "    'from': {\n",
    "        'id': 333950593, \n",
    "        'first_name': 'Mikhail', \n",
    "        'is_bot': False, \n",
    "        'last_name': 'Tsion', \n",
    "        'username': 'mvcion', \n",
    "        'language_code': 'en'\n",
    "    }\n",
    "}"
   ]
  }
 ],
 "metadata": {
  "kernelspec": {
   "display_name": "Python 3",
   "language": "python",
   "name": "python3"
  },
  "language_info": {
   "codemirror_mode": {
    "name": "ipython",
    "version": 3
   },
   "file_extension": ".py",
   "mimetype": "text/x-python",
   "name": "python",
   "nbconvert_exporter": "python",
   "pygments_lexer": "ipython3",
   "version": "3.8.6"
  }
 },
 "nbformat": 4,
 "nbformat_minor": 5
}
