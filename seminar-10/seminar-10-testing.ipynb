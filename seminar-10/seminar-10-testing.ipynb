{
 "cells": [
  {
   "cell_type": "code",
   "execution_count": null,
   "metadata": {
    "slideshow": {
     "slide_type": "skip"
    }
   },
   "outputs": [],
   "source": [
    "from IPython.core.interactiveshell import InteractiveShell\n",
    "InteractiveShell.ast_node_interactivity = \"all\""
   ]
  },
  {
   "cell_type": "markdown",
   "metadata": {
    "slideshow": {
     "slide_type": "slide"
    }
   },
   "source": [
    "# Unit testing"
   ]
  },
  {
   "cell_type": "markdown",
   "metadata": {},
   "source": [
    "Накостылим тестов (пожалуйста, не делайте так):"
   ]
  },
  {
   "cell_type": "code",
   "execution_count": null,
   "metadata": {},
   "outputs": [],
   "source": [
    "nums = [1, 2, 4]"
   ]
  },
  {
   "cell_type": "code",
   "execution_count": null,
   "metadata": {},
   "outputs": [],
   "source": [
    "assert sum(nums) == 7, \"Should be 7\""
   ]
  },
  {
   "cell_type": "code",
   "execution_count": null,
   "metadata": {
    "slideshow": {
     "slide_type": "slide"
    }
   },
   "outputs": [],
   "source": [
    "assert sum(nums) == 6, \"Should be 6\""
   ]
  },
  {
   "cell_type": "markdown",
   "metadata": {
    "slideshow": {
     "slide_type": "slide"
    }
   },
   "source": [
    "В Python встроен модуль **unittest**, который поддерживает автоматизацию тестов, использование общего кода для настройки и завершения тестов, объединение тестов в группы, а также позволяет отделять тесты от фреймворка для вывода информации.\n",
    "\n",
    "Для автоматизации тестов, unittest поддерживает некоторые важные концепции:\n",
    "\n",
    "**Испытательный стенд (test fixture)** - выполняется подготовка, необходимая для выполнения тестов и все необходимые действия для очистки после выполнения тестов. Это может включать, например, создание временных баз данных или запуск серверного процесса.\n",
    "\n",
    "**Тестовый случай (test case)** - минимальный блок тестирования. Он проверяет ответы для разных наборов данных. Модуль unittest предоставляет базовый класс **TestCase**, который можно использовать для создания новых тестовых случаев.\n",
    "\n",
    "**Набор тестов (test suite)** - несколько тестовых случаев, наборов тестов или и того и другого. Он используется для объединения тестов, которые должны быть выполнены вместе.\n",
    "\n",
    "**Исполнитель тестов (test runner)** - компонент, который управляет выполнением тестов и предоставляет пользователю результат. Исполнитель может использовать графический или текстовый интерфейс или возвращать специальное значение, которое сообщает о результатах выполнения тестов."
   ]
  },
  {
   "cell_type": "code",
   "execution_count": null,
   "metadata": {
    "slideshow": {
     "slide_type": "slide"
    }
   },
   "outputs": [],
   "source": [
    "# Простой пример проверки работы строковых методов\n",
    "\n",
    "import unittest\n",
    "\n",
    "class TestStringMethods(unittest.TestCase):\n",
    "    # тестовые методы должны начинаться с test\n",
    "    def test_upper(self):\n",
    "        self.assertEqual('foo'.upper(), 'FOO')\n",
    "\n",
    "    def test_isupper(self):\n",
    "        self.assertTrue('FOO'.isupper())\n",
    "        self.assertFalse('Foo'.isupper())\n",
    "\n",
    "    def test_split(self):\n",
    "        s = 'hello world'\n",
    "        self.assertEqual(s.split(), ['hello', 'world'])\n",
    "        # Проверим, что s.split не работает, если разделитель - не строка\n",
    "        with self.assertRaises(TypeError):\n",
    "            s.split(2)\n",
    "\n",
    "if __name__ == '__main__':\n",
    "    unittest.main()"
   ]
  },
  {
   "cell_type": "code",
   "execution_count": null,
   "metadata": {
    "slideshow": {
     "slide_type": "slide"
    }
   },
   "outputs": [],
   "source": [
    "# Сохраним код на будущее\n",
    "\n",
    "def dump_to(path):\n",
    "    with open(path, 'w') as f:\n",
    "        f.write(_i)  # _i это \"последний выполненный Input\" в iPython\n",
    "        \n",
    "dump_to('strings.py')"
   ]
  },
  {
   "cell_type": "markdown",
   "metadata": {
    "slideshow": {
     "slide_type": "fragment"
    }
   },
   "source": [
    "## Упс.. Подружим unittest с jupyter notebook:\n",
    "\n",
    "Q: А что случилось?\n",
    "\n",
    "A: The reason is that unittest.main looks at sys.argv and first parameter is what started IPython or Jupyter, therefore the error about kernel connection file not being a valid attribute. Passing explicit list to unittest.main will prevent IPython and Jupyter look at sys.argv. Passing exit=False will prevent unittest.main to shutdown the kernell process"
   ]
  },
  {
   "cell_type": "code",
   "execution_count": null,
   "metadata": {
    "slideshow": {
     "slide_type": "subslide"
    }
   },
   "outputs": [],
   "source": [
    "# Простой пример проверки работы строковых методов\n",
    "\n",
    "# тестовые случаи должны начинаться с Test\n",
    "class TestStringMethods(unittest.TestCase):\n",
    "    \n",
    "    # тестовые методы должны начинаться с test\n",
    "    def test_upper(self):\n",
    "        self.assertEqual('foo'.upper(), 'FOO')\n",
    "\n",
    "    def test_isupper(self):\n",
    "        self.assertTrue('FOO'.isupper())\n",
    "        self.assertFalse('Foo'.isupper())\n",
    "\n",
    "    def test_split(self):\n",
    "        s = 'hello world'\n",
    "        self.assertEqual(s.split(), ['hello', 'world'])\n",
    "        # Проверим, что s.split не работает, если разделитель - не строка\n",
    "        with self.assertRaises(TypeError):\n",
    "            s.split(2)\n",
    "\n",
    "if __name__ == '__main__':\n",
    "    unittest.main(\n",
    "        argv=['first-arg-is-ignored'],  # не смотрим на аргументы запуска ядра\n",
    "        exit=False                      # чтобы по завершению тестов не завершать работу ядра jupyter\n",
    "    )"
   ]
  },
  {
   "cell_type": "markdown",
   "metadata": {
    "slideshow": {
     "slide_type": "slide"
    }
   },
   "source": [
    "## Интерфейс командной строки"
   ]
  },
  {
   "cell_type": "code",
   "execution_count": null,
   "metadata": {
    "slideshow": {
     "slide_type": "-"
    }
   },
   "outputs": [],
   "source": [
    "!python3 -m unittest strings                               # тестируем весь модуль\n",
    "!python3 -m unittest strings.TestStringMethods             # тестируем конкретный класс модуля\n",
    "!python3 -m unittest strings.TestStringMethods.test_split  # тестируем конкретный метод класса"
   ]
  },
  {
   "cell_type": "code",
   "execution_count": null,
   "metadata": {
    "slideshow": {
     "slide_type": "subslide"
    }
   },
   "outputs": [],
   "source": [
    "# С помощью флага -v (verbose==подробный) можно получить более детальный отчёт:\n",
    "!python3 -m unittest -v strings"
   ]
  },
  {
   "cell_type": "markdown",
   "metadata": {
    "slideshow": {
     "slide_type": "subslide"
    }
   },
   "source": [
    "## Ещё флаги:\n",
    "\n",
    "-b (--buffer) - вывод программы при провале теста будет показан, а не скрыт, как обычно.\n",
    "\n",
    "-c (--catch) - Ctrl+C во время выполнения теста ожидает завершения текущего теста и затем сообщает результаты на данный момент. Второе нажатие Ctrl+C вызывает обычное исключение KeyboardInterrupt.\n",
    "\n",
    "-f (--failfast) - выход после первого же неудачного теста.\n",
    "\n",
    "--locals (начиная с Python 3.5) - показывать локальные переменные для провалившихся тестов."
   ]
  },
  {
   "cell_type": "markdown",
   "metadata": {
    "slideshow": {
     "slide_type": "slide"
    }
   },
   "source": [
    "## Обнаружение тестов\n",
    "\n",
    "unittest поддерживает простое обнаружение тестов. Для совместимости с обнаружением тестов, все файлы тестов должны быть модулями или пакетами, импортируемыми из директории верхнего уровня проекта ([см. подробнее о правилах наименования модулей](https://pythonworld.ru/osnovy/rabota-s-modulyami-sozdanie-podklyuchenie-instrukciyami-import-i-from.html#id3 \"\")).\n",
    "\n",
    "Обнаружение тестов реализовано в TestLoader.discover(), но может быть использовано из командной строки:"
   ]
  },
  {
   "cell_type": "code",
   "execution_count": null,
   "metadata": {},
   "outputs": [],
   "source": [
    "!mv strings.py test_strings.py  #чтобы сработало переименуем модуль в test....py\n",
    "!python3 -m  unittest  discover\n",
    "\n",
    "#-v (--verbose) - подробный вывод.\n",
    "#-s (--start-directory) directory_name - директория начала обнаружения тестов (текущая по умолчанию).\n",
    "#-p (--pattern) pattern - шаблон названия файлов с тестами (по умолчанию test*.py).\n",
    "#-t (--top-level-directory) directory_name - директория верхнего уровня проекта (по умолчанию равна start-directory)."
   ]
  },
  {
   "cell_type": "markdown",
   "metadata": {
    "slideshow": {
     "slide_type": "slide"
    }
   },
   "source": [
    "## Организация тестового кода"
   ]
  },
  {
   "cell_type": "code",
   "execution_count": null,
   "metadata": {},
   "outputs": [],
   "source": [
    "# Создадим класс, который будем тестировать\n",
    "\n",
    "class Widget:\n",
    "    \n",
    "    def __init__(self, name, x = 50, y = 50):\n",
    "        self.name = name\n",
    "        self.x = x\n",
    "        self.y = y\n",
    "        \n",
    "    def size(self):\n",
    "        return (self.x, self.y)"
   ]
  },
  {
   "cell_type": "markdown",
   "metadata": {
    "slideshow": {
     "slide_type": "subslide"
    }
   },
   "source": [
    "Базовые блоки тестирования это тестовые случаи - простые случаи, которые должны быть проверены на корректность.\n",
    "\n",
    "Тестовый случай создаётся путём наследования от unittest.TestCase.\n",
    "\n",
    "Тестирующий код должен быть самостоятельным, то есть никак не зависеть от других тестов.\n",
    "\n",
    "Простейший подкласс TestCase может просто реализовывать тестовый метод (метод, начинающийся с test)\n",
    "\n",
    "    "
   ]
  },
  {
   "cell_type": "code",
   "execution_count": null,
   "metadata": {},
   "outputs": [],
   "source": [
    "\n",
    "class DefaultWidgetSizeTestCase(unittest.TestCase):\n",
    "    def test_default_widget_size(self):\n",
    "        widget = Widget('The widget')\n",
    "        self.assertEqual(widget.size(), (50, 50))\n",
    "\n",
    "if __name__ == '__main__':\n",
    "\n",
    "    unittest.main(argv=['',], defaultTest='DefaultWidgetSizeTestCase', exit=False)"
   ]
  },
  {
   "cell_type": "markdown",
   "metadata": {
    "slideshow": {
     "slide_type": "subslide"
    }
   },
   "source": [
    "Тестов может быть много, и часть кода настройки может повторяться. К счастью, мы можем определить код настройки путём реализации метода **setUp()**, который будет запускаться _перед_ каждым тестом.\n",
    "\n",
    "Мы также можем определить метод **tearDown()**, который будет запускаться _после_ каждого теста."
   ]
  },
  {
   "cell_type": "code",
   "execution_count": null,
   "metadata": {},
   "outputs": [],
   "source": [
    "\n",
    "class SimpleWidgetTestCase(unittest.TestCase):\n",
    "    def setUp(self):\n",
    "        self.widget = Widget('The widget')\n",
    "\n",
    "    def test_default_widget_size(self):\n",
    "        self.assertEqual(self.widget.size(), (50,50),\n",
    "                         'incorrect default size')\n",
    "\n",
    "    def test_widget_resize(self):\n",
    "        self.widget.resize(100,150)\n",
    "        self.assertEqual(self.widget.size(), (100,150),\n",
    "                         'wrong size after resize')\n",
    "        \n",
    "    def tearDown(self):\n",
    "        pass\n",
    "        \n",
    "if __name__ == '__main__':\n",
    "\n",
    "    unittest.main(argv=['',], defaultTest='SimpleWidgetTestCase', exit=False)"
   ]
  },
  {
   "cell_type": "markdown",
   "metadata": {
    "slideshow": {
     "slide_type": "subslide"
    }
   },
   "source": [
    "Можно разместить все тесты в том же файле, что и сама программа (таком как widgets.py), но размещение тестов в отдельном файле (таком как test_widget.py) имеет много преимуществ:\n",
    "\n",
    "- Модуль с тестом может быть запущен автономно из командной строки.\n",
    "- Тестовый код может быть легко отделён от программы.\n",
    "- Меньше искушения изменить тесты для соответствия коду программы без видимой причины.\n",
    "- Тестовый код должен изменяться гораздо реже, чем программа.\n",
    "- Протестированный код может быть легче переработан.\n",
    "- Тесты для модулей на C должны быть в отдельных модулях, так почему же не быть последовательным?\n",
    "- Если стратегия тестирования изменяется, нет необходимости изменения кода программы."
   ]
  },
  {
   "cell_type": "markdown",
   "metadata": {
    "slideshow": {
     "slide_type": "slide"
    }
   },
   "source": [
    "## Пропуск тестов и ожидаемые ошибки\n",
    "\n",
    "unittest поддерживает пропуск отдельных тестов, а также классов тестов. Вдобавок, поддерживается пометка теста как \"не работает, но так и надо\".\n",
    "\n",
    "Пропуск теста осуществляется использованием декоратора **skip()** или одного из его условных вариантов."
   ]
  },
  {
   "cell_type": "code",
   "execution_count": null,
   "metadata": {},
   "outputs": [],
   "source": [
    "__version__ = (0, 9)\n",
    "platform = \"ubuntu\"\n",
    "\n",
    "\n",
    "class MyTestCase(unittest.TestCase):\n",
    "\n",
    "    @unittest.skip(\"demonstrating skipping\")\n",
    "    def test_nothing(self):\n",
    "        self.fail(\"shouldn't happen\")\n",
    "\n",
    "    @unittest.skipIf(__version__ < (1, 3),\n",
    "                     \"not supported in this library version\")\n",
    "    def test_format(self):\n",
    "        # Tests that work for only a certain version of the library.\n",
    "        pass\n",
    "\n",
    "    @unittest.skipUnless(platform.startswith(\"win\"), \"requires Windows\")\n",
    "    def test_windows_support(self):\n",
    "        # windows specific testing code\n",
    "        pass\n",
    "\n",
    "if __name__ == '__main__':\n",
    "\n",
    "    unittest.main(argv=['','-v'], defaultTest='MyTestCase', exit=False)"
   ]
  },
  {
   "cell_type": "markdown",
   "metadata": {
    "slideshow": {
     "slide_type": "subslide"
    }
   },
   "source": [
    "#### Классы также могут быть пропущены:"
   ]
  },
  {
   "cell_type": "code",
   "execution_count": null,
   "metadata": {},
   "outputs": [],
   "source": [
    "@unittest.skip(\"showing class skipping\")\n",
    "class MySkippedTestCase(unittest.TestCase):\n",
    "    def test_not_run(self):\n",
    "        pass\n",
    "    \n",
    "if __name__ == '__main__':\n",
    "\n",
    "    unittest.main(argv=['','-v'], defaultTest='MySkippedTestCase', exit=False)"
   ]
  },
  {
   "cell_type": "markdown",
   "metadata": {
    "slideshow": {
     "slide_type": "subslide"
    }
   },
   "source": [
    "#### Ожидаемые ошибки используют декоратор expectedFailure():"
   ]
  },
  {
   "cell_type": "code",
   "execution_count": null,
   "metadata": {},
   "outputs": [],
   "source": [
    "class ExpectedFailureTestCase(unittest.TestCase):\n",
    "    @unittest.expectedFailure\n",
    "    def test_fail(self):\n",
    "        self.assertEqual(1, 0, \"broken\")\n",
    "\n",
    "if __name__ == '__main__':\n",
    "\n",
    "    unittest.main(argv=['','-v'], defaultTest='ExpectedFailureTestCase', exit=False)        "
   ]
  },
  {
   "cell_type": "markdown",
   "metadata": {
    "slideshow": {
     "slide_type": "subslide"
    }
   },
   "source": [
    "#### Очень просто сделать свой декоратор. Например, следующий декоратор пропускает тест, если переданный объект не имеет указанного атрибута.\n",
    "\n",
    "\n",
    "Для пропущенных тестов не запускаются setUp() и tearDown(). Для пропущенных классов не запускаются setUpClass() и tearDownClass(). Для пропущенных модулей не запускаются setUpModule() и tearDownModule()."
   ]
  },
  {
   "cell_type": "code",
   "execution_count": null,
   "metadata": {},
   "outputs": [],
   "source": [
    "obj1 = [1, 2, 3]\n",
    "\n",
    "\n",
    "def skipUnlessHasattr(obj, attr):\n",
    "    if hasattr(obj, attr):\n",
    "        return lambda func: func\n",
    "    return unittest.skip(\"{!r} doesn't have {!r}\".format(obj, attr))\n",
    "\n",
    "\n",
    "class YetAnotherTestCase(unittest.TestCase):\n",
    "    @skipUnlessHasattr(obj1,'add')\n",
    "    def test_fail(self):\n",
    "        pass\n",
    "\n",
    "if __name__ == '__main__':\n",
    "\n",
    "    unittest.main(argv=['','-v'], defaultTest='YetAnotherTestCase', exit=False)        "
   ]
  },
  {
   "cell_type": "markdown",
   "metadata": {
    "slideshow": {
     "slide_type": "subslide"
    }
   },
   "source": [
    "#### Эй, а что ещё за setUpClass() и setUpModule() ??"
   ]
  },
  {
   "cell_type": "code",
   "execution_count": null,
   "metadata": {},
   "outputs": [],
   "source": [
    "import unittest\n",
    "\n",
    "class Test(unittest.TestCase):\n",
    "    @classmethod\n",
    "    def setUpClass(cls):\n",
    "        cls._connection = createExpensiveConnectionObject()\n",
    "\n",
    "    @classmethod\n",
    "    def tearDownClass(cls):\n",
    "        cls._connection.destroy()\n",
    "        \n",
    "\n",
    "#These should be implemented as functions:\n",
    "\n",
    "def setUpModule():\n",
    "    createConnection()\n",
    "\n",
    "def tearDownModule():\n",
    "    closeConnection()"
   ]
  },
  {
   "cell_type": "markdown",
   "metadata": {
    "slideshow": {
     "slide_type": "subslide"
    }
   },
   "source": [
    "#### Различение итераций теста с помощью подтестов\n",
    "\n",
    "Когда некоторые тесты имеют лишь незначительные отличия, например некоторые параметры, unittest позволяет различать их внутри одного тестового метода, используя менеджер контекста **subTest()**."
   ]
  },
  {
   "cell_type": "code",
   "execution_count": null,
   "metadata": {},
   "outputs": [],
   "source": [
    "class NumbersTest(unittest.TestCase):\n",
    "\n",
    "    def test_even(self):\n",
    "        \"\"\"\n",
    "        Test that numbers between 0 and 3 are all even.\n",
    "        \"\"\"\n",
    "        for i in range(0, 4):\n",
    "            with self.subTest(i=i):\n",
    "                self.assertEqual(i % 2, 0)\n",
    "                \n",
    "unittest.main(argv=['','-v'], defaultTest='NumbersTest', exit=False)           "
   ]
  },
  {
   "cell_type": "markdown",
   "metadata": {
    "slideshow": {
     "slide_type": "slide"
    }
   },
   "source": [
    "#### Проверки на успешность\n",
    "\n",
    "Модуль unittest предоставляет множество функций для самых различных проверок:\n",
    "\n",
    "```\n",
    "assertEqual(a, b) — a == b\n",
    "\n",
    "assertNotEqual(a, b) — a != b\n",
    "\n",
    "assertTrue(x) — bool(x) is True\n",
    "\n",
    "assertFalse(x) — bool(x) is False\n",
    "\n",
    "assertIs(a, b) — a is b\n",
    "\n",
    "assertIsNot(a, b) — a is not b\n",
    "\n",
    "assertIsNone(x) — x is None\n",
    "\n",
    "assertIsNotNone(x) — x is not None\n",
    "\n",
    "assertIn(a, b) — a in b\n",
    "\n",
    "assertNotIn(a, b) — a not in b\n",
    "\n",
    "assertIsInstance(a, b) — isinstance(a, b)\n",
    "\n",
    "assertNotIsInstance(a, b) — not isinstance(a, b)\n",
    "\n",
    "assertRaises(exc, fun, *args, **kwds) — fun(*args, **kwds) порождает исключение exc\n",
    "\n",
    "assertRaisesRegex(exc, r, fun, *args, **kwds) — fun(*args, **kwds) порождает исключение exc и сообщение соответствует регулярному выражению r\n",
    "\n",
    "assertWarns(warn, fun, *args, **kwds) — fun(*args, **kwds) порождает предупреждение\n",
    "\n",
    "assertWarnsRegex(warn, r, fun, *args, **kwds) — fun(*args, **kwds) порождает предупреждение и сообщение соответствует регулярному выражению r\n",
    "\n",
    "assertAlmostEqual(a, b) — round(a-b, 7) == 0\n",
    "\n",
    "assertNotAlmostEqual(a, b) — round(a-b, 7) != 0\n",
    "\n",
    "assertGreater(a, b) — a > b\n",
    "\n",
    "assertGreaterEqual(a, b) — a >= b\n",
    "\n",
    "assertLess(a, b) — a < b\n",
    "\n",
    "assertLessEqual(a, b) — a <= b\n",
    "\n",
    "assertRegex(s, r) — r.search(s)\n",
    "\n",
    "assertNotRegex(s, r) — not r.search(s)\n",
    "\n",
    "assertCountEqual(a, b) — a и b содержат те же элементы в одинаковых количествах, но порядок не важен\n",
    "```"
   ]
  },
  {
   "cell_type": "markdown",
   "metadata": {
    "slideshow": {
     "slide_type": "slide"
    }
   },
   "source": [
    "#### Если мы хотим кастомизировать запуск имеющихся тестов"
   ]
  },
  {
   "cell_type": "code",
   "execution_count": null,
   "metadata": {},
   "outputs": [],
   "source": [
    "\n",
    "def MySuite():\n",
    "    suite = unittest.TestSuite()\n",
    "    suite.addTest(SimpleWidgetTestCase('test_default_widget_size'))\n",
    "    suite.addTest(SimpleWidgetTestCase('test_widget_resize'))\n",
    "    suite.addTest(NumbersTest('test_even'))\n",
    "    suite.addTest(YetAnotherTestCase('test_fail'))\n",
    "    return suite\n",
    "\n",
    "if __name__ == '__main__':\n",
    "    runner = unittest.TextTestRunner(verbosity=2)\n",
    "    runner.run(MySuite())"
   ]
  }
 ],
 "metadata": {
  "celltoolbar": "Slideshow",
  "kernelspec": {
   "display_name": "Python 3",
   "language": "python",
   "name": "python3"
  },
  "language_info": {
   "codemirror_mode": {
    "name": "ipython",
    "version": 3
   },
   "file_extension": ".py",
   "mimetype": "text/x-python",
   "name": "python",
   "nbconvert_exporter": "python",
   "pygments_lexer": "ipython3",
   "version": "3.8.6"
  }
 },
 "nbformat": 4,
 "nbformat_minor": 2
}
