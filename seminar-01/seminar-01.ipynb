{
 "cells": [
  {
   "cell_type": "code",
   "execution_count": null,
   "id": "suited-vacuum",
   "metadata": {},
   "outputs": [],
   "source": [
    "from IPython.core.interactiveshell import InteractiveShell\n",
    "InteractiveShell.ast_node_interactivity = \"all\""
   ]
  },
  {
   "cell_type": "markdown",
   "id": "owned-singing",
   "metadata": {},
   "source": [
    "# Организационная часть"
   ]
  },
  {
   "cell_type": "markdown",
   "id": "copyrighted-malaysia",
   "metadata": {},
   "source": [
    "### Ориентировочное расписание:\n",
    "\n",
    "01. (05.02) Intro + КОНТЕСТ-1\n",
    "02. (12.02) IF-ELSE, Loops. Containers. + КОНТЕСТ-2\n",
    "03. (19.02) Dicts, Sets. collections. + КОНТЕСТ-3\n",
    "04. (26.03) Functions №1 (functions, generators). + КОНТЕСТ-4\n",
    "05. (05.03) Functions №2 (scope, decorators).\n",
    "06. (12.03) Strings, codings, regex. Standard functions. Git. + КОНТЕСТ-5\n",
    "07. (19.03) OOP №1. + РЕВЬЮ-1\n",
    "08. (26.03) OOP №2. + КОНТЕСТ-6\n",
    "09. (02.04) Unit testing / Pytest / SQL\n",
    "10. (09.04) Web №1. (webscraping)\n",
    "11. (16.04) Web №2. (Flask framework) + РЕВЬЮ-2\n",
    "12. (23.04) Numpy & Cython (code optimization)\n",
    "13. (30.05) Python for data analysis №1. (Pandas) + ЛАБА\n",
    "14. (07.05) Python for data analysis №2. (Matplotlib)  \n",
    "**P.S.:** Контесты привязаны тематически к последнему семинару, выдаются каждую пятницу. Дата выдачи заданий на ревью и лабораторной работы уточняется."
   ]
  },
  {
   "cell_type": "markdown",
   "id": "round-trademark",
   "metadata": {},
   "source": [
    "# Как сдать курс\n",
    "\n",
    "Активности:\n",
    "1. Контесты (5-7)\n",
    "    - 10 баллов за каждый\n",
    "    - 2 недели на контест (потом сдавать нельзя)\n",
    "2. Code Review (2)\n",
    "    - Работа над кодом в **несколько** итераций\n",
    "    - Есть обязательная часть\n",
    "    - Есть бонусная часть: до 2 доп.баллов\n",
    "    - 2 недели на первую (**рабочую!**) попытку\n",
    "    - 1 неделя на каждую следующую итерацию\n",
    "3. Лабораторная работа (1):\n",
    "    - 10 баллов\n",
    "    - Необходимо набрать хотя бы 1  \n",
    "    \n",
    "    \n",
    "\n",
    "## 1. Если вы сдали 2 ревью и лабораторную работу\n",
    "### $\\min(10, \\lfloor9 * \\frac{\\text{contest} + \\text{lab}}{\\text{max_contest} + \\text{max_lab}} + \\text{review_bonus} \\rfloor)$ \n",
    "\n",
    "_Например_, 6 контестов + 1 лаба  \n",
    "max_points = 70\n",
    "\n",
    "**Кейс 1:** Вы набрали 70 баллов и получили все бонусы за ревью:\n",
    "\n",
    "### $\\min(10, \\lfloor9 * \\frac{70}{70} + 4 \\rfloor) = \\min(10, 13) = 10$ \n",
    "\n",
    "**Кейс 2:** 35 баллов и по бонусному баллу за каждое ревью:\n",
    "\n",
    "###  $\\lfloor9 * \\frac{35}{70} + 2 \\rfloor = \\lfloor 6.5 \\rfloor = 6$ \n",
    "\n",
    "**Кейс 3:** 24 балла и ни одного бонусного балла:\n",
    "\n",
    "### $\\lfloor9 * \\frac{24}{70} + 0 \\rfloor = \\lfloor 3.0857.. \\rfloor = 3$ \n",
    "\n",
    "**Кейс 4:** 23 балла и ни одного бонусного балла:\n",
    "\n",
    "### $\\lfloor9 * \\frac{23}{70} + 0 \\rfloor = \\lfloor 2.9571.. \\rfloor = 2$ \n",
    "\n",
    "\n",
    "\n",
    "## 2. Если вы сдали 1 ревью И лабораторную работу\n",
    "Верхняя грань предыдущей по пятибалльной шкале оценки\n",
    "\n",
    "**Кейс 1**: \n",
    "### $ отл(10) \\to хор(7)$   \n",
    "**Кейс 2**: \n",
    "### $ хор(6) \\to уд(4)$   \n",
    "**Кейс 3**: \n",
    "### $ уд(3) \\to неуд (2)$   \n",
    "**Кейс 4**: \n",
    "### $ неуд(2) \\to неуд (2)$   \n",
    "\n",
    "\n",
    "\n",
    "## 3. Если вы сдали 0 ревью или не сдали  лабораторную работу:\n",
    "<img src=\"images/потрачено.jpg\" align=\"center\" style=\"height: 400px;\"/>"
   ]
  },
  {
   "cell_type": "markdown",
   "id": "decent-macintosh",
   "metadata": {},
   "source": [
    "## Историческая справка\n",
    "\n",
    "Разработка языка Python была начата в конце 1980-х годов сотрудником голландского института CWI Гвидо ван Россумом. Для распределённой ОС Amoeba требовался расширяемый скриптовый язык, и Гвидо начал писать Python на досуге. В феврале 1991 года Гвидо опубликовал исходный текст в группе новостей alt.sources. С самого начала Python проектировался как объектно-ориентированный язык.\n",
    "\n",
    "Название языка произошло вовсе не от вида пресмыкающихся. Автор назвал язык в честь популярного британского комедийного телешоу 1970-х «Летающий цирк Монти Пайтона». Впрочем, всё равно название языка чаще связывают именно со змеёй, нежели с передачей — пиктограммы файлов в KDE или в Microsoft Windows и даже эмблема на сайте python.org (до выхода версии 2.5) изображают змеиные головы. Важная цель разработчиков Python — создавать его забавным для использования. Это отражено в его названии, которое пришло из Монти Пайтона. Также это отражено в иногда игривом подходе к обучающим программам и справочным материалам, таким как примеры использования, которые используют понятия спама и яиц вместо стандартных foo и bar.\n",
    "\n",
    "Наличие дружелюбного, отзывчивого сообщества пользователей считается наряду с дизайнерской интуицией Гвидо одним из факторов успеха Python. Развитие языка происходит согласно чётко регламентированному процессу создания, обсуждения, отбора и реализации документов PEP (англ. Python Enhancement Proposal) — предложений по развитию Python.\n",
    "\n",
    "3 декабря 2008 года, после длительного тестирования, вышла первая версия Python 3000 (или Python 3.0, также используется сокращение Py3k). В Python 3000 устранены многие недостатки архитектуры с максимально возможным (но не полным) сохранением совместимости со старыми версиями Python. На сегодня поддерживаются обе ветви развития (Python 3.x и 2.x).  \n",
    "  \n",
    "Мажорные версии:\n",
    "* Python 1.0 — январь 1994\n",
    "* Python 2.0 — 16.10.2000\n",
    "  * Python 2.7 - 3.07.2010\n",
    "* Python 3.0 — 3.12.2008\n",
    "  * Python 3.7.0 - 27.06.2018\n",
    "  * Python 3.8.0 - 14.10.2019\n",
    "  * Python 3.9.0 - 05.10.2020\n",
    " \n",
    "Сейчас поддерживаются Python 3.6+, поддержка Python 2.х (а именно последняя минорная версия 2.7.18) прекращена в 2020. Ветка Python 2.7 была сформирована в 2010 году и её поддержку изначально планировалось прекратить в 2015 году, но из-за недостаточно активной миграции проектов на Python 3 и проблем, возникающих при переработке кода, время жизни Python 2 было продлено до 2020 года.  \n",
    "\n",
    "Разница 2.x и 3.x:\n",
    "* Синтаксически несовместимы\n",
    "* Python 2 vs Python 3: Key Differences\n",
    "  * [Тык №1](https://sebastianraschka.com/Articles/2014_python_2_3_key_diff.html)\n",
    "  * [Тык №2](https://www.guru99.com/python-2-vs-python-3.html#:~:text=KEY%20DIFFERENCE,string%20value%20with%20%22u.%22)  \n",
    "  \n",
    "**В курсе используется версия 3.6+**"
   ]
  },
  {
   "cell_type": "markdown",
   "id": "moved-profile",
   "metadata": {},
   "source": [
    "## Как запустить что-то на Python\n",
    "- Интерпретатор командной строки\n",
    "- Запуск интерпретации файла\n",
    "- Продвинутые интерпретаторы командной строки (ipython, ipython-notebook)\n",
    "- Базовый редактор (idle)\n",
    "- Продвинутые IDE (pycharm)"
   ]
  },
  {
   "cell_type": "markdown",
   "id": "worldwide-bunny",
   "metadata": {},
   "source": [
    "## Установка\n",
    "\n",
    "#### Установка Python\n",
    "[Для Windows & Linux](https://pythonworld.ru/osnovy/skachat-python.html)  \n",
    "[Для Mac OS X](https://www.python.org/downloads/)\n",
    "\n",
    "#### Установка IDE\n",
    "Настоятельно рекомендуется использовать Pycharm. [Ссылка для скачивания](https://www.jetbrains.com/pycharm/)\n",
    "  \n",
    "Маленький лайфхак -- если зарегистрироваться на сайте jetbrains используя почту в домене phystech.edu, можно получить лицензию на более крутую его версию. "
   ]
  },
  {
   "cell_type": "markdown",
   "id": "comic-chaos",
   "metadata": {},
   "source": [
    "## Python vs C++:\n",
    "#### Интерпретируемость vs Компилируемость\n",
    "- В компилируемых языках код программы нужно скомпилировать в т.н. исполняемый код. Этот код затем будет исполнять нечто, что ничего не знает про исходный язык программирования.\n",
    "\n",
    "- В интерпретируемом же языке исполнителем является сама программа, которая анализирует исходный код. Python - интерпретируемый язык (и исполнителем кода на нём является программа под названием \"python\"). Из этого следуют несколько важных свойств:\n",
    "    - Большинство ошибок возникает на этапе выполнения программы\n",
    "    - Более гибкий и плотный код\n",
    "    \n",
    "#### Сильная динамическая типизация \n",
    "- Сильная: У каждого объекта есть один конкретный тип; не бывает так, что мы не знаем, какого типа объект, или что объект относится к некоторому \"неопределённому типу\", который будет разрешён впоследствии, или что у нас есть объекты некого \"универсального\" типа.\n",
    "- Динамическая: Мы _почти_ никак не можем из исходного кода программы понять, какого типа объект в данном выражении. По крайней мере, не можем понять в точности. Чтобы это выяснить, нужно проинтерпретировать всю программу с самого начала до данного выражения.\n",
    "\n",
    "#### Управление памятью\n",
    "Не нужно следить за выделяемой памятью и чистить за собой: объекты удаляются тогда, когда на них нет ссылок. Тем не менее, забить память все еще можно.\n",
    "\n",
    "Детали см., например, [здесь](https://www.geeksforgeeks.org/garbage-collection-python/)  \n",
    "  \n",
    "  \n",
    "<img src=\"images/cpp_vs_py.jpg\" align=\"center\" style=\"height: 400px;\"/>"
   ]
  },
  {
   "cell_type": "markdown",
   "id": "compressed-ghost",
   "metadata": {},
   "source": [
    "## Полезные ссылки\n",
    "\n",
    "https://docs.python.org/3/ - Python3 Documentation.\n",
    "\n",
    "https://www.python.org/dev/peps/pep-0008/ - PEP 8, Style Guide for Python Code.\n",
    "\n",
    "https://pypi.org/ - Python Package Index.\n",
    "\n",
    "https://github.com/vinta/awesome-python - A curated list of awesome Python frameworks, libraries, software and resources.\n",
    "\n",
    "https://www.pythoncheatsheet.org/ - Python Cheatsheet.\n",
    "\n",
    "https://pythonworld.ru/samouchitel-python - Teach-yourself book (in russian).\n",
    "\n",
    "https://metanit.com/python/tutorial/ - Python Programming Language Guide (in russian)."
   ]
  },
  {
   "cell_type": "markdown",
   "id": "waiting-convergence",
   "metadata": {},
   "source": [
    "# Семинар №1\n",
    "## Intro: \"Hello, World!\", дзен Python и типы данных"
   ]
  },
  {
   "cell_type": "code",
   "execution_count": null,
   "id": "marine-edmonton",
   "metadata": {},
   "outputs": [],
   "source": [
    "print(\"Hello, World!\")"
   ]
  },
  {
   "cell_type": "markdown",
   "id": "actual-counter",
   "metadata": {},
   "source": [
    "Еще одна встроенная функция языка $-$ функция help(...).  \n",
    "Она выводит строки документации (doc strings/докстринги) для передаваемого аргумента."
   ]
  },
  {
   "cell_type": "code",
   "execution_count": null,
   "id": "casual-stomach",
   "metadata": {},
   "outputs": [],
   "source": [
    "help(print)"
   ]
  },
  {
   "cell_type": "code",
   "execution_count": null,
   "id": "binding-stewart",
   "metadata": {},
   "outputs": [],
   "source": [
    "import this"
   ]
  },
  {
   "cell_type": "markdown",
   "id": "qualified-footage",
   "metadata": {},
   "source": [
    "К стандартным типам данных python относят:\n",
    "\n",
    "* Числа (Numbers)\n",
    "* Строка (String)\n",
    "* Список (List)\n",
    "* Кортеж (Tuple)\n",
    "* Словарь (Dictionary)\n",
    "* Множество (Set)\n",
    "* NoneType\n",
    "\n",
    "Их обычно делят на *mutable* (изменяемые) и *immutable* (неизменяемые):\n",
    "\n",
    "**Изменяемые**:\n",
    "*  Список (list)\n",
    "*  Словарь (dict)\n",
    "*  Множество (set)\n",
    "\n",
    "**Неизменяемые**:\n",
    "*  Число (int, float, complex)\n",
    "*  Булеан (bool)\n",
    "*  Строка (str)\n",
    "*  Кортеж (tuple)\n",
    "*  NoneType\n",
    "  \n",
    "  \n",
    "А в действительности:\n",
    "<img src=\"images/типы.png\" align=\"center\" style=\"height: 600px;\"/>\n",
    "  \n",
    "Вывод:\n",
    "  \n",
    "**Все есть объект!**  \n",
    "**Переменная - ссылка на объект!**"
   ]
  },
  {
   "cell_type": "markdown",
   "id": "great-diabetes",
   "metadata": {},
   "source": [
    "Узнать тип объекта можно с помощью функции type(...) (на самом деле это не функция, но про это мы узнаем чуть позже)."
   ]
  },
  {
   "cell_type": "code",
   "execution_count": null,
   "id": "appointed-carnival",
   "metadata": {},
   "outputs": [],
   "source": [
    "help(type)  # для особо пытливых"
   ]
  },
  {
   "cell_type": "markdown",
   "id": "cooperative-relation",
   "metadata": {},
   "source": [
    "#### Основные типы"
   ]
  },
  {
   "cell_type": "code",
   "execution_count": null,
   "id": "peripheral-service",
   "metadata": {},
   "outputs": [],
   "source": [
    "type(42)"
   ]
  },
  {
   "cell_type": "code",
   "execution_count": null,
   "id": "buried-aruba",
   "metadata": {},
   "outputs": [],
   "source": [
    "type(100.500)"
   ]
  },
  {
   "cell_type": "code",
   "execution_count": null,
   "id": "talented-andrew",
   "metadata": {},
   "outputs": [],
   "source": [
    "type(1 + 5j)"
   ]
  },
  {
   "cell_type": "code",
   "execution_count": null,
   "id": "further-incentive",
   "metadata": {},
   "outputs": [],
   "source": [
    "type(True)"
   ]
  },
  {
   "cell_type": "code",
   "execution_count": null,
   "id": "defined-utilization",
   "metadata": {},
   "outputs": [],
   "source": [
    "type('x')"
   ]
  },
  {
   "cell_type": "code",
   "execution_count": null,
   "id": "distinct-trust",
   "metadata": {},
   "outputs": [],
   "source": [
    "type(\"abc\")"
   ]
  },
  {
   "cell_type": "code",
   "execution_count": null,
   "id": "improved-television",
   "metadata": {},
   "outputs": [],
   "source": [
    "type(None)"
   ]
  },
  {
   "cell_type": "markdown",
   "id": "precise-syndicate",
   "metadata": {},
   "source": [
    "#### Арифметика"
   ]
  },
  {
   "cell_type": "code",
   "execution_count": null,
   "id": "naval-employee",
   "metadata": {},
   "outputs": [],
   "source": [
    "(1 + 6) / 4\n",
    "45 // 6\n",
    "45 % 6 \n",
    "6239039809384093840293840293 * 2329823498230948209348029384\n",
    "123456789 ** 12345"
   ]
  },
  {
   "cell_type": "markdown",
   "id": "resistant-presence",
   "metadata": {},
   "source": [
    "#### Арифметика с присваиванием"
   ]
  },
  {
   "cell_type": "code",
   "execution_count": null,
   "id": "raising-southeast",
   "metadata": {},
   "outputs": [],
   "source": [
    "value = 2\n",
    "value\n",
    "value += 1\n",
    "value\n",
    "value *= 2\n",
    "value\n",
    "value //= 3\n",
    "value\n",
    "value **= 3\n",
    "value"
   ]
  },
  {
   "cell_type": "markdown",
   "id": "bulgarian-special",
   "metadata": {},
   "source": [
    "#### Побитовые операции"
   ]
  },
  {
   "cell_type": "code",
   "execution_count": null,
   "id": "matched-court",
   "metadata": {},
   "outputs": [],
   "source": [
    "            #  60 = 0011 1100 \n",
    "            #  13 = 0000 1101\n",
    "\n",
    "# x & y  Does a \"bitwise and\". \n",
    "# Each bit of the output is 1 if the corresponding bit of x AND of y is 1, otherwise it's 0.\n",
    "60 & 13     #  12 = 0000 1100\n",
    "\n",
    "# x | y  Does a \"bitwise or\". \n",
    "# Each bit of the output is 0 if the corresponding bit of x AND of y is 0, otherwise it's 1.\n",
    "60 | 13     #  61 = 0011 1101 \n",
    "\n",
    "# x ^ y  Does a \"bitwise exclusive or\". \n",
    "# Each bit of the output is the same as the corresponding bit in x if that bit in y is 0, \n",
    "# and it's the complement of the bit in x if that bit in y is 1.\n",
    "60 ^ 13     #  49 = 0011 0001\n",
    "\n",
    "# ~ x    Returns the complement of x - the number you get by switching each 1 for a 0 and each 0 for a 1. \n",
    "# This is the same as -x - 1.\n",
    "~60         # -61 = 1100 0011\n",
    "\n",
    "# x << y Returns x with the bits shifted to the left by y places (and new bits on the right-hand-side are zeros).\n",
    "# This is the same as multiplying x by 2**y.\n",
    "60 << 2     # 240 = 1111 0000 \n",
    "\n",
    "\n",
    "# x >> y Returns x with the bits shifted to the right by y places. This is the same as //'ing x by 2**y.\n",
    "60 >> 2     #  15 = 0000 1111"
   ]
  },
  {
   "cell_type": "markdown",
   "id": "august-puzzle",
   "metadata": {},
   "source": [
    "Что будет выведено?"
   ]
  },
  {
   "cell_type": "code",
   "execution_count": null,
   "id": "grave-slovenia",
   "metadata": {},
   "outputs": [],
   "source": [
    "4 ^ 2, 3 | 2, 3 & 2\n",
    "0b100 ^ 0b010, 0b011 | 0b010, 0b011 & 0b010"
   ]
  },
  {
   "cell_type": "markdown",
   "id": "prepared-charity",
   "metadata": {},
   "source": [
    "#### Оператор связывания"
   ]
  },
  {
   "cell_type": "code",
   "execution_count": null,
   "id": "dramatic-calendar",
   "metadata": {},
   "outputs": [],
   "source": [
    "a = 10000\n",
    "b = a\n",
    "a is b\n",
    "id(a)\n",
    "id(b)"
   ]
  },
  {
   "cell_type": "markdown",
   "id": "acting-clear",
   "metadata": {},
   "source": [
    "is $-$ встроенный оператор, проверяет равенство ссылок на объекты"
   ]
  },
  {
   "cell_type": "markdown",
   "id": "automotive-tournament",
   "metadata": {},
   "source": [
    "id $-$ это уникальный идентификатор для каждого объекта. Вопрос в студию: что им может служить?"
   ]
  },
  {
   "cell_type": "code",
   "execution_count": null,
   "id": "automotive-clock",
   "metadata": {},
   "outputs": [],
   "source": [
    "x = y = 500\n",
    "x\n",
    "y\n",
    "x is y"
   ]
  },
  {
   "cell_type": "code",
   "execution_count": null,
   "id": "official-penguin",
   "metadata": {},
   "outputs": [],
   "source": [
    "a = 10000\n",
    "b = 10000\n",
    "a is b\n",
    "id(a)\n",
    "id(b)"
   ]
  },
  {
   "cell_type": "code",
   "execution_count": null,
   "id": "senior-juice",
   "metadata": {},
   "outputs": [],
   "source": [
    "a = 256\n",
    "b = 256\n",
    "a is b\n",
    "id(a)\n",
    "id(b)"
   ]
  },
  {
   "cell_type": "markdown",
   "id": "offshore-stewart",
   "metadata": {},
   "source": [
    "Почему?"
   ]
  },
  {
   "cell_type": "code",
   "execution_count": null,
   "id": "collect-consistency",
   "metadata": {},
   "outputs": [],
   "source": [
    "a = 5\n",
    "b = 5\n",
    "a is b\n",
    "id(a)\n",
    "id(b)"
   ]
  },
  {
   "cell_type": "code",
   "execution_count": null,
   "id": "flexible-volunteer",
   "metadata": {},
   "outputs": [],
   "source": [
    "a = 2 + 2 + 1\n",
    "b = 5\n",
    "a is b  # аналогично для всех целых чисел от -5 до 256\n",
    "id(a)\n",
    "id(b)"
   ]
  },
  {
   "cell_type": "code",
   "execution_count": null,
   "id": "iraqi-scope",
   "metadata": {},
   "outputs": [],
   "source": [
    "a = 6\n",
    "a is b\n",
    "id(a)\n",
    "id(b)"
   ]
  },
  {
   "cell_type": "markdown",
   "id": "balanced-rapid",
   "metadata": {},
   "source": [
    "#### Булевы значения"
   ]
  },
  {
   "cell_type": "code",
   "execution_count": null,
   "id": "broken-auction",
   "metadata": {},
   "outputs": [],
   "source": [
    "not True\n",
    "not False\n",
    "True and False\n",
    "True or False"
   ]
  },
  {
   "cell_type": "markdown",
   "id": "broadband-czech",
   "metadata": {},
   "source": [
    "Яркий пример скриптовых языков:"
   ]
  },
  {
   "cell_type": "code",
   "execution_count": null,
   "id": "intimate-stephen",
   "metadata": {},
   "outputs": [],
   "source": [
    "non_defined_variable"
   ]
  },
  {
   "cell_type": "code",
   "execution_count": null,
   "id": "crude-grace",
   "metadata": {},
   "outputs": [],
   "source": [
    "False and non_defined_variable"
   ]
  },
  {
   "cell_type": "code",
   "execution_count": null,
   "id": "collected-wrapping",
   "metadata": {},
   "outputs": [],
   "source": [
    "True or non_defined_variable"
   ]
  },
  {
   "cell_type": "markdown",
   "id": "rotary-professor",
   "metadata": {},
   "source": [
    "#### Строки"
   ]
  },
  {
   "cell_type": "code",
   "execution_count": null,
   "id": "departmental-beaver",
   "metadata": {},
   "outputs": [],
   "source": [
    "# Что тут получится?\n",
    "print(\"Hello \", \" world\", sep='***')\n",
    "print(\"Hello \" * 2)\n",
    "print(\"five\" + 6)"
   ]
  },
  {
   "cell_type": "code",
   "execution_count": null,
   "id": "contemporary-granny",
   "metadata": {},
   "outputs": [],
   "source": [
    "s = 'abcde'\n",
    "len(s)\n",
    "s[2]\n",
    "s[-2]\n",
    "s[1:3]\n",
    "s[::-1]\n",
    "s[::2]"
   ]
  },
  {
   "cell_type": "code",
   "execution_count": null,
   "id": "removable-petite",
   "metadata": {},
   "outputs": [],
   "source": [
    "int(\"234\")"
   ]
  },
  {
   "cell_type": "markdown",
   "id": "judicial-zimbabwe",
   "metadata": {},
   "source": [
    "Функция input() считывает данные из stdin. Возвращает строку."
   ]
  },
  {
   "cell_type": "markdown",
   "id": "described-spyware",
   "metadata": {},
   "source": [
    "```python\n",
    ">>> help(input)\n",
    "\n",
    "Help on built-in function input in module builtins:\n",
    "\n",
    "input(prompt=None, /)\n",
    "    Read a string from standard input.  The trailing newline is stripped.\n",
    "    \n",
    "    The prompt string, if given, is printed to standard output without a\n",
    "    trailing newline before reading input.\n",
    "    \n",
    "    If the user hits EOF (*nix: Ctrl-D, Windows: Ctrl-Z+Return), raise EOFError.\n",
    "    On *nix systems, readline is used if available.\n",
    "```"
   ]
  },
  {
   "cell_type": "code",
   "execution_count": null,
   "id": "talented-watch",
   "metadata": {},
   "outputs": [],
   "source": [
    "a = int(input())\n",
    "b = int(input())\n",
    "s = 'abcde'\n",
    "print(s[a:b])"
   ]
  },
  {
   "cell_type": "code",
   "execution_count": null,
   "id": "aquatic-bryan",
   "metadata": {},
   "outputs": [],
   "source": [
    "a = 'd'\n",
    "print(s[a:b])"
   ]
  },
  {
   "cell_type": "code",
   "execution_count": null,
   "id": "fancy-apollo",
   "metadata": {},
   "outputs": [],
   "source": [
    "\"string\"\n",
    "'other string'\n",
    "\n",
    "\"with ' symbol\"\n",
    "'other with \\' symbol' "
   ]
  },
  {
   "cell_type": "code",
   "execution_count": null,
   "id": "arabic-wrong",
   "metadata": {},
   "outputs": [],
   "source": [
    "\"\"\"\n",
    "This is\n",
    "docstring\n",
    "\"\"\""
   ]
  },
  {
   "cell_type": "markdown",
   "id": "tropical-equality",
   "metadata": {},
   "source": [
    "#### Контейнеры"
   ]
  },
  {
   "cell_type": "code",
   "execution_count": null,
   "id": "banner-crest",
   "metadata": {},
   "outputs": [],
   "source": [
    "s = 'abcdef'                # str\n",
    "l = [1, 2, 2.5, 'abc']      # list\n",
    "t = (42, 41, True)          # tuple\n",
    "S = {1, 2, 3}               # set\n",
    "D = {1: 2, 'key': 'value'}  # dict"
   ]
  },
  {
   "cell_type": "code",
   "execution_count": null,
   "id": "bottom-warning",
   "metadata": {},
   "outputs": [],
   "source": [
    "D['key']"
   ]
  },
  {
   "cell_type": "code",
   "execution_count": null,
   "id": "laughing-cycle",
   "metadata": {},
   "outputs": [],
   "source": [
    "type(s)\n",
    "type(l)\n",
    "type(t)\n",
    "type(S)\n",
    "len(D)"
   ]
  },
  {
   "cell_type": "code",
   "execution_count": null,
   "id": "finnish-possible",
   "metadata": {},
   "outputs": [],
   "source": [
    "help(len)"
   ]
  },
  {
   "cell_type": "code",
   "execution_count": null,
   "id": "metropolitan-fellowship",
   "metadata": {},
   "outputs": [],
   "source": [
    "# List\n",
    "l[1] = 378272\n",
    "l[-1] = 'cba'\n",
    "l\n",
    "\n",
    "len(l)"
   ]
  },
  {
   "cell_type": "code",
   "execution_count": null,
   "id": "helpful-alloy",
   "metadata": {},
   "outputs": [],
   "source": [
    "t = ('i', 'cannot', 'be', 'modified')\n",
    "t[1]"
   ]
  },
  {
   "cell_type": "code",
   "execution_count": null,
   "id": "sorted-edition",
   "metadata": {},
   "outputs": [],
   "source": [
    "u = (1, 2, 'dfgg')\n",
    "type(u)\n",
    "u"
   ]
  },
  {
   "cell_type": "code",
   "execution_count": null,
   "id": "helpful-pizza",
   "metadata": {},
   "outputs": [],
   "source": [
    "d = {\n",
    "    'a': 1,\n",
    "    'b': 2,\n",
    "    'c': 3\n",
    "}\n",
    "d['f'] = 4\n",
    "d"
   ]
  },
  {
   "cell_type": "code",
   "execution_count": null,
   "id": "adopted-layout",
   "metadata": {},
   "outputs": [],
   "source": [
    "a = {}\n",
    "type(a)"
   ]
  },
  {
   "cell_type": "code",
   "execution_count": null,
   "id": "another-kentucky",
   "metadata": {},
   "outputs": [],
   "source": [
    "a = set([3, 1, 3, 2, 2, 2, 1, 23, 1, 3, 2, 3])\n",
    "a"
   ]
  },
  {
   "cell_type": "code",
   "execution_count": null,
   "id": "unable-intervention",
   "metadata": {},
   "outputs": [],
   "source": [
    "empty_dict = {}\n",
    "empty_set = set()"
   ]
  },
  {
   "cell_type": "markdown",
   "id": "broken-champion",
   "metadata": {},
   "source": [
    "#### Арифметика контейнеров"
   ]
  },
  {
   "cell_type": "code",
   "execution_count": null,
   "id": "binding-difficulty",
   "metadata": {},
   "outputs": [],
   "source": [
    "'Hello ' + 'world'"
   ]
  },
  {
   "cell_type": "code",
   "execution_count": null,
   "id": "capital-guide",
   "metadata": {},
   "outputs": [],
   "source": [
    "'abc' * 4"
   ]
  },
  {
   "cell_type": "code",
   "execution_count": null,
   "id": "latter-marathon",
   "metadata": {},
   "outputs": [],
   "source": [
    "[1] + [2, 3]"
   ]
  },
  {
   "cell_type": "code",
   "execution_count": null,
   "id": "advisory-cliff",
   "metadata": {},
   "outputs": [],
   "source": [
    "[2, 3, 4] * 3"
   ]
  },
  {
   "cell_type": "markdown",
   "id": "korean-disorder",
   "metadata": {},
   "source": [
    "#### Приведение типов"
   ]
  },
  {
   "cell_type": "code",
   "execution_count": null,
   "id": "included-production",
   "metadata": {},
   "outputs": [],
   "source": [
    "type(True + 1)\n",
    "type(True + 1.0)\n",
    "type(1.0 + 1)"
   ]
  },
  {
   "cell_type": "code",
   "execution_count": null,
   "id": "forbidden-animal",
   "metadata": {},
   "outputs": [],
   "source": [
    "True + 1"
   ]
  },
  {
   "cell_type": "code",
   "execution_count": null,
   "id": "caroline-phenomenon",
   "metadata": {},
   "outputs": [],
   "source": [
    "int('123')"
   ]
  },
  {
   "cell_type": "code",
   "execution_count": null,
   "id": "unable-trauma",
   "metadata": {},
   "outputs": [],
   "source": [
    "str(345)"
   ]
  },
  {
   "cell_type": "code",
   "execution_count": null,
   "id": "chemical-sunset",
   "metadata": {},
   "outputs": [],
   "source": [
    "bool(0)\n",
    "bool(1)\n",
    "bool(- 10 ** 100)"
   ]
  },
  {
   "cell_type": "code",
   "execution_count": null,
   "id": "golden-exhibit",
   "metadata": {},
   "outputs": [],
   "source": [
    "bool(\"\")\n",
    "bool(\"abacaba\")"
   ]
  },
  {
   "cell_type": "code",
   "execution_count": null,
   "id": "adequate-spread",
   "metadata": {},
   "outputs": [],
   "source": [
    "bool((1, 2))\n",
    "bool(())"
   ]
  },
  {
   "cell_type": "code",
   "execution_count": null,
   "id": "jewish-speaking",
   "metadata": {},
   "outputs": [],
   "source": [
    "bool(['x', 'y',])\n",
    "bool([])"
   ]
  },
  {
   "cell_type": "code",
   "execution_count": null,
   "id": "center-disaster",
   "metadata": {},
   "outputs": [],
   "source": [
    "bool({12.5, 45.7})\n",
    "bool(set())"
   ]
  },
  {
   "cell_type": "code",
   "execution_count": null,
   "id": "superb-contractor",
   "metadata": {},
   "outputs": [],
   "source": [
    "bool({'a': 1, 'b': 2, 'c': 3})\n",
    "bool({})"
   ]
  },
  {
   "cell_type": "code",
   "execution_count": null,
   "id": "integrated-capacity",
   "metadata": {},
   "outputs": [],
   "source": [
    "float(5)"
   ]
  },
  {
   "cell_type": "code",
   "execution_count": null,
   "id": "spanish-assets",
   "metadata": {},
   "outputs": [],
   "source": [
    "int(123.456)"
   ]
  },
  {
   "cell_type": "code",
   "execution_count": null,
   "id": "enormous-witness",
   "metadata": {},
   "outputs": [],
   "source": [
    "int('12a')"
   ]
  },
  {
   "cell_type": "code",
   "execution_count": null,
   "id": "protected-ecology",
   "metadata": {},
   "outputs": [],
   "source": [
    "int(\"0xFF\", base=16)"
   ]
  },
  {
   "cell_type": "code",
   "execution_count": null,
   "id": "different-watch",
   "metadata": {},
   "outputs": [],
   "source": [
    "int()"
   ]
  },
  {
   "cell_type": "code",
   "execution_count": null,
   "id": "specified-width",
   "metadata": {},
   "outputs": [],
   "source": [
    "num = 100_000_000\n",
    "print(num)\n",
    "\n",
    "num = 1.5e2\n",
    "print(num)\n",
    "\n",
    "num = float('inf')\n",
    "print(num)\n",
    "\n",
    "num = float('nan')\n",
    "print(num)"
   ]
  },
  {
   "cell_type": "code",
   "execution_count": null,
   "id": "enclosed-print",
   "metadata": {},
   "outputs": [],
   "source": [
    "num = complex(4)\n",
    "print(num)\n",
    "\n",
    "num = 5 + 1j\n",
    "print(num)\n",
    "\n",
    "print(num.real)\n",
    "print(num.imag)"
   ]
  },
  {
   "cell_type": "code",
   "execution_count": null,
   "id": "destroyed-halloween",
   "metadata": {},
   "outputs": [],
   "source": [
    "l = [1, 2, 1, 5, 5, 6]\n",
    "set(l)"
   ]
  },
  {
   "cell_type": "code",
   "execution_count": null,
   "id": "legal-stock",
   "metadata": {},
   "outputs": [],
   "source": [
    "t = (1, 5)\n",
    "list(t)"
   ]
  },
  {
   "cell_type": "markdown",
   "id": "worth-process",
   "metadata": {},
   "source": [
    "Как оставить только уникальные элементы списка? (порядок не важен)"
   ]
  },
  {
   "cell_type": "code",
   "execution_count": null,
   "id": "deluxe-devon",
   "metadata": {},
   "outputs": [],
   "source": [
    "s = \"abab\"\n",
    "tuple(s)"
   ]
  },
  {
   "cell_type": "code",
   "execution_count": null,
   "id": "divine-isaac",
   "metadata": {},
   "outputs": [],
   "source": [
    "s = \"abab\"\n",
    "list(s)"
   ]
  },
  {
   "cell_type": "code",
   "execution_count": null,
   "id": "original-football",
   "metadata": {},
   "outputs": [],
   "source": [
    "set({1: 'a', \"b\": 2})  # Почему?"
   ]
  },
  {
   "cell_type": "code",
   "execution_count": null,
   "id": "parliamentary-chemistry",
   "metadata": {},
   "outputs": [],
   "source": [
    "tup = (1)\n",
    "print(tup, type(tup))\n",
    "\n",
    "tup = (1,)\n",
    "print(tup, type(tup))"
   ]
  },
  {
   "cell_type": "markdown",
   "id": "western-century",
   "metadata": {},
   "source": [
    "#### Сравнения"
   ]
  },
  {
   "cell_type": "code",
   "execution_count": null,
   "id": "subsequent-footwear",
   "metadata": {},
   "outputs": [],
   "source": [
    "3 > 1\n",
    "2 <= 5\n",
    "1 == -1\n",
    "1 != -1"
   ]
  },
  {
   "cell_type": "code",
   "execution_count": null,
   "id": "growing-brunswick",
   "metadata": {},
   "outputs": [],
   "source": [
    "'a' > 'b'\n",
    "'aa' > 'ab'"
   ]
  },
  {
   "cell_type": "code",
   "execution_count": null,
   "id": "sophisticated-spiritual",
   "metadata": {},
   "outputs": [],
   "source": [
    "1 <= 4 != 5"
   ]
  },
  {
   "cell_type": "code",
   "execution_count": null,
   "id": "several-classic",
   "metadata": {},
   "outputs": [],
   "source": [
    "2 > 1 < 6"
   ]
  },
  {
   "cell_type": "code",
   "execution_count": null,
   "id": "attended-atlantic",
   "metadata": {},
   "outputs": [],
   "source": [
    "2 < 1 < 6"
   ]
  },
  {
   "cell_type": "markdown",
   "id": "dominant-depression",
   "metadata": {},
   "source": [
    "#### Булева алгебра\n",
    "\n",
    "A     | B     | A or B | A and B \n",
    "----- | ----- | ------ | -----\n",
    "False | False | False  | False\n",
    "False | True  | True   | False\n",
    "True  | False | True   | False\n",
    "True  | True  | True   | True "
   ]
  },
  {
   "cell_type": "code",
   "execution_count": null,
   "id": "upset-korea",
   "metadata": {},
   "outputs": [],
   "source": [
    "True and False\n",
    "True or False\n",
    "not True"
   ]
  },
  {
   "cell_type": "code",
   "execution_count": null,
   "id": "demographic-wireless",
   "metadata": {},
   "outputs": [],
   "source": [
    "[] and [1]\n",
    "'eggs' or 'spam'"
   ]
  },
  {
   "cell_type": "code",
   "execution_count": null,
   "id": "processed-region",
   "metadata": {},
   "outputs": [],
   "source": [
    "type(None and True)"
   ]
  },
  {
   "cell_type": "code",
   "execution_count": null,
   "id": "competitive-shadow",
   "metadata": {},
   "outputs": [],
   "source": [
    "None or False"
   ]
  },
  {
   "cell_type": "markdown",
   "id": "close-tyler",
   "metadata": {},
   "source": [
    "#### Немного про ввод-вывод"
   ]
  },
  {
   "cell_type": "code",
   "execution_count": null,
   "id": "found-civilian",
   "metadata": {},
   "outputs": [],
   "source": [
    "a = list(map(int, input().split()))\n",
    "a"
   ]
  },
  {
   "cell_type": "code",
   "execution_count": null,
   "id": "handmade-binary",
   "metadata": {},
   "outputs": [],
   "source": [
    "print(345, end=\"\\n\"*20)"
   ]
  },
  {
   "cell_type": "code",
   "execution_count": null,
   "id": "defined-growing",
   "metadata": {},
   "outputs": [],
   "source": [
    "print('spam', 'and', 'eggs', end='!', sep='_')\n",
    "print()\n",
    "print('e', end='')\n",
    "print('n', end='')\n",
    "print('d', end='')"
   ]
  },
  {
   "cell_type": "markdown",
   "id": "excited-accused",
   "metadata": {},
   "source": [
    "#### Другое"
   ]
  },
  {
   "cell_type": "code",
   "execution_count": null,
   "id": "incorporated-belgium",
   "metadata": {},
   "outputs": [],
   "source": [
    "# Будьте аккуратнее, используя булевы типы в качестве ключей словаря\n",
    "\n",
    "# Поскольку\n",
    "print(True == 1)\n",
    "\n",
    "# И\n",
    "print(hash(True) == hash(1))\n",
    "\n",
    "# То при создании такого словаря получаем что-то не совсем предсказуемое\n",
    "print({True: 2, 1: 4})\n",
    "\n",
    "# C False и 0 - то же самое\n",
    "print({False: 1, 0: 5})"
   ]
  }
 ],
 "metadata": {
  "kernelspec": {
   "display_name": "Python 3",
   "language": "python",
   "name": "python3"
  },
  "language_info": {
   "codemirror_mode": {
    "name": "ipython",
    "version": 3
   },
   "file_extension": ".py",
   "mimetype": "text/x-python",
   "name": "python",
   "nbconvert_exporter": "python",
   "pygments_lexer": "ipython3",
   "version": "3.8.6"
  }
 },
 "nbformat": 4,
 "nbformat_minor": 5
}
