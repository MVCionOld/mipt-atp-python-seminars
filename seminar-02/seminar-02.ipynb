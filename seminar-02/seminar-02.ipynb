{
 "cells": [
  {
   "cell_type": "code",
   "execution_count": null,
   "id": "documentary-signature",
   "metadata": {},
   "outputs": [],
   "source": [
    "from IPython.core.interactiveshell import InteractiveShell\n",
    "InteractiveShell.ast_node_interactivity = \"all\""
   ]
  },
  {
   "cell_type": "markdown",
   "id": "looking-soccer",
   "metadata": {},
   "source": [
    "# Семинар №2\n",
    "## if-else, loops, containers"
   ]
  },
  {
   "cell_type": "markdown",
   "id": "dated-screening",
   "metadata": {},
   "source": [
    "#### Условные операторы (if, elif, else)"
   ]
  },
  {
   "cell_type": "code",
   "execution_count": null,
   "id": "figured-meditation",
   "metadata": {},
   "outputs": [],
   "source": [
    "# функция input(prompt) - запрашивает ввод значения пользователем\n",
    "age = input(\"Enter your age: \")  # аргумент - текст сообщения\n",
    "age = int(age) # функция int преобразовывает введённое пользователем значение в целочисленный формат\n",
    "\n",
    "if age >= 18: # Если вам есть 18\n",
    "    answer = 'Yes, you can drive'\n",
    "\n",
    "else: # Иначе\n",
    "    answer = \"No, you can't drive\"\n",
    "    \n",
    "print(answer)"
   ]
  },
  {
   "cell_type": "markdown",
   "id": "exempt-playlist",
   "metadata": {},
   "source": [
    "**Замечание 1:**  \n",
    "Двоеточие после условия (в конце строки if) обязательно!\n",
    "\n",
    "**Замечание 2:**  \n",
    "После if и после else!\n",
    "\n",
    "**Замечание 3:**  \n",
    "В Python группы команд определяются *ОТСТУПАМИ*! За отступами нужно *ВНИМАТЕЛЬНО* следить! Отступами могут служить и пробелы, и знаки табуляции, но ни в коем случае не перемешивайте их! Как правило, в качестве отступа используют 4 пробела, но иногда можно встретить исходники с 2 или 8 символами пробела. Использование знаков табуляции является плохой практикой и следует избегать их (не только в Python: [прочитайте](https://habr.com/ru/post/331026/)).\n",
    "\n",
    "**Замечание 4:**  \n",
    "В Python нет операторных скобок, в отличие от таких языков, как С++ или Java. В этих языках набор команд, которые должны быть выполнены при определённом условии, определяется расположением скобок, например что-то вроде:\n",
    "```\n",
    "if (<condition>) {\n",
    "  <cmd1>;\n",
    "  ...\n",
    "  <cmdN>;\n",
    "} else {\n",
    "  <cmdM>;\n",
    "}\n",
    "```\n",
    "Здесь команды <cmd1> ... <cmd1> выполняются внутри блока с истинным <condition>, иначе выполняется <cmdM>.\n",
    "\n",
    "На Python это выглядит вот так:\n",
    "```\n",
    "if <condition>:\n",
    "    <cmd1>\n",
    "    ...\n",
    "    <cmdN>\n",
    "else:\n",
    "    <cmdM>\n",
    "```\n"
   ]
  },
  {
   "cell_type": "code",
   "execution_count": null,
   "id": "reliable-speaking",
   "metadata": {},
   "outputs": [],
   "source": [
    "# Проверок может быть и несколько сразу:\n",
    "\n",
    "age = int(input(\"Enter your age: \"))  # Удобно использовать int(input()), если вы запрашиваете число\n",
    "\n",
    "country = 'Russia'\n",
    "#country = 'USA'\n",
    "\n",
    "if age >= 16 and country == 'USA':  # Если вам есть 16 и вы живете в США\n",
    "    answer = 'Yes, you can drive'\n",
    "else:\n",
    "    if age >= 18 and country == 'Russia':  # Если условие выше неверно, но вам есть 18 и вы живете в России\n",
    "        answer = 'Yes, you can drive'\n",
    "    else: # Иначе\n",
    "        answer = \"No, you can't drive\"\n",
    "    \n",
    "print(answer)"
   ]
  },
  {
   "cell_type": "code",
   "execution_count": null,
   "id": "motivated-kernel",
   "metadata": {},
   "outputs": [],
   "source": [
    "# else + if == elif\n",
    "\n",
    "age = int(input(\"Enter your age: \"))  # Удобно использовать int(input()), если вы запрашиваете число\n",
    "\n",
    "country = 'Russia'\n",
    "#country = 'USA'\n",
    "\n",
    "if age >= 16 and country == 'USA':       # Если вам есть 16 и вы живете в США\n",
    "    answer = 'Yes, you can drive'\n",
    "elif age >= 18 and country == 'Russia':  # Если условие выше неверно, но вам есть 18 и вы живете в России\n",
    "    answer = 'Yes, you can drive'\n",
    "else:\n",
    "    answer = \"No, you can't drive\"\n",
    "    \n",
    "print(answer)"
   ]
  },
  {
   "cell_type": "markdown",
   "id": "funny-effectiveness",
   "metadata": {},
   "source": [
    "#### Тернарный оператор"
   ]
  },
  {
   "cell_type": "code",
   "execution_count": null,
   "id": "round-speed",
   "metadata": {},
   "outputs": [],
   "source": [
    "# a if condition else b\n",
    "\n",
    "'true' if True else 'false'\n",
    "'true' if False else 'false'"
   ]
  },
  {
   "cell_type": "code",
   "execution_count": null,
   "id": "defensive-profession",
   "metadata": {},
   "outputs": [],
   "source": [
    "# можно использовать в выражениях\n",
    "\n",
    "x, y = 5, 3  # да, так можно\n",
    "x, y = y, x  # и так тоже!\n",
    "\n",
    "z = 3 + x if x > y else y\n",
    "\n",
    "print(z)\n",
    "\n",
    "z = 3 + (x if x > y else y) # внимательнее с порядком вычислений\n",
    "\n",
    "print(z)"
   ]
  },
  {
   "cell_type": "code",
   "execution_count": null,
   "id": "persistent-gateway",
   "metadata": {},
   "outputs": [],
   "source": [
    "# можно использовать подряд (но лучше не надо)\n",
    "age = 15\n",
    "'kid' if age < 13 else 'teenager' if age < 18 else 'adult'"
   ]
  },
  {
   "cell_type": "code",
   "execution_count": null,
   "id": "postal-governor",
   "metadata": {},
   "outputs": [],
   "source": [
    "# эквивалентные конструкция:\n",
    "\n",
    "nice = True\n",
    "\n",
    "personality = \"nice\" if nice else \"mean\"\n",
    "print(\"The cat is \", personality)\n",
    "\n",
    "personality = (\"mean\", \"nice\")[nice]\n",
    "print(\"The cat is \", personality)"
   ]
  },
  {
   "cell_type": "markdown",
   "id": "responsible-green",
   "metadata": {},
   "source": [
    "#### Цикл while"
   ]
  },
  {
   "cell_type": "code",
   "execution_count": null,
   "id": "stuffed-precipitation",
   "metadata": {},
   "outputs": [],
   "source": [
    "greetings = 1\n",
    "\n",
    "while greetings <= 3:\n",
    "    print(greetings)\n",
    "    print('Hello! ' * greetings)\n",
    "    # оператор += увеличивает переменную на заданное число \n",
    "    greetings += 1  # эквивалентно: greetings = greetings + 1"
   ]
  },
  {
   "cell_type": "code",
   "execution_count": null,
   "id": "ancient-stable",
   "metadata": {},
   "outputs": [],
   "source": [
    "i = 0\n",
    "k = 5\n",
    "S = 0  # сумма первых 100 чисел\n",
    "\n",
    "while True:\n",
    "    i += 1\n",
    "    S += i\n",
    "    if not i < 100: \n",
    "        break\n",
    "\n",
    "print(S) "
   ]
  },
  {
   "cell_type": "code",
   "execution_count": null,
   "id": "numerous-mumbai",
   "metadata": {},
   "outputs": [],
   "source": [
    "i = 0\n",
    "k = 5\n",
    "S = 0  # сумма первых 100 чисел не кратных k  \n",
    "\n",
    "while i < 100:\n",
    "    i += 1\n",
    "    if not i % k:\n",
    "        continue\n",
    "    S += i\n",
    "\n",
    "print(S)    "
   ]
  },
  {
   "cell_type": "code",
   "execution_count": null,
   "id": "hired-guidance",
   "metadata": {},
   "outputs": [],
   "source": [
    "# конструкция while..else\n",
    "\n",
    "numbers = [1, 3, 7, 8, 10, 5]\n",
    "i = 0\n",
    "\n",
    "while i < len(numbers):\n",
    "    if numbers[i] == 5:\n",
    "        print('Нашли пятёрку')\n",
    "        break\n",
    "    i += 1\n",
    "else:  # если break не сработал\n",
    "    print('Не нашли пятёрку')"
   ]
  },
  {
   "cell_type": "code",
   "execution_count": null,
   "id": "surgical-workstation",
   "metadata": {},
   "outputs": [],
   "source": [
    "# конструкция while..else\n",
    "\n",
    "numbers = [1, 3, 7, 8, 10, 6]\n",
    "i = 0\n",
    "\n",
    "while i < len(numbers):\n",
    "    if numbers[i] == 5:\n",
    "        print('Нашли пятёрку')\n",
    "        break\n",
    "    i += 1\n",
    "else:  # если break не сработал\n",
    "    print('Не нашли пятёрку')"
   ]
  },
  {
   "cell_type": "code",
   "execution_count": null,
   "id": "specific-trick",
   "metadata": {},
   "outputs": [],
   "source": [
    "# конструкция while..else\n",
    "\n",
    "numbers = [1, 3, 7, 8, 10, 5]\n",
    "i = 0\n",
    "\n",
    "while i < len(numbers):\n",
    "    if numbers[i] == 5:\n",
    "        print('Нашли пятёрку')\n",
    "        i += 1\n",
    "        continue\n",
    "    i += 1\n",
    "else:  # continue не влияет\n",
    "    print('Не нашли пятёрку')"
   ]
  },
  {
   "cell_type": "markdown",
   "id": "young-synthetic",
   "metadata": {},
   "source": [
    "#### Цикл for"
   ]
  },
  {
   "cell_type": "code",
   "execution_count": null,
   "id": "integrated-providence",
   "metadata": {},
   "outputs": [],
   "source": [
    "for i in range(10):\n",
    "    print(i)"
   ]
  },
  {
   "cell_type": "code",
   "execution_count": null,
   "id": "religious-denmark",
   "metadata": {},
   "outputs": [],
   "source": [
    "names = ['Alice', 'Bob', 'Charley']\n",
    "\n",
    "for name in names:  # перебираем элементы списка\n",
    "    print('Hello, ' + name)\n",
    "    \n",
    "print()\n",
    "    \n",
    "for i in range(len(names)):  # перебираем индексы от 0 до L-1\n",
    "    print('Hello, ' + names[i])\n",
    "\n",
    "print()    \n",
    "    \n",
    "for i, name in enumerate(names):  # перебираем пары индекс-элемент\n",
    "    print('Hello, ' + names[i] + ' (' + name + ')')"
   ]
  },
  {
   "cell_type": "code",
   "execution_count": null,
   "id": "discrete-coordinate",
   "metadata": {},
   "outputs": [],
   "source": [
    "# Поздороваемся только с двумя людьми\n",
    "\n",
    "names = ['Alice', 'Bob', 'Charley']\n",
    "\n",
    "for i, name in enumerate(names):\n",
    "    print('Hello, ' + name)\n",
    "    if i > 0: \n",
    "        break"
   ]
  },
  {
   "cell_type": "code",
   "execution_count": null,
   "id": "severe-lecture",
   "metadata": {},
   "outputs": [],
   "source": [
    "# не будем здороваться с Бобом\n",
    "\n",
    "names = ['Alice', 'Bob', 'Charley']\n",
    "\n",
    "for name in names:\n",
    "    if name == 'Bob': \n",
    "        continue    \n",
    "    print('Hello, ' + name)"
   ]
  },
  {
   "cell_type": "code",
   "execution_count": null,
   "id": "soviet-madonna",
   "metadata": {},
   "outputs": [],
   "source": [
    "numbers = [1, 3, 7, 8, 10]\n",
    "for n in numbers:\n",
    "    if n == 5:\n",
    "        print('Нашли пятёрку')\n",
    "        break\n",
    "else:    \n",
    "    print('Не нашли пятёрку')"
   ]
  },
  {
   "cell_type": "code",
   "execution_count": null,
   "id": "armed-roads",
   "metadata": {},
   "outputs": [],
   "source": [
    "# pass - ничего не делает\n",
    "\n",
    "for n in (1, 2, 3): \n",
    "    pass"
   ]
  },
  {
   "cell_type": "code",
   "execution_count": null,
   "id": "environmental-documentation",
   "metadata": {},
   "outputs": [],
   "source": [
    "# для чего нужен pass:\n",
    "for n in (1, 2, 3):"
   ]
  },
  {
   "cell_type": "markdown",
   "id": "metric-seller",
   "metadata": {},
   "source": [
    "#### Кортежи и списки. Основные операции с ними\n"
   ]
  },
  {
   "cell_type": "code",
   "execution_count": null,
   "id": "vocal-zoning",
   "metadata": {},
   "outputs": [],
   "source": [
    "mylist = ['i', 'cannot', 'be', 'modified']\n",
    "type(mylist)\n",
    "mylist[1] = 'can'\n",
    "mylist"
   ]
  },
  {
   "cell_type": "code",
   "execution_count": null,
   "id": "adjustable-consumer",
   "metadata": {},
   "outputs": [],
   "source": [
    "mytuple = ('i', 'cannot', 'be', 'modified')\n",
    "type(mytuple)\n",
    "mytuple[1] = 'can'\n",
    "mytuple"
   ]
  },
  {
   "cell_type": "code",
   "execution_count": null,
   "id": "confused-upgrade",
   "metadata": {},
   "outputs": [],
   "source": [
    "# оператор связывания не создаёт копии контейнеров!\n",
    "\n",
    "c = [1, 1, 1]\n",
    "\n",
    "a = [c] * 3\n",
    "\n",
    "a\n",
    "\n",
    "c[0] = 0\n",
    "\n",
    "a\n",
    "\n",
    "a[0][0] = 2\n",
    "\n",
    "a\n",
    "\n",
    "c"
   ]
  },
  {
   "cell_type": "code",
   "execution_count": null,
   "id": "promotional-relations",
   "metadata": {},
   "outputs": [],
   "source": [
    "# срезы (slices)\n",
    "tea_party = ('Rabbit', 'Bear', 'Fox', 'Turtle')\n",
    "\n",
    "# tea_party[from_included:to_not_included:step_size=1]\n",
    "tea_party[:]     # Если нет ни from_included, ни to_not_included - получим список целиком\n",
    "tea_party[1:3]   # от 1го включительно до 3го НЕ включительно\n",
    "tea_party[:2]\n",
    "tea_party[3:]\n",
    "tea_party[-1]    # Последний элемент списка\n",
    "tea_party[:-1]   # Все элементы списка, кроме последнего\n",
    "tea_party[0:5:2] # а ещё можно задать шаг прохода step_size - в данном случае элементы выводятся \"через один\"\n",
    "tea_party[::-1]  # а если задать шаг равным -1, список можно развернуть!\n",
    "tea_party[4]     # вылезли за пределы"
   ]
  },
  {
   "cell_type": "code",
   "execution_count": null,
   "id": "difficult-sunrise",
   "metadata": {},
   "outputs": [],
   "source": [
    "# изменения по срезам\n",
    "\n",
    "tea_party_list = list(tea_party)\n",
    "\n",
    "tea_party_list\n",
    "id(tea_party_list)\n",
    "\n",
    "tea_party_list[1:3] = ['Cat','Whale']\n",
    "\n",
    "tea_party_list\n",
    "id(tea_party_list)\n",
    "\n",
    "tea_party_list[1:5] = ['Bear','Whale']\n",
    "tea_party_list\n",
    "id(tea_party_list)"
   ]
  },
  {
   "cell_type": "code",
   "execution_count": null,
   "id": "south-politics",
   "metadata": {},
   "outputs": [],
   "source": [
    "# копирование через срезы\n",
    "\n",
    "tea_party_not_so_copy = tea_party_list\n",
    "tea_party_not_so_copy is tea_party_list\n",
    "\n",
    "tea_party_copy = tea_party_list[:]\n",
    "tea_party_copy is tea_party_list"
   ]
  },
  {
   "cell_type": "code",
   "execution_count": null,
   "id": "blank-smooth",
   "metadata": {},
   "outputs": [],
   "source": [
    "# методы списков\n",
    "mylist = [1, 3, 5, 7, 7, 7, 5, 3, 1]\n",
    "\n",
    "mylist.append(8)  # метод append(v) добавляет в конец нашего списка новый элемент, здесь - число 8\n",
    "print(mylist)\n",
    "\n",
    "mylist.insert(1,2)  # метод insert(a,b) вставляет элемент b в позицию с индексом a в наш список\n",
    "print(mylist)\n",
    "\n",
    "mylist.remove(3)  # метод remove(v) удаляет из списка элемент со значением v (если v несколько - первое слева)\n",
    "print(mylist)\n",
    "\n",
    "i = 4\n",
    "del mylist[i]  # а вот так можно удалить элемент по индексу i, а не по значению v\n",
    "print(mylist)\n",
    "\n",
    "sevens = mylist.count(7)  # метод count(v) возвращает число равных v элементов в списке\n",
    "print(sevens)\n",
    "\n",
    "mylist.sort()  # сортируем список \n",
    "print(mylist)\n",
    "\n",
    "d = mylist.pop()  # получаем последний элемент, удаляя его из списка\n",
    "print(d)\n",
    "print(mylist)"
   ]
  },
  {
   "cell_type": "code",
   "execution_count": null,
   "id": "recognized-moderator",
   "metadata": {},
   "outputs": [],
   "source": [
    "# чтобы посмотреть спискок аттрибутов класcа/объекта\n",
    "# класса воспользуемся встроенной функцией dir\n",
    "\n",
    "dir(list)"
   ]
  },
  {
   "cell_type": "code",
   "execution_count": null,
   "id": "southern-station",
   "metadata": {},
   "outputs": [],
   "source": [
    "help(dir)"
   ]
  },
  {
   "cell_type": "code",
   "execution_count": null,
   "id": "impossible-morocco",
   "metadata": {},
   "outputs": [],
   "source": [
    "# функции над списками\n",
    "\n",
    "mylist = [1, 3, 5, 7, 7, 7, 5, 3, 1]\n",
    "\n",
    "len(mylist)\n",
    "sum(mylist)\n",
    "max(mylist)\n",
    "min(mylist)\n",
    "\n",
    "sorted_mylist = sorted(mylist) # В отличие от list.sort(), sorted() не меняет исходный список, а создаёт копию\n",
    "mylist\n",
    "sorted_mylist"
   ]
  },
  {
   "cell_type": "code",
   "execution_count": null,
   "id": "silent-tiger",
   "metadata": {},
   "outputs": [],
   "source": [
    "# list comprehension\n",
    "\n",
    "[i for i in range(10)]\n",
    "[i + j for i in range(5) for j in range(5)]\n",
    "[i + j for i in range(5) for j in range(5) if i == j]"
   ]
  },
  {
   "cell_type": "code",
   "execution_count": null,
   "id": "fleet-traveler",
   "metadata": {},
   "outputs": [],
   "source": [
    "# по оговоренным ранее (каким?) причинам, вместо:\n",
    "[[0]*3]*3\n",
    "\n",
    "# лучше использовать:\n",
    "[[0]*3 for i in range(3)]"
   ]
  },
  {
   "cell_type": "code",
   "execution_count": null,
   "id": "apparent-progressive",
   "metadata": {},
   "outputs": [],
   "source": [
    "# функция zip - создание поэлементных кортежей (завершается по минимальному размеру из аргументов)\n",
    "\n",
    "[pair for pair in zip(range(10), 'abc', [1, 2])]"
   ]
  },
  {
   "cell_type": "markdown",
   "id": "round-internet",
   "metadata": {},
   "source": [
    "Что отработает быстрее при создании списка: множественный append(...) или list comprehension?"
   ]
  },
  {
   "cell_type": "code",
   "execution_count": null,
   "id": "three-accreditation",
   "metadata": {},
   "outputs": [],
   "source": [
    "%%time\n",
    "\n",
    "mylist = [i for i in range(10_000_000)]"
   ]
  },
  {
   "cell_type": "code",
   "execution_count": null,
   "id": "brief-broadway",
   "metadata": {},
   "outputs": [],
   "source": [
    "%%time\n",
    "\n",
    "mylist = []\n",
    "for i in range(10_000_000):\n",
    "    mylist.append(i)"
   ]
  },
  {
   "cell_type": "markdown",
   "id": "precious-victor",
   "metadata": {},
   "source": [
    "### Микрозадача\n",
    "Дан массив целых чисел A.  \n",
    "Создать массив В, который содержит только положительные числа из А."
   ]
  },
  {
   "cell_type": "code",
   "execution_count": null,
   "id": "composite-breathing",
   "metadata": {},
   "outputs": [],
   "source": [
    "# оператор распаковки\n",
    "\n",
    "mylist = [1, 2, 3, 4, 5]\n",
    "\n",
    "print(mylist)  # печатаем список\n",
    "print(*mylist, sep=\"->\") # печатаем элементы списка, эквивалент - print(mylist[0],mylist[1],...)"
   ]
  },
  {
   "cell_type": "code",
   "execution_count": null,
   "id": "right-optics",
   "metadata": {},
   "outputs": [],
   "source": [
    "# совместим множественное связывание и распаковку\n",
    "\n",
    "mylist = [1, 2, 3, 4, 5, 6, 7, 8, 9]\n",
    "a, b, *c = mylist\n",
    "a\n",
    "b\n",
    "c"
   ]
  },
  {
   "cell_type": "code",
   "execution_count": null,
   "id": "bronze-sarah",
   "metadata": {},
   "outputs": [],
   "source": [
    "# совместим множественное связывание и распаковку\n",
    "\n",
    "mylist = [1, 2, 3, 4, 5, 6, 7, 8, 9]\n",
    "a, *b, c = mylist\n",
    "a\n",
    "b\n",
    "c"
   ]
  },
  {
   "cell_type": "code",
   "execution_count": null,
   "id": "agricultural-genetics",
   "metadata": {},
   "outputs": [],
   "source": [
    "# ошибка\n",
    "\n",
    "mylist = [1, 2, 3, 4, 5, 6, 7, 8, 9]\n",
    "a, b, c = mylist\n",
    "a\n",
    "b\n",
    "c"
   ]
  },
  {
   "cell_type": "code",
   "execution_count": null,
   "id": "derived-brooklyn",
   "metadata": {},
   "outputs": [],
   "source": [
    "# тут тоже ошибка, почему?\n",
    "\n",
    "mylist = [1, 2, 3, 4, 5, 6, 7, 8, 9]\n",
    "a, *b, *c = mylist\n",
    "a\n",
    "b\n",
    "c"
   ]
  },
  {
   "cell_type": "code",
   "execution_count": null,
   "id": "prostate-nowhere",
   "metadata": {},
   "outputs": [],
   "source": [
    "# что получится и почему?\n",
    "\n",
    "mylist = [1, 2, 3, 4, 5, 6, 7, 8, 9]\n",
    "a, *b, c = mylist, 1\n",
    "a\n",
    "b\n",
    "c"
   ]
  },
  {
   "cell_type": "code",
   "execution_count": null,
   "id": "absolute-wiring",
   "metadata": {},
   "outputs": [],
   "source": [
    "# а так?\n",
    "\n",
    "mylist = [1, 2, 3, 4, 5, 6, 7, 8, 9]\n",
    "a, *b, c = *mylist, 1\n",
    "a\n",
    "b\n",
    "c"
   ]
  },
  {
   "cell_type": "code",
   "execution_count": null,
   "id": "tired-journalism",
   "metadata": {},
   "outputs": [],
   "source": [
    "# полезные функции split(str, sep=' ') и str.join(list):\n",
    "\n",
    "A = 'Привет, я обычное предложение, во мне есть слова и пробелы'.split(' ')\n",
    "print(A)\n",
    "\n",
    "B = ' '.join(A)\n",
    "print(B)\n",
    "\n",
    "C = B.split('е')\n",
    "print(C)\n",
    "\n",
    "D = 'э'.join(C)\n",
    "print(D)"
   ]
  },
  {
   "cell_type": "markdown",
   "id": "lined-projector",
   "metadata": {},
   "source": [
    "#### Генераторные выражения"
   ]
  },
  {
   "cell_type": "code",
   "execution_count": null,
   "id": "composed-conservation",
   "metadata": {},
   "outputs": [],
   "source": [
    "# иногда удобно создать генератор вместо списка, \n",
    "# чтобы не хранить в памяти весь список сразу, \n",
    "# а перебирать по одному\n",
    "\n",
    "sum([x*x for x in range(10)]) # list comprehension\n",
    "sum(x*x for x in range(10))   # generator expression\n",
    "\n",
    "# А в чём разница?\n",
    "\n",
    "type([x*x for x in range(10)])\n",
    "type(x*x for x in range(10))"
   ]
  },
  {
   "cell_type": "markdown",
   "id": "intimate-integer",
   "metadata": {},
   "source": [
    "#### Модули стандартной библиотеки"
   ]
  },
  {
   "cell_type": "code",
   "execution_count": null,
   "id": "automotive-preview",
   "metadata": {},
   "outputs": [],
   "source": [
    "import sys  # модуль содержит инфоромацию о среде исполнения программы\n",
    "\n",
    "sys.platform"
   ]
  },
  {
   "cell_type": "code",
   "execution_count": null,
   "id": "eastern-culture",
   "metadata": {},
   "outputs": [],
   "source": [
    "import os  # модуль содержит инфоромацию об операционной системе \n",
    "\n",
    "os.sep"
   ]
  },
  {
   "cell_type": "code",
   "execution_count": null,
   "id": "molecular-upgrade",
   "metadata": {},
   "outputs": [],
   "source": [
    "import math as m\n",
    "\n",
    "m.factorial(5)"
   ]
  },
  {
   "cell_type": "code",
   "execution_count": null,
   "id": "august-teddy",
   "metadata": {},
   "outputs": [],
   "source": [
    "help(m)"
   ]
  },
  {
   "cell_type": "code",
   "execution_count": null,
   "id": "played-charter",
   "metadata": {},
   "outputs": [],
   "source": [
    "from math import floor\n",
    "\n",
    "floor(2.5)"
   ]
  },
  {
   "cell_type": "code",
   "execution_count": null,
   "id": "offensive-produce",
   "metadata": {},
   "outputs": [],
   "source": [
    "from math import *  # можно и так, но это плохой тон"
   ]
  },
  {
   "cell_type": "markdown",
   "id": "viral-amplifier",
   "metadata": {},
   "source": [
    "#### Модуль itertools  \n",
    "  \n",
    "https://docs.python.org/3/library/itertools.html"
   ]
  },
  {
   "cell_type": "code",
   "execution_count": null,
   "id": "progressive-going",
   "metadata": {},
   "outputs": [],
   "source": [
    "import itertools\n",
    "\n",
    "# product: можно \"разворачивать\" циклы\n",
    "\n",
    "for i in range(2):\n",
    "    for j in \"abc\":\n",
    "        print(i, j)\n",
    "\n",
    "print()\n",
    "\n",
    "# эквивалентно:\n",
    "for i, j in itertools.product(range(2), \"abc\"):\n",
    "    print(i, j)"
   ]
  },
  {
   "cell_type": "code",
   "execution_count": null,
   "id": "fossil-athletics",
   "metadata": {},
   "outputs": [],
   "source": [
    "# перестановки\n",
    "\n",
    "list(itertools.permutations([1,2,3]))"
   ]
  },
  {
   "cell_type": "code",
   "execution_count": null,
   "id": "played-queensland",
   "metadata": {},
   "outputs": [],
   "source": [
    "# комбинации\n",
    "\n",
    "list(itertools.combinations([1,2,3], 2))"
   ]
  },
  {
   "cell_type": "code",
   "execution_count": null,
   "id": "alien-preliminary",
   "metadata": {},
   "outputs": [],
   "source": [
    "# комбинации с повторениями\n",
    "\n",
    "list(itertools.combinations_with_replacement([1,2,3], 2))"
   ]
  },
  {
   "cell_type": "code",
   "execution_count": null,
   "id": "unusual-phrase",
   "metadata": {},
   "outputs": [],
   "source": [
    "# бесконечные генераторы: count, cycle, repeat\n",
    "\n",
    "for elems in zip(itertools.count(), itertools.cycle([1,2,3]), itertools.repeat(\"oak\"), range(7)):\n",
    "    print(elems)"
   ]
  },
  {
   "cell_type": "code",
   "execution_count": null,
   "id": "pregnant-tyler",
   "metadata": {},
   "outputs": [],
   "source": [
    "# первые 5 элементов\n",
    "\n",
    "list(itertools.islice(itertools.count(), 5))"
   ]
  },
  {
   "cell_type": "code",
   "execution_count": null,
   "id": "third-contribution",
   "metadata": {},
   "outputs": [],
   "source": [
    "# аккумулирование\n",
    "\n",
    "list(itertools.accumulate([1,2,3,4,5]))"
   ]
  },
  {
   "cell_type": "code",
   "execution_count": null,
   "id": "incorporate-prince",
   "metadata": {},
   "outputs": [],
   "source": [
    "# выстраивание в цепочку\n",
    "\n",
    "list(itertools.chain('ABC', [[0, 1, 2], 1, 2], range(-3, 0, 1)))"
   ]
  },
  {
   "cell_type": "code",
   "execution_count": null,
   "id": "flying-stopping",
   "metadata": {},
   "outputs": [],
   "source": [
    "# взять подвыборку из списка\n",
    "\n",
    "list(itertools.compress([3, 0, 4, 1, 5, 9], [True, False, False, True, True, True]))"
   ]
  },
  {
   "cell_type": "code",
   "execution_count": null,
   "id": "velvet-measurement",
   "metadata": {},
   "outputs": [],
   "source": [
    "# zip по самому длинному\n",
    "\n",
    "list(itertools.zip_longest('ABCD', 'xy', fillvalue=None))"
   ]
  }
 ],
 "metadata": {
  "kernelspec": {
   "display_name": "Python 3",
   "language": "python",
   "name": "python3"
  },
  "language_info": {
   "codemirror_mode": {
    "name": "ipython",
    "version": 3
   },
   "file_extension": ".py",
   "mimetype": "text/x-python",
   "name": "python",
   "nbconvert_exporter": "python",
   "pygments_lexer": "ipython3",
   "version": "3.8.6"
  }
 },
 "nbformat": 4,
 "nbformat_minor": 5
}
