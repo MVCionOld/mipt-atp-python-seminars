{
 "cells": [
  {
   "cell_type": "code",
   "execution_count": 1,
   "id": "documentary-signature",
   "metadata": {},
   "outputs": [],
   "source": [
    "from IPython.core.interactiveshell import InteractiveShell\n",
    "InteractiveShell.ast_node_interactivity = \"all\""
   ]
  },
  {
   "cell_type": "markdown",
   "id": "looking-soccer",
   "metadata": {},
   "source": [
    "# Семинар №2\n",
    "## if-else, loops, containers"
   ]
  },
  {
   "cell_type": "markdown",
   "id": "dated-screening",
   "metadata": {},
   "source": [
    "#### Условные операторы (if, elif, else)"
   ]
  },
  {
   "cell_type": "code",
   "execution_count": 2,
   "id": "figured-meditation",
   "metadata": {
    "scrolled": true
   },
   "outputs": [
    {
     "name": "stdout",
     "output_type": "stream",
     "text": [
      "Enter your age: 21\n",
      "Yes, you can drive\n"
     ]
    }
   ],
   "source": [
    "# функция input(prompt) - запрашивает ввод значения пользователем\n",
    "age = input(\"Enter your age: \")  # аргумент - текст сообщения\n",
    "age = int(age) # функция int преобразовывает введённое пользователем значение в целочисленный формат\n",
    "\n",
    "if age >= 18: # Если вам есть 18\n",
    "    answer = 'Yes, you can drive'\n",
    "\n",
    "else: # Иначе\n",
    "    answer = \"No, you can't drive\"\n",
    "    \n",
    "print(answer)"
   ]
  },
  {
   "cell_type": "markdown",
   "id": "exempt-playlist",
   "metadata": {},
   "source": [
    "**Замечание 1:**  \n",
    "Двоеточие после условия (в конце строки if) обязательно!\n",
    "\n",
    "**Замечание 2:**  \n",
    "После if и после else!\n",
    "\n",
    "**Замечание 3:**  \n",
    "В Python группы команд определяются *ОТСТУПАМИ*! За отступами нужно *ВНИМАТЕЛЬНО* следить! Отступами могут служить и пробелы, и знаки табуляции, но ни в коем случае не перемешивайте их! Как правило, в качестве отступа используют 4 пробела, но иногда можно встретить исходники с 2 или 8 символами пробела. Использование знаков табуляции является плохой практикой и следует избегать их (не только в Python: [прочитайте](https://habr.com/ru/post/331026/)).\n",
    "\n",
    "**Замечание 4:**  \n",
    "В Python нет операторных скобок, в отличие от таких языков, как С++ или Java. В этих языках набор команд, которые должны быть выполнены при определённом условии, определяется расположением скобок, например что-то вроде:\n",
    "```\n",
    "if (<condition>) {\n",
    "  <cmd1>;\n",
    "  ...\n",
    "  <cmdN>;\n",
    "} else {\n",
    "  <cmdM>;\n",
    "}\n",
    "```\n",
    "Здесь команды <cmd1> ... <cmd1> выполняются внутри блока с истинным <condition>, иначе выполняется <cmdM>.\n",
    "\n",
    "На Python это выглядит вот так:\n",
    "```\n",
    "if <condition>:\n",
    "    <cmd1>\n",
    "    ...\n",
    "    <cmdN>\n",
    "else:\n",
    "    <cmdM>\n",
    "```\n"
   ]
  },
  {
   "cell_type": "code",
   "execution_count": 3,
   "id": "reliable-speaking",
   "metadata": {},
   "outputs": [
    {
     "name": "stdout",
     "output_type": "stream",
     "text": [
      "Enter your age: 14\n",
      "No, you can't drive\n"
     ]
    }
   ],
   "source": [
    "# Проверок может быть и несколько сразу:\n",
    "\n",
    "age = int(input(\"Enter your age: \"))  # Удобно использовать int(input()), если вы запрашиваете число\n",
    "\n",
    "country = 'Russia'\n",
    "#country = 'USA'\n",
    "\n",
    "if age >= 16 and country == 'USA':  # Если вам есть 16 и вы живете в США\n",
    "    answer = 'Yes, you can drive'\n",
    "else:\n",
    "    if age >= 18 and country == 'Russia':  # Если условие выше неверно, но вам есть 18 и вы живете в России\n",
    "        answer = 'Yes, you can drive'\n",
    "    else: # Иначе\n",
    "        answer = \"No, you can't drive\"\n",
    "    \n",
    "print(answer)"
   ]
  },
  {
   "cell_type": "code",
   "execution_count": 4,
   "id": "motivated-kernel",
   "metadata": {},
   "outputs": [
    {
     "name": "stdout",
     "output_type": "stream",
     "text": [
      "Enter your age: 12\n",
      "No, you can't drive\n"
     ]
    }
   ],
   "source": [
    "# else + if == elif\n",
    "\n",
    "age = int(input(\"Enter your age: \"))  # Удобно использовать int(input()), если вы запрашиваете число\n",
    "\n",
    "country = 'Russia'\n",
    "#country = 'USA'\n",
    "\n",
    "if age >= 16 and country == 'USA':       # Если вам есть 16 и вы живете в США\n",
    "    answer = 'Yes, you can drive'\n",
    "elif age >= 18 and country == 'Russia':  # Если условие выше неверно, но вам есть 18 и вы живете в России\n",
    "    answer = 'Yes, you can drive'\n",
    "else:\n",
    "    answer = \"No, you can't drive\"\n",
    "    \n",
    "print(answer)"
   ]
  },
  {
   "cell_type": "markdown",
   "id": "funny-effectiveness",
   "metadata": {},
   "source": [
    "#### Тернарный оператор"
   ]
  },
  {
   "cell_type": "code",
   "execution_count": 5,
   "id": "round-speed",
   "metadata": {},
   "outputs": [
    {
     "data": {
      "text/plain": [
       "'true'"
      ]
     },
     "execution_count": 5,
     "metadata": {},
     "output_type": "execute_result"
    },
    {
     "data": {
      "text/plain": [
       "'false'"
      ]
     },
     "execution_count": 5,
     "metadata": {},
     "output_type": "execute_result"
    }
   ],
   "source": [
    "# a if condition else b\n",
    "\n",
    "'true' if True else 'false'\n",
    "'true' if False else 'false'"
   ]
  },
  {
   "cell_type": "code",
   "execution_count": 6,
   "id": "defensive-profession",
   "metadata": {},
   "outputs": [
    {
     "name": "stdout",
     "output_type": "stream",
     "text": [
      "5\n",
      "8\n"
     ]
    }
   ],
   "source": [
    "# можно использовать в выражениях\n",
    "\n",
    "x, y = 5, 3  # да, так можно\n",
    "x, y = y, x  # и так тоже!\n",
    "\n",
    "z = (3 + x) if x > y else y\n",
    "\n",
    "print(z)\n",
    "\n",
    "z = 3 + (x if x > y else y) # внимательнее с порядком вычислений\n",
    "\n",
    "print(z)"
   ]
  },
  {
   "cell_type": "code",
   "execution_count": 7,
   "id": "persistent-gateway",
   "metadata": {},
   "outputs": [
    {
     "data": {
      "text/plain": [
       "'teenager'"
      ]
     },
     "execution_count": 7,
     "metadata": {},
     "output_type": "execute_result"
    }
   ],
   "source": [
    "# можно использовать подряд (но лучше не надо)\n",
    "age = 15\n",
    "'kid' if age < 13 else ('teenager' if age < 18 else 'adult')"
   ]
  },
  {
   "cell_type": "code",
   "execution_count": 8,
   "id": "postal-governor",
   "metadata": {},
   "outputs": [
    {
     "name": "stdout",
     "output_type": "stream",
     "text": [
      "The cat is  nice\n",
      "The cat is  nice\n"
     ]
    }
   ],
   "source": [
    "# эквивалентные конструкция:\n",
    "\n",
    "nice = True\n",
    "\n",
    "personality = \"nice\" if nice else \"mean\"\n",
    "print(\"The cat is \", personality)\n",
    "\n",
    "personality = (\"mean\", \"nice\")[nice]\n",
    "print(\"The cat is \", personality)"
   ]
  },
  {
   "cell_type": "markdown",
   "id": "responsible-green",
   "metadata": {},
   "source": [
    "#### Цикл while"
   ]
  },
  {
   "cell_type": "code",
   "execution_count": 9,
   "id": "stuffed-precipitation",
   "metadata": {},
   "outputs": [
    {
     "name": "stdout",
     "output_type": "stream",
     "text": [
      "1\n",
      "Hello! \n",
      "2\n",
      "Hello! Hello! \n",
      "3\n",
      "Hello! Hello! Hello! \n"
     ]
    }
   ],
   "source": [
    "greetings = 1\n",
    "\n",
    "while greetings <= 3:\n",
    "    print(greetings)\n",
    "    print('Hello! ' * greetings)\n",
    "    # оператор += увеличивает переменную на заданное число \n",
    "    greetings += 1  # эквивалентно: greetings = greetings + 1"
   ]
  },
  {
   "cell_type": "code",
   "execution_count": 10,
   "id": "ancient-stable",
   "metadata": {},
   "outputs": [
    {
     "name": "stdout",
     "output_type": "stream",
     "text": [
      "5050\n"
     ]
    }
   ],
   "source": [
    "i = 0\n",
    "k = 5\n",
    "S = 0  # сумма первых 100 чисел\n",
    "\n",
    "while True:\n",
    "    i += 1\n",
    "    S += i\n",
    "    if not i < 100: \n",
    "        break\n",
    "\n",
    "print(S) "
   ]
  },
  {
   "cell_type": "code",
   "execution_count": 11,
   "id": "numerous-mumbai",
   "metadata": {},
   "outputs": [
    {
     "name": "stdout",
     "output_type": "stream",
     "text": [
      "4000\n"
     ]
    }
   ],
   "source": [
    "i = 0\n",
    "k = 5\n",
    "S = 0  # сумма первых 100 чисел не кратных k  \n",
    "\n",
    "while i < 100:\n",
    "    i += 1\n",
    "    if not i % k:\n",
    "        continue\n",
    "    S += i\n",
    "\n",
    "print(S)    "
   ]
  },
  {
   "cell_type": "code",
   "execution_count": 12,
   "id": "hired-guidance",
   "metadata": {},
   "outputs": [
    {
     "name": "stdout",
     "output_type": "stream",
     "text": [
      "Нашли пятёрку\n"
     ]
    }
   ],
   "source": [
    "# конструкция while..else\n",
    "\n",
    "numbers = [1, 3, 7, 8, 10, 5]\n",
    "i = 0\n",
    "\n",
    "while i < len(numbers):\n",
    "    if numbers[i] == 5:\n",
    "        print('Нашли пятёрку')\n",
    "        break\n",
    "    i += 1\n",
    "else:  # если break не сработал\n",
    "    print('Не нашли пятёрку')"
   ]
  },
  {
   "cell_type": "code",
   "execution_count": 13,
   "id": "surgical-workstation",
   "metadata": {},
   "outputs": [
    {
     "name": "stdout",
     "output_type": "stream",
     "text": [
      "Не нашли пятёрку\n"
     ]
    }
   ],
   "source": [
    "# конструкция while..else\n",
    "\n",
    "numbers = [1, 3, 7, 8, 10, 6]\n",
    "i = 0\n",
    "\n",
    "while i < len(numbers):\n",
    "    if numbers[i] == 5:\n",
    "        print('Нашли пятёрку')\n",
    "        break\n",
    "    i += 1\n",
    "else:  # если break не сработал\n",
    "    print('Не нашли пятёрку')"
   ]
  },
  {
   "cell_type": "code",
   "execution_count": 14,
   "id": "specific-trick",
   "metadata": {},
   "outputs": [
    {
     "name": "stdout",
     "output_type": "stream",
     "text": [
      "Нашли пятёрку\n",
      "Не нашли пятёрку\n"
     ]
    }
   ],
   "source": [
    "# конструкция while..else\n",
    "\n",
    "numbers = [1, 3, 7, 8, 10, 5]\n",
    "i = 0\n",
    "\n",
    "while i < len(numbers):\n",
    "    if numbers[i] == 5:\n",
    "        print('Нашли пятёрку')\n",
    "        i += 1\n",
    "        continue\n",
    "    i += 1\n",
    "else:  # continue не влияет\n",
    "    print('Не нашли пятёрку')"
   ]
  },
  {
   "cell_type": "markdown",
   "id": "young-synthetic",
   "metadata": {},
   "source": [
    "#### Цикл for"
   ]
  },
  {
   "cell_type": "code",
   "execution_count": 15,
   "id": "integrated-providence",
   "metadata": {},
   "outputs": [
    {
     "name": "stdout",
     "output_type": "stream",
     "text": [
      "0\n",
      "1\n",
      "2\n",
      "3\n",
      "4\n",
      "5\n",
      "6\n",
      "7\n",
      "8\n",
      "9\n"
     ]
    }
   ],
   "source": [
    "for i in range(10):\n",
    "    print(i)"
   ]
  },
  {
   "cell_type": "code",
   "execution_count": 16,
   "id": "religious-denmark",
   "metadata": {},
   "outputs": [
    {
     "name": "stdout",
     "output_type": "stream",
     "text": [
      "Hello, Alice\n",
      "Hello, Bob\n",
      "Hello, Charley\n",
      "\n",
      "Hello, Alice\n",
      "Hello, Bob\n",
      "Hello, Charley\n",
      "\n",
      "Hello, Alice (Alice)\n",
      "Hello, Bob (Bob)\n",
      "Hello, Charley (Charley)\n"
     ]
    }
   ],
   "source": [
    "names = ['Alice', 'Bob', 'Charley']\n",
    "\n",
    "for name in names:  # перебираем элементы списка\n",
    "    print('Hello, ' + name)\n",
    "    \n",
    "print()\n",
    "    \n",
    "for i in range(len(names)):  # перебираем индексы от 0 до L-1\n",
    "    print('Hello, ' + names[i])\n",
    "\n",
    "print()    \n",
    "    \n",
    "for i, name in enumerate(names):  # перебираем пары индекс-элемент\n",
    "    print('Hello, ' + names[i] + ' (' + name + ')')"
   ]
  },
  {
   "cell_type": "code",
   "execution_count": 17,
   "id": "surrounded-florence",
   "metadata": {},
   "outputs": [
    {
     "name": "stdout",
     "output_type": "stream",
     "text": [
      "Help on class enumerate in module builtins:\n",
      "\n",
      "class enumerate(object)\n",
      " |  enumerate(iterable, start=0)\n",
      " |  \n",
      " |  Return an enumerate object.\n",
      " |  \n",
      " |    iterable\n",
      " |      an object supporting iteration\n",
      " |  \n",
      " |  The enumerate object yields pairs containing a count (from start, which\n",
      " |  defaults to zero) and a value yielded by the iterable argument.\n",
      " |  \n",
      " |  enumerate is useful for obtaining an indexed list:\n",
      " |      (0, seq[0]), (1, seq[1]), (2, seq[2]), ...\n",
      " |  \n",
      " |  Methods defined here:\n",
      " |  \n",
      " |  __getattribute__(self, name, /)\n",
      " |      Return getattr(self, name).\n",
      " |  \n",
      " |  __iter__(self, /)\n",
      " |      Implement iter(self).\n",
      " |  \n",
      " |  __next__(self, /)\n",
      " |      Implement next(self).\n",
      " |  \n",
      " |  __reduce__(...)\n",
      " |      Return state information for pickling.\n",
      " |  \n",
      " |  ----------------------------------------------------------------------\n",
      " |  Static methods defined here:\n",
      " |  \n",
      " |  __new__(*args, **kwargs) from builtins.type\n",
      " |      Create and return a new object.  See help(type) for accurate signature.\n",
      "\n"
     ]
    }
   ],
   "source": [
    "help(enumerate)\n"
   ]
  },
  {
   "cell_type": "code",
   "execution_count": 18,
   "id": "discrete-coordinate",
   "metadata": {},
   "outputs": [
    {
     "name": "stdout",
     "output_type": "stream",
     "text": [
      "Hello, Alice\n",
      "Hello, Bob\n"
     ]
    }
   ],
   "source": [
    "# Поздороваемся только с двумя людьми\n",
    "\n",
    "names = ['Alice', 'Bob', 'Charley']\n",
    "\n",
    "for i, name in enumerate(names):\n",
    "    print('Hello, ' + name)\n",
    "    if i > 0: \n",
    "        break"
   ]
  },
  {
   "cell_type": "code",
   "execution_count": 19,
   "id": "foster-subscriber",
   "metadata": {},
   "outputs": [
    {
     "name": "stdout",
     "output_type": "stream",
     "text": [
      "0  ->  (1, 2, 3)\n",
      "1  ->  {'a': 1, 'b': 2}\n",
      "2  ->  None\n"
     ]
    }
   ],
   "source": [
    "l = [(1, 2, 3), {\"a\": 1, \"b\": 2}, None]\n",
    "for (i, obj) in enumerate(l):\n",
    "    print(i, \" -> \", obj)"
   ]
  },
  {
   "cell_type": "code",
   "execution_count": 20,
   "id": "severe-lecture",
   "metadata": {},
   "outputs": [
    {
     "name": "stdout",
     "output_type": "stream",
     "text": [
      "Hello, Alice\n",
      "Hello, Charley\n"
     ]
    }
   ],
   "source": [
    "# не будем здороваться с Бобом\n",
    "\n",
    "names = ['Alice', 'Bob', 'Charley']\n",
    "\n",
    "for name in names:\n",
    "    if name == 'Bob': \n",
    "        continue    \n",
    "    print('Hello, ' + name)"
   ]
  },
  {
   "cell_type": "code",
   "execution_count": 21,
   "id": "soviet-madonna",
   "metadata": {},
   "outputs": [
    {
     "name": "stdout",
     "output_type": "stream",
     "text": [
      "Не нашли пятёрку\n"
     ]
    }
   ],
   "source": [
    "numbers = [1, 3, 7, 8, 10]\n",
    "for n in numbers:\n",
    "    if n == 5:\n",
    "        print('Нашли пятёрку')\n",
    "        break\n",
    "else:    \n",
    "    print('Не нашли пятёрку')"
   ]
  },
  {
   "cell_type": "code",
   "execution_count": 22,
   "id": "armed-roads",
   "metadata": {},
   "outputs": [
    {
     "name": "stdout",
     "output_type": "stream",
     "text": [
      "1\n",
      "2\n",
      "3\n"
     ]
    }
   ],
   "source": [
    "# pass - ничего не делает\n",
    "\n",
    "for n in (1, 2, 3): \n",
    "    pass\n",
    "    print(n)"
   ]
  },
  {
   "cell_type": "code",
   "execution_count": 23,
   "id": "oriented-minimum",
   "metadata": {},
   "outputs": [],
   "source": [
    "n = 5\n",
    "if n < 5:\n",
    "    print (\"< 5\")\n",
    "elif n == 5:\n",
    "    pass  #TODO: спихиваю на тебя\n",
    "else:\n",
    "    print(\">= 6\")"
   ]
  },
  {
   "cell_type": "code",
   "execution_count": 24,
   "id": "environmental-documentation",
   "metadata": {},
   "outputs": [
    {
     "ename": "SyntaxError",
     "evalue": "unexpected EOF while parsing (<ipython-input-24-78300cc41f9e>, line 2)",
     "output_type": "error",
     "traceback": [
      "\u001b[0;36m  File \u001b[0;32m\"<ipython-input-24-78300cc41f9e>\"\u001b[0;36m, line \u001b[0;32m2\u001b[0m\n\u001b[0;31m    for n in (1, 2, 3):\u001b[0m\n\u001b[0m                       ^\u001b[0m\n\u001b[0;31mSyntaxError\u001b[0m\u001b[0;31m:\u001b[0m unexpected EOF while parsing\n"
     ]
    }
   ],
   "source": [
    "# для чего нужен pass:\n",
    "for n in (1, 2, 3):"
   ]
  },
  {
   "cell_type": "markdown",
   "id": "metric-seller",
   "metadata": {},
   "source": [
    "#### Кортежи и списки. Основные операции с ними\n"
   ]
  },
  {
   "cell_type": "code",
   "execution_count": 25,
   "id": "vocal-zoning",
   "metadata": {},
   "outputs": [
    {
     "data": {
      "text/plain": [
       "list"
      ]
     },
     "execution_count": 25,
     "metadata": {},
     "output_type": "execute_result"
    },
    {
     "data": {
      "text/plain": [
       "['i', 'can', 'be', 'modified']"
      ]
     },
     "execution_count": 25,
     "metadata": {},
     "output_type": "execute_result"
    }
   ],
   "source": [
    "mylist = ['i', 'cannot', 'be', 'modified']\n",
    "type(mylist)\n",
    "mylist[1] = 'can'\n",
    "mylist"
   ]
  },
  {
   "cell_type": "code",
   "execution_count": 26,
   "id": "adjustable-consumer",
   "metadata": {},
   "outputs": [
    {
     "data": {
      "text/plain": [
       "tuple"
      ]
     },
     "execution_count": 26,
     "metadata": {},
     "output_type": "execute_result"
    },
    {
     "ename": "TypeError",
     "evalue": "'tuple' object does not support item assignment",
     "output_type": "error",
     "traceback": [
      "\u001b[0;31m\u001b[0m",
      "\u001b[0;31mTypeError\u001b[0mTraceback (most recent call last)",
      "\u001b[0;32m<ipython-input-26-e29b2185a617>\u001b[0m in \u001b[0;36m<module>\u001b[0;34m\u001b[0m\n\u001b[1;32m      1\u001b[0m \u001b[0mmytuple\u001b[0m \u001b[0;34m=\u001b[0m \u001b[0;34m(\u001b[0m\u001b[0;34m'i'\u001b[0m\u001b[0;34m,\u001b[0m \u001b[0;34m'cannot'\u001b[0m\u001b[0;34m,\u001b[0m \u001b[0;34m'be'\u001b[0m\u001b[0;34m,\u001b[0m \u001b[0;34m'modified'\u001b[0m\u001b[0;34m)\u001b[0m\u001b[0;34m\u001b[0m\u001b[0;34m\u001b[0m\u001b[0m\n\u001b[1;32m      2\u001b[0m \u001b[0mtype\u001b[0m\u001b[0;34m(\u001b[0m\u001b[0mmytuple\u001b[0m\u001b[0;34m)\u001b[0m\u001b[0;34m\u001b[0m\u001b[0;34m\u001b[0m\u001b[0m\n\u001b[0;32m----> 3\u001b[0;31m \u001b[0mmytuple\u001b[0m\u001b[0;34m[\u001b[0m\u001b[0;36m1\u001b[0m\u001b[0;34m]\u001b[0m \u001b[0;34m=\u001b[0m \u001b[0;34m'can'\u001b[0m\u001b[0;34m\u001b[0m\u001b[0;34m\u001b[0m\u001b[0m\n\u001b[0m\u001b[1;32m      4\u001b[0m \u001b[0mmytuple\u001b[0m\u001b[0;34m\u001b[0m\u001b[0;34m\u001b[0m\u001b[0m\n",
      "\u001b[0;31mTypeError\u001b[0m: 'tuple' object does not support item assignment"
     ]
    }
   ],
   "source": [
    "mytuple = ('i', 'cannot', 'be', 'modified')\n",
    "type(mytuple)\n",
    "mytuple[1] = 'can'\n",
    "mytuple"
   ]
  },
  {
   "cell_type": "code",
   "execution_count": 27,
   "id": "confused-upgrade",
   "metadata": {},
   "outputs": [
    {
     "data": {
      "text/plain": [
       "[[1, 1, 1], [1, 1, 1], [1, 1, 1]]"
      ]
     },
     "execution_count": 27,
     "metadata": {},
     "output_type": "execute_result"
    },
    {
     "data": {
      "text/plain": [
       "[[0, 1, 1], [0, 1, 1], [0, 1, 1]]"
      ]
     },
     "execution_count": 27,
     "metadata": {},
     "output_type": "execute_result"
    },
    {
     "data": {
      "text/plain": [
       "[[2, 1, 1], [2, 1, 1], [2, 1, 1]]"
      ]
     },
     "execution_count": 27,
     "metadata": {},
     "output_type": "execute_result"
    },
    {
     "data": {
      "text/plain": [
       "[2, 1, 1]"
      ]
     },
     "execution_count": 27,
     "metadata": {},
     "output_type": "execute_result"
    }
   ],
   "source": [
    "# оператор связывания не создаёт копии контейнеров!\n",
    "\n",
    "c = [1, 1, 1]\n",
    "\n",
    "a = [c] * 3\n",
    "\n",
    "a\n",
    "\n",
    "c[0] = 0\n",
    "\n",
    "a\n",
    "\n",
    "a[0][0] = 2\n",
    "\n",
    "a\n",
    "\n",
    "c"
   ]
  },
  {
   "cell_type": "code",
   "execution_count": 28,
   "id": "athletic-timer",
   "metadata": {},
   "outputs": [
    {
     "name": "stdout",
     "output_type": "stream",
     "text": [
      "139943795050304\n",
      "139943795050304\n",
      "139943795050304\n",
      "139943795050304\n"
     ]
    }
   ],
   "source": [
    "for sub_a in a:\n",
    "    print(id(sub_a))\n",
    "print(id(c))"
   ]
  },
  {
   "cell_type": "code",
   "execution_count": 29,
   "id": "missing-fighter",
   "metadata": {},
   "outputs": [
    {
     "name": "stdout",
     "output_type": "stream",
     "text": [
      "94393113431328 94393113431296 94393113431296 \n",
      "94393113431328 94393113431296 94393113431296 \n",
      "94393113431328 94393113431296 94393113431296 \n"
     ]
    }
   ],
   "source": [
    "for sub_a in a:\n",
    "    for elem in sub_a:\n",
    "        print(id(elem), end=\" \")\n",
    "    print()"
   ]
  },
  {
   "cell_type": "code",
   "execution_count": 30,
   "id": "homeless-beads",
   "metadata": {},
   "outputs": [
    {
     "data": {
      "text/plain": [
       "[2, 1, 1, 2, 1, 1, 2, 1, 1]"
      ]
     },
     "execution_count": 30,
     "metadata": {},
     "output_type": "execute_result"
    }
   ],
   "source": [
    "a = c * 3\n",
    "a"
   ]
  },
  {
   "cell_type": "code",
   "execution_count": 31,
   "id": "destroyed-atlantic",
   "metadata": {},
   "outputs": [
    {
     "name": "stdout",
     "output_type": "stream",
     "text": [
      "94393113431328\n",
      "94393113431296\n",
      "94393113431296\n",
      "94393113431328\n",
      "94393113431296\n",
      "94393113431296\n",
      "94393113431328\n",
      "94393113431296\n",
      "94393113431296\n"
     ]
    }
   ],
   "source": [
    "for elem in a:\n",
    "    print(id(elem))"
   ]
  },
  {
   "cell_type": "code",
   "execution_count": 32,
   "id": "promotional-relations",
   "metadata": {},
   "outputs": [
    {
     "data": {
      "text/plain": [
       "('Rabbit', 'Bear', 'Fox', 'Turtle')"
      ]
     },
     "execution_count": 32,
     "metadata": {},
     "output_type": "execute_result"
    },
    {
     "data": {
      "text/plain": [
       "('Bear', 'Fox')"
      ]
     },
     "execution_count": 32,
     "metadata": {},
     "output_type": "execute_result"
    },
    {
     "data": {
      "text/plain": [
       "('Rabbit', 'Bear')"
      ]
     },
     "execution_count": 32,
     "metadata": {},
     "output_type": "execute_result"
    },
    {
     "data": {
      "text/plain": [
       "('Turtle',)"
      ]
     },
     "execution_count": 32,
     "metadata": {},
     "output_type": "execute_result"
    },
    {
     "data": {
      "text/plain": [
       "'Turtle'"
      ]
     },
     "execution_count": 32,
     "metadata": {},
     "output_type": "execute_result"
    },
    {
     "data": {
      "text/plain": [
       "('Rabbit', 'Bear', 'Fox')"
      ]
     },
     "execution_count": 32,
     "metadata": {},
     "output_type": "execute_result"
    },
    {
     "data": {
      "text/plain": [
       "('Rabbit',)"
      ]
     },
     "execution_count": 32,
     "metadata": {},
     "output_type": "execute_result"
    },
    {
     "data": {
      "text/plain": [
       "('Turtle', 'Fox', 'Bear', 'Rabbit')"
      ]
     },
     "execution_count": 32,
     "metadata": {},
     "output_type": "execute_result"
    },
    {
     "ename": "IndexError",
     "evalue": "tuple index out of range",
     "output_type": "error",
     "traceback": [
      "\u001b[0;31m\u001b[0m",
      "\u001b[0;31mIndexError\u001b[0mTraceback (most recent call last)",
      "\u001b[0;32m<ipython-input-32-66a25a70446d>\u001b[0m in \u001b[0;36m<module>\u001b[0;34m\u001b[0m\n\u001b[1;32m     11\u001b[0m \u001b[0mtea_party\u001b[0m\u001b[0;34m[\u001b[0m\u001b[0;36m0\u001b[0m\u001b[0;34m:\u001b[0m\u001b[0;36m5\u001b[0m\u001b[0;34m:\u001b[0m\u001b[0;36m5\u001b[0m\u001b[0;34m]\u001b[0m \u001b[0;31m# а ещё можно задать шаг прохода step_size - в данном случае элементы выводятся \"через один\"\u001b[0m\u001b[0;34m\u001b[0m\u001b[0;34m\u001b[0m\u001b[0m\n\u001b[1;32m     12\u001b[0m \u001b[0mtea_party\u001b[0m\u001b[0;34m[\u001b[0m\u001b[0;34m:\u001b[0m\u001b[0;34m:\u001b[0m\u001b[0;34m-\u001b[0m\u001b[0;36m1\u001b[0m\u001b[0;34m]\u001b[0m  \u001b[0;31m# а если задать шаг равным -1, список можно развернуть!\u001b[0m\u001b[0;34m\u001b[0m\u001b[0;34m\u001b[0m\u001b[0m\n\u001b[0;32m---> 13\u001b[0;31m \u001b[0mtea_party\u001b[0m\u001b[0;34m[\u001b[0m\u001b[0;36m4\u001b[0m\u001b[0;34m]\u001b[0m     \u001b[0;31m# вылезли за пределы\u001b[0m\u001b[0;34m\u001b[0m\u001b[0;34m\u001b[0m\u001b[0m\n\u001b[0m",
      "\u001b[0;31mIndexError\u001b[0m: tuple index out of range"
     ]
    }
   ],
   "source": [
    "# срезы (slices)\n",
    "tea_party = ('Rabbit', 'Bear', 'Fox', 'Turtle')\n",
    "\n",
    "# tea_party[from_included:to_not_included:step_size=1]\n",
    "tea_party[:]     # Если нет ни from_included, ни to_not_included - получим список целиком\n",
    "tea_party[1:3]   # от 1го включительно до 3го НЕ включительно\n",
    "tea_party[:2]\n",
    "tea_party[3:]\n",
    "tea_party[-1]    # Последний элемент списка\n",
    "tea_party[:-1]   # Все элементы списка, кроме последнего\n",
    "tea_party[0:5:5] # а ещё можно задать шаг прохода step_size - в данном случае элементы выводятся \"через один\"\n",
    "tea_party[::-1]  # а если задать шаг равным -1, список можно развернуть!\n",
    "tea_party[4]     # вылезли за пределы"
   ]
  },
  {
   "cell_type": "code",
   "execution_count": 33,
   "id": "retained-viking",
   "metadata": {},
   "outputs": [
    {
     "data": {
      "text/plain": [
       "tuple"
      ]
     },
     "execution_count": 33,
     "metadata": {},
     "output_type": "execute_result"
    }
   ],
   "source": [
    "type(tea_party[0:5:5])"
   ]
  },
  {
   "cell_type": "code",
   "execution_count": 34,
   "id": "difficult-sunrise",
   "metadata": {},
   "outputs": [
    {
     "data": {
      "text/plain": [
       "['Rabbit', 'Bear', 'Fox', 'Turtle']"
      ]
     },
     "execution_count": 34,
     "metadata": {},
     "output_type": "execute_result"
    },
    {
     "data": {
      "text/plain": [
       "139943794374272"
      ]
     },
     "execution_count": 34,
     "metadata": {},
     "output_type": "execute_result"
    },
    {
     "data": {
      "text/plain": [
       "['Rabbit', 'Cat', 'Whale', 'Turtle']"
      ]
     },
     "execution_count": 34,
     "metadata": {},
     "output_type": "execute_result"
    },
    {
     "data": {
      "text/plain": [
       "139943794374272"
      ]
     },
     "execution_count": 34,
     "metadata": {},
     "output_type": "execute_result"
    },
    {
     "data": {
      "text/plain": [
       "['Rabbit', 'Bear', 'Whale']"
      ]
     },
     "execution_count": 34,
     "metadata": {},
     "output_type": "execute_result"
    },
    {
     "data": {
      "text/plain": [
       "139943794374272"
      ]
     },
     "execution_count": 34,
     "metadata": {},
     "output_type": "execute_result"
    }
   ],
   "source": [
    "# изменения по срезам\n",
    "\n",
    "tea_party_list = list(tea_party)\n",
    "\n",
    "tea_party_list\n",
    "id(tea_party_list)\n",
    "\n",
    "tea_party_list[1:3] = ['Cat','Whale']\n",
    "\n",
    "tea_party_list\n",
    "id(tea_party_list)\n",
    "\n",
    "tea_party_list[1:5] = ['Bear','Whale']\n",
    "tea_party_list\n",
    "id(tea_party_list)"
   ]
  },
  {
   "cell_type": "code",
   "execution_count": 35,
   "id": "south-politics",
   "metadata": {},
   "outputs": [
    {
     "data": {
      "text/plain": [
       "True"
      ]
     },
     "execution_count": 35,
     "metadata": {},
     "output_type": "execute_result"
    },
    {
     "data": {
      "text/plain": [
       "False"
      ]
     },
     "execution_count": 35,
     "metadata": {},
     "output_type": "execute_result"
    },
    {
     "data": {
      "text/plain": [
       "['Rabbit', 'Bear', 'Whale']"
      ]
     },
     "execution_count": 35,
     "metadata": {},
     "output_type": "execute_result"
    },
    {
     "data": {
      "text/plain": [
       "['Rabbit', 1, 'Whale']"
      ]
     },
     "execution_count": 35,
     "metadata": {},
     "output_type": "execute_result"
    }
   ],
   "source": [
    "# копирование через срезы\n",
    "\n",
    "tea_party_not_so_copy = tea_party_list\n",
    "tea_party_not_so_copy is tea_party_list\n",
    "\n",
    "tea_party_copy = tea_party_list[:]\n",
    "tea_party_copy is tea_party_list\n",
    "\n",
    "tea_party_copy[1] = 1\n",
    "\n",
    "tea_party_list\n",
    "tea_party_copy"
   ]
  },
  {
   "cell_type": "code",
   "execution_count": 36,
   "id": "blank-smooth",
   "metadata": {},
   "outputs": [
    {
     "name": "stdout",
     "output_type": "stream",
     "text": [
      "[1, 3, 5, 7, 7, 7, 5, 3, 1, 8]\n",
      "[1, 2, 3, 5, 7, 7, 7, 5, 3, 1, 8]\n",
      "[1, 2, 5, 7, 7, 7, 5, 3, 1, 8]\n",
      "[1, 2, 5, 7, 7, 5, 3, 1, 8]\n",
      "2\n",
      "[1, 1, 2, 3, 5, 5, 7, 7, 8]\n",
      "8\n",
      "[1, 1, 2, 3, 5, 5, 7, 7]\n"
     ]
    }
   ],
   "source": [
    "# методы списков\n",
    "mylist = [1, 3, 5, 7, 7, 7, 5, 3, 1]\n",
    "\n",
    "mylist.append(8)  # метод append(v) добавляет в конец нашего списка новый элемент, здесь - число 8\n",
    "print(mylist)\n",
    "\n",
    "mylist.insert(1,2)  # метод insert(a,b) вставляет элемент b в позицию с индексом a в наш список\n",
    "print(mylist)\n",
    "\n",
    "mylist.remove(3)  # метод remove(v) удаляет из списка элемент со значением v (если v несколько - первое слева)\n",
    "print(mylist)\n",
    "\n",
    "i = 4\n",
    "del mylist[i]  # а вот так можно удалить элемент по индексу i, а не по значению v\n",
    "print(mylist)\n",
    "\n",
    "sevens = mylist.count(7)  # метод count(v) возвращает число равных v элементов в списке\n",
    "print(sevens)\n",
    "\n",
    "mylist.sort()  # сортируем список \n",
    "print(mylist)\n",
    "\n",
    "d = mylist.pop()  # получаем последний элемент, удаляя его из списка\n",
    "print(d)\n",
    "print(mylist)"
   ]
  },
  {
   "cell_type": "code",
   "execution_count": 37,
   "id": "recognized-moderator",
   "metadata": {},
   "outputs": [
    {
     "data": {
      "text/plain": [
       "['__add__',\n",
       " '__class__',\n",
       " '__contains__',\n",
       " '__delattr__',\n",
       " '__delitem__',\n",
       " '__dir__',\n",
       " '__doc__',\n",
       " '__eq__',\n",
       " '__format__',\n",
       " '__ge__',\n",
       " '__getattribute__',\n",
       " '__getitem__',\n",
       " '__gt__',\n",
       " '__hash__',\n",
       " '__iadd__',\n",
       " '__imul__',\n",
       " '__init__',\n",
       " '__init_subclass__',\n",
       " '__iter__',\n",
       " '__le__',\n",
       " '__len__',\n",
       " '__lt__',\n",
       " '__mul__',\n",
       " '__ne__',\n",
       " '__new__',\n",
       " '__reduce__',\n",
       " '__reduce_ex__',\n",
       " '__repr__',\n",
       " '__reversed__',\n",
       " '__rmul__',\n",
       " '__setattr__',\n",
       " '__setitem__',\n",
       " '__sizeof__',\n",
       " '__str__',\n",
       " '__subclasshook__',\n",
       " 'append',\n",
       " 'clear',\n",
       " 'copy',\n",
       " 'count',\n",
       " 'extend',\n",
       " 'index',\n",
       " 'insert',\n",
       " 'pop',\n",
       " 'remove',\n",
       " 'reverse',\n",
       " 'sort']"
      ]
     },
     "execution_count": 37,
     "metadata": {},
     "output_type": "execute_result"
    }
   ],
   "source": [
    "# чтобы посмотреть спискок аттрибутов класcа/объекта\n",
    "# класса воспользуемся встроенной функцией dir\n",
    "\n",
    "dir(list)"
   ]
  },
  {
   "cell_type": "code",
   "execution_count": 38,
   "id": "southern-station",
   "metadata": {},
   "outputs": [
    {
     "name": "stdout",
     "output_type": "stream",
     "text": [
      "Help on built-in function dir in module builtins:\n",
      "\n",
      "dir(...)\n",
      "    dir([object]) -> list of strings\n",
      "    \n",
      "    If called without an argument, return the names in the current scope.\n",
      "    Else, return an alphabetized list of names comprising (some of) the attributes\n",
      "    of the given object, and of attributes reachable from it.\n",
      "    If the object supplies a method named __dir__, it will be used; otherwise\n",
      "    the default dir() logic is used and returns:\n",
      "      for a module object: the module's attributes.\n",
      "      for a class object:  its attributes, and recursively the attributes\n",
      "        of its bases.\n",
      "      for any other object: its attributes, its class's attributes, and\n",
      "        recursively the attributes of its class's base classes.\n",
      "\n"
     ]
    }
   ],
   "source": [
    "help(dir)"
   ]
  },
  {
   "cell_type": "code",
   "execution_count": 39,
   "id": "impossible-morocco",
   "metadata": {},
   "outputs": [
    {
     "data": {
      "text/plain": [
       "9"
      ]
     },
     "execution_count": 39,
     "metadata": {},
     "output_type": "execute_result"
    },
    {
     "data": {
      "text/plain": [
       "39"
      ]
     },
     "execution_count": 39,
     "metadata": {},
     "output_type": "execute_result"
    },
    {
     "data": {
      "text/plain": [
       "7"
      ]
     },
     "execution_count": 39,
     "metadata": {},
     "output_type": "execute_result"
    },
    {
     "data": {
      "text/plain": [
       "1"
      ]
     },
     "execution_count": 39,
     "metadata": {},
     "output_type": "execute_result"
    },
    {
     "data": {
      "text/plain": [
       "[1, 3, 5, 7, 7, 7, 5, 3, 1]"
      ]
     },
     "execution_count": 39,
     "metadata": {},
     "output_type": "execute_result"
    },
    {
     "data": {
      "text/plain": [
       "[1, 1, 3, 3, 5, 5, 7, 7, 7]"
      ]
     },
     "execution_count": 39,
     "metadata": {},
     "output_type": "execute_result"
    }
   ],
   "source": [
    "# функции над списками\n",
    "\n",
    "mylist = [1, 3, 5, 7, 7, 7, 5, 3, 1]\n",
    "\n",
    "len(mylist)\n",
    "sum(mylist)\n",
    "max(mylist)\n",
    "min(mylist)\n",
    "\n",
    "sorted_mylist = sorted(mylist) # В отличие от list.sort(), sorted() не меняет исходный список, а создаёт копию\n",
    "mylist\n",
    "sorted_mylist"
   ]
  },
  {
   "cell_type": "code",
   "execution_count": 40,
   "id": "silent-tiger",
   "metadata": {},
   "outputs": [
    {
     "data": {
      "text/plain": [
       "[0, 1, 2, 3, 4, 5, 6, 7, 8, 9]"
      ]
     },
     "execution_count": 40,
     "metadata": {},
     "output_type": "execute_result"
    },
    {
     "data": {
      "text/plain": [
       "[0, 1, 2, 3, 4, 1, 2, 3, 4, 5, 2, 3, 4, 5, 6, 3, 4, 5, 6, 7, 4, 5, 6, 7, 8]"
      ]
     },
     "execution_count": 40,
     "metadata": {},
     "output_type": "execute_result"
    },
    {
     "data": {
      "text/plain": [
       "[0, 2, 4, 6, 8]"
      ]
     },
     "execution_count": 40,
     "metadata": {},
     "output_type": "execute_result"
    }
   ],
   "source": [
    "# list comprehension\n",
    "\n",
    "[i for i in range(10)]\n",
    "[i + j for i in range(5) for j in range(5)]\n",
    "[i + j for i in range(5) for j in range(5) if i == j]"
   ]
  },
  {
   "cell_type": "code",
   "execution_count": 41,
   "id": "fleet-traveler",
   "metadata": {},
   "outputs": [
    {
     "data": {
      "text/plain": [
       "[[0, 0, 0], [0, 0, 0], [0, 0, 0]]"
      ]
     },
     "execution_count": 41,
     "metadata": {},
     "output_type": "execute_result"
    },
    {
     "data": {
      "text/plain": [
       "[[0, 0, 0], [0, 0, 0], [0, 0, 0]]"
      ]
     },
     "execution_count": 41,
     "metadata": {},
     "output_type": "execute_result"
    }
   ],
   "source": [
    "# по оговоренным ранее (каким?) причинам, вместо:\n",
    "[[0]*3]*3\n",
    "\n",
    "# лучше использовать:\n",
    "[[0]*3 for i in range(3)]"
   ]
  },
  {
   "cell_type": "code",
   "execution_count": 42,
   "id": "touched-channels",
   "metadata": {},
   "outputs": [
    {
     "name": "stdout",
     "output_type": "stream",
     "text": [
      "13 a\n",
      "18 b\n",
      "31 c\n"
     ]
    }
   ],
   "source": [
    "ages = [13, 18, 31]\n",
    "names = ['a', 'b', 'c']\n",
    "for (age, name) in zip(ages, names):\n",
    "    print(age, name)"
   ]
  },
  {
   "cell_type": "code",
   "execution_count": 43,
   "id": "apparent-progressive",
   "metadata": {},
   "outputs": [
    {
     "data": {
      "text/plain": [
       "[(0, 'a', 1), (1, 'b', 2)]"
      ]
     },
     "execution_count": 43,
     "metadata": {},
     "output_type": "execute_result"
    }
   ],
   "source": [
    "# функция zip - создание поэлементных кортежей (завершается по минимальному размеру из аргументов)\n",
    "\n",
    "[pair for pair in zip(range(10), 'abc', [1, 2])]"
   ]
  },
  {
   "cell_type": "markdown",
   "id": "round-internet",
   "metadata": {},
   "source": [
    "Что отработает быстрее при создании списка: множественный append(...) или list comprehension?"
   ]
  },
  {
   "cell_type": "code",
   "execution_count": 44,
   "id": "three-accreditation",
   "metadata": {},
   "outputs": [
    {
     "name": "stdout",
     "output_type": "stream",
     "text": [
      "CPU times: user 323 ms, sys: 114 ms, total: 437 ms\n",
      "Wall time: 435 ms\n"
     ]
    }
   ],
   "source": [
    "%%time\n",
    "\n",
    "mylist = [i for i in range(10_000_000)]"
   ]
  },
  {
   "cell_type": "code",
   "execution_count": 45,
   "id": "brief-broadway",
   "metadata": {},
   "outputs": [
    {
     "name": "stdout",
     "output_type": "stream",
     "text": [
      "CPU times: user 1.28 s, sys: 109 ms, total: 1.39 s\n",
      "Wall time: 1.38 s\n"
     ]
    }
   ],
   "source": [
    "%%time\n",
    "\n",
    "mylist = []\n",
    "for i in range(10_000_000):\n",
    "    mylist.append(i)"
   ]
  },
  {
   "cell_type": "markdown",
   "id": "precious-victor",
   "metadata": {},
   "source": [
    "### Микрозадача\n",
    "Дан массив целых чисел A.  \n",
    "Создать массив В, который содержит только положительные числа из А."
   ]
  },
  {
   "cell_type": "code",
   "execution_count": 46,
   "id": "improved-london",
   "metadata": {},
   "outputs": [
    {
     "data": {
      "text/plain": [
       "[3, 1, 5, 9, 6]"
      ]
     },
     "execution_count": 46,
     "metadata": {},
     "output_type": "execute_result"
    }
   ],
   "source": [
    "[i for i in [3, -1, -4, 1, 5, 9, -2, 6] if i > 0]"
   ]
  },
  {
   "cell_type": "code",
   "execution_count": 47,
   "id": "composite-breathing",
   "metadata": {},
   "outputs": [
    {
     "name": "stdout",
     "output_type": "stream",
     "text": [
      "[1, 2, 3, 4, 5]\n",
      "1->2->3->4->5\n",
      "1->2->3->4->5\n"
     ]
    }
   ],
   "source": [
    "# оператор распаковки\n",
    "\n",
    "mylist = [1, 2, 3, 4, 5]\n",
    "\n",
    "print(mylist)  # печатаем список\n",
    "print(*mylist, sep=\"->\") # печатаем элементы списка, эквивалент - print(mylist[0],mylist[1],...)\n",
    "print(1, 2, 3, 4,5, sep='->')"
   ]
  },
  {
   "cell_type": "code",
   "execution_count": 48,
   "id": "right-optics",
   "metadata": {},
   "outputs": [
    {
     "data": {
      "text/plain": [
       "1"
      ]
     },
     "execution_count": 48,
     "metadata": {},
     "output_type": "execute_result"
    },
    {
     "data": {
      "text/plain": [
       "2"
      ]
     },
     "execution_count": 48,
     "metadata": {},
     "output_type": "execute_result"
    },
    {
     "data": {
      "text/plain": [
       "[3, 4, 5, 6, 7, 8, 9]"
      ]
     },
     "execution_count": 48,
     "metadata": {},
     "output_type": "execute_result"
    }
   ],
   "source": [
    "# совместим множественное связывание и распаковку\n",
    "\n",
    "mylist = [1, 2, 3, 4, 5, 6, 7, 8, 9]\n",
    "a, b, *c = mylist\n",
    "a\n",
    "b\n",
    "c"
   ]
  },
  {
   "cell_type": "code",
   "execution_count": 49,
   "id": "bronze-sarah",
   "metadata": {},
   "outputs": [
    {
     "data": {
      "text/plain": [
       "1"
      ]
     },
     "execution_count": 49,
     "metadata": {},
     "output_type": "execute_result"
    },
    {
     "data": {
      "text/plain": [
       "2"
      ]
     },
     "execution_count": 49,
     "metadata": {},
     "output_type": "execute_result"
    },
    {
     "data": {
      "text/plain": [
       "3"
      ]
     },
     "execution_count": 49,
     "metadata": {},
     "output_type": "execute_result"
    },
    {
     "data": {
      "text/plain": [
       "4"
      ]
     },
     "execution_count": 49,
     "metadata": {},
     "output_type": "execute_result"
    },
    {
     "data": {
      "text/plain": [
       "5"
      ]
     },
     "execution_count": 49,
     "metadata": {},
     "output_type": "execute_result"
    },
    {
     "data": {
      "text/plain": [
       "6"
      ]
     },
     "execution_count": 49,
     "metadata": {},
     "output_type": "execute_result"
    },
    {
     "data": {
      "text/plain": [
       "7"
      ]
     },
     "execution_count": 49,
     "metadata": {},
     "output_type": "execute_result"
    },
    {
     "data": {
      "text/plain": [
       "8"
      ]
     },
     "execution_count": 49,
     "metadata": {},
     "output_type": "execute_result"
    },
    {
     "data": {
      "text/plain": [
       "9"
      ]
     },
     "execution_count": 49,
     "metadata": {},
     "output_type": "execute_result"
    }
   ],
   "source": [
    "# совместим множественное связывание и распаковку\n",
    "\n",
    "mylist = [1, 2, 3, 4, 5, 6, 7, 8, 9]\n",
    "a, b, c, d, e, f, g, h, j = *mylist,\n",
    "a\n",
    "b\n",
    "c\n",
    "d\n",
    "e\n",
    "f\n",
    "g\n",
    "h\n",
    "j"
   ]
  },
  {
   "cell_type": "code",
   "execution_count": 50,
   "id": "animated-circumstances",
   "metadata": {},
   "outputs": [
    {
     "data": {
      "text/plain": [
       "1"
      ]
     },
     "execution_count": 50,
     "metadata": {},
     "output_type": "execute_result"
    },
    {
     "data": {
      "text/plain": [
       "[2, 3, 4, 5, 6, 7, 8, 9, 1]"
      ]
     },
     "execution_count": 50,
     "metadata": {},
     "output_type": "execute_result"
    }
   ],
   "source": [
    "a, *b = (mylist + [1])\n",
    "a\n",
    "b"
   ]
  },
  {
   "cell_type": "code",
   "execution_count": 51,
   "id": "agricultural-genetics",
   "metadata": {},
   "outputs": [
    {
     "ename": "ValueError",
     "evalue": "too many values to unpack (expected 3)",
     "output_type": "error",
     "traceback": [
      "\u001b[0;31m\u001b[0m",
      "\u001b[0;31mValueError\u001b[0mTraceback (most recent call last)",
      "\u001b[0;32m<ipython-input-51-b0b613784259>\u001b[0m in \u001b[0;36m<module>\u001b[0;34m\u001b[0m\n\u001b[1;32m      2\u001b[0m \u001b[0;34m\u001b[0m\u001b[0m\n\u001b[1;32m      3\u001b[0m \u001b[0mmylist\u001b[0m \u001b[0;34m=\u001b[0m \u001b[0;34m[\u001b[0m\u001b[0;36m1\u001b[0m\u001b[0;34m,\u001b[0m \u001b[0;36m2\u001b[0m\u001b[0;34m,\u001b[0m \u001b[0;36m3\u001b[0m\u001b[0;34m,\u001b[0m \u001b[0;36m4\u001b[0m\u001b[0;34m,\u001b[0m \u001b[0;36m5\u001b[0m\u001b[0;34m,\u001b[0m \u001b[0;36m6\u001b[0m\u001b[0;34m,\u001b[0m \u001b[0;36m7\u001b[0m\u001b[0;34m,\u001b[0m \u001b[0;36m8\u001b[0m\u001b[0;34m,\u001b[0m \u001b[0;36m9\u001b[0m\u001b[0;34m]\u001b[0m\u001b[0;34m\u001b[0m\u001b[0;34m\u001b[0m\u001b[0m\n\u001b[0;32m----> 4\u001b[0;31m \u001b[0ma\u001b[0m\u001b[0;34m,\u001b[0m \u001b[0mb\u001b[0m\u001b[0;34m,\u001b[0m \u001b[0mc\u001b[0m \u001b[0;34m=\u001b[0m \u001b[0mmylist\u001b[0m\u001b[0;34m\u001b[0m\u001b[0;34m\u001b[0m\u001b[0m\n\u001b[0m\u001b[1;32m      5\u001b[0m \u001b[0ma\u001b[0m\u001b[0;34m\u001b[0m\u001b[0;34m\u001b[0m\u001b[0m\n\u001b[1;32m      6\u001b[0m \u001b[0mb\u001b[0m\u001b[0;34m\u001b[0m\u001b[0;34m\u001b[0m\u001b[0m\n",
      "\u001b[0;31mValueError\u001b[0m: too many values to unpack (expected 3)"
     ]
    }
   ],
   "source": [
    "# ошибка\n",
    "\n",
    "mylist = [1, 2, 3, 4, 5, 6, 7, 8, 9]\n",
    "a, b, c = mylist\n",
    "a\n",
    "b\n",
    "c"
   ]
  },
  {
   "cell_type": "code",
   "execution_count": 52,
   "id": "derived-brooklyn",
   "metadata": {},
   "outputs": [
    {
     "ename": "SyntaxError",
     "evalue": "two starred expressions in assignment (<ipython-input-52-d55d18978dcd>, line 4)",
     "output_type": "error",
     "traceback": [
      "\u001b[0;36m  File \u001b[0;32m\"<ipython-input-52-d55d18978dcd>\"\u001b[0;36m, line \u001b[0;32m4\u001b[0m\n\u001b[0;31m    a, *b, *c = mylist\u001b[0m\n\u001b[0m    ^\u001b[0m\n\u001b[0;31mSyntaxError\u001b[0m\u001b[0;31m:\u001b[0m two starred expressions in assignment\n"
     ]
    }
   ],
   "source": [
    "# тут тоже ошибка, почему?\n",
    "\n",
    "mylist = [1, 2, 3, 4, 5, 6, 7, 8, 9]\n",
    "a, *b, *c = mylist\n",
    "a\n",
    "b\n",
    "c"
   ]
  },
  {
   "cell_type": "code",
   "execution_count": 53,
   "id": "prostate-nowhere",
   "metadata": {},
   "outputs": [
    {
     "data": {
      "text/plain": [
       "[1, 2, 3, 4, 5, 6, 7, 8, 9]"
      ]
     },
     "execution_count": 53,
     "metadata": {},
     "output_type": "execute_result"
    },
    {
     "data": {
      "text/plain": [
       "[]"
      ]
     },
     "execution_count": 53,
     "metadata": {},
     "output_type": "execute_result"
    },
    {
     "data": {
      "text/plain": [
       "1"
      ]
     },
     "execution_count": 53,
     "metadata": {},
     "output_type": "execute_result"
    }
   ],
   "source": [
    "# что получится и почему?\n",
    "\n",
    "mylist = [1, 2, 3, 4, 5, 6, 7, 8, 9]\n",
    "a, *b, c = mylist, 1\n",
    "a\n",
    "b\n",
    "c"
   ]
  },
  {
   "cell_type": "code",
   "execution_count": 54,
   "id": "absolute-wiring",
   "metadata": {},
   "outputs": [
    {
     "data": {
      "text/plain": [
       "1"
      ]
     },
     "execution_count": 54,
     "metadata": {},
     "output_type": "execute_result"
    },
    {
     "data": {
      "text/plain": [
       "[2, 3, 4, 5, 6, 7, 8, 9]"
      ]
     },
     "execution_count": 54,
     "metadata": {},
     "output_type": "execute_result"
    },
    {
     "data": {
      "text/plain": [
       "1"
      ]
     },
     "execution_count": 54,
     "metadata": {},
     "output_type": "execute_result"
    }
   ],
   "source": [
    "# а так?\n",
    "\n",
    "mylist = [1, 2, 3, 4, 5, 6, 7, 8, 9]\n",
    "a, *b, c = *mylist, 1\n",
    "a\n",
    "b\n",
    "c"
   ]
  },
  {
   "cell_type": "code",
   "execution_count": 55,
   "id": "tired-journalism",
   "metadata": {},
   "outputs": [
    {
     "name": "stdout",
     "output_type": "stream",
     "text": [
      "['Привет,', 'я', 'обычное', 'предложение,', 'во', 'мне', 'есть', 'слова', 'и', 'пробелы']\n",
      "Привет, я обычное предложение, во мне есть слова и пробелы\n",
      "['Прив', 'т, я обычно', ' пр', 'длож', 'ни', ', во мн', ' ', 'сть слова и проб', 'лы']\n",
      "Привэт, я обычноэ прэдложэниэ, во мнэ эсть слова и пробэлы\n"
     ]
    }
   ],
   "source": [
    "# полезные функции split(str, sep=' ') и str.join(list):\n",
    "\n",
    "A = 'Привет, я обычное предложение, во мне есть слова и пробелы'.split(' ')\n",
    "print(A)\n",
    "\n",
    "B = ' '.join(A)\n",
    "print(B)\n",
    "\n",
    "C = B.split('е')\n",
    "print(C)\n",
    "\n",
    "D = 'э'.join(C)\n",
    "print(D)"
   ]
  },
  {
   "cell_type": "markdown",
   "id": "lined-projector",
   "metadata": {},
   "source": [
    "#### Генераторные выражения"
   ]
  },
  {
   "cell_type": "code",
   "execution_count": 56,
   "id": "composed-conservation",
   "metadata": {},
   "outputs": [
    {
     "data": {
      "text/plain": [
       "285"
      ]
     },
     "execution_count": 56,
     "metadata": {},
     "output_type": "execute_result"
    },
    {
     "data": {
      "text/plain": [
       "285"
      ]
     },
     "execution_count": 56,
     "metadata": {},
     "output_type": "execute_result"
    },
    {
     "data": {
      "text/plain": [
       "list"
      ]
     },
     "execution_count": 56,
     "metadata": {},
     "output_type": "execute_result"
    },
    {
     "data": {
      "text/plain": [
       "generator"
      ]
     },
     "execution_count": 56,
     "metadata": {},
     "output_type": "execute_result"
    }
   ],
   "source": [
    "# иногда удобно создать генератор вместо списка, \n",
    "# чтобы не хранить в памяти весь список сразу, \n",
    "# а перебирать по одному\n",
    "\n",
    "sum([x*x for x in range(10)]) # list comprehension\n",
    "sum(x*x for x in range(10))   # generator expression\n",
    "\n",
    "# А в чём разница?\n",
    "\n",
    "type([x*x for x in range(10)])\n",
    "type(x*x for x in range(10))"
   ]
  },
  {
   "cell_type": "code",
   "execution_count": 57,
   "id": "monthly-clone",
   "metadata": {},
   "outputs": [
    {
     "name": "stdout",
     "output_type": "stream",
     "text": [
      "0\n",
      "1\n",
      "4\n",
      "9\n",
      "16\n",
      "25\n",
      "36\n",
      "49\n",
      "64\n",
      "81\n"
     ]
    }
   ],
   "source": [
    "for i in (x*x for x in range(10)):\n",
    "    print(i)"
   ]
  },
  {
   "cell_type": "markdown",
   "id": "intimate-integer",
   "metadata": {},
   "source": [
    "#### Модули стандартной библиотеки"
   ]
  },
  {
   "cell_type": "code",
   "execution_count": 58,
   "id": "automotive-preview",
   "metadata": {},
   "outputs": [
    {
     "data": {
      "text/plain": [
       "'linux'"
      ]
     },
     "execution_count": 58,
     "metadata": {},
     "output_type": "execute_result"
    }
   ],
   "source": [
    "import sys  # модуль содержит инфоромацию о среде исполнения программы\n",
    "\n",
    "sys.platform"
   ]
  },
  {
   "cell_type": "code",
   "execution_count": 59,
   "id": "eastern-culture",
   "metadata": {},
   "outputs": [
    {
     "data": {
      "text/plain": [
       "'/'"
      ]
     },
     "execution_count": 59,
     "metadata": {},
     "output_type": "execute_result"
    }
   ],
   "source": [
    "import os  # модуль содержит инфоромацию об операционной системе \n",
    "\n",
    "os.sep"
   ]
  },
  {
   "cell_type": "code",
   "execution_count": 60,
   "id": "molecular-upgrade",
   "metadata": {},
   "outputs": [
    {
     "data": {
      "text/plain": [
       "120"
      ]
     },
     "execution_count": 60,
     "metadata": {},
     "output_type": "execute_result"
    }
   ],
   "source": [
    "import math as m\n",
    "\n",
    "m.factorial(5)"
   ]
  },
  {
   "cell_type": "code",
   "execution_count": 61,
   "id": "august-teddy",
   "metadata": {},
   "outputs": [
    {
     "name": "stdout",
     "output_type": "stream",
     "text": [
      "Help on module math:\n",
      "\n",
      "NAME\n",
      "    math\n",
      "\n",
      "MODULE REFERENCE\n",
      "    https://docs.python.org/3.8/library/math\n",
      "    \n",
      "    The following documentation is automatically generated from the Python\n",
      "    source files.  It may be incomplete, incorrect or include features that\n",
      "    are considered implementation detail and may vary between Python\n",
      "    implementations.  When in doubt, consult the module reference at the\n",
      "    location listed above.\n",
      "\n",
      "DESCRIPTION\n",
      "    This module provides access to the mathematical functions\n",
      "    defined by the C standard.\n",
      "\n",
      "FUNCTIONS\n",
      "    acos(x, /)\n",
      "        Return the arc cosine (measured in radians) of x.\n",
      "    \n",
      "    acosh(x, /)\n",
      "        Return the inverse hyperbolic cosine of x.\n",
      "    \n",
      "    asin(x, /)\n",
      "        Return the arc sine (measured in radians) of x.\n",
      "    \n",
      "    asinh(x, /)\n",
      "        Return the inverse hyperbolic sine of x.\n",
      "    \n",
      "    atan(x, /)\n",
      "        Return the arc tangent (measured in radians) of x.\n",
      "    \n",
      "    atan2(y, x, /)\n",
      "        Return the arc tangent (measured in radians) of y/x.\n",
      "        \n",
      "        Unlike atan(y/x), the signs of both x and y are considered.\n",
      "    \n",
      "    atanh(x, /)\n",
      "        Return the inverse hyperbolic tangent of x.\n",
      "    \n",
      "    ceil(x, /)\n",
      "        Return the ceiling of x as an Integral.\n",
      "        \n",
      "        This is the smallest integer >= x.\n",
      "    \n",
      "    comb(n, k, /)\n",
      "        Number of ways to choose k items from n items without repetition and without order.\n",
      "        \n",
      "        Evaluates to n! / (k! * (n - k)!) when k <= n and evaluates\n",
      "        to zero when k > n.\n",
      "        \n",
      "        Also called the binomial coefficient because it is equivalent\n",
      "        to the coefficient of k-th term in polynomial expansion of the\n",
      "        expression (1 + x)**n.\n",
      "        \n",
      "        Raises TypeError if either of the arguments are not integers.\n",
      "        Raises ValueError if either of the arguments are negative.\n",
      "    \n",
      "    copysign(x, y, /)\n",
      "        Return a float with the magnitude (absolute value) of x but the sign of y.\n",
      "        \n",
      "        On platforms that support signed zeros, copysign(1.0, -0.0)\n",
      "        returns -1.0.\n",
      "    \n",
      "    cos(x, /)\n",
      "        Return the cosine of x (measured in radians).\n",
      "    \n",
      "    cosh(x, /)\n",
      "        Return the hyperbolic cosine of x.\n",
      "    \n",
      "    degrees(x, /)\n",
      "        Convert angle x from radians to degrees.\n",
      "    \n",
      "    dist(p, q, /)\n",
      "        Return the Euclidean distance between two points p and q.\n",
      "        \n",
      "        The points should be specified as sequences (or iterables) of\n",
      "        coordinates.  Both inputs must have the same dimension.\n",
      "        \n",
      "        Roughly equivalent to:\n",
      "            sqrt(sum((px - qx) ** 2.0 for px, qx in zip(p, q)))\n",
      "    \n",
      "    erf(x, /)\n",
      "        Error function at x.\n",
      "    \n",
      "    erfc(x, /)\n",
      "        Complementary error function at x.\n",
      "    \n",
      "    exp(x, /)\n",
      "        Return e raised to the power of x.\n",
      "    \n",
      "    expm1(x, /)\n",
      "        Return exp(x)-1.\n",
      "        \n",
      "        This function avoids the loss of precision involved in the direct evaluation of exp(x)-1 for small x.\n",
      "    \n",
      "    fabs(x, /)\n",
      "        Return the absolute value of the float x.\n",
      "    \n",
      "    factorial(x, /)\n",
      "        Find x!.\n",
      "        \n",
      "        Raise a ValueError if x is negative or non-integral.\n",
      "    \n",
      "    floor(x, /)\n",
      "        Return the floor of x as an Integral.\n",
      "        \n",
      "        This is the largest integer <= x.\n",
      "    \n",
      "    fmod(x, y, /)\n",
      "        Return fmod(x, y), according to platform C.\n",
      "        \n",
      "        x % y may differ.\n",
      "    \n",
      "    frexp(x, /)\n",
      "        Return the mantissa and exponent of x, as pair (m, e).\n",
      "        \n",
      "        m is a float and e is an int, such that x = m * 2.**e.\n",
      "        If x is 0, m and e are both 0.  Else 0.5 <= abs(m) < 1.0.\n",
      "    \n",
      "    fsum(seq, /)\n",
      "        Return an accurate floating point sum of values in the iterable seq.\n",
      "        \n",
      "        Assumes IEEE-754 floating point arithmetic.\n",
      "    \n",
      "    gamma(x, /)\n",
      "        Gamma function at x.\n",
      "    \n",
      "    gcd(x, y, /)\n",
      "        greatest common divisor of x and y\n",
      "    \n",
      "    hypot(...)\n",
      "        hypot(*coordinates) -> value\n",
      "        \n",
      "        Multidimensional Euclidean distance from the origin to a point.\n",
      "        \n",
      "        Roughly equivalent to:\n",
      "            sqrt(sum(x**2 for x in coordinates))\n",
      "        \n",
      "        For a two dimensional point (x, y), gives the hypotenuse\n",
      "        using the Pythagorean theorem:  sqrt(x*x + y*y).\n",
      "        \n",
      "        For example, the hypotenuse of a 3/4/5 right triangle is:\n",
      "        \n",
      "            >>> hypot(3.0, 4.0)\n",
      "            5.0\n",
      "    \n",
      "    isclose(a, b, *, rel_tol=1e-09, abs_tol=0.0)\n",
      "        Determine whether two floating point numbers are close in value.\n",
      "        \n",
      "          rel_tol\n",
      "            maximum difference for being considered \"close\", relative to the\n",
      "            magnitude of the input values\n",
      "          abs_tol\n",
      "            maximum difference for being considered \"close\", regardless of the\n",
      "            magnitude of the input values\n",
      "        \n",
      "        Return True if a is close in value to b, and False otherwise.\n",
      "        \n",
      "        For the values to be considered close, the difference between them\n",
      "        must be smaller than at least one of the tolerances.\n",
      "        \n",
      "        -inf, inf and NaN behave similarly to the IEEE 754 Standard.  That\n",
      "        is, NaN is not close to anything, even itself.  inf and -inf are\n",
      "        only close to themselves.\n",
      "    \n",
      "    isfinite(x, /)\n",
      "        Return True if x is neither an infinity nor a NaN, and False otherwise.\n",
      "    \n",
      "    isinf(x, /)\n",
      "        Return True if x is a positive or negative infinity, and False otherwise.\n",
      "    \n",
      "    isnan(x, /)\n",
      "        Return True if x is a NaN (not a number), and False otherwise.\n",
      "    \n",
      "    isqrt(n, /)\n",
      "        Return the integer part of the square root of the input.\n",
      "    \n",
      "    ldexp(x, i, /)\n",
      "        Return x * (2**i).\n",
      "        \n",
      "        This is essentially the inverse of frexp().\n",
      "    \n",
      "    lgamma(x, /)\n",
      "        Natural logarithm of absolute value of Gamma function at x.\n",
      "    \n",
      "    log(...)\n",
      "        log(x, [base=math.e])\n",
      "        Return the logarithm of x to the given base.\n",
      "        \n",
      "        If the base not specified, returns the natural logarithm (base e) of x.\n",
      "    \n",
      "    log10(x, /)\n",
      "        Return the base 10 logarithm of x.\n",
      "    \n",
      "    log1p(x, /)\n",
      "        Return the natural logarithm of 1+x (base e).\n",
      "        \n",
      "        The result is computed in a way which is accurate for x near zero.\n",
      "    \n",
      "    log2(x, /)\n",
      "        Return the base 2 logarithm of x.\n",
      "    \n",
      "    modf(x, /)\n",
      "        Return the fractional and integer parts of x.\n",
      "        \n",
      "        Both results carry the sign of x and are floats.\n",
      "    \n",
      "    perm(n, k=None, /)\n",
      "        Number of ways to choose k items from n items without repetition and with order.\n",
      "        \n",
      "        Evaluates to n! / (n - k)! when k <= n and evaluates\n",
      "        to zero when k > n.\n",
      "        \n",
      "        If k is not specified or is None, then k defaults to n\n",
      "        and the function returns n!.\n",
      "        \n",
      "        Raises TypeError if either of the arguments are not integers.\n",
      "        Raises ValueError if either of the arguments are negative.\n",
      "    \n",
      "    pow(x, y, /)\n",
      "        Return x**y (x to the power of y).\n",
      "    \n",
      "    prod(iterable, /, *, start=1)\n",
      "        Calculate the product of all the elements in the input iterable.\n",
      "        \n",
      "        The default start value for the product is 1.\n",
      "        \n",
      "        When the iterable is empty, return the start value.  This function is\n",
      "        intended specifically for use with numeric values and may reject\n",
      "        non-numeric types.\n",
      "    \n",
      "    radians(x, /)\n",
      "        Convert angle x from degrees to radians.\n",
      "    \n",
      "    remainder(x, y, /)\n",
      "        Difference between x and the closest integer multiple of y.\n",
      "        \n",
      "        Return x - n*y where n*y is the closest integer multiple of y.\n",
      "        In the case where x is exactly halfway between two multiples of\n",
      "        y, the nearest even value of n is used. The result is always exact.\n",
      "    \n",
      "    sin(x, /)\n",
      "        Return the sine of x (measured in radians).\n",
      "    \n",
      "    sinh(x, /)\n",
      "        Return the hyperbolic sine of x.\n",
      "    \n",
      "    sqrt(x, /)\n",
      "        Return the square root of x.\n",
      "    \n",
      "    tan(x, /)\n",
      "        Return the tangent of x (measured in radians).\n",
      "    \n",
      "    tanh(x, /)\n",
      "        Return the hyperbolic tangent of x.\n",
      "    \n",
      "    trunc(x, /)\n",
      "        Truncates the Real x to the nearest Integral toward 0.\n",
      "        \n",
      "        Uses the __trunc__ magic method.\n",
      "\n",
      "DATA\n",
      "    e = 2.718281828459045\n",
      "    inf = inf\n",
      "    nan = nan\n",
      "    pi = 3.141592653589793\n",
      "    tau = 6.283185307179586\n",
      "\n",
      "FILE\n",
      "    /opt/conda/lib/python3.8/lib-dynload/math.cpython-38-x86_64-linux-gnu.so\n",
      "\n",
      "\n"
     ]
    }
   ],
   "source": [
    "help(m)"
   ]
  },
  {
   "cell_type": "code",
   "execution_count": 62,
   "id": "played-charter",
   "metadata": {},
   "outputs": [
    {
     "data": {
      "text/plain": [
       "2"
      ]
     },
     "execution_count": 62,
     "metadata": {},
     "output_type": "execute_result"
    }
   ],
   "source": [
    "from math import floor\n",
    "\n",
    "floor(2.5)"
   ]
  },
  {
   "cell_type": "code",
   "execution_count": 63,
   "id": "offensive-produce",
   "metadata": {},
   "outputs": [],
   "source": [
    "from math import *  # можно и так, но это плохой тон"
   ]
  },
  {
   "cell_type": "markdown",
   "id": "viral-amplifier",
   "metadata": {},
   "source": [
    "#### Модуль itertools  \n",
    "  \n",
    "https://docs.python.org/3/library/itertools.html"
   ]
  },
  {
   "cell_type": "code",
   "execution_count": 64,
   "id": "progressive-going",
   "metadata": {},
   "outputs": [
    {
     "name": "stdout",
     "output_type": "stream",
     "text": [
      "0 a\n",
      "0 b\n",
      "0 c\n",
      "1 a\n",
      "1 b\n",
      "1 c\n",
      "\n",
      "0 a\n",
      "0 b\n",
      "0 c\n",
      "1 a\n",
      "1 b\n",
      "1 c\n"
     ]
    }
   ],
   "source": [
    "import itertools\n",
    "\n",
    "# product: можно \"разворачивать\" циклы\n",
    "\n",
    "for i in range(2):\n",
    "    for j in \"abc\":\n",
    "        print(i, j)\n",
    "\n",
    "print()\n",
    "\n",
    "# эквивалентно:\n",
    "for i, j in itertools.product(range(2), \"abc\"):\n",
    "    print(i, j)"
   ]
  },
  {
   "cell_type": "code",
   "execution_count": 65,
   "id": "fossil-athletics",
   "metadata": {},
   "outputs": [
    {
     "data": {
      "text/plain": [
       "[(1, 2, 3), (1, 3, 2), (2, 1, 3), (2, 3, 1), (3, 1, 2), (3, 2, 1)]"
      ]
     },
     "execution_count": 65,
     "metadata": {},
     "output_type": "execute_result"
    }
   ],
   "source": [
    "# перестановки\n",
    "\n",
    "list(itertools.permutations([1,2,3]))"
   ]
  },
  {
   "cell_type": "code",
   "execution_count": 66,
   "id": "played-queensland",
   "metadata": {},
   "outputs": [
    {
     "data": {
      "text/plain": [
       "[(1, 2), (1, 3), (2, 3)]"
      ]
     },
     "execution_count": 66,
     "metadata": {},
     "output_type": "execute_result"
    }
   ],
   "source": [
    "# комбинации\n",
    "\n",
    "list(itertools.combinations([1,2,3], 2))"
   ]
  },
  {
   "cell_type": "code",
   "execution_count": 67,
   "id": "alien-preliminary",
   "metadata": {},
   "outputs": [
    {
     "data": {
      "text/plain": [
       "[(1, 1), (1, 2), (1, 3), (2, 2), (2, 3), (3, 3)]"
      ]
     },
     "execution_count": 67,
     "metadata": {},
     "output_type": "execute_result"
    }
   ],
   "source": [
    "# комбинации с повторениями\n",
    "\n",
    "list(itertools.combinations_with_replacement([1,2,3], 2))"
   ]
  },
  {
   "cell_type": "code",
   "execution_count": 68,
   "id": "unusual-phrase",
   "metadata": {},
   "outputs": [
    {
     "name": "stdout",
     "output_type": "stream",
     "text": [
      "(0, 1, 'oak', 0)\n",
      "(1, 2, 'oak', 1)\n",
      "(2, 3, 'oak', 2)\n",
      "(3, 1, 'oak', 3)\n",
      "(4, 2, 'oak', 4)\n",
      "(5, 3, 'oak', 5)\n",
      "(6, 1, 'oak', 6)\n"
     ]
    }
   ],
   "source": [
    "# бесконечные генераторы: count, cycle, repeat\n",
    "\n",
    "for elems in zip(itertools.count(), itertools.cycle([1,2,3]), itertools.repeat(\"oak\"), range(7)):\n",
    "    print(elems)"
   ]
  },
  {
   "cell_type": "code",
   "execution_count": 69,
   "id": "pregnant-tyler",
   "metadata": {},
   "outputs": [
    {
     "data": {
      "text/plain": [
       "[0, 1, 2, 3, 4]"
      ]
     },
     "execution_count": 69,
     "metadata": {},
     "output_type": "execute_result"
    }
   ],
   "source": [
    "# первые 5 элементов\n",
    "\n",
    "list(itertools.islice(itertools.count(), 5))"
   ]
  },
  {
   "cell_type": "code",
   "execution_count": 70,
   "id": "third-contribution",
   "metadata": {},
   "outputs": [
    {
     "data": {
      "text/plain": [
       "[1, 3, 6, 10, 15]"
      ]
     },
     "execution_count": 70,
     "metadata": {},
     "output_type": "execute_result"
    }
   ],
   "source": [
    "# аккумулирование\n",
    "\n",
    "list(itertools.accumulate([1,2,3,4,5]))"
   ]
  },
  {
   "cell_type": "code",
   "execution_count": 71,
   "id": "incorporate-prince",
   "metadata": {},
   "outputs": [
    {
     "data": {
      "text/plain": [
       "['A', 'B', 'C', [0, 1, 2], 1, 2, -3, -2, -1]"
      ]
     },
     "execution_count": 71,
     "metadata": {},
     "output_type": "execute_result"
    }
   ],
   "source": [
    "# выстраивание в цепочку\n",
    "\n",
    "list(itertools.chain('ABC', [[0, 1, 2], 1, 2], range(-3, 0, 1)))"
   ]
  },
  {
   "cell_type": "code",
   "execution_count": 72,
   "id": "flying-stopping",
   "metadata": {},
   "outputs": [
    {
     "data": {
      "text/plain": [
       "[3, 1]"
      ]
     },
     "execution_count": 72,
     "metadata": {},
     "output_type": "execute_result"
    }
   ],
   "source": [
    "# взять подвыборку из списка\n",
    "\n",
    "list(itertools.compress([3, 0, 4, 1, 5, 9], [True, False, False, True]))"
   ]
  },
  {
   "cell_type": "code",
   "execution_count": 73,
   "id": "velvet-measurement",
   "metadata": {},
   "outputs": [
    {
     "data": {
      "text/plain": [
       "[('A', 'x'), ('B', 'y'), ('C', None), ('D', None)]"
      ]
     },
     "execution_count": 73,
     "metadata": {},
     "output_type": "execute_result"
    }
   ],
   "source": [
    "# zip по самому длинному\n",
    "\n",
    "list(itertools.zip_longest('ABCD', 'xy', fillvalue=None))"
   ]
  }
 ],
 "metadata": {
  "kernelspec": {
   "display_name": "Python 3",
   "language": "python",
   "name": "python3"
  },
  "language_info": {
   "codemirror_mode": {
    "name": "ipython",
    "version": 3
   },
   "file_extension": ".py",
   "mimetype": "text/x-python",
   "name": "python",
   "nbconvert_exporter": "python",
   "pygments_lexer": "ipython3",
   "version": "3.8.6"
  }
 },
 "nbformat": 4,
 "nbformat_minor": 5
}
